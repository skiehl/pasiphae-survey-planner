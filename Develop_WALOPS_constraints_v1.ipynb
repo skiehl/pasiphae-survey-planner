{
 "cells": [
  {
   "cell_type": "markdown",
   "id": "9597489a-0f9c-47ef-a358-3cf0213c889e",
   "metadata": {},
   "source": [
    "# Development - Pasiphae survey: Motion constraints for WALOP-S"
   ]
  },
  {
   "cell_type": "markdown",
   "id": "fb882af7-7231-4946-a466-2f8d308de77c",
   "metadata": {},
   "source": [
    "**Important note up front:** This approach does not work. I was able to construct various situations where this algorithm did break. I tried to find solutions to those special cases, but always found cases that would then break. I am implementing an algorithm that actually works in `Develop_WALOPS_constraints_v1.ipynb`. I will not try to find out what I did wrong here. It may very well be, that some of my intermediate tests screwed some things up further. I am just keeping this for my reference. The other approach is much simpler, requires fewer code lines, and is computitionally faster. No reason to continue here."
   ]
  },
  {
   "cell_type": "code",
   "execution_count": 1,
   "id": "38740d10-4e31-45a3-aa3b-106bb8fb3b7b",
   "metadata": {},
   "outputs": [],
   "source": [
    "from astropy.coordinates import AltAz, Angle, EarthLocation, SkyCoord\n",
    "from astropy.time import Time\n",
    "import astropy.units as u\n",
    "from math import copysign\n",
    "import matplotlib.pyplot as plt\n",
    "import numpy as np\n",
    "import pandas as pd\n",
    "\n",
    "import cmasher as cms"
   ]
  },
  {
   "cell_type": "code",
   "execution_count": 2,
   "id": "22ae5390-a5f7-4b2d-8b29-2d5d9c8ffc34",
   "metadata": {},
   "outputs": [],
   "source": [
    "plt.style.use('file:///home/skiehl/Projects/Python/Scripts/mypackages/mplstyles/notebook.mplstyle')\n",
    "plt.rcParams.update({\n",
    "    'figure.figsize': [10, 10],\n",
    "    'lines.linestyle': '-',\n",
    "    'lines.linewidth': 2,\n",
    "    })\n",
    "\n",
    "n_colors = 3\n",
    "plt.rcParams['axes.prop_cycle'] = plt.cycler(color=[cms.apple_r(i/n_colors) for i in range(1, n_colors+1)])"
   ]
  },
  {
   "cell_type": "markdown",
   "id": "5bdb550b-0f7a-4fdb-80a9-cfe10657a8d2",
   "metadata": {},
   "source": [
    "## Check if a point is inside or outside of a polygon\n",
    "\n",
    "Idea of the algorithm: From the point of interest we draw an infinite line to the right side. We count how often it intersects with the lines spanned by the ordered points that define the outline of the polygon.\n",
    "\n",
    "Outline of the algorithm: TBD\n",
    "\n",
    "https://www.geeksforgeeks.org/how-to-check-if-a-given-point-lies-inside-a-polygon/\n",
    "\n",
    "\n",
    "Note: A simpler idea to check if a point is inside the polygon is that all the triangles spanned by the point and the subsequent pairs of polygon points have the same orientation. That may fail when the polygon is star shaped (has spikes) and the point is within one of the spikes."
   ]
  },
  {
   "cell_type": "markdown",
   "id": "c1cea731-9bba-4f57-af7a-3881b090b734",
   "metadata": {
    "tags": []
   },
   "source": [
    "### Orientation of three ordered points\n",
    "\n",
    "I got this solution from https://www.geeksforgeeks.org/orientation-3-ordered-points/.\n",
    "\n",
    "We have points $p_i = (x_i, y_i)$ for $i= 0, 1, 2$. We can calcuate the following slopes\n",
    "\n",
    "1. of the lines spanned by points $(p_0, p_1)$: $s_{0,1} = \\frac{y_1 - y_0}{x_1 - x_0}$ and\n",
    "1. of the lines spanned by points $(p_1, p_2)$: $s_{1,2} = \\frac{y_2 - y_1}{x_2 - x_1}$.\n",
    "\n",
    "There are various different combinations of slopes that define how the points are oriented; they can be reduced to the following equation:\n",
    "\n",
    "$z = (y_2 - y_1) (x_1 - x_0) - (y_1 - y_0) (x_2 - x_1)$.\n",
    "\n",
    "If $z>0$ the points run in mathematically positive orientation (counter-clockwise), if $z<0$ the points run in mathematically negative orientation (clockwise), if $z=0$ the points are all located on a straight line.\n",
    "\n",
    "The following function returns the integer numbers `+1`, `-1`, `0` accordingly."
   ]
  },
  {
   "cell_type": "code",
   "execution_count": 3,
   "id": "890d855a-7e56-497e-bb08-a3c817fa484d",
   "metadata": {},
   "outputs": [],
   "source": [
    "def orientation(p0, p1, p2):\n",
    "    \n",
    "    orientation = (p2[1] - p1[1])*(p1[0] - p0[0]) - (p1[1] - p0[1])*(p2[0] - p1[0])\n",
    "    orientation = int(np.sign(orientation))\n",
    "    \n",
    "    return orientation"
   ]
  },
  {
   "cell_type": "code",
   "execution_count": 4,
   "id": "4a85630d-ffc5-47c5-9181-9c1ab6f0bb72",
   "metadata": {},
   "outputs": [
    {
     "name": "stdout",
     "output_type": "stream",
     "text": [
      "0, 1, 2: +1\n",
      "0, 2, 1: -1\n",
      "1, 0, 2: -1\n",
      "1, 2, 0: +1\n",
      "2, 0, 1: +1\n",
      "2, 1, 0: -1\n"
     ]
    },
    {
     "data": {
      "image/png": "[encoded data removed]",
      "text/plain": [
       "<Figure size 288x288 with 1 Axes>"
      ]
     },
     "metadata": {
      "needs_background": "light"
     },
     "output_type": "display_data"
    }
   ],
   "source": [
    "p0 = (0, 0)\n",
    "p1 = (1, 2)\n",
    "p2 = (0.5, 3)\n",
    "\n",
    "print('0, 1, 2: {0:+d}'.format(orientation(p0, p1, p2)))\n",
    "print('0, 2, 1: {0:+d}'.format(orientation(p0, p2, p1)))\n",
    "print('1, 0, 2: {0:+d}'.format(orientation(p1, p0, p2)))\n",
    "print('1, 2, 0: {0:+d}'.format(orientation(p1, p2, p0)))\n",
    "print('2, 0, 1: {0:+d}'.format(orientation(p2, p0, p1)))\n",
    "print('2, 1, 0: {0:+d}'.format(orientation(p2, p1, p0)))\n",
    "\n",
    "plt.figure(figsize=(4, 4))\n",
    "\n",
    "for i, (x, y) in enumerate([p0, p1, p2]):\n",
    "    plt.plot(x, y, marker='o', color='red')\n",
    "    plt.text(x+0.02, y+0.02, i, fontsize=16)"
   ]
  },
  {
   "cell_type": "code",
   "execution_count": 5,
   "id": "1f683be0-1939-43c9-9af9-aa908bbce782",
   "metadata": {},
   "outputs": [
    {
     "name": "stdout",
     "output_type": "stream",
     "text": [
      "0, 1, 2: +0\n",
      "0, 2, 1: +0\n",
      "1, 0, 2: +0\n",
      "1, 2, 0: +0\n",
      "2, 0, 1: +0\n",
      "2, 1, 0: +0\n"
     ]
    },
    {
     "data": {
      "image/png": "[encoded data removed]",
      "text/plain": [
       "<Figure size 288x288 with 1 Axes>"
      ]
     },
     "metadata": {
      "needs_background": "light"
     },
     "output_type": "display_data"
    }
   ],
   "source": [
    "p0 = (0, 0)\n",
    "p1 = (1, 1)\n",
    "p2 = (2, 2)\n",
    "\n",
    "print('0, 1, 2: {0:+d}'.format(orientation(p0, p1, p2)))\n",
    "print('0, 2, 1: {0:+d}'.format(orientation(p0, p2, p1)))\n",
    "print('1, 0, 2: {0:+d}'.format(orientation(p1, p0, p2)))\n",
    "print('1, 2, 0: {0:+d}'.format(orientation(p1, p2, p0)))\n",
    "print('2, 0, 1: {0:+d}'.format(orientation(p2, p0, p1)))\n",
    "print('2, 1, 0: {0:+d}'.format(orientation(p2, p1, p0)))\n",
    "\n",
    "plt.figure(figsize=(4, 4))\n",
    "\n",
    "for i, (x, y) in enumerate([p0, p1, p2]):\n",
    "    plt.plot(x, y, marker='o', color='red')\n",
    "    plt.text(x+0.02, y+0.02, i, fontsize=16)"
   ]
  },
  {
   "cell_type": "markdown",
   "id": "aba931c9-c7f7-4130-a1ce-aaafe00c77da",
   "metadata": {},
   "source": [
    "### Do lines intersect?\n",
    "\n",
    "I got this solution from https://www.geeksforgeeks.org/check-if-two-given-line-segments-intersect/.\n",
    "\n",
    "Let's say we have two lines $(p_0, p_1)$ and $(q_0, q_1)$, spanned by the points $p_0, p_1, q_0, 1_1$. We can use the orientation, $o(x_0, x_1, x_2)$, of different combinations of point tripplets to test if the line segments intersect.\n",
    "\n",
    "The line segments intersect,\n",
    "\n",
    "1. if in the non-collinear case the following two criteria are met\n",
    "    1. $o(p_0, q_0, q_1) \\neq o(p_1, q_0, q_1)$ and\n",
    "    1. $o(q_0, p_0, p_1) \\neq o(q_1, p_0, p_1)$; or\n",
    "1. if in the collinear case the following three criteria are met\n",
    "    1. $o(p_0, q_0, q_1) = o(p_1, q_0, q_1) = o(q_0, p_0, p_1) = o(q_1, p_0, p_1) = 0$, i.e. all points are collinear, and\n",
    "    1. the x-projections of $(p_0, p_1)$ and $(q_0, q_1)$ intersect, and\n",
    "    1. the y-projections of $(p_0, p_1)$ and $(q_0, q_1)$ intersect.\n",
    "\n",
    "*Note 1:* When collinearity is given, the criteria 2-B and 2-C reduce to testing if one of the points $p_0$ or $p_1$ has its x-value between the x-values of $q_0$ and $q_1$ and the y-values accordingly. \n",
    "\n",
    "*Note 2:* In 2. we do not necessarily have to test that all points are collinear. It is sufficient that three points are collinear and that the center point's x- and y-projections intersect with the line spanned by the remaining two points. This covers the case that one line starts or ends on the other line, and they may or may not be collinear. This case is already covered by the criteria in 1. However, it might be simpler / faster to implement this approach."
   ]
  },
  {
   "cell_type": "code",
   "execution_count": 6,
   "id": "ba74786c-cfab-4b8b-b3be-f27bb4d69dfc",
   "metadata": {},
   "outputs": [],
   "source": [
    "def on_segment(p, q0, q1):\n",
    "    if (p[0] >= min(q0[0], q1[0]) and\n",
    "        p[0] <= max(q0[0], q1[0]) and \n",
    "        p[1] >= min(q0[1], q1[1]) and\n",
    "        p[1] <= max(q0[1], q1[1])):\n",
    "        do_intersect = True\n",
    "    else:\n",
    "        do_intersect = False\n",
    "    \n",
    "    return do_intersect\n",
    "\n",
    "def intersect(p0, p1, q0, q1):\n",
    "    o0 = orientation(p0, q0, q1)\n",
    "    o1 = orientation(p1, q0, q1)\n",
    "    o2 = orientation(q0, p0, p1)\n",
    "    o3 = orientation(q1, p0, p1)\n",
    "    \n",
    "    if o0 != o1 and o2 != o3:\n",
    "        do_intersect = True\n",
    "    elif o0 == 0 and on_segment(p0, q0, q1):#(q0, p0, p1):\n",
    "        do_intersect = True\n",
    "    elif o1 == 0 and on_segment(p1, q0, q1):#(p0, q0, q1):\n",
    "        do_intersect = True\n",
    "    elif o2 == 0 and on_segment(q0, p0, p1):#(q1, p0, p1):\n",
    "        do_intersect = True\n",
    "    elif o3 == 0 and on_segment(q1, p0, p1):#(p1, q0, q1):\n",
    "        do_intersect = True\n",
    "    else:\n",
    "        do_intersect = False\n",
    "        \n",
    "    return do_intersect"
   ]
  },
  {
   "cell_type": "code",
   "execution_count": 7,
   "id": "8ad4bfe3-8cb4-4e6b-b383-5319fc7dae82",
   "metadata": {},
   "outputs": [
    {
     "name": "stdout",
     "output_type": "stream",
     "text": [
      "Intersect: True\n"
     ]
    },
    {
     "data": {
      "image/png": "[encoded data removed]",
      "text/plain": [
       "<Figure size 288x288 with 1 Axes>"
      ]
     },
     "metadata": {
      "needs_background": "light"
     },
     "output_type": "display_data"
    }
   ],
   "source": [
    "p0 = (0, 0)\n",
    "p1 = (3, 3)\n",
    "q0 = (2, 0)\n",
    "q1 = (0, 0)\n",
    "\n",
    "print('Intersect:', intersect(p0, p1, q0, q1))\n",
    "\n",
    "plt.figure(figsize=(4, 4))\n",
    "\n",
    "plt.plot([p0[0], p1[0]], [p0[1], p1[1]], linestyle='-')\n",
    "plt.plot([q0[0], q1[0]], [q0[1], q1[1]], linestyle='-');"
   ]
  },
  {
   "cell_type": "markdown",
   "id": "2aeee6ae-accc-432c-b905-1964fdd241ad",
   "metadata": {},
   "source": [
    "<div class=\"alert alert-block alert-warning\">\n",
    "<b>First, important note:</b> There is one special case, when one line fully overlaps with the other. Mathematically correct, this is seen as intersecting. However, in the context of the application here it should not. Imagine we have a lower declination limit; two points at the same declination that define the lower boundary over a range of hourangles. Furthermore let's consider a point at the same height, but outside of the polygon. There would be three lines that intersect with the extended line originating from the point. Thus, this point would be considered inside the polygon, because there is an uneven number of intersections. Therefore, collinear cases should generally be rejected. Note that collinearity can only occure for this specific scenario, because the line originating from the point is always horizontal. If outside of the polynome but at the hight of the lower limit, two intersections would be counted, and the point would be correctly identified as outside of the polygon. At the lower edge, one intersection would be counted, and the point would be correctly identified as inside the polygon. There is one exception: when the point is in the left corner of the lower limit. In this case, there will be two intersections - with the line going into the left point and the line starting from the right point. An easy solution to treat all points at the very limit equally would be to simply discard them all as outside. This can easily be done by returning False when the point is colliniar with any line and within the line boundaries.\n",
    "</div>"
   ]
  },
  {
   "cell_type": "markdown",
   "id": "7ea21e8b-c618-49f2-9aab-5a8edd038e2c",
   "metadata": {},
   "source": [
    "This can be inplemented simply be reordering the conditionals and changing the output for the collinear intersections to `False`, and catching matching corner points:"
   ]
  },
  {
   "cell_type": "code",
   "execution_count": 8,
   "id": "f2541712-3c74-49ca-96c1-63dcfdc34dd3",
   "metadata": {},
   "outputs": [],
   "source": [
    "def intersect(p0, p1, q0, q1):\n",
    "    o0 = orientation(p0, q0, q1)\n",
    "    o1 = orientation(p1, q0, q1)\n",
    "    o2 = orientation(q0, p0, p1)\n",
    "    o3 = orientation(q1, p0, p1)\n",
    "    \n",
    "    if o0 == 0 and on_segment(p0, q0, q1):#(q0, p0, p1):\n",
    "        do_intersect = False\n",
    "    elif o1 == 0 and on_segment(p1, q0, q1):#(p0, q0, q1):\n",
    "        do_intersect = False\n",
    "    elif o2 == 0 and on_segment(q0, p0, p1):#(q1, p0, p1):\n",
    "        do_intersect = False\n",
    "    elif o3 == 0 and on_segment(q1, p0, p1):#(p1, q0, q1):\n",
    "        do_intersect = False\n",
    "    elif o0 != o1 and o2 != o3:\n",
    "        do_intersect = True\n",
    "    else:\n",
    "        do_intersect = False\n",
    "        \n",
    "    return do_intersect"
   ]
  },
  {
   "cell_type": "code",
   "execution_count": 9,
   "id": "6d410dda-c99d-4016-aaed-8ba4bcd05c7a",
   "metadata": {},
   "outputs": [
    {
     "name": "stdout",
     "output_type": "stream",
     "text": [
      "Intersect: False\n"
     ]
    },
    {
     "data": {
      "image/png": "[encoded data removed]",
      "text/plain": [
       "<Figure size 288x288 with 1 Axes>"
      ]
     },
     "metadata": {
      "needs_background": "light"
     },
     "output_type": "display_data"
    }
   ],
   "source": [
    "p0 = (0, 0)\n",
    "p1 = (3, 3)\n",
    "q0 = (2, 0)\n",
    "q1 = (0, 0)\n",
    "\n",
    "print('Intersect:', intersect(p0, p1, q0, q1))\n",
    "\n",
    "plt.figure(figsize=(4, 4))\n",
    "\n",
    "plt.plot([p0[0], p1[0]], [p0[1], p1[1]], linestyle='-')\n",
    "plt.plot([q0[0], q1[0]], [q0[1], q1[1]], linestyle='-');"
   ]
  },
  {
   "cell_type": "markdown",
   "id": "681602d7-7cc3-485e-b638-8aaefb098c4b",
   "metadata": {},
   "source": [
    "### Is a point in the polygon?\n",
    "\n",
    "I got this solution from https://www.geeksforgeeks.org/how-to-check-if-a-given-point-lies-inside-a-polygon/.\n",
    "\n",
    "The simple idea is, we draw a line from the point to the highest x-value of the polygon at constant y. We iterate through all lines of the polygon, and count the number of lines that intersect with the line extending from the point. If the number is even the point is outside of the polygon, if uneven it is within."
   ]
  },
  {
   "cell_type": "markdown",
   "id": "b91d4570-5cb5-422d-8c2f-125078ebf544",
   "metadata": {},
   "source": [
    "<div class=\"alert alert-block alert-warning\">\n",
    "<b>Second, important note:</b> There is still one special case, in the same scenario as above that the lower boundary is horizontal, but now the point is on the boundary. Now the point would be counted as intersecting with one line: the lower boundary line it is on is not counted, but it is intersecting with the next line. With an intersection count of 1 it would be considered inside the polygon. This can easily be solved by first checking whether or not the point is within the outermost bounds of the polygon; i.e. if we draw a rectangle around the polygon that touches the polygon with each side. If the point is at one of these bounds we count it as outside, that removes the noted issue. Also, it reduces calculation costs, because in those easy cases, there is no need to do all the orientation and on-segment calculations.\n",
    "</div>"
   ]
  },
  {
   "cell_type": "markdown",
   "id": "06ecefc2-c24f-4b31-9863-502a62049f7e",
   "metadata": {},
   "source": [
    "<div class=\"alert alert-block alert-warning\">\n",
    "<b>Third, important note:</b> When we extend a horizontal line from the point to the right, we need to extend it beyond the polygon (to any arbitrary point). If we use the x-coordinate of the right most point, we may run into an issue again, if the right most boundary is vertical and would not be counted as intersecting with the horizontal line; which would lead to false classifications as outside the polygon. Therefore, I use the `+ 1` in `p1 = (polygon_x_max + 1, p0[1])`.\n",
    "</div>"
   ]
  },
  {
   "cell_type": "code",
   "execution_count": 13,
   "id": "e7ed026a-f04e-4857-a4de-b6702b464ab7",
   "metadata": {},
   "outputs": [],
   "source": [
    "def inside_polygon(p, polygon):\n",
    "    \n",
    "    # check if the point is within the outermost bounds:\n",
    "    polygon_x = [q[0] for q in polygon]\n",
    "    polygon_x_min = min(polygon_x)\n",
    "    polygon_x_max = max(polygon_x)\n",
    "    \n",
    "    if p[0] <= polygon_x_min or p[0] >= polygon_x_max:\n",
    "        return False\n",
    "    \n",
    "    polygon_y = [q[1] for q in polygon]\n",
    "    polygon_y_min = min(polygon_y)\n",
    "    polygon_y_max = max(polygon_y)\n",
    "    \n",
    "    if p[1] <= polygon_y_min or p[1] >= polygon_y_max:\n",
    "        return False\n",
    "    \n",
    "    # extend line from point and count intersections:\n",
    "    p0 = p\n",
    "    p1 = (polygon_x_max + 1, p0[1])\n",
    "    \n",
    "    count_intersections = 0\n",
    "\n",
    "    for i, (q0, q1) in enumerate(zip(polygon[:-1], polygon[1:])):\n",
    "        \n",
    "        # check if point, start point of this segment, and end point of previous segment are on same height:\n",
    "        if i > 0 and p0[1] == q0[1] and p0[1] == polygon[i-1][1]:\n",
    "            continue\n",
    "        \n",
    "        count_intersections += intersect(p0, p1, q0, q1)\n",
    "\n",
    "    is_inside = bool(count_intersections % 2)\n",
    "    \n",
    "    return is_inside"
   ]
  },
  {
   "cell_type": "code",
   "execution_count": 14,
   "id": "1090b7df-1eaf-45b2-b20c-99b4e9db9d59",
   "metadata": {},
   "outputs": [
    {
     "name": "stdout",
     "output_type": "stream",
     "text": [
      "Is inside: False\n"
     ]
    },
    {
     "data": {
      "image/png": "[encoded data removed]",
      "text/plain": [
       "<Figure size 720x720 with 1 Axes>"
      ]
     },
     "metadata": {
      "needs_background": "light"
     },
     "output_type": "display_data"
    }
   ],
   "source": [
    "polygon = [(-4, -60), (-2, -60), (1, -60), (3, -60), (3, 10), (1, 0), (-3, 15), (-4, -40)]\n",
    "polygon.append(polygon[0])\n",
    "point = (-5, -60.0)\n",
    "\n",
    "print('Is inside:', inside_polygon(point, polygon))\n",
    "\n",
    "polygon_ar = np.array(polygon)\n",
    "plt.plot(polygon_ar[:,0], polygon_ar[:,1], linestyle='-')\n",
    "plt.plot(point[0], point[1], marker='o', color='red');"
   ]
  },
  {
   "cell_type": "code",
   "execution_count": 15,
   "id": "18efe4cf-1df7-40ca-b2f7-58efc202d69e",
   "metadata": {},
   "outputs": [
    {
     "name": "stdout",
     "output_type": "stream",
     "text": [
      "0\n",
      "0\n",
      "0\n",
      "0\n",
      "0\n",
      "0\n",
      "0\n",
      "Is inside: False\n"
     ]
    },
    {
     "data": {
      "image/png": "[encoded data removed]",
      "text/plain": [
       "<Figure size 720x720 with 1 Axes>"
      ]
     },
     "metadata": {
      "needs_background": "light"
     },
     "output_type": "display_data"
    }
   ],
   "source": [
    "polygon = [(-4, -60), (-2, -60), (0, -70), (1, -60), (3, -60), (3, 10), (1, 0), (-3, 15), (-4, -40)]\n",
    "polygon.append(polygon[0])\n",
    "point = (0, -60.0)\n",
    "\n",
    "print('Is inside:', inside_polygon(point, polygon))\n",
    "\n",
    "polygon_ar = np.array(polygon)\n",
    "plt.plot(polygon_ar[:,0], polygon_ar[:,1], linestyle='-')\n",
    "plt.plot(point[0], point[1], marker='o', color='red');"
   ]
  },
  {
   "cell_type": "markdown",
   "id": "40ef4c3c-ebd6-4168-982c-fce71a281c93",
   "metadata": {},
   "source": [
    "## Implementation of the constraint class"
   ]
  },
  {
   "cell_type": "code",
   "execution_count": 16,
   "id": "35859989-a492-47f5-8379-570e5e74564d",
   "metadata": {},
   "outputs": [],
   "source": [
    "%load_ext autoreload\n",
    "%autoreload 2"
   ]
  },
  {
   "cell_type": "code",
   "execution_count": 17,
   "id": "678e508b-f693-489d-a92f-18fd23e94de4",
   "metadata": {},
   "outputs": [],
   "source": [
    "from constraints import PolyHADecLimit"
   ]
  },
  {
   "cell_type": "code",
   "execution_count": 18,
   "id": "3cbcbdd5-777a-4e29-8538-d739b6d253a6",
   "metadata": {},
   "outputs": [],
   "source": [
    "lat = Angle('-32:22:46 deg')\n",
    "lon = Angle('20:48:38.5 deg')\n",
    "height = 1798.\n",
    "loc = EarthLocation(lat=lat, lon=lon, height=height)"
   ]
  },
  {
   "cell_type": "code",
   "execution_count": 19,
   "id": "07438764-2259-454e-9afb-ee7b7b8456b5",
   "metadata": {},
   "outputs": [],
   "source": [
    "duration = np.arange(0, 24., 0.5) * u.h\n",
    "time = Time('2022-08-01T00:00:00.0', location=loc) + duration\n",
    "frame = AltAz(obstime=time, location=loc)\n",
    "#lst = time.sidereal_time('apparent')\n",
    "lst = frame.obstime.sidereal_time('apparent')"
   ]
  },
  {
   "cell_type": "code",
   "execution_count": 20,
   "id": "4efe5175-169f-4ed0-975b-66f33aa018ac",
   "metadata": {},
   "outputs": [],
   "source": [
    "source_coord = SkyCoord('15:00:00', '-60:00:00 deg', unit=('hourangle', 'deg'))\n",
    "hourangle = (source_coord.ra - lst).hourangle\n",
    "hourangle = (12. + hourangle) % 24. - 12.\n",
    "dec = np.ones(hourangle.size) * source_coord.dec.deg\n",
    "points = list(zip(hourangle, dec))"
   ]
  },
  {
   "cell_type": "code",
   "execution_count": 21,
   "id": "580f1530-8631-4f73-a2a8-1b32a28b9681",
   "metadata": {},
   "outputs": [],
   "source": [
    "polygon = [(-4, -60), (-2, -60), (0, -70), (1, -60), (3, -60), (3, 10), (1, 0), (-3, 15), (-4, -40)]"
   ]
  },
  {
   "cell_type": "code",
   "execution_count": 22,
   "id": "191523e5-673a-4a10-8469-8f4167e6b92a",
   "metadata": {},
   "outputs": [
    {
     "name": "stdout",
     "output_type": "stream",
     "text": [
      "0\n",
      "0\n",
      "0\n",
      "0\n",
      "0\n",
      "0\n",
      "0\n",
      "0\n",
      "0\n",
      "0\n",
      "0\n",
      "0\n",
      "0\n",
      "0\n",
      "0\n",
      "0\n",
      "0\n",
      "0\n",
      "0\n",
      "0\n",
      "0\n",
      "0\n",
      "0\n",
      "0\n",
      "0\n",
      "0\n",
      "0\n",
      "0\n",
      "0\n",
      "0\n",
      "0\n",
      "0\n",
      "0\n",
      "0\n",
      "0\n",
      "0\n",
      "0\n",
      "0\n",
      "0\n",
      "0\n",
      "0\n",
      "0\n",
      "0\n",
      "0\n",
      "0\n",
      "0\n",
      "0\n",
      "0\n",
      "0\n",
      "0\n",
      "0\n",
      "0\n",
      "0\n",
      "0\n",
      "0\n",
      "0\n",
      "0\n",
      "0\n",
      "0\n",
      "0\n",
      "0\n",
      "0\n",
      "0\n",
      "0\n",
      "0\n",
      "0\n",
      "0\n",
      "0\n",
      "0\n",
      "0\n",
      "0\n",
      "0\n",
      "0\n",
      "0\n",
      "0\n",
      "0\n",
      "0\n",
      "0\n",
      "0\n",
      "0\n",
      "0\n",
      "0\n",
      "0\n",
      "0\n",
      "0\n",
      "0\n",
      "0\n",
      "0\n",
      "0\n",
      "0\n",
      "0\n",
      "0\n",
      "0\n",
      "0\n",
      "0\n",
      "0\n",
      "0\n",
      "0\n"
     ]
    },
    {
     "data": {
      "image/png": "[encoded data removed]",
      "text/plain": [
       "<Figure size 720x720 with 1 Axes>"
      ]
     },
     "metadata": {
      "needs_background": "light"
     },
     "output_type": "display_data"
    }
   ],
   "source": [
    "is_inside = np.zeros(len(points), dtype=bool)\n",
    "\n",
    "for i, point in enumerate(points):\n",
    "    is_inside[i] = inside_polygon(point, polygon+polygon[:1])\n",
    "\n",
    "polygon_ar = np.array(polygon + polygon[:1])\n",
    "plt.plot(polygon_ar[:,0], polygon_ar[:,1], linestyle='-', color='r', zorder=1)\n",
    "plt.plot(hourangle[is_inside], dec[is_inside], marker='o', color='0.2', ls='None', zorder=0)\n",
    "plt.plot(hourangle[~is_inside], dec[~is_inside], marker='o', color='0.7', ls='None', zorder=0);"
   ]
  },
  {
   "cell_type": "code",
   "execution_count": 23,
   "id": "698c847d-64b1-402a-acdd-853008406189",
   "metadata": {},
   "outputs": [],
   "source": [
    "constraint = PolyHADecLimit(polygon)\n",
    "is_inside = constraint.get(source_coord, frame)"
   ]
  },
  {
   "cell_type": "code",
   "execution_count": 24,
   "id": "4dacb809-80cc-434e-97c4-5da0cffb50a1",
   "metadata": {},
   "outputs": [
    {
     "data": {
      "image/png": "[encoded data removed]",
      "text/plain": [
       "<Figure size 720x720 with 1 Axes>"
      ]
     },
     "metadata": {
      "needs_background": "light"
     },
     "output_type": "display_data"
    }
   ],
   "source": [
    "polygon_ar = np.array(polygon + polygon[:1])\n",
    "plt.plot(polygon_ar[:,0], polygon_ar[:,1], linestyle='-', color='r', zorder=1)\n",
    "plt.plot(hourangle[is_inside], dec[is_inside], marker='o', color='0.2', ls='None', zorder=0)\n",
    "plt.plot(hourangle[~is_inside], dec[~is_inside], marker='o', color='0.7', ls='None', zorder=0);"
   ]
  },
  {
   "cell_type": "code",
   "execution_count": 25,
   "id": "122b6382-db6b-4119-87c2-24fa1f1a374a",
   "metadata": {},
   "outputs": [
    {
     "data": {
      "image/png": "[encoded data removed]",
      "text/plain": [
       "<Figure size 720x720 with 1 Axes>"
      ]
     },
     "metadata": {
      "needs_background": "light"
     },
     "output_type": "display_data"
    }
   ],
   "source": [
    "for dec in np.arange(-70, 20, 5):\n",
    "    source_coord = SkyCoord('15:00:00', dec, unit=('hourangle', 'deg'))\n",
    "    is_inside = constraint.get(source_coord, frame)\n",
    "    hourangle = (source_coord.ra - lst).hourangle\n",
    "    hourangle = (12. + hourangle) % 24. - 12.\n",
    "    dec = np.ones(hourangle.size) * source_coord.dec.deg\n",
    "    \n",
    "    plt.plot(hourangle[is_inside], dec[is_inside], marker='o', color='0.2', ls='None', zorder=0)\n",
    "    plt.plot(hourangle[~is_inside], dec[~is_inside], marker='o', color='0.8', ls='None', zorder=0)\n",
    "    \n",
    "polygon_ar = np.array(polygon + polygon[:1])\n",
    "plt.plot(polygon_ar[:,0], polygon_ar[:,1], linestyle='-', color='r', zorder=1);"
   ]
  },
  {
   "cell_type": "markdown",
   "id": "93e4f51f-f03b-49c3-a2a7-87f984fc08cb",
   "metadata": {},
   "source": [
    "<div class=\"alert alert-block alert-danger\">\n",
    "Damn. Still buggy!\n",
    "</div>\n",
    "\n",
    "https://towardsdatascience.com/is-the-point-inside-the-polygon-574b86472119?gi=21a11464d505\n",
    "https://en.wikipedia.org/wiki/Point_in_polygon\n",
    "https://en.wikipedia.org/wiki/Winding_number"
   ]
  },
  {
   "cell_type": "code",
   "execution_count": null,
   "id": "ebb9f795-b1e9-48ea-9bd8-c7f03e46272d",
   "metadata": {},
   "outputs": [],
   "source": []
  },
  {
   "cell_type": "code",
   "execution_count": null,
   "id": "48163e7e-d732-43e8-8911-047d9e9098c7",
   "metadata": {},
   "outputs": [],
   "source": []
  },
  {
   "cell_type": "markdown",
   "id": "7c0b9e0e-17da-41c4-b9bc-97943a4ba61b",
   "metadata": {},
   "source": [
    "## Measured limits\n",
    "\n",
    "Measurements of the Southerland telescope motion constraints with a model of WALOP-S attached are discussed here: https://docs.google.com/document/d/1KAde-k1-gXwztd_dC7hIrcBt5zLO1dBLvoILuaj8oKc/edit#\n",
    "\n",
    "I extracted the three tables into text files. Load limits:"
   ]
  },
  {
   "cell_type": "code",
   "execution_count": null,
   "id": "85430562-e5d5-423e-9249-ba0a8c534ddc",
   "metadata": {},
   "outputs": [],
   "source": [
    "limits_v1 = pd.read_csv('walops_constraints/limits_v1.dat', delimiter=',').drop(columns='Sr. No').rename(columns={'Hour Angle':'HA', 'Declination (in deg)': 'Dec'})\n",
    "limits_v1"
   ]
  },
  {
   "cell_type": "code",
   "execution_count": null,
   "id": "a2a910a6-4ab6-454e-bf6b-dfeeb2a40566",
   "metadata": {},
   "outputs": [],
   "source": [
    "limits_v2 = pd.read_csv('walops_constraints/limits_v2.dat', delimiter=',').drop(columns='Sr. No').rename(columns={'Hour Angle':'HA', 'Declination (in deg)': 'Dec'})\n",
    "limits_v2"
   ]
  },
  {
   "cell_type": "code",
   "execution_count": null,
   "id": "d667786b-4e7e-4c5d-b9b1-f8da604bca67",
   "metadata": {},
   "outputs": [],
   "source": [
    "limits_v3 = pd.read_csv('walops_constraints/limits_v3.dat', delimiter=',').drop(columns='Sr. No').rename(columns={'Hour Angle':'HA', 'Declination (in deg)': 'Dec'})\n",
    "limits_v3"
   ]
  },
  {
   "cell_type": "markdown",
   "id": "8f0081cf-1508-4b6c-b316-938f77161a5f",
   "metadata": {},
   "source": [
    "Convert to astropy.Angle:"
   ]
  },
  {
   "cell_type": "code",
   "execution_count": null,
   "id": "76c7ff32-1baa-41ae-bb79-5f7524767710",
   "metadata": {},
   "outputs": [],
   "source": [
    "limits_v1_ha = Angle(limits_v1['HA'], unit='hourangle')\n",
    "limits_v1_dec = Angle(limits_v1['Dec'], unit='deg')\n",
    "limits_v2_ha = Angle(limits_v2['HA'], unit='hourangle')\n",
    "limits_v2_dec = Angle(limits_v2['Dec'], unit='deg')\n",
    "limits_v3_ha = Angle(limits_v3['HA'], unit='hourangle')\n",
    "limits_v3_dec = Angle(limits_v3['Dec'], unit='deg')"
   ]
  },
  {
   "cell_type": "markdown",
   "id": "bec323d3-3111-48e3-89a2-839c8a9b5be0",
   "metadata": {},
   "source": [
    "## Show limits"
   ]
  },
  {
   "cell_type": "code",
   "execution_count": null,
   "id": "0351e823-3bde-427a-8d1f-3cdf3041f67c",
   "metadata": {},
   "outputs": [],
   "source": [
    "plt.plot(limits_v1_ha, limits_v1_dec, label='V1', linestyle='-')\n",
    "plt.plot(limits_v2_ha, limits_v2_dec, label='V2', linestyle='--')\n",
    "plt.plot(limits_v3_ha, limits_v3_dec, label='V3', linestyle=':')\n",
    "plt.legend()\n",
    "plt.xlabel('Hour angle [h]')\n",
    "plt.ylabel('Declination [deg]')\n",
    "plt.savefig('walops_constraints/plots/limits_all.png');"
   ]
  },
  {
   "cell_type": "code",
   "execution_count": null,
   "id": "159e08d6-d426-4f35-a45a-9bbb5467798c",
   "metadata": {},
   "outputs": [],
   "source": [
    "plt.plot(limits_v1_ha, limits_v1_dec)\n",
    "plt.xlabel('Hour angle [h]')\n",
    "plt.ylabel('Declination [deg]')\n",
    "plt.savefig('walops_constraints/plots/limits_v1.png');"
   ]
  },
  {
   "cell_type": "code",
   "execution_count": null,
   "id": "4184a75b-6a79-487e-8816-51b329ac069c",
   "metadata": {},
   "outputs": [],
   "source": [
    "plt.plot(limits_v2_ha, limits_v2_dec)\n",
    "plt.xlabel('Hour angle [h]')\n",
    "plt.ylabel('Declination [deg]')\n",
    "plt.savefig('walops_constraints/plots/limits_v2.png');"
   ]
  },
  {
   "cell_type": "code",
   "execution_count": null,
   "id": "ab26d3a7-f2d6-4d81-b397-b875d4f41267",
   "metadata": {},
   "outputs": [],
   "source": [
    "plt.plot(limits_v3_ha, limits_v3_dec, linestyle='None', marker='o')\n",
    "plt.xlabel('Hour angle [h]')\n",
    "plt.ylabel('Declination [deg]')\n",
    "plt.savefig('walops_constraints/plots/limits_v3.png');"
   ]
  },
  {
   "cell_type": "code",
   "execution_count": null,
   "id": "b66f15e8-fe11-4715-86e7-513f8c0a4e54",
   "metadata": {},
   "outputs": [],
   "source": []
  },
  {
   "cell_type": "code",
   "execution_count": null,
   "id": "26e8ae3f-fd34-4daf-9adb-8377fca801d8",
   "metadata": {},
   "outputs": [],
   "source": []
  }
 ],
 "metadata": {
  "kernelspec": {
   "display_name": "Python 3 (ipykernel)",
   "language": "python",
   "name": "python3"
  },
  "language_info": {
   "codemirror_mode": {
    "name": "ipython",
    "version": 3
   },
   "file_extension": ".py",
   "mimetype": "text/x-python",
   "name": "python",
   "nbconvert_exporter": "python",
   "pygments_lexer": "ipython3",
   "version": "3.9.7"
  },
  "toc-autonumbering": true
 },
 "nbformat": 4,
 "nbformat_minor": 5
}

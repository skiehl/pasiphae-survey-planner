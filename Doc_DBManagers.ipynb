{
 "cells": [
  {
   "cell_type": "markdown",
   "id": "23e6bc2c-b1f6-492e-9b5d-0fe70a60c60e",
   "metadata": {},
   "source": [
    "# Documentation: Data base managers"
   ]
  },
  {
   "cell_type": "code",
   "execution_count": 1,
   "id": "07bb1ec6-87b0-4bfd-bdb2-3d72fdfa2981",
   "metadata": {},
   "outputs": [],
   "source": [
    "%load_ext autoreload\n",
    "%autoreload 2"
   ]
  },
  {
   "cell_type": "code",
   "execution_count": 2,
   "id": "a36d0a1c-c22c-4d8d-8db9-83daa81fef8e",
   "metadata": {},
   "outputs": [],
   "source": [
    "from astropy.coordinates import Angle\n",
    "import astropy.units as u\n",
    "import os\n",
    "import platform\n",
    "\n",
    "import constraints as c\n",
    "from db import DBCreator, TelescopeManager, FieldManager, GuidestarManager, ObservationManager\n",
    "from fieldgrid import FieldGridIsoLat"
   ]
  },
  {
   "cell_type": "markdown",
   "id": "c69320cf-d521-4280-8b23-cbfb55f0947f",
   "metadata": {},
   "source": [
    "## `DBCreator`: create survey planner database"
   ]
  },
  {
   "cell_type": "markdown",
   "id": "68d9641f-b5ee-4cec-a060-8e07701a3d64",
   "metadata": {},
   "source": [
    "The `DBCreator` class provides the basic functionalities to create a new database:"
   ]
  },
  {
   "cell_type": "code",
   "execution_count": 53,
   "id": "e50a1496-3067-4437-ac7c-1bee17912a8e",
   "metadata": {},
   "outputs": [],
   "source": [
    "db_name = 'test_planner_init.sqlite3'\n",
    "db = DBCreator(db_name)"
   ]
  },
  {
   "cell_type": "markdown",
   "id": "378a50fe-2a49-44d8-987c-64414a8e85a4",
   "metadata": {},
   "source": [
    "### Create database"
   ]
  },
  {
   "cell_type": "code",
   "execution_count": 40,
   "id": "ecaed8e0-42e2-468c-8e32-515d3f451141",
   "metadata": {
    "slideshow": {
     "slide_type": "fragment"
    },
    "tags": []
   },
   "outputs": [
    {
     "name": "stdin",
     "output_type": "stream",
     "text": [
      "Database file exists. Overwrite (y) or cancel (enter)? y\n"
     ]
    },
    {
     "name": "stdout",
     "output_type": "stream",
     "text": [
      "Database 'test_planner_init.sqlite3' created.\n",
      "Table 'Fields' created.\n",
      "Table 'Telescopes' created.\n",
      "Table 'ParameterSets' created.\n",
      "Table 'Constraints' created.\n",
      "Table 'Parameters' created.\n",
      "Table 'ParameterNames' created.\n",
      "Table 'Observability' created.\n",
      "Table 'ObservabilityStatus' created.\n",
      "Table 'ObsWindows' created.\n",
      "Table 'TimeRanges' created.\n",
      "Table 'Observations' created.\n",
      "Table 'Guidestars' created.\n",
      "Table 'Filters' created.\n",
      "Constraints added to table 'Constraints'.\n",
      "Statuses added to table 'ObservabilityStatus'.\n",
      "Database creation finished.\n",
      "\n",
      "Note: Next you need to add observatories, constraints, fields, guidestars, and observations.\n"
     ]
    }
   ],
   "source": [
    "created = db.create()"
   ]
  },
  {
   "cell_type": "markdown",
   "id": "9f4dfca9-2f3e-4b89-a06c-5283aeda1f4b",
   "metadata": {},
   "source": [
    "### Add telescopes"
   ]
  },
  {
   "cell_type": "code",
   "execution_count": 41,
   "id": "2ac2848b-526c-47f9-9a78-19a1884fab5b",
   "metadata": {},
   "outputs": [
    {
     "name": "stdout",
     "output_type": "stream",
     "text": [
      "Telescope 'Skinakas' added.\n"
     ]
    }
   ],
   "source": [
    "if created:\n",
    "    name = 'Skinakas'\n",
    "    lat = Angle('35:12:43 deg')\n",
    "    lon = Angle('24:53:57 deg')\n",
    "    height = 1750.\n",
    "    utc_offset = 2.\n",
    "    db.add_telescope(name, lat.rad, lon.rad, height, utc_offset)"
   ]
  },
  {
   "cell_type": "code",
   "execution_count": 42,
   "id": "13fcc935-c03b-4a6a-bfed-dc503db20e5a",
   "metadata": {
    "slideshow": {
     "slide_type": "fragment"
    },
    "tags": []
   },
   "outputs": [
    {
     "name": "stdout",
     "output_type": "stream",
     "text": [
      "Telescope 'SAAO' added.\n"
     ]
    }
   ],
   "source": [
    "if created:\n",
    "    name = 'SAAO'\n",
    "    lat = Angle('-32:22:46 deg')\n",
    "    lon = Angle('20:48:38.5 deg')\n",
    "    height = 1798.\n",
    "    utc_offset = 2.\n",
    "    db.add_telescope(name, lat.rad, lon.rad, height, utc_offset)"
   ]
  },
  {
   "cell_type": "markdown",
   "id": "285b0fa4-7b6d-496e-8244-0a1cb1f47860",
   "metadata": {},
   "source": [
    "It is not possible to add two telescopes with the same name:"
   ]
  },
  {
   "cell_type": "code",
   "execution_count": 43,
   "id": "3c981ab3-eccf-4774-a60a-9c128a003e72",
   "metadata": {
    "slideshow": {
     "slide_type": "fragment"
    },
    "tags": []
   },
   "outputs": [
    {
     "name": "stdout",
     "output_type": "stream",
     "text": [
      "Telescope 'SAAO' already exists. Name needs to be unique.\n"
     ]
    }
   ],
   "source": [
    "if created:\n",
    "    name = 'SAAO'\n",
    "    lat = Angle('-32:22:46 deg')\n",
    "    lon = Angle('20:48:38.5 deg')\n",
    "    height = 1798.\n",
    "    utc_offset = 2.\n",
    "    db.add_telescope(name, lat.rad, lon.rad, height, utc_offset)"
   ]
  },
  {
   "cell_type": "markdown",
   "id": "b59755e9-71c3-4e44-a9ec-07ef61824b05",
   "metadata": {},
   "source": [
    "### Add constraints"
   ]
  },
  {
   "cell_type": "markdown",
   "id": "5b03bb01-3af0-476d-906c-e57033be051d",
   "metadata": {},
   "source": [
    "We add constraints to each telescope separately. Some constraints are the same, some are telescope specific."
   ]
  },
  {
   "cell_type": "code",
   "execution_count": 44,
   "id": "9d4a08d8-3447-4477-b1ec-810e8fa903d2",
   "metadata": {
    "slideshow": {
     "slide_type": "fragment"
    },
    "tags": []
   },
   "outputs": [
    {
     "name": "stdout",
     "output_type": "stream",
     "text": [
      "Constraint 'AirmassLimit' for telescope 'Skinakas'.\n",
      "Constraint 'HourangleLimit' for telescope 'Skinakas'.\n",
      "Constraint 'MoonDistance' for telescope 'Skinakas'.\n",
      "Constraint 'AirmassLimit' for telescope 'SAAO'.\n",
      "Constraint 'MoonDistance' for telescope 'SAAO'.\n",
      "Constraint 'PolyHADecLimit' for telescope 'SAAO'.\n"
     ]
    }
   ],
   "source": [
    "if created:\n",
    "    # general limits:\n",
    "    twilight = 'nautical'\n",
    "    airmass_limit = c.AirmassLimit(2.)\n",
    "    moon_distance = c.MoonDistance(10.)\n",
    "    \n",
    "    # Skinakas specific limits:\n",
    "    hourangle_limit = c.HourangleLimit(5.33)\n",
    "    \n",
    "    # SAAO specific limits:\n",
    "    polygon_ha = [-4, -4, 0.8, 0.8, 1.7, 2.4, 3.2, 2.8]\n",
    "    polygon_dec = [0.1, -52, -65, -85, -74.5, -70.0, -60, 0.1]\n",
    "    ha_dec_limit = c.PolyHADecLimit(polygon_ha, polygon_dec)\n",
    "    \n",
    "    db.add_constraints('Skinakas', twilight, constraints=(airmass_limit, hourangle_limit, moon_distance))\n",
    "    db.add_constraints('SAAO', twilight, constraints=(airmass_limit, moon_distance, ha_dec_limit))"
   ]
  },
  {
   "cell_type": "markdown",
   "id": "759463d3-d09e-446d-a44b-a921a7904ed7",
   "metadata": {},
   "source": [
    "It is not possible to add constraints to a non-existing telescope. Thus, telescopes need to be added first."
   ]
  },
  {
   "cell_type": "code",
   "execution_count": 45,
   "id": "cc115d90-1755-4f45-bf43-beea86c0ea2c",
   "metadata": {},
   "outputs": [
    {
     "name": "stdout",
     "output_type": "stream",
     "text": [
      "Telescope 'does-not-exist' does not exist in database. Use TelescopeManager() to manage telescopes or add new ones.\n"
     ]
    }
   ],
   "source": [
    "db.add_constraints('does-not-exist', twilight, constraints=(airmass_limit, hourangle_limit, moon_distance))"
   ]
  },
  {
   "cell_type": "markdown",
   "id": "0f54a895-ed62-4441-a42f-5fddfe051344",
   "metadata": {},
   "source": [
    "### Add fields"
   ]
  },
  {
   "cell_type": "markdown",
   "id": "6fd9dd94-0cb4-45a6-af75-7adea55bb0d4",
   "metadata": {},
   "source": [
    "First, we create the field grid using the `FieldGridIsoLat` class. For a quick demonstration we do not create the actual Pasiphae grid, but a coarser grid with fewer fields."
   ]
  },
  {
   "cell_type": "markdown",
   "id": "4a7667f6-989a-4d37-93a9-0cd3bd57c841",
   "metadata": {},
   "source": [
    "Add Northern fields:"
   ]
  },
  {
   "cell_type": "code",
   "execution_count": 48,
   "id": "33ca3297-3222-422c-a428-c12faf909802",
   "metadata": {},
   "outputs": [
    {
     "name": "stdout",
     "output_type": "stream",
     "text": [
      "Create fields..\n",
      "  Calculate field centers..\n",
      "  Calculate field corners..\n",
      "    Done                                                    \n",
      "  Identify fields in Galactic plane..\n",
      "Final number of fields: 1097\n"
     ]
    }
   ],
   "source": [
    "fov = Angle(5 * u.deg)\n",
    "overlap_ns = Angle(fov / 2.)\n",
    "overlap_ew = Angle(1 * u.deg)\n",
    "tilt = Angle(0 * u.deg)\n",
    "dec_lim_north = Angle(90 * u.deg)\n",
    "dec_lim_south = Angle(0 * u.deg)\n",
    "gal_lat_lim = Angle(30 * u.deg)\n",
    "gal_lat_lim_strict = True\n",
    "verbose = 1\n",
    "\n",
    "grid = FieldGridIsoLat(\n",
    "        fov.rad, overlap_ns=overlap_ns.rad, overlap_ew=overlap_ew.rad, tilt=tilt.rad, dec_lim_north=dec_lim_north.rad, \n",
    "        dec_lim_south=dec_lim_south.rad, gal_lat_lim=gal_lat_lim.rad, gal_lat_lim_strict=gal_lat_lim_strict, verbose=verbose)"
   ]
  },
  {
   "cell_type": "code",
   "execution_count": 50,
   "id": "65169ba6-032e-4c58-b4f4-4c17e3f8eea0",
   "metadata": {
    "slideshow": {
     "slide_type": "fragment"
    },
    "tags": []
   },
   "outputs": [
    {
     "name": "stdout",
     "output_type": "stream",
     "text": [
      "1097 fields added to database.                   \n"
     ]
    }
   ],
   "source": [
    "if created:\n",
    "    db.add_fields(grid, 'Skinakas', active=True)"
   ]
  },
  {
   "cell_type": "markdown",
   "id": "cd88ee67-d906-408d-b7dd-6ad30010dbbd",
   "metadata": {},
   "source": [
    "Add Southern fields:"
   ]
  },
  {
   "cell_type": "code",
   "execution_count": 51,
   "id": "9688f0fb-016b-4b6a-95b9-da21547b278b",
   "metadata": {},
   "outputs": [
    {
     "name": "stdout",
     "output_type": "stream",
     "text": [
      "Create fields..\n",
      "  Calculate field centers..\n",
      "  Calculate field corners..\n",
      "    Done                                                    \n",
      "  Identify fields in Galactic plane..\n",
      "Final number of fields: 547\n"
     ]
    }
   ],
   "source": [
    "fov = Angle(7 * u.deg)\n",
    "overlap_ns = Angle(fov / 2.)\n",
    "overlap_ew = Angle(1 * u.deg)\n",
    "tilt = Angle(0 * u.deg)\n",
    "dec_lim_north = Angle(0 * u.deg)\n",
    "dec_lim_south = Angle(-90 * u.deg)\n",
    "gal_lat_lim = Angle(30 * u.deg)\n",
    "gal_lat_lim_strict = True\n",
    "verbose = 1\n",
    "\n",
    "grid = FieldGridIsoLat(\n",
    "        fov.rad, overlap_ns=overlap_ns.rad, overlap_ew=overlap_ew.rad, tilt=tilt.rad, dec_lim_north=dec_lim_north.rad, \n",
    "        dec_lim_south=dec_lim_south.rad, gal_lat_lim=gal_lat_lim.rad, gal_lat_lim_strict=gal_lat_lim_strict, verbose=verbose)"
   ]
  },
  {
   "cell_type": "code",
   "execution_count": 52,
   "id": "5b475cd3-9dab-437e-adcc-76633fbb6d8d",
   "metadata": {
    "slideshow": {
     "slide_type": "fragment"
    },
    "tags": []
   },
   "outputs": [
    {
     "name": "stdout",
     "output_type": "stream",
     "text": [
      "547 fields added to database.                   \n"
     ]
    }
   ],
   "source": [
    "if created:\n",
    "    db.add_fields(grid, 'SAAO', active=True)"
   ]
  },
  {
   "cell_type": "markdown",
   "id": "1f7e55c0-b598-4201-83ff-9d2d6a31e786",
   "metadata": {},
   "source": [
    "### Add guidestars"
   ]
  },
  {
   "cell_type": "markdown",
   "id": "9f64ed96-e0cd-4709-939f-e3c4d4a90f29",
   "metadata": {},
   "source": [
    "For a simple demonstration we claim there is a guide star at each field center, i.e. we use the field centers as coordinates for the guide stars."
   ]
  },
  {
   "cell_type": "code",
   "execution_count": 59,
   "id": "98f79747-e95a-4913-8101-d5db4e824e74",
   "metadata": {},
   "outputs": [],
   "source": [
    "# get fields:\n",
    "manager = FieldManager(db_name)\n",
    "field_ids = []\n",
    "field_center_ras = []\n",
    "field_center_decs = []\n",
    "\n",
    "for field in manager.get_fields():\n",
    "    field_ids.append(field[0])\n",
    "    field_center_ras.append(field[2])\n",
    "    field_center_decs.append(field[3])"
   ]
  },
  {
   "cell_type": "markdown",
   "id": "d8862cec-9b37-43e6-86d7-f3169fee1d2b",
   "metadata": {},
   "source": [
    "We are going to add guidestars for all but the last to fields. At the end we will be warned that there are fields without associated guidestars."
   ]
  },
  {
   "cell_type": "code",
   "execution_count": 61,
   "id": "354e773d-3e8c-4b14-8788-a6af79921b33",
   "metadata": {},
   "outputs": [
    {
     "name": "stdout",
     "output_type": "stream",
     "text": [
      "1642 new guidestars added to database.\n",
      "Fields with the following IDs do not have any guidestars associated:\n",
      "1643, 1644\n"
     ]
    }
   ],
   "source": [
    "db.add_guidestars(field_ids[:-2], field_center_ras[:-2], field_center_decs[:-2], warn_missing=True)"
   ]
  },
  {
   "cell_type": "markdown",
   "id": "8413a75d-ce0e-4739-8436-3f103966281d",
   "metadata": {},
   "source": [
    "By setting `warn_rep`, a lower limit that guidestars for the same field need to be separated, we can also get a warning when we try to add a new guidestar that is considered a duplicate of one already stored:"
   ]
  },
  {
   "cell_type": "code",
   "execution_count": 63,
   "id": "127d6889-c808-4640-85af-8286d6b9df81",
   "metadata": {},
   "outputs": [
    {
     "name": "stdout",
     "output_type": "stream",
     "text": [
      "New guidestar\n",
      "  field ID: 1\n",
      "  RA:   00d00m00s\n",
      "  Dec: +02d30m00s\n",
      "is close to the following stored guidestar(s):\n",
      "1. Guidestar ID: 1\n",
      "  RA:   00d00m00s\n",
      "   Dec: +02d30m00s\n",
      "   separation: 0.0000 deg\n"
     ]
    },
    {
     "name": "stdin",
     "output_type": "stream",
     "text": [
      "Add this new guidestar anyway? (y/n)  n\n"
     ]
    },
    {
     "name": "stdout",
     "output_type": "stream",
     "text": [
      "0 new guidestars added to database.\n"
     ]
    }
   ],
   "source": [
    "db.add_guidestars(field_ids[0], field_center_ras[0], field_center_decs[0], warn_rep=Angle(2*u.arcmin), warn_missing=False)"
   ]
  },
  {
   "cell_type": "markdown",
   "id": "e692073f-327f-483f-bde9-ee9d1aef9143",
   "metadata": {},
   "source": [
    "As a final check, we can also set `warn_sep`, a maximum limit by which the guidestar may be separated from the corresponding field center. We get a warning if a guidestart is too far off:"
   ]
  },
  {
   "cell_type": "code",
   "execution_count": 64,
   "id": "4c539410-14c7-450e-822e-88d0c896aaf5",
   "metadata": {},
   "outputs": [
    {
     "name": "stdout",
     "output_type": "stream",
     "text": [
      "New guide star 0 for field ID 1644 is too far from the field center with separation 0d17m58.51989416s.\n"
     ]
    },
    {
     "name": "stdin",
     "output_type": "stream",
     "text": [
      "Add it to the database anyway? (y/n)  n\n"
     ]
    },
    {
     "name": "stdout",
     "output_type": "stream",
     "text": [
      "0 new guidestars added to database.\n"
     ]
    }
   ],
   "source": [
    "db.add_guidestars(\n",
    "        field_ids[-1], field_center_ras[-1]+Angle(18*u.arcmin).rad, field_center_decs[-1],\n",
    "        warn_sep=Angle(15*u.arcmin), warn_missing=False)"
   ]
  },
  {
   "cell_type": "markdown",
   "id": "02497c2f-deaf-49b4-b6f5-e4f9c10c2ba5",
   "metadata": {},
   "source": [
    "### Add observations"
   ]
  },
  {
   "cell_type": "markdown",
   "id": "4bb1b180-5949-4095-9915-f3585ce3ba64",
   "metadata": {},
   "source": [
    "We can simply add the same observation to each field. The filter does not exist in the new database. We are automatically asked, whether or not to add it."
   ]
  },
  {
   "cell_type": "code",
   "execution_count": 66,
   "id": "edfa184a-e26e-46c6-9083-715fd607cbfc",
   "metadata": {},
   "outputs": [
    {
     "name": "stdin",
     "output_type": "stream",
     "text": [
      "Filter 'r does not exist. Add it to data base? (y/n) y\n"
     ]
    },
    {
     "name": "stdout",
     "output_type": "stream",
     "text": [
      "1644 observations added to data base.\n"
     ]
    }
   ],
   "source": [
    "db.add_observations(30., 2, 'r')"
   ]
  },
  {
   "cell_type": "markdown",
   "id": "afb98c8d-e49d-435f-9f68-1ed211b6436b",
   "metadata": {},
   "source": [
    "If at least one observation with the same parameters exist for a field and has not been finished yet, we automatically get notified that we are trying to add a duplicate:"
   ]
  },
  {
   "cell_type": "code",
   "execution_count": 67,
   "id": "64975e60-c589-47a5-8e07-e8c02b92ed09",
   "metadata": {},
   "outputs": [
    {
     "name": "stdin",
     "output_type": "stream",
     "text": [
      "1 observation(s) with the same parameters already exist in data base. 0 out of those are finished. Add new observation anyway? (y/n, 'ALL' to add all following without asking, or 'NONE' to skip all existing observations that have not been finished). NONE\n"
     ]
    },
    {
     "name": "stdout",
     "output_type": "stream",
     "text": [
      "0 observations added to data base.\n"
     ]
    }
   ],
   "source": [
    "db.add_observations(30., 2, 'r')"
   ]
  },
  {
   "cell_type": "markdown",
   "id": "a357c3c5-4bf0-4615-aa58-51719093181c",
   "metadata": {},
   "source": [
    "### Database info"
   ]
  },
  {
   "cell_type": "markdown",
   "id": "6acfa247-9c20-4fa1-ad33-3ceea7196a36",
   "metadata": {},
   "source": [
    "<div class=\"alert alert-block alert-warning\">\n",
    "\n",
    "- Add dbinfo() method to DBManager that prints out general information about the database. Include it here in the documentation.\n",
    "\n",
    "</div>"
   ]
  },
  {
   "cell_type": "markdown",
   "id": "1dbd0f79-6016-4bef-9e4f-300f7ebedfa7",
   "metadata": {},
   "source": [
    "## Database managers"
   ]
  },
  {
   "cell_type": "markdown",
   "id": "adabd011-b433-4ce0-a0f8-0bd465171dfb",
   "metadata": {},
   "source": [
    "**Important:** Any changes to the database should be made via these managers. The database should not be edited manually, because that may severly interfere with the survey planning."
   ]
  },
  {
   "cell_type": "markdown",
   "id": "bf7edfe9-f88c-4c91-b8db-bb6749bff680",
   "metadata": {},
   "source": [
    "For a demonstration of the managers we copy the database that was created above and work with the copy in the following."
   ]
  },
  {
   "cell_type": "code",
   "execution_count": 3,
   "id": "4bb9007f-05bc-4205-8625-f5611aa386e5",
   "metadata": {},
   "outputs": [],
   "source": [
    "db_init = 'test_planner_init.sqlite3'\n",
    "db_name = 'test_planner_temp.sqlite3'\n",
    "\n",
    "if platform.system() == 'Linux':\n",
    "    os.system(f'cp {db_init} {db_name}')\n",
    "elif platform.system() == 'Windows':\n",
    "    os.system(f'xcopy {db_init} {db_name} /y')\n",
    "else:\n",
    "    raise ValueError('Unknown operating system.')"
   ]
  },
  {
   "cell_type": "markdown",
   "id": "2c1a07b3-ba91-4a81-8973-644ecf3c4f8e",
   "metadata": {},
   "source": [
    "### `TelescopeManager`"
   ]
  },
  {
   "cell_type": "markdown",
   "id": "0a8eddaf-2e00-4afb-a725-1c78abdb390e",
   "metadata": {},
   "source": [
    "The `TelescopeManager` class provides the methods to add telescopes and constraints to the database and read them from the database."
   ]
  },
  {
   "cell_type": "markdown",
   "id": "4eb651bc-74b8-4d2b-bb12-e190ce85a0c2",
   "metadata": {},
   "source": [
    "#### Add telescope"
   ]
  },
  {
   "cell_type": "code",
   "execution_count": 4,
   "id": "42642d3c-2d8b-4a4b-9b11-bcb67baf044f",
   "metadata": {},
   "outputs": [],
   "source": [
    "manager = TelescopeManager(db_name)"
   ]
  },
  {
   "cell_type": "markdown",
   "id": "9ff82599-f3fa-4c0e-ac14-ebd87bb14961",
   "metadata": {},
   "source": [
    "We can use the same method as in the `DBCreator` class to add a telescope. Duplications are not allowed:"
   ]
  },
  {
   "cell_type": "code",
   "execution_count": 5,
   "id": "bdb3ed49-92d6-4cc7-bf68-85649ee62f3a",
   "metadata": {},
   "outputs": [
    {
     "name": "stdout",
     "output_type": "stream",
     "text": [
      "Telescope 'Skinakas' already exists. Name needs to be unique.\n"
     ]
    }
   ],
   "source": [
    "name = 'Skinakas'\n",
    "lat = Angle('35:12:43 deg')\n",
    "lon = Angle('24:53:57 deg')\n",
    "height = 1750.\n",
    "utc_offset = 2.\n",
    "manager.add_telescope(name, lat.rad, lon.rad, height, utc_offset)"
   ]
  },
  {
   "cell_type": "markdown",
   "id": "323fb35f-e85a-4d8c-81bc-c34a09a31b0b",
   "metadata": {},
   "source": [
    "**Note:** There is not way to change a telescope. Changing its parameters would require that all observabilities need to be re-calculated. Therefore, it makes sense to start with a new database."
   ]
  },
  {
   "cell_type": "markdown",
   "id": "3a85da1b-829c-43bb-b7ad-10bfc68dd1a7",
   "metadata": {},
   "source": [
    "#### Add/change constraints"
   ]
  },
  {
   "cell_type": "markdown",
   "id": "46804705-b967-4bb2-be6c-ac5e7cafcf26",
   "metadata": {},
   "source": [
    "We can add constraints as we did with the `DBCreator` class. If the telescope already has constraints associated we get a warning:"
   ]
  },
  {
   "cell_type": "code",
   "execution_count": 6,
   "id": "0406db50-62a1-4842-b6d5-2339f09fa2dd",
   "metadata": {},
   "outputs": [
    {
     "name": "stdin",
     "output_type": "stream",
     "text": [
      "WARNING: An active parameter set for telescope 'Skinakas' exists. If a new set is added the former one is marked as inactive. This will deactivate all stored observabilities and observing windows based on these parameters. They will remain in the database, but will also be marked as inactive. Add new parameter set? (y/n)  n\n"
     ]
    }
   ],
   "source": [
    "# general limits:\n",
    "twilight = 'nautical'\n",
    "airmass_limit = c.AirmassLimit(2.)\n",
    "moon_distance = c.MoonDistance(10.)\n",
    "\n",
    "# Skinakas specific limits:\n",
    "hourangle_limit = c.HourangleLimit(5.33)\n",
    "\n",
    "manager.add_constraints('Skinakas', twilight, constraints=(airmass_limit, hourangle_limit, moon_distance))"
   ]
  },
  {
   "cell_type": "markdown",
   "id": "3c056edf-04a9-4efb-9287-9baef921ae41",
   "metadata": {},
   "source": [
    "**Note:** The method does not check whether or not these new constraints differ in any way from the already stored ones. Above we try to add the exact same constraints we already added. This would be unwise to do, because it would invalidate all observabilities that were already calculated, even though they would technically still be valid as the constraints are the same."
   ]
  },
  {
   "cell_type": "markdown",
   "id": "89f62deb-8b90-4e6e-acc8-3e706a4fbf4a",
   "metadata": {},
   "source": [
    "**Note:** Adding a new set of constraints, means that we need to define all constraints that should from now one be associated with the telescope. We cannot add a single constraint to the ones existing already in the database. \n",
    "\n",
    "Let's say we want to decrease the Moon separation limit:"
   ]
  },
  {
   "cell_type": "code",
   "execution_count": 7,
   "id": "34644754-3c71-4ffc-80a9-316357de9bd0",
   "metadata": {},
   "outputs": [
    {
     "name": "stdin",
     "output_type": "stream",
     "text": [
      "WARNING: An active parameter set for telescope 'Skinakas' exists. If a new set is added the former one is marked as inactive. This will deactivate all stored observabilities and observing windows based on these parameters. They will remain in the database, but will also be marked as inactive. Add new parameter set? (y/n)  y\n"
     ]
    },
    {
     "name": "stdout",
     "output_type": "stream",
     "text": [
      "Parameter set with ID 1 deactivated.\n",
      "0 corresponding observabilities deactivated.\n",
      "0 corresponding observing windows deactivated.\n",
      "0 corresponding time ranges deactivated.\n",
      "Constraint 'AirmassLimit' for telescope 'Skinakas'.\n",
      "Constraint 'HourangleLimit' for telescope 'Skinakas'.\n",
      "Constraint 'MoonDistance' for telescope 'Skinakas'.\n"
     ]
    }
   ],
   "source": [
    "# general limits:\n",
    "twilight = 'nautical'\n",
    "airmass_limit = c.AirmassLimit(2.)\n",
    "moon_distance = c.MoonDistance(5.)\n",
    "\n",
    "# Skinakas specific limits:\n",
    "hourangle_limit = c.HourangleLimit(5.33)\n",
    "\n",
    "manager.add_constraints('Skinakas', twilight, constraints=(airmass_limit, hourangle_limit, moon_distance))"
   ]
  },
  {
   "cell_type": "markdown",
   "id": "88dec13f-c152-4809-b7bf-fd8c904cfa80",
   "metadata": {},
   "source": [
    "**Note:** Constraints must always be changed this way. Only this way ensures that the observabilities are calculated anew. This would not be the case with manual changes to the database."
   ]
  },
  {
   "cell_type": "markdown",
   "id": "ed56dd9e-1dba-47c5-9ed5-de5960017c24",
   "metadata": {},
   "source": [
    "#### Print info about telescopes and constraints\n",
    "\n",
    "We can use the `info()` method to learn about what telescopes are stored in the database. If we use `constraints=True`, we additionally get info about the currently active, associated constraints. With `constraints='all'` we learn about all associated parameter sets, including the inactive ones:"
   ]
  },
  {
   "cell_type": "code",
   "execution_count": 85,
   "id": "2521e552-a6e1-49c5-a2d4-27a43933d7b5",
   "metadata": {},
   "outputs": [
    {
     "name": "stdout",
     "output_type": "stream",
     "text": [
      "======== TELECOPES ========\n",
      "2 telescopes stored in database.\n",
      "---------------------------\n",
      "Telescope ID: 1\n",
      "Name: Skinakas\n",
      "Latitude :   35.21 deg N\n",
      "Longitude:   24.90 deg E\n",
      "Height:    1750.00 m            \n",
      "---------------------------\n",
      "2 associated parameter sets\n",
      "---------------------------\n",
      "Parameter set ID: 1\n",
      "Active: False            \n",
      "Constraints:\n",
      "* Twilight\n",
      "  - twilight: -12.0\n",
      "* AirmassLimit\n",
      "  - limit: 2.0\n",
      "  - conversion: secz\n",
      "* HourangleLimit\n",
      "  - limit: 5.33\n",
      "  - limit_lo: -5.33\n",
      "* MoonDistance\n",
      "  - limit: 10.0\n",
      "---------------------------\n",
      "Parameter set ID: 3\n",
      "Active: True            \n",
      "Constraints:\n",
      "* Twilight\n",
      "  - twilight: -12.0\n",
      "* AirmassLimit\n",
      "  - limit: 2.0\n",
      "  - conversion: secz\n",
      "* HourangleLimit\n",
      "  - limit: 5.33\n",
      "  - limit_lo: -5.33\n",
      "* MoonDistance\n",
      "  - limit: 5.0\n",
      "---------------------------\n",
      "Telescope ID: 2\n",
      "Name: SAAO\n",
      "Latitude :  -32.38 deg N\n",
      "Longitude:   20.81 deg E\n",
      "Height:    1798.00 m            \n",
      "---------------------------\n",
      "1 associated parameter sets\n",
      "---------------------------\n",
      "Parameter set ID: 2\n",
      "Active: True            \n",
      "Constraints:\n",
      "* Twilight\n",
      "  - twilight: -12.0\n",
      "* AirmassLimit\n",
      "  - limit: 2.0\n",
      "  - conversion: secz\n",
      "* MoonDistance\n",
      "  - limit: 10.0\n",
      "* PolyHADecLimit\n",
      "  - ha: [-4.0, -4.0, 0.8, 0.8, 1.7, 2.4, 3.2, 2.8]\n",
      "  - dec: [0.1, -52.0, -65.0, -85.0, -74.5, -70.0, -60.0, 0.1]\n"
     ]
    }
   ],
   "source": [
    "manager.info(constraints='all')"
   ]
  },
  {
   "cell_type": "markdown",
   "id": "2ec728e8-20f5-444e-b7f4-92e0e69b7016",
   "metadata": {},
   "source": [
    "#### Get telescopes"
   ]
  },
  {
   "cell_type": "markdown",
   "id": "2a92dd17-ce32-4247-9ec3-3646828a728d",
   "metadata": {},
   "source": [
    "`get_telescopes()` gives us **all stored telescopes** in a list. Each list item is a dict that contains the telescope parameters:"
   ]
  },
  {
   "cell_type": "code",
   "execution_count": 43,
   "id": "3034e038-79d4-4717-a2fc-8b9f80b5b0d1",
   "metadata": {},
   "outputs": [
    {
     "data": {
      "text/plain": [
       "[{'telescope_id': 1,\n",
       "  'name': 'Skinakas',\n",
       "  'lat': <Quantity 0.61456437 rad>,\n",
       "  'lon': <Quantity 0.43457244 rad>,\n",
       "  'height': 1750.0,\n",
       "  'utc_offset': 2.0},\n",
       " {'telescope_id': 2,\n",
       "  'name': 'SAAO',\n",
       "  'lat': <Quantity -0.56512792 rad>,\n",
       "  'lon': <Quantity 0.36321514 rad>,\n",
       "  'height': 1798.0,\n",
       "  'utc_offset': 2.0}]"
      ]
     },
     "execution_count": 43,
     "metadata": {},
     "output_type": "execute_result"
    }
   ],
   "source": [
    "manager.get_telescopes()"
   ]
  },
  {
   "cell_type": "markdown",
   "id": "8f2113c5-c83e-443c-862e-038c86d70800",
   "metadata": {},
   "source": [
    "We can **specify a telescope name** to get just that telescope:"
   ]
  },
  {
   "cell_type": "code",
   "execution_count": 44,
   "id": "ec186cef-41d1-4721-9689-22362f894c66",
   "metadata": {},
   "outputs": [
    {
     "data": {
      "text/plain": [
       "{'telescope_id': 1,\n",
       " 'name': 'Skinakas',\n",
       " 'lat': <Quantity 0.61456437 rad>,\n",
       " 'lon': <Quantity 0.43457244 rad>,\n",
       " 'height': 1750.0,\n",
       " 'utc_offset': 2.0}"
      ]
     },
     "execution_count": 44,
     "metadata": {},
     "output_type": "execute_result"
    }
   ],
   "source": [
    "manager.get_telescopes(name='Skinakas')"
   ]
  },
  {
   "cell_type": "markdown",
   "id": "70989c66-37fe-4649-bf12-c09c0de0d2ce",
   "metadata": {},
   "source": [
    "We can also **include the active constraints** that are associated with the telescope, by setting `constraints=True`:"
   ]
  },
  {
   "cell_type": "code",
   "execution_count": 45,
   "id": "7296d5f6-545c-4b40-963c-bf124fa668f2",
   "metadata": {},
   "outputs": [
    {
     "data": {
      "text/plain": [
       "{'telescope_id': 1,\n",
       " 'name': 'Skinakas',\n",
       " 'lat': <Quantity 0.61456437 rad>,\n",
       " 'lon': <Quantity 0.43457244 rad>,\n",
       " 'height': 1750.0,\n",
       " 'utc_offset': 2.0,\n",
       " 'constraints': {'Twilight': {'twilight': -12.0},\n",
       "  'AirmassLimit': {'limit': 2.0, 'conversion': 'secz'},\n",
       "  'HourangleLimit': {'limit': 5.33, 'limit_lo': -5.33},\n",
       "  'MoonDistance': {'limit': 5.0}}}"
      ]
     },
     "execution_count": 45,
     "metadata": {},
     "output_type": "execute_result"
    }
   ],
   "source": [
    "manager.get_telescopes(name='Skinakas', constraints=True)"
   ]
  },
  {
   "cell_type": "markdown",
   "id": "c24d1340-b0d7-470d-8661-5fe8425814e8",
   "metadata": {},
   "source": [
    "If we want to see all associated constraints, regardless of whether they are active or not, we use `constraints='all'`:"
   ]
  },
  {
   "cell_type": "code",
   "execution_count": 54,
   "id": "ed18a86f-a749-45ff-bd98-471f6ed95392",
   "metadata": {},
   "outputs": [
    {
     "data": {
      "text/plain": [
       "[{'telescope_id': 1,\n",
       "  'name': 'Skinakas',\n",
       "  'lat': <Quantity 0.61456437 rad>,\n",
       "  'lon': <Quantity 0.43457244 rad>,\n",
       "  'height': 1750.0,\n",
       "  'utc_offset': 2.0,\n",
       "  'parameter_sets': [{'parameter_set_id': 1,\n",
       "    'telescope': 'Skinakas',\n",
       "    'active': False,\n",
       "    'constraints': {'Twilight': {'twilight': -12.0},\n",
       "     'AirmassLimit': {'limit': 2.0, 'conversion': 'secz'},\n",
       "     'HourangleLimit': {'limit': 5.33, 'limit_lo': -5.33},\n",
       "     'MoonDistance': {'limit': 10.0}}},\n",
       "   {'parameter_set_id': 2,\n",
       "    'telescope': 'SAAO',\n",
       "    'active': True,\n",
       "    'constraints': {'Twilight': {'twilight': -12.0},\n",
       "     'AirmassLimit': {'limit': 2.0, 'conversion': 'secz'},\n",
       "     'MoonDistance': {'limit': 10.0},\n",
       "     'PolyHADecLimit': {'ha': [-4.0, -4.0, 0.8, 0.8, 1.7, 2.4, 3.2, 2.8],\n",
       "      'dec': [0.1, -52.0, -65.0, -85.0, -74.5, -70.0, -60.0, 0.1]}}},\n",
       "   {'parameter_set_id': 3,\n",
       "    'telescope': 'Skinakas',\n",
       "    'active': True,\n",
       "    'constraints': {'Twilight': {'twilight': -12.0},\n",
       "     'AirmassLimit': {'limit': 2.0, 'conversion': 'secz'},\n",
       "     'HourangleLimit': {'limit': 5.33, 'limit_lo': -5.33},\n",
       "     'MoonDistance': {'limit': 5.0}}}]},\n",
       " {'telescope_id': 2,\n",
       "  'name': 'SAAO',\n",
       "  'lat': <Quantity -0.56512792 rad>,\n",
       "  'lon': <Quantity 0.36321514 rad>,\n",
       "  'height': 1798.0,\n",
       "  'utc_offset': 2.0,\n",
       "  'parameter_sets': [{'parameter_set_id': 1,\n",
       "    'telescope': 'Skinakas',\n",
       "    'active': False,\n",
       "    'constraints': {'Twilight': {'twilight': -12.0},\n",
       "     'AirmassLimit': {'limit': 2.0, 'conversion': 'secz'},\n",
       "     'HourangleLimit': {'limit': 5.33, 'limit_lo': -5.33},\n",
       "     'MoonDistance': {'limit': 10.0}}},\n",
       "   {'parameter_set_id': 2,\n",
       "    'telescope': 'SAAO',\n",
       "    'active': True,\n",
       "    'constraints': {'Twilight': {'twilight': -12.0},\n",
       "     'AirmassLimit': {'limit': 2.0, 'conversion': 'secz'},\n",
       "     'MoonDistance': {'limit': 10.0},\n",
       "     'PolyHADecLimit': {'ha': [-4.0, -4.0, 0.8, 0.8, 1.7, 2.4, 3.2, 2.8],\n",
       "      'dec': [0.1, -52.0, -65.0, -85.0, -74.5, -70.0, -60.0, 0.1]}}},\n",
       "   {'parameter_set_id': 3,\n",
       "    'telescope': 'Skinakas',\n",
       "    'active': True,\n",
       "    'constraints': {'Twilight': {'twilight': -12.0},\n",
       "     'AirmassLimit': {'limit': 2.0, 'conversion': 'secz'},\n",
       "     'HourangleLimit': {'limit': 5.33, 'limit_lo': -5.33},\n",
       "     'MoonDistance': {'limit': 5.0}}}]}]"
      ]
     },
     "execution_count": 54,
     "metadata": {},
     "output_type": "execute_result"
    }
   ],
   "source": [
    "manager.get_telescopes(name=None, constraints='all')"
   ]
  },
  {
   "cell_type": "markdown",
   "id": "f2e4ba4c-a58a-41b0-8d54-0c4cce6745fb",
   "metadata": {},
   "source": [
    "#### Get constraints"
   ]
  },
  {
   "cell_type": "markdown",
   "id": "9baa3f80-bec7-482e-bd63-c7f78ae4ed5b",
   "metadata": {},
   "source": [
    "In `get_constraints()` we can specify a telescope, if we want to get only the constraints associated with that telescope. With `active=True` we only get active constraints. Otherwise, we get active and inactive constraints. \n",
    "\n",
    "If we specify the telescope and set `active=True` there is only one set of constraints, because only one set can be active for a telescope. \n",
    "Otherwise, we may get multiple sets as a `list`. Sets contain all the constraints that were added to a telescope via one call of the `add_constraints()` method.\n",
    "\n",
    "Here, we are calling for **one specific telescope and its active constraints**:"
   ]
  },
  {
   "cell_type": "code",
   "execution_count": 30,
   "id": "8140c1d4-dce6-4434-ad3d-94c968278156",
   "metadata": {},
   "outputs": [
    {
     "data": {
      "text/plain": [
       "{'parameter_set_id': 3,\n",
       " 'telescope': 'Skinakas',\n",
       " 'active': True,\n",
       " 'constraints': {'Twilight': {'twilight': -12.0},\n",
       "  'AirmassLimit': {'limit': 2.0, 'conversion': 'secz'},\n",
       "  'HourangleLimit': {'limit': 5.33, 'limit_lo': -5.33},\n",
       "  'MoonDistance': {'limit': 5.0}}}"
      ]
     },
     "execution_count": 30,
     "metadata": {},
     "output_type": "execute_result"
    }
   ],
   "source": [
    "manager.get_constraints(telescope='Skinakas', active=True)"
   ]
  },
  {
   "cell_type": "markdown",
   "id": "de5a9f28-e001-4034-b485-fce0cdde3595",
   "metadata": {},
   "source": [
    "We can get an overview over **all existing constraints** like this:"
   ]
  },
  {
   "cell_type": "code",
   "execution_count": 31,
   "id": "7710382c-8d38-42ef-ab81-2441cdd918b8",
   "metadata": {},
   "outputs": [
    {
     "data": {
      "text/plain": [
       "[{'parameter_set_id': 1,\n",
       "  'telescope': 'Skinakas',\n",
       "  'active': False,\n",
       "  'constraints': {'Twilight': {'twilight': -12.0},\n",
       "   'AirmassLimit': {'limit': 2.0, 'conversion': 'secz'},\n",
       "   'HourangleLimit': {'limit': 5.33, 'limit_lo': -5.33},\n",
       "   'MoonDistance': {'limit': 10.0}}},\n",
       " {'parameter_set_id': 2,\n",
       "  'telescope': 'SAAO',\n",
       "  'active': True,\n",
       "  'constraints': {'Twilight': {'twilight': -12.0},\n",
       "   'AirmassLimit': {'limit': 2.0, 'conversion': 'secz'},\n",
       "   'MoonDistance': {'limit': 10.0},\n",
       "   'PolyHADecLimit': {'ha': [-4.0, -4.0, 0.8, 0.8, 1.7, 2.4, 3.2, 2.8],\n",
       "    'dec': [0.1, -52.0, -65.0, -85.0, -74.5, -70.0, -60.0, 0.1]}}},\n",
       " {'parameter_set_id': 3,\n",
       "  'telescope': 'Skinakas',\n",
       "  'active': True,\n",
       "  'constraints': {'Twilight': {'twilight': -12.0},\n",
       "   'AirmassLimit': {'limit': 2.0, 'conversion': 'secz'},\n",
       "   'HourangleLimit': {'limit': 5.33, 'limit_lo': -5.33},\n",
       "   'MoonDistance': {'limit': 5.0}}}]"
      ]
     },
     "execution_count": 31,
     "metadata": {},
     "output_type": "execute_result"
    }
   ],
   "source": [
    "manager.get_constraints(telescope=None, active=False)"
   ]
  },
  {
   "cell_type": "markdown",
   "id": "af3f9d78-d17c-4547-afec-5cd3adcefa7e",
   "metadata": {},
   "source": [
    "#### Other methods\n",
    "\n",
    "Other methods are used by the survey planning software."
   ]
  },
  {
   "cell_type": "markdown",
   "id": "05840eac-522d-41a6-96ab-51292bca22e6",
   "metadata": {},
   "source": [
    "## `FieldManager`: manage fields"
   ]
  },
  {
   "cell_type": "markdown",
   "id": "71a9265c-74a3-40a5-940b-30a5cade8102",
   "metadata": {},
   "source": [
    "## `GuidestarManager`: manage guide stars"
   ]
  },
  {
   "cell_type": "markdown",
   "id": "633ce30b-aaf7-4d12-884a-a524588188b8",
   "metadata": {},
   "source": [
    "## `ObservationManager`: manage observations"
   ]
  },
  {
   "cell_type": "code",
   "execution_count": null,
   "id": "d6563662-0cee-4a34-9e9d-22a5e2acb8a5",
   "metadata": {},
   "outputs": [],
   "source": []
  }
 ],
 "metadata": {
  "kernelspec": {
   "display_name": "Python 3 (ipykernel)",
   "language": "python",
   "name": "python3"
  },
  "language_info": {
   "codemirror_mode": {
    "name": "ipython",
    "version": 3
   },
   "file_extension": ".py",
   "mimetype": "text/x-python",
   "name": "python",
   "nbconvert_exporter": "python",
   "pygments_lexer": "ipython3",
   "version": "3.9.18"
  },
  "toc-autonumbering": true
 },
 "nbformat": 4,
 "nbformat_minor": 5
}

{
 "cells": [
  {
   "cell_type": "markdown",
   "id": "23e6bc2c-b1f6-492e-9b5d-0fe70a60c60e",
   "metadata": {},
   "source": [
    "# Documentation: Data base managers"
   ]
  },
  {
   "cell_type": "code",
   "execution_count": 1,
   "id": "07bb1ec6-87b0-4bfd-bdb2-3d72fdfa2981",
   "metadata": {},
   "outputs": [],
   "source": [
    "%load_ext autoreload\n",
    "%autoreload 2"
   ]
  },
  {
   "cell_type": "code",
   "execution_count": 2,
   "id": "a36d0a1c-c22c-4d8d-8db9-83daa81fef8e",
   "metadata": {},
   "outputs": [],
   "source": [
    "from astropy.coordinates import Angle\n",
    "import astropy.units as u\n",
    "import os\n",
    "from pandas import DataFrame\n",
    "import platform\n",
    "\n",
    "import constraints as c\n",
    "from db import DBCreator, TelescopeManager, FieldManager, GuidestarManager, ObservationManager\n",
    "from fieldgrid import FieldGridIsoLat"
   ]
  },
  {
   "cell_type": "markdown",
   "id": "c69320cf-d521-4280-8b23-cbfb55f0947f",
   "metadata": {},
   "source": [
    "## `DBCreator`: create survey planner database"
   ]
  },
  {
   "cell_type": "markdown",
   "id": "68d9641f-b5ee-4cec-a060-8e07701a3d64",
   "metadata": {},
   "source": [
    "The `DBCreator` class provides the basic functionalities to create a new database:"
   ]
  },
  {
   "cell_type": "code",
   "execution_count": 3,
   "id": "e50a1496-3067-4437-ac7c-1bee17912a8e",
   "metadata": {},
   "outputs": [],
   "source": [
    "db_name = 'test_planner_init.sqlite3'\n",
    "db = DBCreator(db_name)"
   ]
  },
  {
   "cell_type": "markdown",
   "id": "378a50fe-2a49-44d8-987c-64414a8e85a4",
   "metadata": {},
   "source": [
    "### Create database"
   ]
  },
  {
   "cell_type": "code",
   "execution_count": 4,
   "id": "ecaed8e0-42e2-468c-8e32-515d3f451141",
   "metadata": {
    "slideshow": {
     "slide_type": "fragment"
    },
    "tags": []
   },
   "outputs": [
    {
     "name": "stdin",
     "output_type": "stream",
     "text": [
      "Database file exists. Overwrite (y) or cancel (enter)? y\n"
     ]
    },
    {
     "name": "stdout",
     "output_type": "stream",
     "text": [
      "Database 'test_planner_init.sqlite3' created.\n",
      "Table 'Fields' created.\n",
      "Table 'Telescopes' created.\n",
      "Table 'ParameterSets' created.\n",
      "Table 'Constraints' created.\n",
      "Table 'Parameters' created.\n",
      "Table 'ParameterNames' created.\n",
      "Table 'Observability' created.\n",
      "Table 'ObservabilityStatus' created.\n",
      "Table 'ObsWindows' created.\n",
      "Table 'TimeRanges' created.\n",
      "Table 'Observations' created.\n",
      "Table 'Guidestars' created.\n",
      "Table 'Filters' created.\n",
      "Constraints added to table 'Constraints'.\n",
      "Statuses added to table 'ObservabilityStatus'.\n",
      "Database creation finished.\n",
      "\n",
      "Note: Next you need to add observatories, constraints, fields, guidestars, and observations.\n"
     ]
    }
   ],
   "source": [
    "created = db.create()"
   ]
  },
  {
   "cell_type": "markdown",
   "id": "9f4dfca9-2f3e-4b89-a06c-5283aeda1f4b",
   "metadata": {},
   "source": [
    "### Add telescopes"
   ]
  },
  {
   "cell_type": "code",
   "execution_count": 5,
   "id": "2ac2848b-526c-47f9-9a78-19a1884fab5b",
   "metadata": {},
   "outputs": [
    {
     "name": "stdout",
     "output_type": "stream",
     "text": [
      "Telescope 'Skinakas' added.\n"
     ]
    }
   ],
   "source": [
    "if created:\n",
    "    name = 'Skinakas'\n",
    "    lat = Angle('35:12:43 deg')\n",
    "    lon = Angle('24:53:57 deg')\n",
    "    height = 1750.\n",
    "    utc_offset = 2.\n",
    "    db.add_telescope(name, lat.rad, lon.rad, height, utc_offset)"
   ]
  },
  {
   "cell_type": "code",
   "execution_count": 6,
   "id": "13fcc935-c03b-4a6a-bfed-dc503db20e5a",
   "metadata": {
    "slideshow": {
     "slide_type": "fragment"
    },
    "tags": []
   },
   "outputs": [
    {
     "name": "stdout",
     "output_type": "stream",
     "text": [
      "Telescope 'SAAO' added.\n"
     ]
    }
   ],
   "source": [
    "if created:\n",
    "    name = 'SAAO'\n",
    "    lat = Angle('-32:22:46 deg')\n",
    "    lon = Angle('20:48:38.5 deg')\n",
    "    height = 1798.\n",
    "    utc_offset = 2.\n",
    "    db.add_telescope(name, lat.rad, lon.rad, height, utc_offset)"
   ]
  },
  {
   "cell_type": "markdown",
   "id": "285b0fa4-7b6d-496e-8244-0a1cb1f47860",
   "metadata": {},
   "source": [
    "It is not possible to add two telescopes with the same name:"
   ]
  },
  {
   "cell_type": "code",
   "execution_count": 7,
   "id": "3c981ab3-eccf-4774-a60a-9c128a003e72",
   "metadata": {
    "slideshow": {
     "slide_type": "fragment"
    },
    "tags": []
   },
   "outputs": [
    {
     "name": "stdout",
     "output_type": "stream",
     "text": [
      "Telescope 'SAAO' already exists. Name needs to be unique.\n"
     ]
    }
   ],
   "source": [
    "if created:\n",
    "    name = 'SAAO'\n",
    "    lat = Angle('-32:22:46 deg')\n",
    "    lon = Angle('20:48:38.5 deg')\n",
    "    height = 1798.\n",
    "    utc_offset = 2.\n",
    "    db.add_telescope(name, lat.rad, lon.rad, height, utc_offset)"
   ]
  },
  {
   "cell_type": "markdown",
   "id": "b59755e9-71c3-4e44-a9ec-07ef61824b05",
   "metadata": {},
   "source": [
    "### Add constraints"
   ]
  },
  {
   "cell_type": "markdown",
   "id": "5b03bb01-3af0-476d-906c-e57033be051d",
   "metadata": {},
   "source": [
    "We add constraints to each telescope separately. Some constraints are the same, some are telescope specific."
   ]
  },
  {
   "cell_type": "code",
   "execution_count": 8,
   "id": "9d4a08d8-3447-4477-b1ec-810e8fa903d2",
   "metadata": {
    "slideshow": {
     "slide_type": "fragment"
    },
    "tags": []
   },
   "outputs": [
    {
     "name": "stdout",
     "output_type": "stream",
     "text": [
      "Constraint 'AirmassLimit' for telescope 'Skinakas'.\n",
      "Constraint 'HourangleLimit' for telescope 'Skinakas'.\n",
      "Constraint 'MoonDistance' for telescope 'Skinakas'.\n",
      "Constraint 'AirmassLimit' for telescope 'SAAO'.\n",
      "Constraint 'MoonDistance' for telescope 'SAAO'.\n",
      "Constraint 'PolyHADecLimit' for telescope 'SAAO'.\n"
     ]
    }
   ],
   "source": [
    "if created:\n",
    "    # general limits:\n",
    "    twilight = 'nautical'\n",
    "    airmass_limit = c.AirmassLimit(2.)\n",
    "    moon_distance = c.MoonDistance(10.)\n",
    "    \n",
    "    # Skinakas specific limits:\n",
    "    hourangle_limit = c.HourangleLimit(5.33)\n",
    "    \n",
    "    # SAAO specific limits:\n",
    "    polygon_ha = [-4, -4, 0.8, 0.8, 1.7, 2.4, 3.2, 2.8]\n",
    "    polygon_dec = [0.1, -52, -65, -85, -74.5, -70.0, -60, 0.1]\n",
    "    ha_dec_limit = c.PolyHADecLimit(polygon_ha, polygon_dec)\n",
    "    \n",
    "    db.add_constraints('Skinakas', twilight, constraints=(airmass_limit, hourangle_limit, moon_distance))\n",
    "    db.add_constraints('SAAO', twilight, constraints=(airmass_limit, moon_distance, ha_dec_limit))"
   ]
  },
  {
   "cell_type": "markdown",
   "id": "759463d3-d09e-446d-a44b-a921a7904ed7",
   "metadata": {},
   "source": [
    "It is not possible to add constraints to a non-existing telescope. Thus, telescopes need to be added first."
   ]
  },
  {
   "cell_type": "code",
   "execution_count": 9,
   "id": "cc115d90-1755-4f45-bf43-beea86c0ea2c",
   "metadata": {},
   "outputs": [
    {
     "name": "stdout",
     "output_type": "stream",
     "text": [
      "WARNING: Telescope 'does-not-exist' does not exist in database. Use TelescopeManager() to manage telescopes or add new ones.\n"
     ]
    }
   ],
   "source": [
    "db.add_constraints('does-not-exist', twilight, constraints=(airmass_limit, hourangle_limit, moon_distance))"
   ]
  },
  {
   "cell_type": "markdown",
   "id": "0f54a895-ed62-4441-a42f-5fddfe051344",
   "metadata": {},
   "source": [
    "### Add fields"
   ]
  },
  {
   "cell_type": "markdown",
   "id": "6fd9dd94-0cb4-45a6-af75-7adea55bb0d4",
   "metadata": {},
   "source": [
    "First, we create the field grid using the `FieldGridIsoLat` class. For a quick demonstration we do not create the actual Pasiphae grid, but a coarser grid with fewer fields."
   ]
  },
  {
   "cell_type": "markdown",
   "id": "4a7667f6-989a-4d37-93a9-0cd3bd57c841",
   "metadata": {},
   "source": [
    "Add Northern fields:"
   ]
  },
  {
   "cell_type": "code",
   "execution_count": 10,
   "id": "33ca3297-3222-422c-a428-c12faf909802",
   "metadata": {},
   "outputs": [
    {
     "name": "stdout",
     "output_type": "stream",
     "text": [
      "Create fields..\n",
      "  Calculate field centers..\n",
      "  Calculate field corners..\n",
      "    Done                                                    \n",
      "  Identify fields in Galactic plane..\n",
      "Final number of fields: 1097\n"
     ]
    }
   ],
   "source": [
    "fov = Angle(5 * u.deg)\n",
    "overlap_ns = Angle(fov / 2.)\n",
    "overlap_ew = Angle(1 * u.deg)\n",
    "tilt = Angle(0 * u.deg)\n",
    "dec_lim_north = Angle(90 * u.deg)\n",
    "dec_lim_south = Angle(0 * u.deg)\n",
    "gal_lat_lim = Angle(30 * u.deg)\n",
    "gal_lat_lim_strict = True\n",
    "verbose = 1\n",
    "\n",
    "grid = FieldGridIsoLat(\n",
    "        fov.rad, overlap_ns=overlap_ns.rad, overlap_ew=overlap_ew.rad, tilt=tilt.rad, dec_lim_north=dec_lim_north.rad, \n",
    "        dec_lim_south=dec_lim_south.rad, gal_lat_lim=gal_lat_lim.rad, gal_lat_lim_strict=gal_lat_lim_strict, verbose=verbose)"
   ]
  },
  {
   "cell_type": "code",
   "execution_count": 11,
   "id": "65169ba6-032e-4c58-b4f4-4c17e3f8eea0",
   "metadata": {
    "slideshow": {
     "slide_type": "fragment"
    },
    "tags": []
   },
   "outputs": [
    {
     "name": "stdout",
     "output_type": "stream",
     "text": [
      "1097 fields added to database.                   \n"
     ]
    }
   ],
   "source": [
    "if created:\n",
    "    db.add_fields(grid, 'Skinakas', active=True)"
   ]
  },
  {
   "cell_type": "markdown",
   "id": "cd88ee67-d906-408d-b7dd-6ad30010dbbd",
   "metadata": {},
   "source": [
    "Add Southern fields:"
   ]
  },
  {
   "cell_type": "code",
   "execution_count": 12,
   "id": "9688f0fb-016b-4b6a-95b9-da21547b278b",
   "metadata": {},
   "outputs": [
    {
     "name": "stdout",
     "output_type": "stream",
     "text": [
      "Create fields..\n",
      "  Calculate field centers..\n",
      "  Calculate field corners..\n",
      "    Done                                                    \n",
      "  Identify fields in Galactic plane..\n",
      "Final number of fields: 547\n"
     ]
    }
   ],
   "source": [
    "fov = Angle(7 * u.deg)\n",
    "overlap_ns = Angle(fov / 2.)\n",
    "overlap_ew = Angle(1 * u.deg)\n",
    "tilt = Angle(0 * u.deg)\n",
    "dec_lim_north = Angle(0 * u.deg)\n",
    "dec_lim_south = Angle(-90 * u.deg)\n",
    "gal_lat_lim = Angle(30 * u.deg)\n",
    "gal_lat_lim_strict = True\n",
    "verbose = 1\n",
    "\n",
    "grid = FieldGridIsoLat(\n",
    "        fov.rad, overlap_ns=overlap_ns.rad, overlap_ew=overlap_ew.rad, tilt=tilt.rad, dec_lim_north=dec_lim_north.rad, \n",
    "        dec_lim_south=dec_lim_south.rad, gal_lat_lim=gal_lat_lim.rad, gal_lat_lim_strict=gal_lat_lim_strict, verbose=verbose)"
   ]
  },
  {
   "cell_type": "code",
   "execution_count": 13,
   "id": "5b475cd3-9dab-437e-adcc-76633fbb6d8d",
   "metadata": {
    "slideshow": {
     "slide_type": "fragment"
    },
    "tags": []
   },
   "outputs": [
    {
     "name": "stdout",
     "output_type": "stream",
     "text": [
      "547 fields added to database.                   \n"
     ]
    }
   ],
   "source": [
    "if created:\n",
    "    db.add_fields(grid, 'SAAO', active=True)"
   ]
  },
  {
   "cell_type": "markdown",
   "id": "1f7e55c0-b598-4201-83ff-9d2d6a31e786",
   "metadata": {},
   "source": [
    "### Add guidestars"
   ]
  },
  {
   "cell_type": "markdown",
   "id": "9f64ed96-e0cd-4709-939f-e3c4d4a90f29",
   "metadata": {},
   "source": [
    "For a simple demonstration we claim there is a guide star at each field center, i.e. we use the field centers as coordinates for the guide stars."
   ]
  },
  {
   "cell_type": "code",
   "execution_count": 14,
   "id": "98f79747-e95a-4913-8101-d5db4e824e74",
   "metadata": {},
   "outputs": [],
   "source": [
    "# get fields:\n",
    "manager = FieldManager(db_name)\n",
    "field_ids = []\n",
    "field_center_ras = []\n",
    "field_center_decs = []\n",
    "\n",
    "for field in manager.get_fields():\n",
    "    field_ids.append(field['field_id'])\n",
    "    field_center_ras.append(field['center_ra'])\n",
    "    field_center_decs.append(field['center_dec'])"
   ]
  },
  {
   "cell_type": "markdown",
   "id": "d8862cec-9b37-43e6-86d7-f3169fee1d2b",
   "metadata": {},
   "source": [
    "We are going to add guidestars for all but the last to fields. At the end we will be warned that there are fields without associated guidestars."
   ]
  },
  {
   "cell_type": "code",
   "execution_count": 15,
   "id": "354e773d-3e8c-4b14-8788-a6af79921b33",
   "metadata": {},
   "outputs": [
    {
     "name": "stdout",
     "output_type": "stream",
     "text": [
      "1642 new guidestars added to database.\n",
      "\n",
      "WARNING: Fields with the following IDs do not have any guidestars associated:\n"
     ]
    }
   ],
   "source": [
    "db.add_guidestars(field_ids[:-2], field_center_ras[:-2], field_center_decs[:-2], warn_missing=True)"
   ]
  },
  {
   "cell_type": "markdown",
   "id": "8413a75d-ce0e-4739-8436-3f103966281d",
   "metadata": {},
   "source": [
    "By setting `warn_rep`, a lower limit that guidestars for the same field need to be separated, we can also get a warning when we try to add a new guidestar that is considered a duplicate of one already stored:"
   ]
  },
  {
   "cell_type": "code",
   "execution_count": 16,
   "id": "127d6889-c808-4640-85af-8286d6b9df81",
   "metadata": {},
   "outputs": [
    {
     "name": "stdout",
     "output_type": "stream",
     "text": [
      "New guidestar\n",
      "  field ID: 1\n",
      "  RA:   00d00m00s\n",
      "  Dec: +02d30m00s\n",
      "is close to the following stored guidestar(s):\n",
      "1. Guidestar ID: 1\n",
      "  RA:   00d00m00s\n",
      "   Dec: +02d30m00s\n",
      "   separation: 0.0000 deg\n"
     ]
    },
    {
     "name": "stdin",
     "output_type": "stream",
     "text": [
      "Add this new guidestar anyway? (y/n)  n\n"
     ]
    },
    {
     "name": "stdout",
     "output_type": "stream",
     "text": [
      "0 new guidestars added to database.\n"
     ]
    }
   ],
   "source": [
    "db.add_guidestars(field_ids[0], field_center_ras[0], field_center_decs[0], warn_rep=Angle(2*u.arcmin), warn_missing=False)"
   ]
  },
  {
   "cell_type": "markdown",
   "id": "e692073f-327f-483f-bde9-ee9d1aef9143",
   "metadata": {},
   "source": [
    "As a final check, we can also set `warn_sep`, a maximum limit by which the guidestar may be separated from the corresponding field center. We get a warning if a guidestart is too far off:"
   ]
  },
  {
   "cell_type": "code",
   "execution_count": 17,
   "id": "4c539410-14c7-450e-822e-88d0c896aaf5",
   "metadata": {},
   "outputs": [
    {
     "name": "stdout",
     "output_type": "stream",
     "text": [
      "New guide star 0 for field ID 1644 is too far from the field center with separation 0d17m58.51989416s.\n"
     ]
    },
    {
     "name": "stdin",
     "output_type": "stream",
     "text": [
      "Add it to the database anyway? (y/n)  n\n"
     ]
    },
    {
     "name": "stdout",
     "output_type": "stream",
     "text": [
      "0 new guidestars added to database.\n"
     ]
    }
   ],
   "source": [
    "db.add_guidestars(\n",
    "        field_ids[-1], field_center_ras[-1]+Angle(18*u.arcmin).rad, field_center_decs[-1],\n",
    "        warn_sep=Angle(15*u.arcmin), warn_missing=False)"
   ]
  },
  {
   "cell_type": "markdown",
   "id": "02497c2f-deaf-49b4-b6f5-e4f9c10c2ba5",
   "metadata": {},
   "source": [
    "### Add observations"
   ]
  },
  {
   "cell_type": "markdown",
   "id": "4bb1b180-5949-4095-9915-f3585ce3ba64",
   "metadata": {},
   "source": [
    "We can simply add the same observation to each field. The filter does not exist in the new database. We are automatically asked, whether or not to add it."
   ]
  },
  {
   "cell_type": "code",
   "execution_count": 18,
   "id": "edfa184a-e26e-46c6-9083-715fd607cbfc",
   "metadata": {},
   "outputs": [
    {
     "name": "stdin",
     "output_type": "stream",
     "text": [
      "Filter 'r does not exist. Add it to data base? (y/n) y\n"
     ]
    },
    {
     "name": "stdout",
     "output_type": "stream",
     "text": [
      "1644 observations added to data base.\n"
     ]
    }
   ],
   "source": [
    "db.add_observations(30., 2, 'r')"
   ]
  },
  {
   "cell_type": "markdown",
   "id": "afb98c8d-e49d-435f-9f68-1ed211b6436b",
   "metadata": {},
   "source": [
    "If at least one observation with the same parameters exist for a field and has not been finished yet, we automatically get notified that we are trying to add a duplicate:"
   ]
  },
  {
   "cell_type": "code",
   "execution_count": 19,
   "id": "64975e60-c589-47a5-8e07-e8c02b92ed09",
   "metadata": {},
   "outputs": [
    {
     "name": "stdin",
     "output_type": "stream",
     "text": [
      "1 observation(s) with the same parameters already exist in data base. 0 out of those are finished. Add new observation anyway? (y/n, 'ALL' to add all following without asking, or 'NONE' to skip all existing observations that have not been finished). n\n",
      "1 observation(s) with the same parameters already exist in data base. 0 out of those are finished. Add new observation anyway? (y/n, 'ALL' to add all following without asking, or 'NONE' to skip all existing observations that have not been finished). NONE\n"
     ]
    },
    {
     "name": "stdout",
     "output_type": "stream",
     "text": [
      "0 observations added to data base.\n"
     ]
    }
   ],
   "source": [
    "db.add_observations(30., 2, 'r')"
   ]
  },
  {
   "cell_type": "markdown",
   "id": "a357c3c5-4bf0-4615-aa58-51719093181c",
   "metadata": {},
   "source": [
    "### Database info"
   ]
  },
  {
   "cell_type": "markdown",
   "id": "6acfa247-9c20-4fa1-ad33-3ceea7196a36",
   "metadata": {},
   "source": [
    "<div class=\"alert alert-block alert-warning\">\n",
    "\n",
    "- Add dbinfo() method to DBManager that prints out general information about the database. Include it here in the documentation.\n",
    "\n",
    "</div>"
   ]
  },
  {
   "cell_type": "markdown",
   "id": "1dbd0f79-6016-4bef-9e4f-300f7ebedfa7",
   "metadata": {},
   "source": [
    "## Database managers"
   ]
  },
  {
   "cell_type": "markdown",
   "id": "adabd011-b433-4ce0-a0f8-0bd465171dfb",
   "metadata": {},
   "source": [
    "**Important:** Any changes to the database should be made via these managers. The database should not be edited manually, because that may severly interfere with the survey planning."
   ]
  },
  {
   "cell_type": "markdown",
   "id": "bf7edfe9-f88c-4c91-b8db-bb6749bff680",
   "metadata": {},
   "source": [
    "For a demonstration of the managers we copy the database that was created above and work with the copy in the following."
   ]
  },
  {
   "cell_type": "code",
   "execution_count": 20,
   "id": "4bb9007f-05bc-4205-8625-f5611aa386e5",
   "metadata": {},
   "outputs": [],
   "source": [
    "db_init = 'test_planner_init.sqlite3'\n",
    "db_name = 'test_planner_temp.sqlite3'\n",
    "\n",
    "if platform.system() == 'Linux':\n",
    "    os.system(f'cp {db_init} {db_name}')\n",
    "elif platform.system() == 'Windows':\n",
    "    os.system(f'xcopy {db_init} {db_name} /y')\n",
    "else:\n",
    "    raise ValueError('Unknown operating system.')"
   ]
  },
  {
   "cell_type": "markdown",
   "id": "2c1a07b3-ba91-4a81-8973-644ecf3c4f8e",
   "metadata": {},
   "source": [
    "### `TelescopeManager`"
   ]
  },
  {
   "cell_type": "markdown",
   "id": "0a8eddaf-2e00-4afb-a725-1c78abdb390e",
   "metadata": {},
   "source": [
    "The `TelescopeManager` class provides the methods to add telescopes and constraints to the database and read them from the database.\n",
    "Below, we describe the methods relevant for user interaction. Other methods are used by the survey planning software."
   ]
  },
  {
   "cell_type": "markdown",
   "id": "4eb651bc-74b8-4d2b-bb12-e190ce85a0c2",
   "metadata": {},
   "source": [
    "#### Add telescope"
   ]
  },
  {
   "cell_type": "code",
   "execution_count": 40,
   "id": "42642d3c-2d8b-4a4b-9b11-bcb67baf044f",
   "metadata": {},
   "outputs": [],
   "source": [
    "db_name = 'test_planner_temp.sqlite3'\n",
    "manager = TelescopeManager(db_name)"
   ]
  },
  {
   "cell_type": "markdown",
   "id": "9ff82599-f3fa-4c0e-ac14-ebd87bb14961",
   "metadata": {},
   "source": [
    "We can use the same method as in the `DBCreator` class to add a telescope. Duplications are not allowed:"
   ]
  },
  {
   "cell_type": "code",
   "execution_count": 22,
   "id": "bdb3ed49-92d6-4cc7-bf68-85649ee62f3a",
   "metadata": {},
   "outputs": [
    {
     "name": "stdout",
     "output_type": "stream",
     "text": [
      "Telescope 'Skinakas' already exists. Name needs to be unique.\n"
     ]
    }
   ],
   "source": [
    "name = 'Skinakas'\n",
    "lat = Angle('35:12:43 deg')\n",
    "lon = Angle('24:53:57 deg')\n",
    "height = 1750.\n",
    "utc_offset = 2.\n",
    "manager.add_telescope(name, lat.rad, lon.rad, height, utc_offset)"
   ]
  },
  {
   "cell_type": "markdown",
   "id": "323fb35f-e85a-4d8c-81bc-c34a09a31b0b",
   "metadata": {},
   "source": [
    "**Note:** There is not way to change a telescope. Changing its parameters would require that all observabilities need to be re-calculated. Therefore, it makes sense to start with a new database."
   ]
  },
  {
   "cell_type": "markdown",
   "id": "3a85da1b-829c-43bb-b7ad-10bfc68dd1a7",
   "metadata": {},
   "source": [
    "#### Add/change constraints"
   ]
  },
  {
   "cell_type": "markdown",
   "id": "46804705-b967-4bb2-be6c-ac5e7cafcf26",
   "metadata": {},
   "source": [
    "We can add constraints as we did with the `DBCreator` class. If the telescope already has constraints associated we get a warning:"
   ]
  },
  {
   "cell_type": "code",
   "execution_count": 23,
   "id": "0406db50-62a1-4842-b6d5-2339f09fa2dd",
   "metadata": {},
   "outputs": [
    {
     "name": "stdin",
     "output_type": "stream",
     "text": [
      "WARNING: An active parameter set for telescope 'Skinakas' exists. If a new set is added the former one is marked as inactive. This will deactivate all stored observabilities and observing windows based on these parameters. They will remain in the database, but will also be marked as inactive. Add new parameter set? (y/n)  n\n"
     ]
    }
   ],
   "source": [
    "# general limits:\n",
    "twilight = 'nautical'\n",
    "airmass_limit = c.AirmassLimit(2.)\n",
    "moon_distance = c.MoonDistance(10.)\n",
    "\n",
    "# Skinakas specific limits:\n",
    "hourangle_limit = c.HourangleLimit(5.33)\n",
    "\n",
    "manager.add_constraints('Skinakas', twilight, constraints=(airmass_limit, hourangle_limit, moon_distance))"
   ]
  },
  {
   "cell_type": "markdown",
   "id": "3c056edf-04a9-4efb-9287-9baef921ae41",
   "metadata": {},
   "source": [
    "**Note:** The method does not check whether or not these new constraints differ in any way from the already stored ones. Above we try to add the exact same constraints we already added. This would be unwise to do, because it would invalidate all observabilities that were already calculated, even though they would technically still be valid as the constraints are the same."
   ]
  },
  {
   "cell_type": "markdown",
   "id": "89f62deb-8b90-4e6e-acc8-3e706a4fbf4a",
   "metadata": {},
   "source": [
    "**Note:** Adding a new set of constraints, means that we need to define all constraints that should from now one be associated with the telescope. We cannot add a single constraint to the ones existing already in the database. \n",
    "\n",
    "Let's say we want to decrease the Moon separation limit:"
   ]
  },
  {
   "cell_type": "code",
   "execution_count": 24,
   "id": "34644754-3c71-4ffc-80a9-316357de9bd0",
   "metadata": {},
   "outputs": [
    {
     "name": "stdin",
     "output_type": "stream",
     "text": [
      "WARNING: An active parameter set for telescope 'Skinakas' exists. If a new set is added the former one is marked as inactive. This will deactivate all stored observabilities and observing windows based on these parameters. They will remain in the database, but will also be marked as inactive. Add new parameter set? (y/n)  y\n"
     ]
    },
    {
     "name": "stdout",
     "output_type": "stream",
     "text": [
      "Parameter set with ID 1 deactivated.\n",
      "0 corresponding observabilities deactivated.\n",
      "0 corresponding observing windows deactivated.\n",
      "0 corresponding time ranges deactivated.\n",
      "Constraint 'AirmassLimit' for telescope 'Skinakas'.\n",
      "Constraint 'HourangleLimit' for telescope 'Skinakas'.\n",
      "Constraint 'MoonDistance' for telescope 'Skinakas'.\n"
     ]
    }
   ],
   "source": [
    "# general limits:\n",
    "twilight = 'nautical'\n",
    "airmass_limit = c.AirmassLimit(2.)\n",
    "moon_distance = c.MoonDistance(5.)\n",
    "\n",
    "# Skinakas specific limits:\n",
    "hourangle_limit = c.HourangleLimit(5.33)\n",
    "\n",
    "manager.add_constraints('Skinakas', twilight, constraints=(airmass_limit, hourangle_limit, moon_distance))"
   ]
  },
  {
   "cell_type": "markdown",
   "id": "88dec13f-c152-4809-b7bf-fd8c904cfa80",
   "metadata": {},
   "source": [
    "**Note:** Constraints must always be changed this way. Only this way ensures that the observabilities are calculated anew. This would not be the case with manual changes to the database."
   ]
  },
  {
   "cell_type": "markdown",
   "id": "2ec728e8-20f5-444e-b7f4-92e0e69b7016",
   "metadata": {},
   "source": [
    "#### Get telescopes"
   ]
  },
  {
   "cell_type": "markdown",
   "id": "2a92dd17-ce32-4247-9ec3-3646828a728d",
   "metadata": {},
   "source": [
    "`get_telescopes()` gives us **all stored telescopes** in a list. Each list item is a dict that contains the telescope parameters:"
   ]
  },
  {
   "cell_type": "code",
   "execution_count": 25,
   "id": "3034e038-79d4-4717-a2fc-8b9f80b5b0d1",
   "metadata": {},
   "outputs": [
    {
     "data": {
      "text/html": [
       "<div>\n",
       "<style scoped>\n",
       "    .dataframe tbody tr th:only-of-type {\n",
       "        vertical-align: middle;\n",
       "    }\n",
       "\n",
       "    .dataframe tbody tr th {\n",
       "        vertical-align: top;\n",
       "    }\n",
       "\n",
       "    .dataframe thead th {\n",
       "        text-align: right;\n",
       "    }\n",
       "</style>\n",
       "<table border=\"1\" class=\"dataframe\">\n",
       "  <thead>\n",
       "    <tr style=\"text-align: right;\">\n",
       "      <th></th>\n",
       "      <th>telescope_id</th>\n",
       "      <th>name</th>\n",
       "      <th>lat</th>\n",
       "      <th>lon</th>\n",
       "      <th>height</th>\n",
       "      <th>utc_offset</th>\n",
       "    </tr>\n",
       "  </thead>\n",
       "  <tbody>\n",
       "    <tr>\n",
       "      <th>0</th>\n",
       "      <td>1</td>\n",
       "      <td>Skinakas</td>\n",
       "      <td>0.614564</td>\n",
       "      <td>0.434572</td>\n",
       "      <td>1750.0</td>\n",
       "      <td>2.0</td>\n",
       "    </tr>\n",
       "    <tr>\n",
       "      <th>1</th>\n",
       "      <td>2</td>\n",
       "      <td>SAAO</td>\n",
       "      <td>-0.565128</td>\n",
       "      <td>0.363215</td>\n",
       "      <td>1798.0</td>\n",
       "      <td>2.0</td>\n",
       "    </tr>\n",
       "  </tbody>\n",
       "</table>\n",
       "</div>"
      ],
      "text/plain": [
       "   telescope_id      name       lat       lon  height  utc_offset\n",
       "0             1  Skinakas  0.614564  0.434572  1750.0         2.0\n",
       "1             2      SAAO -0.565128  0.363215  1798.0         2.0"
      ]
     },
     "execution_count": 25,
     "metadata": {},
     "output_type": "execute_result"
    }
   ],
   "source": [
    "db_name = 'test_planner_temp.sqlite3'\n",
    "DataFrame(manager.get_telescopes())"
   ]
  },
  {
   "cell_type": "markdown",
   "id": "8f2113c5-c83e-443c-862e-038c86d70800",
   "metadata": {},
   "source": [
    "We can **specify a telescope name** to get just that telescope:"
   ]
  },
  {
   "cell_type": "code",
   "execution_count": 26,
   "id": "ec186cef-41d1-4721-9689-22362f894c66",
   "metadata": {},
   "outputs": [
    {
     "data": {
      "text/html": [
       "<div>\n",
       "<style scoped>\n",
       "    .dataframe tbody tr th:only-of-type {\n",
       "        vertical-align: middle;\n",
       "    }\n",
       "\n",
       "    .dataframe tbody tr th {\n",
       "        vertical-align: top;\n",
       "    }\n",
       "\n",
       "    .dataframe thead th {\n",
       "        text-align: right;\n",
       "    }\n",
       "</style>\n",
       "<table border=\"1\" class=\"dataframe\">\n",
       "  <thead>\n",
       "    <tr style=\"text-align: right;\">\n",
       "      <th></th>\n",
       "      <th>telescope_id</th>\n",
       "      <th>name</th>\n",
       "      <th>lat</th>\n",
       "      <th>lon</th>\n",
       "      <th>height</th>\n",
       "      <th>utc_offset</th>\n",
       "    </tr>\n",
       "  </thead>\n",
       "  <tbody>\n",
       "    <tr>\n",
       "      <th>0</th>\n",
       "      <td>1</td>\n",
       "      <td>Skinakas</td>\n",
       "      <td>0.614564</td>\n",
       "      <td>0.434572</td>\n",
       "      <td>1750.0</td>\n",
       "      <td>2.0</td>\n",
       "    </tr>\n",
       "  </tbody>\n",
       "</table>\n",
       "</div>"
      ],
      "text/plain": [
       "   telescope_id      name       lat       lon  height  utc_offset\n",
       "0             1  Skinakas  0.614564  0.434572  1750.0         2.0"
      ]
     },
     "execution_count": 26,
     "metadata": {},
     "output_type": "execute_result"
    }
   ],
   "source": [
    "DataFrame(manager.get_telescopes(name='Skinakas'))"
   ]
  },
  {
   "cell_type": "markdown",
   "id": "70989c66-37fe-4649-bf12-c09c0de0d2ce",
   "metadata": {},
   "source": [
    "We can also **include the active constraints** that are associated with the telescope, by setting `constraints=True`:"
   ]
  },
  {
   "cell_type": "code",
   "execution_count": 41,
   "id": "7296d5f6-545c-4b40-963c-bf124fa668f2",
   "metadata": {},
   "outputs": [
    {
     "data": {
      "text/plain": [
       "[{'telescope_id': 1,\n",
       "  'name': 'Skinakas',\n",
       "  'lat': 0.6145643665848811,\n",
       "  'lon': 0.43457243933615475,\n",
       "  'height': 1750.0,\n",
       "  'utc_offset': 2.0,\n",
       "  'parameter_set_id': 3,\n",
       "  'constraints': {'Twilight': {'twilight': -12.0},\n",
       "   'AirmassLimit': {'limit': 2.0, 'conversion': 'secz'},\n",
       "   'HourangleLimit': {'limit': 5.33, 'limit_lo': -5.33},\n",
       "   'MoonDistance': {'limit': 5.0}}}]"
      ]
     },
     "execution_count": 41,
     "metadata": {},
     "output_type": "execute_result"
    }
   ],
   "source": [
    "manager.get_telescopes(name='Skinakas', constraints=True)"
   ]
  },
  {
   "cell_type": "markdown",
   "id": "c24d1340-b0d7-470d-8661-5fe8425814e8",
   "metadata": {},
   "source": [
    "If we want to see all associated constraints, regardless of whether they are active or not, we use `constraints='all'`:"
   ]
  },
  {
   "cell_type": "code",
   "execution_count": 7,
   "id": "ed18a86f-a749-45ff-bd98-471f6ed95392",
   "metadata": {},
   "outputs": [
    {
     "data": {
      "text/plain": [
       "[{'telescope_id': 1,\n",
       "  'name': 'Skinakas',\n",
       "  'lat': 0.6145643665848811,\n",
       "  'lon': 0.43457243933615475,\n",
       "  'height': 1750.0,\n",
       "  'utc_offset': 2.0,\n",
       "  'parameter_sets': [{'parameter_set_id': 1,\n",
       "    'telescope': 'Skinakas',\n",
       "    'active': False,\n",
       "    'constraints': {'Twilight': {'twilight': -12.0},\n",
       "     'AirmassLimit': {'limit': 2.0, 'conversion': 'secz'},\n",
       "     'HourangleLimit': {'limit': 5.33, 'limit_lo': -5.33},\n",
       "     'MoonDistance': {'limit': 10.0}}},\n",
       "   {'parameter_set_id': 3,\n",
       "    'telescope': 'Skinakas',\n",
       "    'active': True,\n",
       "    'constraints': {'Twilight': {'twilight': -12.0},\n",
       "     'AirmassLimit': {'limit': 2.0, 'conversion': 'secz'},\n",
       "     'HourangleLimit': {'limit': 5.33, 'limit_lo': -5.33},\n",
       "     'MoonDistance': {'limit': 5.0}}}]},\n",
       " {'telescope_id': 2,\n",
       "  'name': 'SAAO',\n",
       "  'lat': -0.5651279155221417,\n",
       "  'lon': 0.3632151376820477,\n",
       "  'height': 1798.0,\n",
       "  'utc_offset': 2.0,\n",
       "  'parameter_sets': [{'parameter_set_id': 2,\n",
       "    'telescope': 'SAAO',\n",
       "    'active': True,\n",
       "    'constraints': {'Twilight': {'twilight': -12.0},\n",
       "     'AirmassLimit': {'limit': 2.0, 'conversion': 'secz'},\n",
       "     'MoonDistance': {'limit': 10.0},\n",
       "     'PolyHADecLimit': {'ha': [-4.0, -4.0, 0.8, 0.8, 1.7, 2.4, 3.2, 2.8],\n",
       "      'dec': [0.1, -52.0, -65.0, -85.0, -74.5, -70.0, -60.0, 0.1]}}}]}]"
      ]
     },
     "execution_count": 7,
     "metadata": {},
     "output_type": "execute_result"
    }
   ],
   "source": [
    "manager.get_telescopes(name=None, constraints='all')"
   ]
  },
  {
   "cell_type": "markdown",
   "id": "f2e4ba4c-a58a-41b0-8d54-0c4cce6745fb",
   "metadata": {},
   "source": [
    "#### Get constraints"
   ]
  },
  {
   "cell_type": "markdown",
   "id": "9baa3f80-bec7-482e-bd63-c7f78ae4ed5b",
   "metadata": {},
   "source": [
    "In `get_constraints()` we can specify a telescope, if we want to get only the constraints associated with that telescope. With `active=True` we only get active constraints. Otherwise, we get active and inactive constraints. \n",
    "\n",
    "If we specify the telescope and set `active=True` there is only one set of constraints, because only one set can be active for a telescope. \n",
    "Otherwise, we may get multiple sets as a `list`. Sets contain all the constraints that were added to a telescope via one call of the `add_constraints()` method.\n",
    "\n",
    "Here, we are calling for **one specific telescope and its active constraints**:"
   ]
  },
  {
   "cell_type": "code",
   "execution_count": 8,
   "id": "8140c1d4-dce6-4434-ad3d-94c968278156",
   "metadata": {},
   "outputs": [
    {
     "data": {
      "text/plain": [
       "[{'parameter_set_id': 3,\n",
       "  'telescope': 'Skinakas',\n",
       "  'active': True,\n",
       "  'constraints': {'Twilight': {'twilight': -12.0},\n",
       "   'AirmassLimit': {'limit': 2.0, 'conversion': 'secz'},\n",
       "   'HourangleLimit': {'limit': 5.33, 'limit_lo': -5.33},\n",
       "   'MoonDistance': {'limit': 5.0}}}]"
      ]
     },
     "execution_count": 8,
     "metadata": {},
     "output_type": "execute_result"
    }
   ],
   "source": [
    "manager.get_constraints(telescope='Skinakas', active=True)"
   ]
  },
  {
   "cell_type": "markdown",
   "id": "de5a9f28-e001-4034-b485-fce0cdde3595",
   "metadata": {},
   "source": [
    "We can get an overview over **all existing constraints** like this:"
   ]
  },
  {
   "cell_type": "code",
   "execution_count": 9,
   "id": "7710382c-8d38-42ef-ab81-2441cdd918b8",
   "metadata": {},
   "outputs": [
    {
     "data": {
      "text/plain": [
       "[{'parameter_set_id': 1,\n",
       "  'telescope': 'Skinakas',\n",
       "  'active': False,\n",
       "  'constraints': {'Twilight': {'twilight': -12.0},\n",
       "   'AirmassLimit': {'limit': 2.0, 'conversion': 'secz'},\n",
       "   'HourangleLimit': {'limit': 5.33, 'limit_lo': -5.33},\n",
       "   'MoonDistance': {'limit': 10.0}}},\n",
       " {'parameter_set_id': 2,\n",
       "  'telescope': 'SAAO',\n",
       "  'active': True,\n",
       "  'constraints': {'Twilight': {'twilight': -12.0},\n",
       "   'AirmassLimit': {'limit': 2.0, 'conversion': 'secz'},\n",
       "   'MoonDistance': {'limit': 10.0},\n",
       "   'PolyHADecLimit': {'ha': [-4.0, -4.0, 0.8, 0.8, 1.7, 2.4, 3.2, 2.8],\n",
       "    'dec': [0.1, -52.0, -65.0, -85.0, -74.5, -70.0, -60.0, 0.1]}}},\n",
       " {'parameter_set_id': 3,\n",
       "  'telescope': 'Skinakas',\n",
       "  'active': True,\n",
       "  'constraints': {'Twilight': {'twilight': -12.0},\n",
       "   'AirmassLimit': {'limit': 2.0, 'conversion': 'secz'},\n",
       "   'HourangleLimit': {'limit': 5.33, 'limit_lo': -5.33},\n",
       "   'MoonDistance': {'limit': 5.0}}}]"
      ]
     },
     "execution_count": 9,
     "metadata": {},
     "output_type": "execute_result"
    }
   ],
   "source": [
    "manager.get_constraints(telescope=None, active=False)"
   ]
  },
  {
   "cell_type": "markdown",
   "id": "7795a8b6-7a2e-400b-8176-86e205d00fad",
   "metadata": {},
   "source": [
    "#### Print info about telescopes and constraints\n",
    "\n",
    "We can use the `info()` method to learn about what telescopes are stored in the database. If we use `constraints=True`, we additionally get info about the currently active, associated constraints. With `constraints='all'` we learn about all associated parameter sets, including the inactive ones:"
   ]
  },
  {
   "cell_type": "code",
   "execution_count": 11,
   "id": "2521e552-a6e1-49c5-a2d4-27a43933d7b5",
   "metadata": {},
   "outputs": [
    {
     "name": "stdout",
     "output_type": "stream",
     "text": [
      "============ TELECOPES ============\n",
      "2 telescopes stored in database.\n",
      "-----------------------------------\n",
      "Telescope ID: 1\n",
      "Name: Skinakas\n",
      "Latitude :      35.21 deg N\n",
      "Longitude:      24.90 deg E\n",
      "Height:       1750.00 m            \n",
      "-----------------------------------\n",
      "2 associated parameter sets\n",
      "-----------------------------------\n",
      "Parameter set ID: 1\n",
      "Active: False            \n",
      "Constraints:\n",
      "* Twilight\n",
      "  - twilight: -12.0\n",
      "* AirmassLimit\n",
      "  - limit: 2.0\n",
      "  - conversion: secz\n",
      "* HourangleLimit\n",
      "  - limit: 5.33\n",
      "  - limit_lo: -5.33\n",
      "* MoonDistance\n",
      "  - limit: 10.0\n",
      "-----------------------------------\n",
      "Parameter set ID: 3\n",
      "Active: True            \n",
      "Constraints:\n",
      "* Twilight\n",
      "  - twilight: -12.0\n",
      "* AirmassLimit\n",
      "  - limit: 2.0\n",
      "  - conversion: secz\n",
      "* HourangleLimit\n",
      "  - limit: 5.33\n",
      "  - limit_lo: -5.33\n",
      "* MoonDistance\n",
      "  - limit: 5.0\n",
      "-----------------------------------\n",
      "Telescope ID: 2\n",
      "Name: SAAO\n",
      "Latitude :     -32.38 deg N\n",
      "Longitude:      20.81 deg E\n",
      "Height:       1798.00 m            \n",
      "-----------------------------------\n",
      "1 associated parameter sets\n",
      "-----------------------------------\n",
      "Parameter set ID: 2\n",
      "Active: True            \n",
      "Constraints:\n",
      "* Twilight\n",
      "  - twilight: -12.0\n",
      "* AirmassLimit\n",
      "  - limit: 2.0\n",
      "  - conversion: secz\n",
      "* MoonDistance\n",
      "  - limit: 10.0\n",
      "* PolyHADecLimit\n",
      "  - ha: [-4.0, -4.0, 0.8, 0.8, 1.7, 2.4, 3.2, 2.8]\n",
      "  - dec: [0.1, -52.0, -65.0, -85.0, -74.5, -70.0, -60.0, 0.1]\n",
      "-----------------------------------\n",
      "\n"
     ]
    }
   ],
   "source": [
    "manager.info(constraints='all')"
   ]
  },
  {
   "cell_type": "markdown",
   "id": "05840eac-522d-41a6-96ab-51292bca22e6",
   "metadata": {},
   "source": [
    "### `FieldManager`"
   ]
  },
  {
   "cell_type": "markdown",
   "id": "a7cb3918-a64c-4770-a257-4887ae281f81",
   "metadata": {},
   "source": [
    "The `FieldManager` class provides the methods to add fields to and read them from the database.\n",
    "Below, we describe the methods relevant for user interaction. Other methods are used by the survey planning software."
   ]
  },
  {
   "cell_type": "code",
   "execution_count": 37,
   "id": "d17a9a1b-027e-4d07-9634-c04cb3944616",
   "metadata": {},
   "outputs": [],
   "source": [
    "db_name = 'test_planner_temp.sqlite3'\n",
    "manager = FieldManager(db_name)"
   ]
  },
  {
   "cell_type": "markdown",
   "id": "9e6a66eb-f39d-4236-b719-fb263d62b136",
   "metadata": {},
   "source": [
    "#### Add fields"
   ]
  },
  {
   "cell_type": "markdown",
   "id": "328a07f0-6f6c-49a6-9655-7efe41bc7340",
   "metadata": {},
   "source": [
    "We can use the same method as in the `DBCreator` class to add fields: `add_fields()`, which works exactly the same way as shown above. The manager does not check whether or not a field with the same coordinates already exits in the database. We are not going to add more fields here."
   ]
  },
  {
   "cell_type": "markdown",
   "id": "8da34ce9-8519-4e4a-a34b-a8f2cc0e19d1",
   "metadata": {},
   "source": [
    "#### Get fields"
   ]
  },
  {
   "cell_type": "markdown",
   "id": "31ddce25-c4f2-4638-844f-5e3ffeb3215b",
   "metadata": {},
   "source": [
    "The method `get_fields()` provides various options to query fields that can all be combined. Without any parameters, the method returns all stored fields:"
   ]
  },
  {
   "cell_type": "code",
   "execution_count": 38,
   "id": "4b5725a2-072b-4621-b550-4b0454069d43",
   "metadata": {},
   "outputs": [
    {
     "data": {
      "text/plain": [
       "1644"
      ]
     },
     "execution_count": 38,
     "metadata": {},
     "output_type": "execute_result"
    }
   ],
   "source": [
    "fields = manager.get_fields()\n",
    "len(fields)"
   ]
  },
  {
   "cell_type": "markdown",
   "id": "c4a8bfb2-31be-4643-9dc0-f2252034ed58",
   "metadata": {},
   "source": [
    "With can specify the telescope to get all fields associated with that telescope:"
   ]
  },
  {
   "cell_type": "code",
   "execution_count": 39,
   "id": "2743f495-789a-472d-97ae-a9c3164fe4ad",
   "metadata": {},
   "outputs": [
    {
     "data": {
      "text/html": [
       "<div>\n",
       "<style scoped>\n",
       "    .dataframe tbody tr th:only-of-type {\n",
       "        vertical-align: middle;\n",
       "    }\n",
       "\n",
       "    .dataframe tbody tr th {\n",
       "        vertical-align: top;\n",
       "    }\n",
       "\n",
       "    .dataframe thead th {\n",
       "        text-align: right;\n",
       "    }\n",
       "</style>\n",
       "<table border=\"1\" class=\"dataframe\">\n",
       "  <thead>\n",
       "    <tr style=\"text-align: right;\">\n",
       "      <th></th>\n",
       "      <th>field_id</th>\n",
       "      <th>fov</th>\n",
       "      <th>center_ra</th>\n",
       "      <th>center_dec</th>\n",
       "      <th>tilt</th>\n",
       "      <th>telescope</th>\n",
       "      <th>active</th>\n",
       "      <th>jd_first</th>\n",
       "      <th>jd_next</th>\n",
       "      <th>nobs_tot</th>\n",
       "      <th>nobs_done</th>\n",
       "      <th>nobs_pending</th>\n",
       "    </tr>\n",
       "  </thead>\n",
       "  <tbody>\n",
       "    <tr>\n",
       "      <th>0</th>\n",
       "      <td>1</td>\n",
       "      <td>0.087266</td>\n",
       "      <td>0.000000</td>\n",
       "      <td>0.043633</td>\n",
       "      <td>0.0</td>\n",
       "      <td>Skinakas</td>\n",
       "      <td>1</td>\n",
       "      <td>None</td>\n",
       "      <td>None</td>\n",
       "      <td>3</td>\n",
       "      <td>0</td>\n",
       "      <td>3</td>\n",
       "    </tr>\n",
       "    <tr>\n",
       "      <th>1</th>\n",
       "      <td>2</td>\n",
       "      <td>0.087266</td>\n",
       "      <td>0.070598</td>\n",
       "      <td>0.043633</td>\n",
       "      <td>0.0</td>\n",
       "      <td>Skinakas</td>\n",
       "      <td>1</td>\n",
       "      <td>None</td>\n",
       "      <td>None</td>\n",
       "      <td>1</td>\n",
       "      <td>0</td>\n",
       "      <td>1</td>\n",
       "    </tr>\n",
       "    <tr>\n",
       "      <th>2</th>\n",
       "      <td>3</td>\n",
       "      <td>0.087266</td>\n",
       "      <td>0.141195</td>\n",
       "      <td>0.043633</td>\n",
       "      <td>0.0</td>\n",
       "      <td>Skinakas</td>\n",
       "      <td>1</td>\n",
       "      <td>None</td>\n",
       "      <td>None</td>\n",
       "      <td>1</td>\n",
       "      <td>0</td>\n",
       "      <td>1</td>\n",
       "    </tr>\n",
       "    <tr>\n",
       "      <th>3</th>\n",
       "      <td>4</td>\n",
       "      <td>0.087266</td>\n",
       "      <td>0.211793</td>\n",
       "      <td>0.043633</td>\n",
       "      <td>0.0</td>\n",
       "      <td>Skinakas</td>\n",
       "      <td>1</td>\n",
       "      <td>None</td>\n",
       "      <td>None</td>\n",
       "      <td>1</td>\n",
       "      <td>0</td>\n",
       "      <td>1</td>\n",
       "    </tr>\n",
       "    <tr>\n",
       "      <th>4</th>\n",
       "      <td>5</td>\n",
       "      <td>0.087266</td>\n",
       "      <td>0.282390</td>\n",
       "      <td>0.043633</td>\n",
       "      <td>0.0</td>\n",
       "      <td>Skinakas</td>\n",
       "      <td>1</td>\n",
       "      <td>None</td>\n",
       "      <td>None</td>\n",
       "      <td>1</td>\n",
       "      <td>0</td>\n",
       "      <td>1</td>\n",
       "    </tr>\n",
       "    <tr>\n",
       "      <th>...</th>\n",
       "      <td>...</td>\n",
       "      <td>...</td>\n",
       "      <td>...</td>\n",
       "      <td>...</td>\n",
       "      <td>...</td>\n",
       "      <td>...</td>\n",
       "      <td>...</td>\n",
       "      <td>...</td>\n",
       "      <td>...</td>\n",
       "      <td>...</td>\n",
       "      <td>...</td>\n",
       "      <td>...</td>\n",
       "    </tr>\n",
       "    <tr>\n",
       "      <th>1092</th>\n",
       "      <td>1093</td>\n",
       "      <td>0.087266</td>\n",
       "      <td>3.769911</td>\n",
       "      <td>1.483530</td>\n",
       "      <td>0.0</td>\n",
       "      <td>Skinakas</td>\n",
       "      <td>1</td>\n",
       "      <td>None</td>\n",
       "      <td>None</td>\n",
       "      <td>1</td>\n",
       "      <td>0</td>\n",
       "      <td>1</td>\n",
       "    </tr>\n",
       "    <tr>\n",
       "      <th>1093</th>\n",
       "      <td>1094</td>\n",
       "      <td>0.087266</td>\n",
       "      <td>4.398230</td>\n",
       "      <td>1.483530</td>\n",
       "      <td>0.0</td>\n",
       "      <td>Skinakas</td>\n",
       "      <td>1</td>\n",
       "      <td>None</td>\n",
       "      <td>None</td>\n",
       "      <td>1</td>\n",
       "      <td>0</td>\n",
       "      <td>1</td>\n",
       "    </tr>\n",
       "    <tr>\n",
       "      <th>1094</th>\n",
       "      <td>1095</td>\n",
       "      <td>0.087266</td>\n",
       "      <td>2.692794</td>\n",
       "      <td>1.527163</td>\n",
       "      <td>0.0</td>\n",
       "      <td>Skinakas</td>\n",
       "      <td>1</td>\n",
       "      <td>None</td>\n",
       "      <td>None</td>\n",
       "      <td>1</td>\n",
       "      <td>0</td>\n",
       "      <td>1</td>\n",
       "    </tr>\n",
       "    <tr>\n",
       "      <th>1095</th>\n",
       "      <td>1096</td>\n",
       "      <td>0.087266</td>\n",
       "      <td>3.590392</td>\n",
       "      <td>1.527163</td>\n",
       "      <td>0.0</td>\n",
       "      <td>Skinakas</td>\n",
       "      <td>1</td>\n",
       "      <td>None</td>\n",
       "      <td>None</td>\n",
       "      <td>1</td>\n",
       "      <td>0</td>\n",
       "      <td>1</td>\n",
       "    </tr>\n",
       "    <tr>\n",
       "      <th>1096</th>\n",
       "      <td>1097</td>\n",
       "      <td>0.087266</td>\n",
       "      <td>4.487990</td>\n",
       "      <td>1.527163</td>\n",
       "      <td>0.0</td>\n",
       "      <td>Skinakas</td>\n",
       "      <td>1</td>\n",
       "      <td>None</td>\n",
       "      <td>None</td>\n",
       "      <td>1</td>\n",
       "      <td>0</td>\n",
       "      <td>1</td>\n",
       "    </tr>\n",
       "  </tbody>\n",
       "</table>\n",
       "<p>1097 rows × 12 columns</p>\n",
       "</div>"
      ],
      "text/plain": [
       "      field_id       fov  center_ra  center_dec  tilt telescope  active  \\\n",
       "0            1  0.087266   0.000000    0.043633   0.0  Skinakas       1   \n",
       "1            2  0.087266   0.070598    0.043633   0.0  Skinakas       1   \n",
       "2            3  0.087266   0.141195    0.043633   0.0  Skinakas       1   \n",
       "3            4  0.087266   0.211793    0.043633   0.0  Skinakas       1   \n",
       "4            5  0.087266   0.282390    0.043633   0.0  Skinakas       1   \n",
       "...        ...       ...        ...         ...   ...       ...     ...   \n",
       "1092      1093  0.087266   3.769911    1.483530   0.0  Skinakas       1   \n",
       "1093      1094  0.087266   4.398230    1.483530   0.0  Skinakas       1   \n",
       "1094      1095  0.087266   2.692794    1.527163   0.0  Skinakas       1   \n",
       "1095      1096  0.087266   3.590392    1.527163   0.0  Skinakas       1   \n",
       "1096      1097  0.087266   4.487990    1.527163   0.0  Skinakas       1   \n",
       "\n",
       "     jd_first jd_next  nobs_tot  nobs_done  nobs_pending  \n",
       "0        None    None         3          0             3  \n",
       "1        None    None         1          0             1  \n",
       "2        None    None         1          0             1  \n",
       "3        None    None         1          0             1  \n",
       "4        None    None         1          0             1  \n",
       "...       ...     ...       ...        ...           ...  \n",
       "1092     None    None         1          0             1  \n",
       "1093     None    None         1          0             1  \n",
       "1094     None    None         1          0             1  \n",
       "1095     None    None         1          0             1  \n",
       "1096     None    None         1          0             1  \n",
       "\n",
       "[1097 rows x 12 columns]"
      ]
     },
     "execution_count": 39,
     "metadata": {},
     "output_type": "execute_result"
    }
   ],
   "source": [
    "DataFrame(manager.get_fields(telescope='Skinakas'))"
   ]
  },
  {
   "cell_type": "markdown",
   "id": "9c27ddcf-b95f-4ea2-a25f-4eba74c9520d",
   "metadata": {},
   "source": [
    "We can ask specifically for fields that have been observed at least once by setting `observed=True` or for fields that have never been observed by setting `observed=False`). E.g.:"
   ]
  },
  {
   "cell_type": "code",
   "execution_count": 16,
   "id": "470e8d10-c9cb-444d-9ec5-25ea1d48f311",
   "metadata": {},
   "outputs": [
    {
     "data": {
      "text/html": [
       "<div>\n",
       "<style scoped>\n",
       "    .dataframe tbody tr th:only-of-type {\n",
       "        vertical-align: middle;\n",
       "    }\n",
       "\n",
       "    .dataframe tbody tr th {\n",
       "        vertical-align: top;\n",
       "    }\n",
       "\n",
       "    .dataframe thead th {\n",
       "        text-align: right;\n",
       "    }\n",
       "</style>\n",
       "<table border=\"1\" class=\"dataframe\">\n",
       "  <thead>\n",
       "    <tr style=\"text-align: right;\">\n",
       "      <th></th>\n",
       "    </tr>\n",
       "  </thead>\n",
       "  <tbody>\n",
       "  </tbody>\n",
       "</table>\n",
       "</div>"
      ],
      "text/plain": [
       "Empty DataFrame\n",
       "Columns: []\n",
       "Index: []"
      ]
     },
     "execution_count": 16,
     "metadata": {},
     "output_type": "execute_result"
    }
   ],
   "source": [
    "DataFrame(manager.get_fields(observed=True))"
   ]
  },
  {
   "cell_type": "markdown",
   "id": "baca97bd-13d8-4d48-ba1c-b03f9e5adc56",
   "metadata": {},
   "source": [
    "Similarly, we can ask specifically for fields that have pending observations by setting `pending=True` or for fields that do not have any pending observations by setting `pending=False`). E.g.:"
   ]
  },
  {
   "cell_type": "code",
   "execution_count": 17,
   "id": "e0ef73b8-54b8-48eb-a564-66e7e3ccfa54",
   "metadata": {},
   "outputs": [
    {
     "data": {
      "text/html": [
       "<div>\n",
       "<style scoped>\n",
       "    .dataframe tbody tr th:only-of-type {\n",
       "        vertical-align: middle;\n",
       "    }\n",
       "\n",
       "    .dataframe tbody tr th {\n",
       "        vertical-align: top;\n",
       "    }\n",
       "\n",
       "    .dataframe thead th {\n",
       "        text-align: right;\n",
       "    }\n",
       "</style>\n",
       "<table border=\"1\" class=\"dataframe\">\n",
       "  <thead>\n",
       "    <tr style=\"text-align: right;\">\n",
       "      <th></th>\n",
       "      <th>field_id</th>\n",
       "      <th>fov</th>\n",
       "      <th>center_ra</th>\n",
       "      <th>center_dec</th>\n",
       "      <th>tilt</th>\n",
       "      <th>telescope</th>\n",
       "      <th>active</th>\n",
       "      <th>jd_first</th>\n",
       "      <th>jd_next</th>\n",
       "      <th>nobs_tot</th>\n",
       "      <th>nobs_done</th>\n",
       "      <th>nobs_pending</th>\n",
       "    </tr>\n",
       "  </thead>\n",
       "  <tbody>\n",
       "    <tr>\n",
       "      <th>0</th>\n",
       "      <td>1</td>\n",
       "      <td>0.087266</td>\n",
       "      <td>0.000000</td>\n",
       "      <td>0.043633</td>\n",
       "      <td>0.0</td>\n",
       "      <td>Skinakas</td>\n",
       "      <td>1</td>\n",
       "      <td>None</td>\n",
       "      <td>None</td>\n",
       "      <td>1</td>\n",
       "      <td>0</td>\n",
       "      <td>1</td>\n",
       "    </tr>\n",
       "    <tr>\n",
       "      <th>1</th>\n",
       "      <td>2</td>\n",
       "      <td>0.087266</td>\n",
       "      <td>0.070598</td>\n",
       "      <td>0.043633</td>\n",
       "      <td>0.0</td>\n",
       "      <td>Skinakas</td>\n",
       "      <td>1</td>\n",
       "      <td>None</td>\n",
       "      <td>None</td>\n",
       "      <td>1</td>\n",
       "      <td>0</td>\n",
       "      <td>1</td>\n",
       "    </tr>\n",
       "    <tr>\n",
       "      <th>2</th>\n",
       "      <td>3</td>\n",
       "      <td>0.087266</td>\n",
       "      <td>0.141195</td>\n",
       "      <td>0.043633</td>\n",
       "      <td>0.0</td>\n",
       "      <td>Skinakas</td>\n",
       "      <td>1</td>\n",
       "      <td>None</td>\n",
       "      <td>None</td>\n",
       "      <td>1</td>\n",
       "      <td>0</td>\n",
       "      <td>1</td>\n",
       "    </tr>\n",
       "    <tr>\n",
       "      <th>3</th>\n",
       "      <td>4</td>\n",
       "      <td>0.087266</td>\n",
       "      <td>0.211793</td>\n",
       "      <td>0.043633</td>\n",
       "      <td>0.0</td>\n",
       "      <td>Skinakas</td>\n",
       "      <td>1</td>\n",
       "      <td>None</td>\n",
       "      <td>None</td>\n",
       "      <td>1</td>\n",
       "      <td>0</td>\n",
       "      <td>1</td>\n",
       "    </tr>\n",
       "    <tr>\n",
       "      <th>4</th>\n",
       "      <td>5</td>\n",
       "      <td>0.087266</td>\n",
       "      <td>0.282390</td>\n",
       "      <td>0.043633</td>\n",
       "      <td>0.0</td>\n",
       "      <td>Skinakas</td>\n",
       "      <td>1</td>\n",
       "      <td>None</td>\n",
       "      <td>None</td>\n",
       "      <td>1</td>\n",
       "      <td>0</td>\n",
       "      <td>1</td>\n",
       "    </tr>\n",
       "    <tr>\n",
       "      <th>...</th>\n",
       "      <td>...</td>\n",
       "      <td>...</td>\n",
       "      <td>...</td>\n",
       "      <td>...</td>\n",
       "      <td>...</td>\n",
       "      <td>...</td>\n",
       "      <td>...</td>\n",
       "      <td>...</td>\n",
       "      <td>...</td>\n",
       "      <td>...</td>\n",
       "      <td>...</td>\n",
       "      <td>...</td>\n",
       "    </tr>\n",
       "    <tr>\n",
       "      <th>1639</th>\n",
       "      <td>1640</td>\n",
       "      <td>0.122173</td>\n",
       "      <td>5.750712</td>\n",
       "      <td>-0.052360</td>\n",
       "      <td>0.0</td>\n",
       "      <td>SAAO</td>\n",
       "      <td>1</td>\n",
       "      <td>None</td>\n",
       "      <td>None</td>\n",
       "      <td>1</td>\n",
       "      <td>0</td>\n",
       "      <td>1</td>\n",
       "    </tr>\n",
       "    <tr>\n",
       "      <th>1640</th>\n",
       "      <td>1641</td>\n",
       "      <td>0.122173</td>\n",
       "      <td>5.857207</td>\n",
       "      <td>-0.052360</td>\n",
       "      <td>0.0</td>\n",
       "      <td>SAAO</td>\n",
       "      <td>1</td>\n",
       "      <td>None</td>\n",
       "      <td>None</td>\n",
       "      <td>1</td>\n",
       "      <td>0</td>\n",
       "      <td>1</td>\n",
       "    </tr>\n",
       "    <tr>\n",
       "      <th>1641</th>\n",
       "      <td>1642</td>\n",
       "      <td>0.122173</td>\n",
       "      <td>5.963701</td>\n",
       "      <td>-0.052360</td>\n",
       "      <td>0.0</td>\n",
       "      <td>SAAO</td>\n",
       "      <td>1</td>\n",
       "      <td>None</td>\n",
       "      <td>None</td>\n",
       "      <td>1</td>\n",
       "      <td>0</td>\n",
       "      <td>1</td>\n",
       "    </tr>\n",
       "    <tr>\n",
       "      <th>1642</th>\n",
       "      <td>1643</td>\n",
       "      <td>0.122173</td>\n",
       "      <td>6.070196</td>\n",
       "      <td>-0.052360</td>\n",
       "      <td>0.0</td>\n",
       "      <td>SAAO</td>\n",
       "      <td>1</td>\n",
       "      <td>None</td>\n",
       "      <td>None</td>\n",
       "      <td>1</td>\n",
       "      <td>0</td>\n",
       "      <td>1</td>\n",
       "    </tr>\n",
       "    <tr>\n",
       "      <th>1643</th>\n",
       "      <td>1644</td>\n",
       "      <td>0.122173</td>\n",
       "      <td>6.176691</td>\n",
       "      <td>-0.052360</td>\n",
       "      <td>0.0</td>\n",
       "      <td>SAAO</td>\n",
       "      <td>1</td>\n",
       "      <td>None</td>\n",
       "      <td>None</td>\n",
       "      <td>1</td>\n",
       "      <td>0</td>\n",
       "      <td>1</td>\n",
       "    </tr>\n",
       "  </tbody>\n",
       "</table>\n",
       "<p>1644 rows × 12 columns</p>\n",
       "</div>"
      ],
      "text/plain": [
       "      field_id       fov  center_ra  center_dec  tilt telescope  active  \\\n",
       "0            1  0.087266   0.000000    0.043633   0.0  Skinakas       1   \n",
       "1            2  0.087266   0.070598    0.043633   0.0  Skinakas       1   \n",
       "2            3  0.087266   0.141195    0.043633   0.0  Skinakas       1   \n",
       "3            4  0.087266   0.211793    0.043633   0.0  Skinakas       1   \n",
       "4            5  0.087266   0.282390    0.043633   0.0  Skinakas       1   \n",
       "...        ...       ...        ...         ...   ...       ...     ...   \n",
       "1639      1640  0.122173   5.750712   -0.052360   0.0      SAAO       1   \n",
       "1640      1641  0.122173   5.857207   -0.052360   0.0      SAAO       1   \n",
       "1641      1642  0.122173   5.963701   -0.052360   0.0      SAAO       1   \n",
       "1642      1643  0.122173   6.070196   -0.052360   0.0      SAAO       1   \n",
       "1643      1644  0.122173   6.176691   -0.052360   0.0      SAAO       1   \n",
       "\n",
       "     jd_first jd_next  nobs_tot  nobs_done  nobs_pending  \n",
       "0        None    None         1          0             1  \n",
       "1        None    None         1          0             1  \n",
       "2        None    None         1          0             1  \n",
       "3        None    None         1          0             1  \n",
       "4        None    None         1          0             1  \n",
       "...       ...     ...       ...        ...           ...  \n",
       "1639     None    None         1          0             1  \n",
       "1640     None    None         1          0             1  \n",
       "1641     None    None         1          0             1  \n",
       "1642     None    None         1          0             1  \n",
       "1643     None    None         1          0             1  \n",
       "\n",
       "[1644 rows x 12 columns]"
      ]
     },
     "execution_count": 17,
     "metadata": {},
     "output_type": "execute_result"
    }
   ],
   "source": [
    "DataFrame(manager.get_fields(pending=True))"
   ]
  },
  {
   "cell_type": "markdown",
   "id": "561859b2-5c0a-4299-b9dd-afccefc04f7a",
   "metadata": {},
   "source": [
    "By default we search for fields that are active. We can specifically ask for inactive fields by setting `active=False`:"
   ]
  },
  {
   "cell_type": "code",
   "execution_count": 18,
   "id": "ce3e292e-fefb-40bd-b18b-8f20142f3b7c",
   "metadata": {},
   "outputs": [
    {
     "data": {
      "text/html": [
       "<div>\n",
       "<style scoped>\n",
       "    .dataframe tbody tr th:only-of-type {\n",
       "        vertical-align: middle;\n",
       "    }\n",
       "\n",
       "    .dataframe tbody tr th {\n",
       "        vertical-align: top;\n",
       "    }\n",
       "\n",
       "    .dataframe thead th {\n",
       "        text-align: right;\n",
       "    }\n",
       "</style>\n",
       "<table border=\"1\" class=\"dataframe\">\n",
       "  <thead>\n",
       "    <tr style=\"text-align: right;\">\n",
       "      <th></th>\n",
       "    </tr>\n",
       "  </thead>\n",
       "  <tbody>\n",
       "  </tbody>\n",
       "</table>\n",
       "</div>"
      ],
      "text/plain": [
       "Empty DataFrame\n",
       "Columns: []\n",
       "Index: []"
      ]
     },
     "execution_count": 18,
     "metadata": {},
     "output_type": "execute_result"
    }
   ],
   "source": [
    "DataFrame(manager.get_fields(active=False))"
   ]
  },
  {
   "cell_type": "markdown",
   "id": "01426861-e632-4193-8e8b-f984c12e5966",
   "metadata": {},
   "source": [
    "The method provides two more options that are not of particular use to the user. They are needed for the survey planning software."
   ]
  },
  {
   "cell_type": "markdown",
   "id": "067b68b5-1190-4fde-a93e-8ecbf75edd33",
   "metadata": {},
   "source": [
    "<div class=\"alert alert-block alert-warning\">\n",
    "\n",
    "- Add options to query by coordinate: (a) fields that include the coordinates, (b) fields in a circle around the coordinates.\n",
    "    \n",
    "</div>"
   ]
  },
  {
   "cell_type": "markdown",
   "id": "3b0db08c-dac3-4c96-98de-2b67cb633269",
   "metadata": {},
   "source": [
    "#### Deactivate fields"
   ]
  },
  {
   "cell_type": "markdown",
   "id": "6ee752cf-0c89-4a6a-b52c-9caa61966098",
   "metadata": {},
   "source": [
    "<div class=\"alert alert-block alert-warning\">\n",
    "    \n",
    "- Add method to deactivate fields.\n",
    "\n",
    "</div>"
   ]
  },
  {
   "cell_type": "markdown",
   "id": "bc3234a8-32bb-4e18-af32-2ab0abcd8814",
   "metadata": {},
   "source": [
    "#### Print infos about fields"
   ]
  },
  {
   "cell_type": "markdown",
   "id": "4a70c1b7-efe9-460e-87b9-a43e692fb2fd",
   "metadata": {},
   "source": [
    "We have the option to get info about all fields or for fields associated with a specific telescope by specifying the telescope name. By default only active fields are considered. We can include active and inactive fields by setting `active=None` or get infos only about inactive fields by setting `active=False`."
   ]
  },
  {
   "cell_type": "code",
   "execution_count": 19,
   "id": "8a11becd-7b90-402a-8d7f-154c17c5ed86",
   "metadata": {},
   "outputs": [
    {
     "name": "stdout",
     "output_type": "stream",
     "text": [
      "============== FIELDS =============\n",
      "All active fields in the database\n",
      "-----------------------------------\n",
      "Total number of fields:        1644\n",
      "Pending fields:                1644\n",
      "Pending observations:          1644\n",
      "Finished fields:                  0\n",
      "Finished observations:            0\n",
      "-----------------------------------\n",
      "\n"
     ]
    }
   ],
   "source": [
    "manager.info()"
   ]
  },
  {
   "cell_type": "code",
   "execution_count": 20,
   "id": "909c2440-5eab-464a-9fd9-8b54773b7d1c",
   "metadata": {},
   "outputs": [
    {
     "name": "stdout",
     "output_type": "stream",
     "text": [
      "============== FIELDS =============\n",
      "Active fields associated with telescope 'Skinakas'\n",
      "-----------------------------------\n",
      "Total number of fields:        1097\n",
      "Pending fields:                1097\n",
      "Pending observations:          1097\n",
      "Finished fields:                  0\n",
      "Finished observations:            0\n",
      "-----------------------------------\n",
      "\n"
     ]
    }
   ],
   "source": [
    "manager.info(telescope='Skinakas')"
   ]
  },
  {
   "cell_type": "code",
   "execution_count": 21,
   "id": "4ff2750b-5edd-4608-aa46-e6a2e2408d84",
   "metadata": {},
   "outputs": [
    {
     "name": "stdout",
     "output_type": "stream",
     "text": [
      "============== FIELDS =============\n",
      "All inactive fields in the database\n",
      "-----------------------------------\n",
      "Total number of fields:           0\n",
      "-----------------------------------\n",
      "\n"
     ]
    }
   ],
   "source": [
    "manager.info(active=False)"
   ]
  },
  {
   "cell_type": "markdown",
   "id": "71a9265c-74a3-40a5-940b-30a5cade8102",
   "metadata": {},
   "source": [
    "### `GuidestarManager`"
   ]
  },
  {
   "cell_type": "markdown",
   "id": "b9f0b872-e683-4c6d-9099-d91eda91fd5d",
   "metadata": {},
   "source": [
    "The `GuidestarManager` class provides the methods to add fields to and read them from the database.\n",
    "Below, we describe the methods relevant for user interaction. Other methods are used by the survey planning software."
   ]
  },
  {
   "cell_type": "code",
   "execution_count": 22,
   "id": "147ddc1b-6fdd-49e4-a817-37016f23b4ef",
   "metadata": {},
   "outputs": [],
   "source": [
    "db_name = 'test_planner_temp.sqlite3'\n",
    "manager = GuidestarManager(db_name)"
   ]
  },
  {
   "cell_type": "markdown",
   "id": "f763cfb6-5c6e-4757-ae9f-9e985ec93304",
   "metadata": {},
   "source": [
    "#### Add guidestars"
   ]
  },
  {
   "cell_type": "markdown",
   "id": "33d59385-a01e-40ab-842c-9f93fbb25dfb",
   "metadata": {},
   "source": [
    "We can use the same method as in the `DBCreator` class to add guidestars: `add_guidestars()`, which works exactly the same way as shown above. We are not going to add more guidestars here."
   ]
  },
  {
   "cell_type": "markdown",
   "id": "6ae29611-6df0-427e-8685-9fb899eb68e1",
   "metadata": {},
   "source": [
    "#### Deactivate guidestars"
   ]
  },
  {
   "cell_type": "markdown",
   "id": "fe1da4e7-bdce-4072-abb9-89d5256c1ded",
   "metadata": {},
   "source": [
    "If a guidestar does not work well for guideing for whatever reason, we can deactivate it. We can add a single guidestar ID or multiple as a list to the `deactivate()` method. Note that the following function does not check whether these ID exists or whether these guidestars are active in the first place."
   ]
  },
  {
   "cell_type": "code",
   "execution_count": 23,
   "id": "5a1eacbb-13d8-4735-ad9a-3c0dcbd84be5",
   "metadata": {},
   "outputs": [
    {
     "name": "stdout",
     "output_type": "stream",
     "text": [
      "Deactivated 2 guidestars.\n"
     ]
    }
   ],
   "source": [
    "manager.deactivate([1, 1643])"
   ]
  },
  {
   "cell_type": "markdown",
   "id": "8cee520d-3098-44ae-b149-c80b36072b3a",
   "metadata": {},
   "source": [
    "#### Get guidestars"
   ]
  },
  {
   "cell_type": "markdown",
   "id": "2a088ddd-fe8c-44af-9411-6dc9c0962eb4",
   "metadata": {},
   "source": [
    "We can use the `get_guidestars()` method to get a list of guidestars. By default, we get all guidestars. We can explicitly query the guidestars for a specific field through the field ID. By default we query only guidestars that are active. We can also query only inactive guidestars by setting `active=False` or include active and inactive guidestars by setting `active=None`. As a result we get a list. Each item is a tuple that describes one guidestar, giving the guidestar ID, associated field ID, guidestar right ascension and declination, and the active flag."
   ]
  },
  {
   "cell_type": "code",
   "execution_count": 25,
   "id": "900bc22d-043a-4fb3-a5ec-a7959a8102c7",
   "metadata": {},
   "outputs": [
    {
     "data": {
      "text/html": [
       "<div>\n",
       "<style scoped>\n",
       "    .dataframe tbody tr th:only-of-type {\n",
       "        vertical-align: middle;\n",
       "    }\n",
       "\n",
       "    .dataframe tbody tr th {\n",
       "        vertical-align: top;\n",
       "    }\n",
       "\n",
       "    .dataframe thead th {\n",
       "        text-align: right;\n",
       "    }\n",
       "</style>\n",
       "<table border=\"1\" class=\"dataframe\">\n",
       "  <thead>\n",
       "    <tr style=\"text-align: right;\">\n",
       "      <th></th>\n",
       "      <th>guidestar_id</th>\n",
       "      <th>field_id</th>\n",
       "      <th>ra</th>\n",
       "      <th>dec</th>\n",
       "      <th>active</th>\n",
       "    </tr>\n",
       "  </thead>\n",
       "  <tbody>\n",
       "    <tr>\n",
       "      <th>0</th>\n",
       "      <td>1</td>\n",
       "      <td>1</td>\n",
       "      <td>0.0</td>\n",
       "      <td>0.043633</td>\n",
       "      <td>0</td>\n",
       "    </tr>\n",
       "  </tbody>\n",
       "</table>\n",
       "</div>"
      ],
      "text/plain": [
       "   guidestar_id  field_id   ra       dec  active\n",
       "0             1         1  0.0  0.043633       0"
      ]
     },
     "execution_count": 25,
     "metadata": {},
     "output_type": "execute_result"
    }
   ],
   "source": [
    "DataFrame(manager.get_guidestars(field_id=1, active=None))"
   ]
  },
  {
   "cell_type": "markdown",
   "id": "cb93ae04-b385-4406-af32-1862ee4a0335",
   "metadata": {},
   "source": [
    "#### Get fields missing guidestars"
   ]
  },
  {
   "cell_type": "markdown",
   "id": "da352fac-5a8e-433b-8f7f-f593fe3820d3",
   "metadata": {},
   "source": [
    "This method returns the IDs of fields that have no associated guidestars:"
   ]
  },
  {
   "cell_type": "code",
   "execution_count": 27,
   "id": "a7db534a-7de6-4c8e-bcdc-dbfc6963e4e5",
   "metadata": {},
   "outputs": [
    {
     "data": {
      "text/plain": [
       "{'none': [1643, 1644], 'inactive': [1]}"
      ]
     },
     "execution_count": 27,
     "metadata": {},
     "output_type": "execute_result"
    }
   ],
   "source": [
    "manager.get_fields_missing_guidestar()"
   ]
  },
  {
   "cell_type": "markdown",
   "id": "6828b110-684e-4181-84a4-d581d69c1a89",
   "metadata": {},
   "source": [
    "#### Print infos about guidestars"
   ]
  },
  {
   "cell_type": "markdown",
   "id": "8aa644f3-769a-4f77-ab86-f35e764a28c6",
   "metadata": {},
   "source": [
    "The `info()` method prints information about the guidestars stored in the database."
   ]
  },
  {
   "cell_type": "code",
   "execution_count": 30,
   "id": "76840efc-67e2-4df0-b6df-ab5a0bf41b6b",
   "metadata": {},
   "outputs": [
    {
     "name": "stdout",
     "output_type": "stream",
     "text": [
      "============ GUIDESTARS ===========\n",
      "Total:                         1642\n",
      "Active:                        1641\n",
      "Inactive:                         1\n",
      "Fields w. guidestars:          1641\n",
      "Fields w/o guidestar:             2\n",
      "Fields w/o active guidestar:      1\n",
      "-----------------------------------\n",
      "\n"
     ]
    }
   ],
   "source": [
    "manager.info()"
   ]
  },
  {
   "cell_type": "markdown",
   "id": "9de9ddb0-bb1b-4ebd-b0e8-68ddbf1202f7",
   "metadata": {},
   "source": [
    "We can also ask about a specific field by setting its ID:"
   ]
  },
  {
   "cell_type": "code",
   "execution_count": 31,
   "id": "49d6d939-a859-4b5f-9a87-dcf73d490398",
   "metadata": {},
   "outputs": [
    {
     "name": "stdout",
     "output_type": "stream",
     "text": [
      "============ GUIDESTARS ===========\n",
      "Associated with field ID 1\n",
      "Total:                            1\n",
      "Active:                           0\n",
      "Inactive:                         1\n",
      "WARNING: This field has no (active) guidestars!\n",
      "-----------------------------------\n",
      "\n"
     ]
    }
   ],
   "source": [
    "manager.info(field_id=1)"
   ]
  },
  {
   "cell_type": "markdown",
   "id": "633ce30b-aaf7-4d12-884a-a524588188b8",
   "metadata": {},
   "source": [
    "### `ObservationManager`: manage observations"
   ]
  },
  {
   "cell_type": "markdown",
   "id": "a69c3422-8ab3-4370-86c6-7f0b09228303",
   "metadata": {},
   "source": [
    "The `ObservationManager` class provides the methods to add, manage, and read observations to/in/from the database.\n",
    "Below, we describe the methods relevant for user interaction. Other methods are used by the survey planning software."
   ]
  },
  {
   "cell_type": "code",
   "execution_count": 32,
   "id": "e77c1019-932e-4246-8faf-db9e801f8fec",
   "metadata": {},
   "outputs": [],
   "source": [
    "db_name = 'test_planner_temp.sqlite3'\n",
    "manager = ObservationManager(db_name)"
   ]
  },
  {
   "cell_type": "markdown",
   "id": "d13b533b-9756-42e3-ba23-4c207ab712f6",
   "metadata": {},
   "source": [
    "#### Add observations"
   ]
  },
  {
   "cell_type": "markdown",
   "id": "56bbf829-0da4-4863-945c-f7ef8c53f599",
   "metadata": {},
   "source": [
    "We can use the same method as in the `DBCreator` class to add observations: `add_observations()`. If we do not specify any field, we can add the same observation to all fields:"
   ]
  },
  {
   "cell_type": "code",
   "execution_count": 33,
   "id": "1c131dff-8edb-4b4b-a477-fc62e185abb9",
   "metadata": {},
   "outputs": [
    {
     "name": "stdin",
     "output_type": "stream",
     "text": [
      "1 observation(s) with the same parameters already exist in data base. 0 out of those are finished. Add new observation anyway? (y/n, 'ALL' to add all following without asking, or 'NONE' to skip all existing observations that have not been finished). NONE\n"
     ]
    },
    {
     "name": "stdout",
     "output_type": "stream",
     "text": [
      "0 observations added to data base.\n"
     ]
    }
   ],
   "source": [
    "manager.add_observations(30., 2, 'r')"
   ]
  },
  {
   "cell_type": "markdown",
   "id": "4281859d-85e6-46bb-a2e5-478bf98a37dc",
   "metadata": {},
   "source": [
    "Alternatively, we can add the same type of observation to all fields associated with a specific telescope, e.g. by setting `telescope='Skinakas'`:"
   ]
  },
  {
   "cell_type": "code",
   "execution_count": 34,
   "id": "0e5cec1d-4432-4d6c-addb-5913b852038f",
   "metadata": {},
   "outputs": [
    {
     "name": "stdin",
     "output_type": "stream",
     "text": [
      "1 observation(s) with the same parameters already exist in data base. 0 out of those are finished. Add new observation anyway? (y/n, 'ALL' to add all following without asking, or 'NONE' to skip all existing observations that have not been finished). NONE\n"
     ]
    },
    {
     "name": "stdout",
     "output_type": "stream",
     "text": [
      "0 observations added to data base.\n"
     ]
    }
   ],
   "source": [
    "manager.add_observations(30., 2, 'r', telescope='Skinakas')"
   ]
  },
  {
   "cell_type": "markdown",
   "id": "7052cd3c-c71e-4196-862e-9c379bf9e343",
   "metadata": {},
   "source": [
    "We can also add observations to a specific field by setting the `field_id`:"
   ]
  },
  {
   "cell_type": "code",
   "execution_count": 35,
   "id": "1359aba3-b92f-4db7-b8e0-a19df29b76f5",
   "metadata": {},
   "outputs": [
    {
     "name": "stdout",
     "output_type": "stream",
     "text": [
      "1 observations added to data base.\n"
     ]
    },
    {
     "name": "stdin",
     "output_type": "stream",
     "text": [
      "Filter 'i does not exist. Add it to data base? (y/n) y\n"
     ]
    },
    {
     "name": "stdout",
     "output_type": "stream",
     "text": [
      "1 observations added to data base.\n"
     ]
    }
   ],
   "source": [
    "manager.add_observations(60, 2, 'r', field_id=1)\n",
    "manager.add_observations(60, 2, 'i', field_id=1)"
   ]
  },
  {
   "cell_type": "markdown",
   "id": "76e1ce02-5643-40a1-b7f3-713f937d8cf6",
   "metadata": {},
   "source": [
    "#### Get observations"
   ]
  },
  {
   "cell_type": "markdown",
   "id": "ec6e279d-bf6e-47df-b418-a7a0e3501a03",
   "metadata": {},
   "source": [
    "We can use the `get_guidestars()` method to get a list of guidestars. By default, we get all guidestars. We can explicitly query the guidestars for a specific field through the field ID. By default we query only guidestars that are active. We can also query only inactive guidestars by setting `active=False` or include active and inactive guidestars by setting `active=None`. As a result we get a list. Each item is a tuple that describes one guidestar, giving the guidestar ID, associated field ID, guidestar right ascension and declination, and the active flag."
   ]
  },
  {
   "cell_type": "code",
   "execution_count": 36,
   "id": "00d31338-1134-4541-9e8f-2cacc5b6fea6",
   "metadata": {},
   "outputs": [
    {
     "data": {
      "text/html": [
       "<div>\n",
       "<style scoped>\n",
       "    .dataframe tbody tr th:only-of-type {\n",
       "        vertical-align: middle;\n",
       "    }\n",
       "\n",
       "    .dataframe tbody tr th {\n",
       "        vertical-align: top;\n",
       "    }\n",
       "\n",
       "    .dataframe thead th {\n",
       "        text-align: right;\n",
       "    }\n",
       "</style>\n",
       "<table border=\"1\" class=\"dataframe\">\n",
       "  <thead>\n",
       "    <tr style=\"text-align: right;\">\n",
       "      <th></th>\n",
       "      <th>observation_id</th>\n",
       "      <th>field_id</th>\n",
       "      <th>exposure</th>\n",
       "      <th>repetitions</th>\n",
       "      <th>filter</th>\n",
       "      <th>done</th>\n",
       "      <th>scheduled</th>\n",
       "      <th>active</th>\n",
       "      <th>date_done</th>\n",
       "    </tr>\n",
       "  </thead>\n",
       "  <tbody>\n",
       "    <tr>\n",
       "      <th>0</th>\n",
       "      <td>1</td>\n",
       "      <td>1</td>\n",
       "      <td>30.0</td>\n",
       "      <td>2</td>\n",
       "      <td>r</td>\n",
       "      <td>0</td>\n",
       "      <td>0</td>\n",
       "      <td>1</td>\n",
       "      <td>None</td>\n",
       "    </tr>\n",
       "    <tr>\n",
       "      <th>1</th>\n",
       "      <td>2</td>\n",
       "      <td>2</td>\n",
       "      <td>30.0</td>\n",
       "      <td>2</td>\n",
       "      <td>r</td>\n",
       "      <td>0</td>\n",
       "      <td>0</td>\n",
       "      <td>1</td>\n",
       "      <td>None</td>\n",
       "    </tr>\n",
       "    <tr>\n",
       "      <th>2</th>\n",
       "      <td>3</td>\n",
       "      <td>3</td>\n",
       "      <td>30.0</td>\n",
       "      <td>2</td>\n",
       "      <td>r</td>\n",
       "      <td>0</td>\n",
       "      <td>0</td>\n",
       "      <td>1</td>\n",
       "      <td>None</td>\n",
       "    </tr>\n",
       "    <tr>\n",
       "      <th>3</th>\n",
       "      <td>4</td>\n",
       "      <td>4</td>\n",
       "      <td>30.0</td>\n",
       "      <td>2</td>\n",
       "      <td>r</td>\n",
       "      <td>0</td>\n",
       "      <td>0</td>\n",
       "      <td>1</td>\n",
       "      <td>None</td>\n",
       "    </tr>\n",
       "    <tr>\n",
       "      <th>4</th>\n",
       "      <td>5</td>\n",
       "      <td>5</td>\n",
       "      <td>30.0</td>\n",
       "      <td>2</td>\n",
       "      <td>r</td>\n",
       "      <td>0</td>\n",
       "      <td>0</td>\n",
       "      <td>1</td>\n",
       "      <td>None</td>\n",
       "    </tr>\n",
       "    <tr>\n",
       "      <th>...</th>\n",
       "      <td>...</td>\n",
       "      <td>...</td>\n",
       "      <td>...</td>\n",
       "      <td>...</td>\n",
       "      <td>...</td>\n",
       "      <td>...</td>\n",
       "      <td>...</td>\n",
       "      <td>...</td>\n",
       "      <td>...</td>\n",
       "    </tr>\n",
       "    <tr>\n",
       "      <th>1641</th>\n",
       "      <td>1642</td>\n",
       "      <td>1642</td>\n",
       "      <td>30.0</td>\n",
       "      <td>2</td>\n",
       "      <td>r</td>\n",
       "      <td>0</td>\n",
       "      <td>0</td>\n",
       "      <td>1</td>\n",
       "      <td>None</td>\n",
       "    </tr>\n",
       "    <tr>\n",
       "      <th>1642</th>\n",
       "      <td>1643</td>\n",
       "      <td>1643</td>\n",
       "      <td>30.0</td>\n",
       "      <td>2</td>\n",
       "      <td>r</td>\n",
       "      <td>0</td>\n",
       "      <td>0</td>\n",
       "      <td>1</td>\n",
       "      <td>None</td>\n",
       "    </tr>\n",
       "    <tr>\n",
       "      <th>1643</th>\n",
       "      <td>1644</td>\n",
       "      <td>1644</td>\n",
       "      <td>30.0</td>\n",
       "      <td>2</td>\n",
       "      <td>r</td>\n",
       "      <td>0</td>\n",
       "      <td>0</td>\n",
       "      <td>1</td>\n",
       "      <td>None</td>\n",
       "    </tr>\n",
       "    <tr>\n",
       "      <th>1644</th>\n",
       "      <td>1645</td>\n",
       "      <td>1</td>\n",
       "      <td>60.0</td>\n",
       "      <td>2</td>\n",
       "      <td>r</td>\n",
       "      <td>0</td>\n",
       "      <td>0</td>\n",
       "      <td>1</td>\n",
       "      <td>None</td>\n",
       "    </tr>\n",
       "    <tr>\n",
       "      <th>1645</th>\n",
       "      <td>1646</td>\n",
       "      <td>1</td>\n",
       "      <td>60.0</td>\n",
       "      <td>2</td>\n",
       "      <td>i</td>\n",
       "      <td>0</td>\n",
       "      <td>0</td>\n",
       "      <td>1</td>\n",
       "      <td>None</td>\n",
       "    </tr>\n",
       "  </tbody>\n",
       "</table>\n",
       "<p>1646 rows × 9 columns</p>\n",
       "</div>"
      ],
      "text/plain": [
       "      observation_id  field_id  exposure  repetitions filter  done  scheduled  \\\n",
       "0                  1         1      30.0            2      r     0          0   \n",
       "1                  2         2      30.0            2      r     0          0   \n",
       "2                  3         3      30.0            2      r     0          0   \n",
       "3                  4         4      30.0            2      r     0          0   \n",
       "4                  5         5      30.0            2      r     0          0   \n",
       "...              ...       ...       ...          ...    ...   ...        ...   \n",
       "1641            1642      1642      30.0            2      r     0          0   \n",
       "1642            1643      1643      30.0            2      r     0          0   \n",
       "1643            1644      1644      30.0            2      r     0          0   \n",
       "1644            1645         1      60.0            2      r     0          0   \n",
       "1645            1646         1      60.0            2      i     0          0   \n",
       "\n",
       "      active date_done  \n",
       "0          1      None  \n",
       "1          1      None  \n",
       "2          1      None  \n",
       "3          1      None  \n",
       "4          1      None  \n",
       "...      ...       ...  \n",
       "1641       1      None  \n",
       "1642       1      None  \n",
       "1643       1      None  \n",
       "1644       1      None  \n",
       "1645       1      None  \n",
       "\n",
       "[1646 rows x 9 columns]"
      ]
     },
     "execution_count": 36,
     "metadata": {},
     "output_type": "execute_result"
    }
   ],
   "source": [
    "DataFrame(manager.get_observations(field_id=None, active=None))"
   ]
  },
  {
   "cell_type": "code",
   "execution_count": null,
   "id": "9bfef946-908a-4255-bb38-ba9783917b79",
   "metadata": {},
   "outputs": [],
   "source": []
  }
 ],
 "metadata": {
  "kernelspec": {
   "display_name": "Python 3 (ipykernel)",
   "language": "python",
   "name": "python3"
  },
  "language_info": {
   "codemirror_mode": {
    "name": "ipython",
    "version": 3
   },
   "file_extension": ".py",
   "mimetype": "text/x-python",
   "name": "python",
   "nbconvert_exporter": "python",
   "pygments_lexer": "ipython3",
   "version": "3.9.18"
  },
  "toc-autonumbering": true
 },
 "nbformat": 4,
 "nbformat_minor": 5
}

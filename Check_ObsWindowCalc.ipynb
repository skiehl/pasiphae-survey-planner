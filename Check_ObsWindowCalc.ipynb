{
 "cells": [
  {
   "cell_type": "markdown",
   "id": "f7df11dd-e2c0-408b-a476-d9d9d8cb99e1",
   "metadata": {},
   "source": [
    "# Check observing window calculation"
   ]
  },
  {
   "cell_type": "code",
   "execution_count": 1,
   "id": "269add22-ecd5-4389-9074-f9e062925cdd",
   "metadata": {
    "slideshow": {
     "slide_type": "skip"
    },
    "tags": []
   },
   "outputs": [],
   "source": [
    "%load_ext autoreload\n",
    "%autoreload 2"
   ]
  },
  {
   "cell_type": "code",
   "execution_count": 46,
   "id": "063e1ec6-1b35-4f4c-b77f-7818c3322461",
   "metadata": {},
   "outputs": [],
   "source": [
    "from astropy.coordinates import AltAz, Angle, EarthLocation, get_sun, SkyCoord\n",
    "from astropy.time import Time, TimeDelta\n",
    "import astropy.units as u\n",
    "import matplotlib.pyplot as plt\n",
    "import numpy as np\n",
    "from pandas import DataFrame\n",
    "import seaborn as sns\n",
    "import sqlite3\n",
    "\n",
    "import constraints as c\n",
    "from db import DBConnectorSQLite, SQLiteConnection\n",
    "from fieldgrid import FieldGrid, FieldGridIsoLat\n",
    "from surveyplanner import Field, ObsWindow, Telescope, SurveyPlanner, Prioritizer"
   ]
  },
  {
   "cell_type": "markdown",
   "id": "dc5817a3-ad97-48dd-a587-3a70371e931a",
   "metadata": {},
   "source": [
    "Create telescope:"
   ]
  },
  {
   "cell_type": "code",
   "execution_count": 5,
   "id": "8b9414d3-c17c-413b-94ab-eedaba3ef5c9",
   "metadata": {
    "slideshow": {
     "slide_type": "skip"
    },
    "tags": []
   },
   "outputs": [],
   "source": [
    "db = DBConnectorSQLite('test_planner_temp.sqlite3')"
   ]
  },
  {
   "cell_type": "code",
   "execution_count": 254,
   "id": "af53a9b5-77f7-47cb-a431-7f8040b93d70",
   "metadata": {
    "slideshow": {
     "slide_type": "skip"
    },
    "tags": []
   },
   "outputs": [
    {
     "name": "stdout",
     "output_type": "stream",
     "text": [
      "Telescope Skinakas created.\n",
      "Telescope \n",
      "Name: Skinakas\n",
      "Lat:     +35.2119 deg\n",
      "Lon:      24.8992 deg\n",
      "Height:   1750.00 m\n",
      "UTC offset:  2.00 hours\n",
      "\n"
     ]
    }
   ],
   "source": [
    "telescope = db.get_observatory('Skinakas')\n",
    "telescope = Telescope(\n",
    "        telescope['lat'], telescope['lon'], telescope['height'], telescope['utc_offset'], name=telescope['name'])\n",
    "print(telescope)"
   ]
  },
  {
   "cell_type": "markdown",
   "id": "d1e9d0b8-1619-4be3-a699-4eb01ab77d37",
   "metadata": {
    "slideshow": {
     "slide_type": "skip"
    },
    "tags": []
   },
   "source": [
    "Read constraints from database:"
   ]
  },
  {
   "cell_type": "code",
   "execution_count": 255,
   "id": "c271c06f-d1af-43f5-9c8d-946a57d8c194",
   "metadata": {
    "slideshow": {
     "slide_type": "skip"
    },
    "tags": []
   },
   "outputs": [
    {
     "name": "stdout",
     "output_type": "stream",
     "text": [
      "{'Twilight': {'twilight': -12.0}, 'AirmassLimit': {'limit': 2.0, 'conversion': 'secz'}, 'HourangleLimit': {'limit': 5.33, 'limit_lo': -5.33}, 'MoonDistance': {'limit': 10.0}}\n"
     ]
    }
   ],
   "source": [
    "constraints = db.get_constraints('Skinakas')\n",
    "print(constraints)"
   ]
  },
  {
   "cell_type": "markdown",
   "id": "c4f3f2ac-0171-4ef3-8706-be6493ca2189",
   "metadata": {
    "slideshow": {
     "slide_type": "skip"
    },
    "tags": []
   },
   "source": [
    "Read the twilight definition (i.e. Sun declination at which the night 'starts') from the `constraints`-dictionary:"
   ]
  },
  {
   "cell_type": "code",
   "execution_count": 256,
   "id": "fab61dcc-10af-4945-8f25-6bde42c79825",
   "metadata": {
    "slideshow": {
     "slide_type": "skip"
    },
    "tags": []
   },
   "outputs": [
    {
     "name": "stdout",
     "output_type": "stream",
     "text": [
      "-12.0\n"
     ]
    }
   ],
   "source": [
    "twilight = constraints['Twilight']['twilight']\n",
    "print(twilight)"
   ]
  },
  {
   "cell_type": "markdown",
   "id": "faba824b-667a-4e34-bf94-ac14291fcbbc",
   "metadata": {
    "slideshow": {
     "slide_type": "skip"
    },
    "tags": []
   },
   "source": [
    "Remove the `'Twilight'` entry from the dictionary. All remaining entries are telescope specific observational constraints:"
   ]
  },
  {
   "cell_type": "code",
   "execution_count": 257,
   "id": "63c61ca8-d1f6-459d-ae43-f7fa1d77aad4",
   "metadata": {
    "slideshow": {
     "slide_type": "skip"
    },
    "tags": []
   },
   "outputs": [],
   "source": [
    "del constraints['Twilight']"
   ]
  },
  {
   "cell_type": "markdown",
   "id": "417c94d8-e949-450a-92c5-5813d1cb1d8f",
   "metadata": {
    "slideshow": {
     "slide_type": "skip"
    },
    "tags": []
   },
   "source": [
    "(1) Parse the constraints names, parameter names, and parameter values into executable code, (2) create the corresponding constraint class instances, and (3) add them to the `telescope`-instance:"
   ]
  },
  {
   "cell_type": "code",
   "execution_count": 258,
   "id": "8d546388-c469-410b-b214-76b622d8a7af",
   "metadata": {
    "slideshow": {
     "slide_type": "skip"
    },
    "tags": []
   },
   "outputs": [
    {
     "name": "stdout",
     "output_type": "stream",
     "text": [
      "c.AirmassLimit(limit=2.0, conversion='secz')\n",
      "Constraint added: Airmass limit: 2.00\n",
      "c.HourangleLimit(limit=5.33, limit_lo=-5.33)\n",
      "Constraint added: Hourangle limit:\n",
      "Lower limit: -5.33 hourangle\n",
      "Upper limit: 5.33 hourangle\n",
      "c.MoonDistance(limit=10.0)\n",
      "Constraint added: Moon distance: 10.00 deg\n"
     ]
    }
   ],
   "source": [
    "for constraint_name, params in constraints.items():\n",
    "    \n",
    "    # parse constraint code:\n",
    "    text = f\"c.{constraint_name}(\"\n",
    "    \n",
    "    for arg, val in params.items():\n",
    "        if isinstance(val, str):\n",
    "            text += f\"{arg}='{val}', \"\n",
    "        else:\n",
    "            text += f\"{arg}={val}, \"\n",
    "    \n",
    "    if text[-1] == \"(\":\n",
    "        text += \")\"\n",
    "    else:\n",
    "        text = f\"{text[:-2]})\"\n",
    "    \n",
    "    print(text)\n",
    "    \n",
    "    # evaluate code and add constraint to telescope:\n",
    "    constraint = eval(text)\n",
    "    telescope.add_constraint(constraint)"
   ]
  },
  {
   "cell_type": "markdown",
   "id": "68a0c14d-4c47-468a-afba-037e4e3e6078",
   "metadata": {},
   "source": [
    "Get a field:"
   ]
  },
  {
   "cell_type": "code",
   "execution_count": 312,
   "id": "cb23c907-83be-4b07-bfe2-8e603878183c",
   "metadata": {},
   "outputs": [],
   "source": [
    "field_id = 359 # rising field\n",
    "#field_id = 478 # setting field\n",
    "field = db.get_field_by_id(field_id)[0]\n",
    "field = surveyplanner._tuple_to_field(field)"
   ]
  },
  {
   "cell_type": "markdown",
   "id": "d7d0c9a3-a610-4165-addb-3122bc157830",
   "metadata": {},
   "source": [
    "Create `SurveyPlanner` instance. The database is irrelevant, we just need one method of the class:"
   ]
  },
  {
   "cell_type": "code",
   "execution_count": 313,
   "id": "72a5017b-a18f-4380-84c7-4647a4b0cb29",
   "metadata": {},
   "outputs": [],
   "source": [
    "surveyplanner = SurveyPlanner('test_planner_temp.sqlite3')"
   ]
  },
  {
   "cell_type": "markdown",
   "id": "1c6b4f4b-b01e-4898-9ff4-57364e85268e",
   "metadata": {},
   "source": [
    "Run calculation for one month:"
   ]
  },
  {
   "cell_type": "code",
   "execution_count": 366,
   "id": "47828b0e-a308-468d-b0bd-5c18924a8893",
   "metadata": {},
   "outputs": [],
   "source": [
    "# config test:\n",
    "time_interval_init = 5. * u.min\n",
    "#time_interval_refine = 0 * u.min\n",
    "#time_interval_refine = 1 * u.min\n",
    "time_interval_refine = 0.1 * u.min\n",
    "\n",
    "#------------------------------\n",
    "day = []\n",
    "time_sunset = []\n",
    "time_sunrise = []\n",
    "obswindow_start = []\n",
    "obswindow_stop = []\n",
    "obswindow_duration = []\n",
    "\n",
    "for d in range(1, 32):\n",
    "    t_sunset, t_sunrise = telescope.get_sun_set_rise(2024, 1, d, twilight)\n",
    "    day.append(d)\n",
    "    time_sunset.append(np.mod(t_sunset.mjd, 1))\n",
    "    time_sunrise.append(np.mod(t_sunrise.mjd, 1))\n",
    "    \n",
    "    frame = telescope.get_frame(t_sunset, t_sunrise, time_interval_init)\n",
    "    \n",
    "    obsw_start, obsw_stop = field.get_obs_window(telescope, frame, t_sunrise, refine=time_interval_refine)[0]\n",
    "    obswindow_start.append(np.mod(obsw_start.mjd, 1))\n",
    "    obswindow_stop.append(np.mod(obsw_stop.mjd, 1))\n",
    "    obswindow_duration.append(obsw_stop.mjd - obsw_start.mjd)"
   ]
  },
  {
   "cell_type": "code",
   "execution_count": 367,
   "id": "02c799da-5348-4640-a314-b1eb4b5f9fb8",
   "metadata": {},
   "outputs": [
    {
     "data": {
      "text/html": [
       "<div>\n",
       "<style scoped>\n",
       "    .dataframe tbody tr th:only-of-type {\n",
       "        vertical-align: middle;\n",
       "    }\n",
       "\n",
       "    .dataframe tbody tr th {\n",
       "        vertical-align: top;\n",
       "    }\n",
       "\n",
       "    .dataframe thead th {\n",
       "        text-align: right;\n",
       "    }\n",
       "</style>\n",
       "<table border=\"1\" class=\"dataframe\">\n",
       "  <thead>\n",
       "    <tr style=\"text-align: right;\">\n",
       "      <th></th>\n",
       "      <th>day</th>\n",
       "      <th>time_sunset</th>\n",
       "      <th>time_sunrise</th>\n",
       "      <th>obswindow_start</th>\n",
       "      <th>obswindow_stop</th>\n",
       "      <th>obswindow_duration</th>\n",
       "      <th>obswindow_duration_diff</th>\n",
       "    </tr>\n",
       "  </thead>\n",
       "  <tbody>\n",
       "    <tr>\n",
       "      <th>0</th>\n",
       "      <td>1</td>\n",
       "      <td>0.679499</td>\n",
       "      <td>0.186976</td>\n",
       "      <td>0.020749</td>\n",
       "      <td>0.186929</td>\n",
       "      <td>0.166181</td>\n",
       "      <td>0.000000</td>\n",
       "    </tr>\n",
       "    <tr>\n",
       "      <th>1</th>\n",
       "      <td>2</td>\n",
       "      <td>0.679994</td>\n",
       "      <td>0.187121</td>\n",
       "      <td>0.018050</td>\n",
       "      <td>0.187078</td>\n",
       "      <td>0.169028</td>\n",
       "      <td>246.000000</td>\n",
       "    </tr>\n",
       "    <tr>\n",
       "      <th>2</th>\n",
       "      <td>3</td>\n",
       "      <td>0.680501</td>\n",
       "      <td>0.187248</td>\n",
       "      <td>0.015293</td>\n",
       "      <td>0.187237</td>\n",
       "      <td>0.171944</td>\n",
       "      <td>252.000000</td>\n",
       "    </tr>\n",
       "    <tr>\n",
       "      <th>3</th>\n",
       "      <td>4</td>\n",
       "      <td>0.681019</td>\n",
       "      <td>0.187355</td>\n",
       "      <td>0.012547</td>\n",
       "      <td>0.187339</td>\n",
       "      <td>0.174792</td>\n",
       "      <td>246.000000</td>\n",
       "    </tr>\n",
       "    <tr>\n",
       "      <th>4</th>\n",
       "      <td>5</td>\n",
       "      <td>0.681548</td>\n",
       "      <td>0.187443</td>\n",
       "      <td>0.009812</td>\n",
       "      <td>0.187381</td>\n",
       "      <td>0.177569</td>\n",
       "      <td>240.000000</td>\n",
       "    </tr>\n",
       "    <tr>\n",
       "      <th>5</th>\n",
       "      <td>6</td>\n",
       "      <td>0.682087</td>\n",
       "      <td>0.187512</td>\n",
       "      <td>0.007087</td>\n",
       "      <td>0.187504</td>\n",
       "      <td>0.180417</td>\n",
       "      <td>246.000000</td>\n",
       "    </tr>\n",
       "    <tr>\n",
       "      <th>6</th>\n",
       "      <td>7</td>\n",
       "      <td>0.682635</td>\n",
       "      <td>0.187561</td>\n",
       "      <td>0.004371</td>\n",
       "      <td>0.187496</td>\n",
       "      <td>0.183125</td>\n",
       "      <td>234.000001</td>\n",
       "    </tr>\n",
       "    <tr>\n",
       "      <th>7</th>\n",
       "      <td>8</td>\n",
       "      <td>0.683193</td>\n",
       "      <td>0.187590</td>\n",
       "      <td>0.001665</td>\n",
       "      <td>0.187568</td>\n",
       "      <td>0.185903</td>\n",
       "      <td>240.000000</td>\n",
       "    </tr>\n",
       "    <tr>\n",
       "      <th>8</th>\n",
       "      <td>9</td>\n",
       "      <td>0.683758</td>\n",
       "      <td>0.187600</td>\n",
       "      <td>0.998897</td>\n",
       "      <td>0.187577</td>\n",
       "      <td>0.188681</td>\n",
       "      <td>240.000000</td>\n",
       "    </tr>\n",
       "    <tr>\n",
       "      <th>9</th>\n",
       "      <td>10</td>\n",
       "      <td>0.684330</td>\n",
       "      <td>0.187589</td>\n",
       "      <td>0.996205</td>\n",
       "      <td>0.187524</td>\n",
       "      <td>0.191319</td>\n",
       "      <td>228.000000</td>\n",
       "    </tr>\n",
       "    <tr>\n",
       "      <th>10</th>\n",
       "      <td>11</td>\n",
       "      <td>0.684909</td>\n",
       "      <td>0.187557</td>\n",
       "      <td>0.993451</td>\n",
       "      <td>0.187548</td>\n",
       "      <td>0.194097</td>\n",
       "      <td>240.000000</td>\n",
       "    </tr>\n",
       "    <tr>\n",
       "      <th>11</th>\n",
       "      <td>12</td>\n",
       "      <td>0.685496</td>\n",
       "      <td>0.187505</td>\n",
       "      <td>0.990705</td>\n",
       "      <td>0.187441</td>\n",
       "      <td>0.196736</td>\n",
       "      <td>228.000000</td>\n",
       "    </tr>\n",
       "    <tr>\n",
       "      <th>12</th>\n",
       "      <td>13</td>\n",
       "      <td>0.686090</td>\n",
       "      <td>0.187433</td>\n",
       "      <td>0.987965</td>\n",
       "      <td>0.187409</td>\n",
       "      <td>0.199444</td>\n",
       "      <td>233.999999</td>\n",
       "    </tr>\n",
       "    <tr>\n",
       "      <th>13</th>\n",
       "      <td>14</td>\n",
       "      <td>0.686689</td>\n",
       "      <td>0.187340</td>\n",
       "      <td>0.985231</td>\n",
       "      <td>0.187314</td>\n",
       "      <td>0.202083</td>\n",
       "      <td>228.000000</td>\n",
       "    </tr>\n",
       "    <tr>\n",
       "      <th>14</th>\n",
       "      <td>15</td>\n",
       "      <td>0.687295</td>\n",
       "      <td>0.187227</td>\n",
       "      <td>0.982503</td>\n",
       "      <td>0.187225</td>\n",
       "      <td>0.204722</td>\n",
       "      <td>228.000000</td>\n",
       "    </tr>\n",
       "    <tr>\n",
       "      <th>15</th>\n",
       "      <td>16</td>\n",
       "      <td>0.687903</td>\n",
       "      <td>0.187092</td>\n",
       "      <td>0.979778</td>\n",
       "      <td>0.187070</td>\n",
       "      <td>0.207292</td>\n",
       "      <td>222.000000</td>\n",
       "    </tr>\n",
       "    <tr>\n",
       "      <th>16</th>\n",
       "      <td>17</td>\n",
       "      <td>0.688516</td>\n",
       "      <td>0.186937</td>\n",
       "      <td>0.977058</td>\n",
       "      <td>0.186919</td>\n",
       "      <td>0.209861</td>\n",
       "      <td>222.000000</td>\n",
       "    </tr>\n",
       "    <tr>\n",
       "      <th>17</th>\n",
       "      <td>18</td>\n",
       "      <td>0.689133</td>\n",
       "      <td>0.186761</td>\n",
       "      <td>0.974341</td>\n",
       "      <td>0.186702</td>\n",
       "      <td>0.212361</td>\n",
       "      <td>216.000000</td>\n",
       "    </tr>\n",
       "    <tr>\n",
       "      <th>18</th>\n",
       "      <td>19</td>\n",
       "      <td>0.689754</td>\n",
       "      <td>0.186565</td>\n",
       "      <td>0.971629</td>\n",
       "      <td>0.186559</td>\n",
       "      <td>0.214931</td>\n",
       "      <td>222.000000</td>\n",
       "    </tr>\n",
       "    <tr>\n",
       "      <th>19</th>\n",
       "      <td>20</td>\n",
       "      <td>0.690378</td>\n",
       "      <td>0.186348</td>\n",
       "      <td>0.968850</td>\n",
       "      <td>0.186281</td>\n",
       "      <td>0.217431</td>\n",
       "      <td>216.000000</td>\n",
       "    </tr>\n",
       "    <tr>\n",
       "      <th>20</th>\n",
       "      <td>21</td>\n",
       "      <td>0.691006</td>\n",
       "      <td>0.186111</td>\n",
       "      <td>0.966145</td>\n",
       "      <td>0.186075</td>\n",
       "      <td>0.219931</td>\n",
       "      <td>216.000001</td>\n",
       "    </tr>\n",
       "    <tr>\n",
       "      <th>21</th>\n",
       "      <td>22</td>\n",
       "      <td>0.691636</td>\n",
       "      <td>0.185853</td>\n",
       "      <td>0.963442</td>\n",
       "      <td>0.185803</td>\n",
       "      <td>0.222361</td>\n",
       "      <td>209.999999</td>\n",
       "    </tr>\n",
       "    <tr>\n",
       "      <th>22</th>\n",
       "      <td>23</td>\n",
       "      <td>0.692267</td>\n",
       "      <td>0.185575</td>\n",
       "      <td>0.960670</td>\n",
       "      <td>0.185531</td>\n",
       "      <td>0.224861</td>\n",
       "      <td>216.000000</td>\n",
       "    </tr>\n",
       "    <tr>\n",
       "      <th>23</th>\n",
       "      <td>24</td>\n",
       "      <td>0.692900</td>\n",
       "      <td>0.185277</td>\n",
       "      <td>0.957970</td>\n",
       "      <td>0.185261</td>\n",
       "      <td>0.227292</td>\n",
       "      <td>210.000000</td>\n",
       "    </tr>\n",
       "    <tr>\n",
       "      <th>24</th>\n",
       "      <td>25</td>\n",
       "      <td>0.693535</td>\n",
       "      <td>0.184958</td>\n",
       "      <td>0.955202</td>\n",
       "      <td>0.184924</td>\n",
       "      <td>0.229722</td>\n",
       "      <td>209.999999</td>\n",
       "    </tr>\n",
       "    <tr>\n",
       "      <th>25</th>\n",
       "      <td>26</td>\n",
       "      <td>0.694172</td>\n",
       "      <td>0.184621</td>\n",
       "      <td>0.952505</td>\n",
       "      <td>0.184589</td>\n",
       "      <td>0.232083</td>\n",
       "      <td>204.000000</td>\n",
       "    </tr>\n",
       "    <tr>\n",
       "      <th>26</th>\n",
       "      <td>27</td>\n",
       "      <td>0.694810</td>\n",
       "      <td>0.184263</td>\n",
       "      <td>0.949741</td>\n",
       "      <td>0.184255</td>\n",
       "      <td>0.234514</td>\n",
       "      <td>210.000000</td>\n",
       "    </tr>\n",
       "    <tr>\n",
       "      <th>27</th>\n",
       "      <td>28</td>\n",
       "      <td>0.695450</td>\n",
       "      <td>0.183886</td>\n",
       "      <td>0.947047</td>\n",
       "      <td>0.183853</td>\n",
       "      <td>0.236806</td>\n",
       "      <td>198.000000</td>\n",
       "    </tr>\n",
       "    <tr>\n",
       "      <th>28</th>\n",
       "      <td>29</td>\n",
       "      <td>0.696090</td>\n",
       "      <td>0.183490</td>\n",
       "      <td>0.944284</td>\n",
       "      <td>0.183451</td>\n",
       "      <td>0.239167</td>\n",
       "      <td>204.000000</td>\n",
       "    </tr>\n",
       "    <tr>\n",
       "      <th>29</th>\n",
       "      <td>30</td>\n",
       "      <td>0.696729</td>\n",
       "      <td>0.183076</td>\n",
       "      <td>0.941590</td>\n",
       "      <td>0.183049</td>\n",
       "      <td>0.241458</td>\n",
       "      <td>198.000000</td>\n",
       "    </tr>\n",
       "    <tr>\n",
       "      <th>30</th>\n",
       "      <td>31</td>\n",
       "      <td>0.697369</td>\n",
       "      <td>0.182643</td>\n",
       "      <td>0.938827</td>\n",
       "      <td>0.182577</td>\n",
       "      <td>0.243750</td>\n",
       "      <td>198.000000</td>\n",
       "    </tr>\n",
       "  </tbody>\n",
       "</table>\n",
       "</div>"
      ],
      "text/plain": [
       "    day  time_sunset  time_sunrise  obswindow_start  obswindow_stop  \\\n",
       "0     1     0.679499      0.186976         0.020749        0.186929   \n",
       "1     2     0.679994      0.187121         0.018050        0.187078   \n",
       "2     3     0.680501      0.187248         0.015293        0.187237   \n",
       "3     4     0.681019      0.187355         0.012547        0.187339   \n",
       "4     5     0.681548      0.187443         0.009812        0.187381   \n",
       "5     6     0.682087      0.187512         0.007087        0.187504   \n",
       "6     7     0.682635      0.187561         0.004371        0.187496   \n",
       "7     8     0.683193      0.187590         0.001665        0.187568   \n",
       "8     9     0.683758      0.187600         0.998897        0.187577   \n",
       "9    10     0.684330      0.187589         0.996205        0.187524   \n",
       "10   11     0.684909      0.187557         0.993451        0.187548   \n",
       "11   12     0.685496      0.187505         0.990705        0.187441   \n",
       "12   13     0.686090      0.187433         0.987965        0.187409   \n",
       "13   14     0.686689      0.187340         0.985231        0.187314   \n",
       "14   15     0.687295      0.187227         0.982503        0.187225   \n",
       "15   16     0.687903      0.187092         0.979778        0.187070   \n",
       "16   17     0.688516      0.186937         0.977058        0.186919   \n",
       "17   18     0.689133      0.186761         0.974341        0.186702   \n",
       "18   19     0.689754      0.186565         0.971629        0.186559   \n",
       "19   20     0.690378      0.186348         0.968850        0.186281   \n",
       "20   21     0.691006      0.186111         0.966145        0.186075   \n",
       "21   22     0.691636      0.185853         0.963442        0.185803   \n",
       "22   23     0.692267      0.185575         0.960670        0.185531   \n",
       "23   24     0.692900      0.185277         0.957970        0.185261   \n",
       "24   25     0.693535      0.184958         0.955202        0.184924   \n",
       "25   26     0.694172      0.184621         0.952505        0.184589   \n",
       "26   27     0.694810      0.184263         0.949741        0.184255   \n",
       "27   28     0.695450      0.183886         0.947047        0.183853   \n",
       "28   29     0.696090      0.183490         0.944284        0.183451   \n",
       "29   30     0.696729      0.183076         0.941590        0.183049   \n",
       "30   31     0.697369      0.182643         0.938827        0.182577   \n",
       "\n",
       "    obswindow_duration  obswindow_duration_diff  \n",
       "0             0.166181                 0.000000  \n",
       "1             0.169028               246.000000  \n",
       "2             0.171944               252.000000  \n",
       "3             0.174792               246.000000  \n",
       "4             0.177569               240.000000  \n",
       "5             0.180417               246.000000  \n",
       "6             0.183125               234.000001  \n",
       "7             0.185903               240.000000  \n",
       "8             0.188681               240.000000  \n",
       "9             0.191319               228.000000  \n",
       "10            0.194097               240.000000  \n",
       "11            0.196736               228.000000  \n",
       "12            0.199444               233.999999  \n",
       "13            0.202083               228.000000  \n",
       "14            0.204722               228.000000  \n",
       "15            0.207292               222.000000  \n",
       "16            0.209861               222.000000  \n",
       "17            0.212361               216.000000  \n",
       "18            0.214931               222.000000  \n",
       "19            0.217431               216.000000  \n",
       "20            0.219931               216.000001  \n",
       "21            0.222361               209.999999  \n",
       "22            0.224861               216.000000  \n",
       "23            0.227292               210.000000  \n",
       "24            0.229722               209.999999  \n",
       "25            0.232083               204.000000  \n",
       "26            0.234514               210.000000  \n",
       "27            0.236806               198.000000  \n",
       "28            0.239167               204.000000  \n",
       "29            0.241458               198.000000  \n",
       "30            0.243750               198.000000  "
      ]
     },
     "execution_count": 367,
     "metadata": {},
     "output_type": "execute_result"
    }
   ],
   "source": [
    "data = DataFrame({\n",
    "        'day': day, 'time_sunset': time_sunset, 'time_sunrise': time_sunrise, 'obswindow_start': obswindow_start,\n",
    "        'obswindow_stop': obswindow_stop, 'obswindow_duration': obswindow_duration})\n",
    "data['obswindow_duration_diff'] = np.r_[0, np.diff(data['obswindow_duration'])] * 24 * 3600\n",
    "data"
   ]
  },
  {
   "cell_type": "code",
   "execution_count": 368,
   "id": "6366a28b-d55a-45ac-b3b7-6766960a0d4d",
   "metadata": {},
   "outputs": [
    {
     "data": {
      "image/png": "[encoded data removed]",
      "text/plain": [
       "<Figure size 640x480 with 1 Axes>"
      ]
     },
     "metadata": {},
     "output_type": "display_data"
    }
   ],
   "source": [
    "sns.scatterplot(data=data, x='day', y='obswindow_duration');"
   ]
  },
  {
   "cell_type": "code",
   "execution_count": 369,
   "id": "ec86dc13-2d2c-4f58-894e-06b132cf5244",
   "metadata": {},
   "outputs": [
    {
     "data": {
      "image/png": "[encoded data removed]",
      "text/plain": [
       "<Figure size 640x480 with 1 Axes>"
      ]
     },
     "metadata": {},
     "output_type": "display_data"
    }
   ],
   "source": [
    "sns.scatterplot(data=data, x='day', y='obswindow_duration_diff');"
   ]
  },
  {
   "cell_type": "code",
   "execution_count": 370,
   "id": "35dc03c6-d9a5-4e7c-a23e-d09531646df7",
   "metadata": {},
   "outputs": [
    {
     "data": {
      "image/png": "[encoded data removed]",
      "text/plain": [
       "<Figure size 640x480 with 1 Axes>"
      ]
     },
     "metadata": {},
     "output_type": "display_data"
    }
   ],
   "source": [
    "sns.scatterplot(data=data, x='day', y='obswindow_start');"
   ]
  },
  {
   "cell_type": "code",
   "execution_count": 371,
   "id": "7ffd4d3d-3289-4f5f-a150-4b2aae3b9d01",
   "metadata": {},
   "outputs": [
    {
     "data": {
      "text/plain": [
       "<AxesSubplot:xlabel='day'>"
      ]
     },
     "execution_count": 371,
     "metadata": {},
     "output_type": "execute_result"
    },
    {
     "data": {
      "image/png": "[encoded data removed]",
      "text/plain": [
       "<Figure size 640x480 with 1 Axes>"
      ]
     },
     "metadata": {},
     "output_type": "display_data"
    }
   ],
   "source": [
    "sns.scatterplot(x=data.iloc[1:]['day'], y=np.diff(data['obswindow_start'])*24*3600)"
   ]
  },
  {
   "cell_type": "code",
   "execution_count": 372,
   "id": "8aac4a0d-3388-4ff1-9499-710eb4c8e776",
   "metadata": {},
   "outputs": [
    {
     "data": {
      "image/png": "[encoded data removed]",
      "text/plain": [
       "<Figure size 640x480 with 1 Axes>"
      ]
     },
     "metadata": {},
     "output_type": "display_data"
    }
   ],
   "source": [
    "sns.scatterplot(data=data, x='day', y='obswindow_stop');"
   ]
  },
  {
   "cell_type": "code",
   "execution_count": 373,
   "id": "efaf5411-15cd-4040-b627-9927f8050366",
   "metadata": {},
   "outputs": [
    {
     "data": {
      "text/plain": [
       "<AxesSubplot:xlabel='day'>"
      ]
     },
     "execution_count": 373,
     "metadata": {},
     "output_type": "execute_result"
    },
    {
     "data": {
      "image/png": "[encoded data removed]",
      "text/plain": [
       "<Figure size 640x480 with 1 Axes>"
      ]
     },
     "metadata": {},
     "output_type": "display_data"
    }
   ],
   "source": [
    "sns.scatterplot(x=data.iloc[1:]['day'], y=np.diff(data['obswindow_stop'])*24*3600)"
   ]
  },
  {
   "cell_type": "code",
   "execution_count": 374,
   "id": "454ba1ab-a2ce-4460-bcf9-51bfa79498a5",
   "metadata": {},
   "outputs": [
    {
     "data": {
      "text/plain": [
       "<AxesSubplot:xlabel='day', ylabel='time_sunset'>"
      ]
     },
     "execution_count": 374,
     "metadata": {},
     "output_type": "execute_result"
    },
    {
     "data": {
      "image/png": "[encoded data removed]",
      "text/plain": [
       "<Figure size 640x480 with 1 Axes>"
      ]
     },
     "metadata": {},
     "output_type": "display_data"
    }
   ],
   "source": [
    "sns.scatterplot(data=data, x='day', y='time_sunset')"
   ]
  },
  {
   "cell_type": "code",
   "execution_count": 375,
   "id": "f2bd9546-0855-4168-97ae-e35f6e3cfe63",
   "metadata": {},
   "outputs": [
    {
     "data": {
      "text/plain": [
       "<AxesSubplot:xlabel='day', ylabel='time_sunrise'>"
      ]
     },
     "execution_count": 375,
     "metadata": {},
     "output_type": "execute_result"
    },
    {
     "data": {
      "image/png": "[encoded data removed]",
      "text/plain": [
       "<Figure size 640x480 with 1 Axes>"
      ]
     },
     "metadata": {},
     "output_type": "display_data"
    }
   ],
   "source": [
    "sns.scatterplot(data=data, x='day', y='time_sunrise')"
   ]
  },
  {
   "cell_type": "markdown",
   "id": "3befe15b-fc21-496a-a9c1-05530c1a6bdc",
   "metadata": {},
   "source": [
    "**Results:**\n",
    "\n",
    "- Without refinement the observing window durations can jump from one day to the next. The reason is the coarse time sampling.\n",
    "- With refinement we can remove/reduce these jumps.\n",
    "- It is important to find a good compromise between accuracy and calculation time. The latter increases with a fine refinement time grid.\n",
    "- The test results look good with an intial time interval of 5 minutes and a refinement interval of 0.1 minutes."
   ]
  },
  {
   "cell_type": "code",
   "execution_count": null,
   "id": "06978dd9-5f8a-4a73-b3b5-73f9c6d3e5f0",
   "metadata": {},
   "outputs": [],
   "source": []
  }
 ],
 "metadata": {
  "kernelspec": {
   "display_name": "Python 3 (ipykernel)",
   "language": "python",
   "name": "python3"
  },
  "language_info": {
   "codemirror_mode": {
    "name": "ipython",
    "version": 3
   },
   "file_extension": ".py",
   "mimetype": "text/x-python",
   "name": "python",
   "nbconvert_exporter": "python",
   "pygments_lexer": "ipython3",
   "version": "3.9.7"
  }
 },
 "nbformat": 4,
 "nbformat_minor": 5
}

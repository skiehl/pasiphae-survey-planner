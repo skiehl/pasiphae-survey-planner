{
 "cells": [
  {
   "cell_type": "markdown",
   "id": "98417b47-9dca-46a9-8cce-a1f1549c8410",
   "metadata": {},
   "source": [
    "# Field neighbors\n",
    "\n",
    "**Goal:**\n",
    "\n",
    "Find a time efficient way of identifying the neighbours of a field within a given radius.\n",
    "\n",
    "**Outline:**\n",
    "\n",
    "Below I try three different approaches of identifying the neighbours:\n",
    "\n",
    "1. scikit-learns NearestNeighbors, machine learning approach,\n",
    "1. scikit-learns NearestNeighbors, brute force,\n",
    "1. python brute force implementation.\n",
    "\n",
    "There are two majorly different approaches in implementing one of the above approaches in the survey planner:\n",
    "\n",
    "1. When fields are queried we can identify the neighbours on the fly.\n",
    "2. We can identify all neighbours when the database is created and store the associations. Then associations are queried from the database."
   ]
  },
  {
   "cell_type": "code",
   "execution_count": 1,
   "id": "01596e03-55de-4db9-9e78-186173f78eae",
   "metadata": {},
   "outputs": [],
   "source": [
    "from astropy.coordinates import Angle, SkyCoord\n",
    "import astropy.units as u\n",
    "import matplotlib.pyplot as plt\n",
    "import numpy as np\n",
    "import pandas as pd\n",
    "import seaborn as sns\n",
    "from sklearn.neighbors import NearestNeighbors\n",
    "import sqlite3\n",
    "from time import time"
   ]
  },
  {
   "cell_type": "code",
   "execution_count": 2,
   "id": "7a14b53e-603c-44fd-9d5d-5aa0bcd8d580",
   "metadata": {},
   "outputs": [],
   "source": [
    "plt.style.use('file:///home/skiehl/Projects/Python/Scripts/mypackages/mplstyles/notebook.mplstyle')\n",
    "markers = ('o', 's', '^')"
   ]
  },
  {
   "cell_type": "markdown",
   "id": "3acfb4d0-8810-4a46-84f0-355992d5cde4",
   "metadata": {},
   "source": [
    "## Helper functions"
   ]
  },
  {
   "cell_type": "code",
   "execution_count": 3,
   "id": "7e783110-73cb-4c56-9046-7f32355635d9",
   "metadata": {},
   "outputs": [],
   "source": [
    "def gen_data(n_fields):\n",
    "    dec = np.radians(np.random.uniform(-90, 90, n_fields))\n",
    "    ra = np.radians(np.random.uniform(0, 360, n_fields))\n",
    "    coord = np.array([ra, dec]).transpose()\n",
    "    center = [np.radians(0), np.radians(0)]\n",
    "    \n",
    "    return coord, center"
   ]
  },
  {
   "cell_type": "code",
   "execution_count": 4,
   "id": "f6738a24-1c77-4a7e-b45f-c6ac0eb20f82",
   "metadata": {},
   "outputs": [],
   "source": [
    "def separation(coord1, coord2):\n",
    "    coord1 = SkyCoord(coord1[0], coord1[1], unit='rad')\n",
    "    coord2 = SkyCoord(coord2[0], coord2[1], unit='rad')\n",
    "    return coord1.separation(coord2).rad"
   ]
  },
  {
   "cell_type": "code",
   "execution_count": 5,
   "id": "0fd0a025-fa10-438a-835a-7bb9c509f390",
   "metadata": {},
   "outputs": [],
   "source": [
    "def timeit(func, n_iter=1):\n",
    "    time_elapsed = 0\n",
    "    \n",
    "    for __ in range(n_iter):\n",
    "        time_start = time()\n",
    "        res = func()\n",
    "        time_elapsed += time() - time_start\n",
    "    \n",
    "    time_elapsed /= n_iter\n",
    "    \n",
    "    return time_elapsed, res"
   ]
  },
  {
   "cell_type": "markdown",
   "id": "39134c18-c104-4735-803c-d2ec2642a5a3",
   "metadata": {},
   "source": [
    "## Neighbor identification tests\n",
    "\n",
    "I test the three approaches for identifying the fields neighbors as described above. Each approach may have a initialization and then has the query. I track the time for the initialization. I track the time for multiple queries, then calculate the time for querying the neighbors for all fields (by multiplying the single field query by the number of fields). Finally, I calculate the total time that is needed to identify the neighbors for each field. I repeat this test for different numbers of fields."
   ]
  },
  {
   "cell_type": "markdown",
   "id": "2d3fbaff-2ff2-4573-8dec-ccbdad7787a7",
   "metadata": {},
   "source": [
    "### Test set-up"
   ]
  },
  {
   "cell_type": "code",
   "execution_count": 6,
   "id": "49ec2fd9-bbae-4a4e-9884-263a4ad2b216",
   "metadata": {},
   "outputs": [],
   "source": [
    "#n_fields = [100, 500, 1000, 5000, 10000, 50000, 100000]\n",
    "n_fields = [100, 500, 1000, 5000, 10000]\n",
    "\n",
    "time_elapsed_init = {}\n",
    "time_elapsed_query = {}\n",
    "method_used = {}"
   ]
  },
  {
   "cell_type": "markdown",
   "id": "c40dea41-cc07-42d5-94c7-baad61ff7c60",
   "metadata": {},
   "source": [
    "### Approach 1: sklearn.neighbors.NearestNeighbors, `algorithm='ball_tree'`\n",
    "\n",
    "**Note:** `kd_tree` does not accept custom callable distance measure. Therefore, `ball_tree` is the only alternative to `brute`. Selecting `auto` would automatically select `ball_tree`."
   ]
  },
  {
   "cell_type": "code",
   "execution_count": 7,
   "id": "bcc5b956-15e5-4d1d-9198-7e6552287596",
   "metadata": {},
   "outputs": [],
   "source": [
    "def wrapper_init():\n",
    "    neigh = NearestNeighbors(metric=separation, algorithm='ball_tree', radius=np.radians(5.))\n",
    "    neigh.fit(coord)\n",
    "    \n",
    "    return neigh"
   ]
  },
  {
   "cell_type": "code",
   "execution_count": 8,
   "id": "dbb378af-5c74-4972-a386-410a4d8ae442",
   "metadata": {},
   "outputs": [],
   "source": [
    "def wrapper_query():\n",
    "    rng = neigh.radius_neighbors([center])\n",
    "    \n",
    "    return rng"
   ]
  },
  {
   "cell_type": "code",
   "execution_count": 9,
   "id": "f246fecf-8184-4961-b7a0-94abc2089e44",
   "metadata": {},
   "outputs": [
    {
     "name": "stdout",
     "output_type": "stream",
     "text": [
      " #fields   t_init [s]  t_query [s]\n",
      "     100          0.6        0.276\n",
      "     500          6.4        0.198\n",
      "    1000         16.1        0.243\n",
      "    5000        135.6        0.728\n",
      "   10000        321.7        0.655\n"
     ]
    }
   ],
   "source": [
    "method = 'NN,ball_tree'\n",
    "\n",
    "print(' #fields   t_init [s]  t_query [s]')\n",
    "\n",
    "for n in n_fields:\n",
    "    print(f'{n:8d} ', end='')\n",
    "    coord, center = gen_data(n)\n",
    "    \n",
    "    method_used[n] = method\n",
    "\n",
    "    time_elapsed_init[n], neigh = timeit(wrapper_init)\n",
    "    print(f'{time_elapsed_init[n]:12.1f} ', end='')\n",
    "    time_elapsed_query[n], rng = timeit(wrapper_query, n_iter=100)\n",
    "    print(f'{time_elapsed_query[n]:12.3f}')"
   ]
  },
  {
   "cell_type": "code",
   "execution_count": 10,
   "id": "e3140c32-0807-4330-a7ca-34f548f282ba",
   "metadata": {},
   "outputs": [
    {
     "data": {
      "text/html": [
       "<div>\n",
       "<style scoped>\n",
       "    .dataframe tbody tr th:only-of-type {\n",
       "        vertical-align: middle;\n",
       "    }\n",
       "\n",
       "    .dataframe tbody tr th {\n",
       "        vertical-align: top;\n",
       "    }\n",
       "\n",
       "    .dataframe thead th {\n",
       "        text-align: right;\n",
       "    }\n",
       "</style>\n",
       "<table border=\"1\" class=\"dataframe\">\n",
       "  <thead>\n",
       "    <tr style=\"text-align: right;\">\n",
       "      <th></th>\n",
       "      <th>n_fields</th>\n",
       "      <th>method</th>\n",
       "      <th>init</th>\n",
       "      <th>query</th>\n",
       "      <th>query_sum</th>\n",
       "      <th>total</th>\n",
       "    </tr>\n",
       "  </thead>\n",
       "  <tbody>\n",
       "    <tr>\n",
       "      <th>0</th>\n",
       "      <td>100</td>\n",
       "      <td>NN,ball_tree</td>\n",
       "      <td>0.578889</td>\n",
       "      <td>0.276320</td>\n",
       "      <td>27.632021</td>\n",
       "      <td>28.210911</td>\n",
       "    </tr>\n",
       "    <tr>\n",
       "      <th>1</th>\n",
       "      <td>500</td>\n",
       "      <td>NN,ball_tree</td>\n",
       "      <td>6.417314</td>\n",
       "      <td>0.197804</td>\n",
       "      <td>98.901799</td>\n",
       "      <td>105.319113</td>\n",
       "    </tr>\n",
       "    <tr>\n",
       "      <th>2</th>\n",
       "      <td>1000</td>\n",
       "      <td>NN,ball_tree</td>\n",
       "      <td>16.143874</td>\n",
       "      <td>0.242823</td>\n",
       "      <td>242.823346</td>\n",
       "      <td>258.967220</td>\n",
       "    </tr>\n",
       "    <tr>\n",
       "      <th>3</th>\n",
       "      <td>5000</td>\n",
       "      <td>NN,ball_tree</td>\n",
       "      <td>135.567186</td>\n",
       "      <td>0.727733</td>\n",
       "      <td>3638.662803</td>\n",
       "      <td>3774.229990</td>\n",
       "    </tr>\n",
       "    <tr>\n",
       "      <th>4</th>\n",
       "      <td>10000</td>\n",
       "      <td>NN,ball_tree</td>\n",
       "      <td>321.719568</td>\n",
       "      <td>0.654535</td>\n",
       "      <td>6545.349097</td>\n",
       "      <td>6867.068665</td>\n",
       "    </tr>\n",
       "  </tbody>\n",
       "</table>\n",
       "</div>"
      ],
      "text/plain": [
       "   n_fields        method        init     query    query_sum        total\n",
       "0       100  NN,ball_tree    0.578889  0.276320    27.632021    28.210911\n",
       "1       500  NN,ball_tree    6.417314  0.197804    98.901799   105.319113\n",
       "2      1000  NN,ball_tree   16.143874  0.242823   242.823346   258.967220\n",
       "3      5000  NN,ball_tree  135.567186  0.727733  3638.662803  3774.229990\n",
       "4     10000  NN,ball_tree  321.719568  0.654535  6545.349097  6867.068665"
      ]
     },
     "execution_count": 10,
     "metadata": {},
     "output_type": "execute_result"
    }
   ],
   "source": [
    "time_elapsed_query_total = np.array(list(time_elapsed_query.keys())) * np.array(list(time_elapsed_query.values()))\n",
    "time_elapsed_total = np.array(list(time_elapsed_init.values())) + time_elapsed_query_total\n",
    "\n",
    "time_elapsed = {\n",
    "        'n_fields': list(time_elapsed_init.keys()),\n",
    "        'method': list(method_used.values()),\n",
    "        'init': list(time_elapsed_init.values()),\n",
    "        'query': list(time_elapsed_query.values()),\n",
    "        'query_sum': time_elapsed_query_total,\n",
    "        'total': time_elapsed_total\n",
    "}\n",
    "del time_elapsed_query_total, time_elapsed_total\n",
    "time_elapsed = pd.DataFrame(time_elapsed)\n",
    "time_elapsed"
   ]
  },
  {
   "cell_type": "code",
   "execution_count": 11,
   "id": "d6326773-abdb-4a64-847b-c5484aff0049",
   "metadata": {},
   "outputs": [
    {
     "data": {
      "image/png": "[encoded data removed]",
      "text/plain": [
       "<Figure size 1152x360 with 1 Axes>"
      ]
     },
     "metadata": {
      "needs_background": "light"
     },
     "output_type": "display_data"
    }
   ],
   "source": [
    "sns.scatterplot(data=time_elapsed, x='n_fields', y='init', hue='method', style='method')\n",
    "plt.xscale('log'); plt.yscale('log');"
   ]
  },
  {
   "cell_type": "code",
   "execution_count": 12,
   "id": "cf32f7e2-834b-4fc6-a192-a0d5b271c4b5",
   "metadata": {},
   "outputs": [
    {
     "data": {
      "image/png": "[encoded data removed]",
      "text/plain": [
       "<Figure size 1152x360 with 1 Axes>"
      ]
     },
     "metadata": {
      "needs_background": "light"
     },
     "output_type": "display_data"
    }
   ],
   "source": [
    "sns.scatterplot(data=time_elapsed, x='n_fields', y='query', hue='method', style='method')\n",
    "plt.xscale('log'); plt.yscale('log');"
   ]
  },
  {
   "cell_type": "code",
   "execution_count": 13,
   "id": "2c60222f-ead0-4871-9fd1-390a9c48379c",
   "metadata": {},
   "outputs": [
    {
     "data": {
      "image/png": "[encoded data removed]",
      "text/plain": [
       "<Figure size 1152x360 with 1 Axes>"
      ]
     },
     "metadata": {
      "needs_background": "light"
     },
     "output_type": "display_data"
    }
   ],
   "source": [
    "sns.scatterplot(data=time_elapsed, x='n_fields', y='query_sum', hue='method', style='method')\n",
    "plt.xscale('log'); plt.yscale('log');"
   ]
  },
  {
   "cell_type": "code",
   "execution_count": 14,
   "id": "ead6705a-bc9f-452d-977c-f90d03fdf227",
   "metadata": {},
   "outputs": [
    {
     "data": {
      "image/png": "[encoded data removed]",
      "text/plain": [
       "<Figure size 1152x360 with 1 Axes>"
      ]
     },
     "metadata": {
      "needs_background": "light"
     },
     "output_type": "display_data"
    }
   ],
   "source": [
    "sns.scatterplot(data=time_elapsed, x='n_fields', y='total', hue='method', style='method')\n",
    "plt.xscale('log'); plt.yscale('log');"
   ]
  },
  {
   "cell_type": "markdown",
   "id": "e7b606a2-bb1c-48cc-9856-b265f735f60b",
   "metadata": {},
   "source": [
    "### Approach 2: sklearn.neighbors.NearestNeighbors, `algorithm='brute'`"
   ]
  },
  {
   "cell_type": "code",
   "execution_count": 15,
   "id": "5e4831dc-b6b7-4557-9cc6-54cf7120607f",
   "metadata": {},
   "outputs": [],
   "source": [
    "def wrapper_init():\n",
    "    neigh = NearestNeighbors(metric=separation, algorithm='brute', radius=np.radians(5.))\n",
    "    neigh.fit(coord)\n",
    "    \n",
    "    return neigh"
   ]
  },
  {
   "cell_type": "code",
   "execution_count": 16,
   "id": "28cbab27-880b-4eef-b75b-32fa6f612551",
   "metadata": {},
   "outputs": [],
   "source": [
    "def wrapper_query():\n",
    "    rng = neigh.radius_neighbors([center])\n",
    "    \n",
    "    return rng"
   ]
  },
  {
   "cell_type": "code",
   "execution_count": 17,
   "id": "990f6b6d-87f4-4e7a-9f2c-0ec0042c5c4a",
   "metadata": {},
   "outputs": [],
   "source": [
    "time_elapsed_init = {}\n",
    "time_elapsed_query = {}\n",
    "method_used = {}"
   ]
  },
  {
   "cell_type": "code",
   "execution_count": 18,
   "id": "5700a807-a65f-48d7-9c71-66c9dcf0c8e8",
   "metadata": {},
   "outputs": [
    {
     "name": "stdout",
     "output_type": "stream",
     "text": [
      " #fields   t_init [s]  t_query [s]\n",
      "     100          0.0        0.337\n",
      "     500          0.0        1.597\n",
      "    1000          0.0        3.170\n",
      "    5000          0.0       15.953\n",
      "   10000          0.0       30.925\n"
     ]
    }
   ],
   "source": [
    "method = 'NN,brute'\n",
    "\n",
    "print(' #fields   t_init [s]  t_query [s]')\n",
    "\n",
    "for n in n_fields:\n",
    "    print(f'{n:8d} ', end='')\n",
    "    coord, center = gen_data(n)\n",
    "    \n",
    "    method_used[n] = method\n",
    "\n",
    "    time_elapsed_init[n], neigh = timeit(wrapper_init)\n",
    "    print(f'{time_elapsed_init[n]:12.1f} ', end='')\n",
    "    time_elapsed_query[n], rng = timeit(wrapper_query, n_iter=10)\n",
    "    print(f'{time_elapsed_query[n]:12.3f}')"
   ]
  },
  {
   "cell_type": "code",
   "execution_count": 19,
   "id": "a066eda1-37e2-4b63-8f21-a2d3bf1ab607",
   "metadata": {},
   "outputs": [
    {
     "data": {
      "text/html": [
       "<div>\n",
       "<style scoped>\n",
       "    .dataframe tbody tr th:only-of-type {\n",
       "        vertical-align: middle;\n",
       "    }\n",
       "\n",
       "    .dataframe tbody tr th {\n",
       "        vertical-align: top;\n",
       "    }\n",
       "\n",
       "    .dataframe thead th {\n",
       "        text-align: right;\n",
       "    }\n",
       "</style>\n",
       "<table border=\"1\" class=\"dataframe\">\n",
       "  <thead>\n",
       "    <tr style=\"text-align: right;\">\n",
       "      <th></th>\n",
       "      <th>n_fields</th>\n",
       "      <th>method</th>\n",
       "      <th>init</th>\n",
       "      <th>query</th>\n",
       "      <th>query_sum</th>\n",
       "      <th>total</th>\n",
       "    </tr>\n",
       "  </thead>\n",
       "  <tbody>\n",
       "    <tr>\n",
       "      <th>0</th>\n",
       "      <td>100</td>\n",
       "      <td>NN,ball_tree</td>\n",
       "      <td>0.578889</td>\n",
       "      <td>0.276320</td>\n",
       "      <td>27.632021</td>\n",
       "      <td>28.210911</td>\n",
       "    </tr>\n",
       "    <tr>\n",
       "      <th>1</th>\n",
       "      <td>500</td>\n",
       "      <td>NN,ball_tree</td>\n",
       "      <td>6.417314</td>\n",
       "      <td>0.197804</td>\n",
       "      <td>98.901799</td>\n",
       "      <td>105.319113</td>\n",
       "    </tr>\n",
       "    <tr>\n",
       "      <th>2</th>\n",
       "      <td>1000</td>\n",
       "      <td>NN,ball_tree</td>\n",
       "      <td>16.143874</td>\n",
       "      <td>0.242823</td>\n",
       "      <td>242.823346</td>\n",
       "      <td>258.967220</td>\n",
       "    </tr>\n",
       "    <tr>\n",
       "      <th>3</th>\n",
       "      <td>5000</td>\n",
       "      <td>NN,ball_tree</td>\n",
       "      <td>135.567186</td>\n",
       "      <td>0.727733</td>\n",
       "      <td>3638.662803</td>\n",
       "      <td>3774.229990</td>\n",
       "    </tr>\n",
       "    <tr>\n",
       "      <th>4</th>\n",
       "      <td>10000</td>\n",
       "      <td>NN,ball_tree</td>\n",
       "      <td>321.719568</td>\n",
       "      <td>0.654535</td>\n",
       "      <td>6545.349097</td>\n",
       "      <td>6867.068665</td>\n",
       "    </tr>\n",
       "    <tr>\n",
       "      <th>0</th>\n",
       "      <td>100</td>\n",
       "      <td>NN,brute</td>\n",
       "      <td>0.000211</td>\n",
       "      <td>0.336826</td>\n",
       "      <td>33.682585</td>\n",
       "      <td>33.682796</td>\n",
       "    </tr>\n",
       "    <tr>\n",
       "      <th>1</th>\n",
       "      <td>500</td>\n",
       "      <td>NN,brute</td>\n",
       "      <td>0.000162</td>\n",
       "      <td>1.597116</td>\n",
       "      <td>798.557830</td>\n",
       "      <td>798.557992</td>\n",
       "    </tr>\n",
       "    <tr>\n",
       "      <th>2</th>\n",
       "      <td>1000</td>\n",
       "      <td>NN,brute</td>\n",
       "      <td>0.000154</td>\n",
       "      <td>3.169849</td>\n",
       "      <td>3169.848680</td>\n",
       "      <td>3169.848834</td>\n",
       "    </tr>\n",
       "    <tr>\n",
       "      <th>3</th>\n",
       "      <td>5000</td>\n",
       "      <td>NN,brute</td>\n",
       "      <td>0.000181</td>\n",
       "      <td>15.953248</td>\n",
       "      <td>79766.240120</td>\n",
       "      <td>79766.240301</td>\n",
       "    </tr>\n",
       "    <tr>\n",
       "      <th>4</th>\n",
       "      <td>10000</td>\n",
       "      <td>NN,brute</td>\n",
       "      <td>0.000226</td>\n",
       "      <td>30.924592</td>\n",
       "      <td>309245.916605</td>\n",
       "      <td>309245.916831</td>\n",
       "    </tr>\n",
       "  </tbody>\n",
       "</table>\n",
       "</div>"
      ],
      "text/plain": [
       "   n_fields        method        init      query      query_sum          total\n",
       "0       100  NN,ball_tree    0.578889   0.276320      27.632021      28.210911\n",
       "1       500  NN,ball_tree    6.417314   0.197804      98.901799     105.319113\n",
       "2      1000  NN,ball_tree   16.143874   0.242823     242.823346     258.967220\n",
       "3      5000  NN,ball_tree  135.567186   0.727733    3638.662803    3774.229990\n",
       "4     10000  NN,ball_tree  321.719568   0.654535    6545.349097    6867.068665\n",
       "0       100      NN,brute    0.000211   0.336826      33.682585      33.682796\n",
       "1       500      NN,brute    0.000162   1.597116     798.557830     798.557992\n",
       "2      1000      NN,brute    0.000154   3.169849    3169.848680    3169.848834\n",
       "3      5000      NN,brute    0.000181  15.953248   79766.240120   79766.240301\n",
       "4     10000      NN,brute    0.000226  30.924592  309245.916605  309245.916831"
      ]
     },
     "execution_count": 19,
     "metadata": {},
     "output_type": "execute_result"
    }
   ],
   "source": [
    "time_elapsed_query_total = np.array(list(time_elapsed_query.keys())) * np.array(list(time_elapsed_query.values()))\n",
    "time_elapsed_total = np.array(list(time_elapsed_init.values())) + time_elapsed_query_total\n",
    "\n",
    "time_elapsed_temp = {\n",
    "        'n_fields': list(time_elapsed_init.keys()),\n",
    "        'method': list(method_used.values()),\n",
    "        'init': list(time_elapsed_init.values()),\n",
    "        'query': list(time_elapsed_query.values()),\n",
    "        'query_sum': time_elapsed_query_total,\n",
    "        'total': time_elapsed_total\n",
    "}\n",
    "del time_elapsed_query_total, time_elapsed_total\n",
    "time_elapsed = pd.concat([time_elapsed, pd.DataFrame(time_elapsed_temp)])\n",
    "time_elapsed"
   ]
  },
  {
   "cell_type": "code",
   "execution_count": 20,
   "id": "40b375fc-9eda-4dde-8033-7a17b55ea9b5",
   "metadata": {},
   "outputs": [
    {
     "data": {
      "image/png": "[encoded data removed]",
      "text/plain": [
       "<Figure size 1152x360 with 1 Axes>"
      ]
     },
     "metadata": {
      "needs_background": "light"
     },
     "output_type": "display_data"
    }
   ],
   "source": [
    "sns.scatterplot(data=time_elapsed, x='n_fields', y='init', hue='method', style='method', markers=('o', 's'))\n",
    "plt.xscale('log'); plt.yscale('log');"
   ]
  },
  {
   "cell_type": "code",
   "execution_count": 21,
   "id": "db25c90a-4fe5-4a8e-90b2-181d5175f56e",
   "metadata": {},
   "outputs": [
    {
     "data": {
      "image/png": "[encoded data removed]",
      "text/plain": [
       "<Figure size 1152x360 with 1 Axes>"
      ]
     },
     "metadata": {
      "needs_background": "light"
     },
     "output_type": "display_data"
    }
   ],
   "source": [
    "sns.scatterplot(data=time_elapsed, x='n_fields', y='query', hue='method', style='method', markers=('o', 's'))\n",
    "plt.xscale('log'); plt.yscale('log');"
   ]
  },
  {
   "cell_type": "code",
   "execution_count": 22,
   "id": "40c77798-4a4f-429f-8d51-a50809a968b4",
   "metadata": {},
   "outputs": [
    {
     "data": {
      "image/png": "[encoded data removed]",
      "text/plain": [
       "<Figure size 1152x360 with 1 Axes>"
      ]
     },
     "metadata": {
      "needs_background": "light"
     },
     "output_type": "display_data"
    }
   ],
   "source": [
    "sns.scatterplot(data=time_elapsed, x='n_fields', y='query_sum', hue='method', style='method', markers=('o', 's'))\n",
    "plt.xscale('log'); plt.yscale('log');"
   ]
  },
  {
   "cell_type": "code",
   "execution_count": 23,
   "id": "637b1dac-a8c4-4f46-b3e5-87b50f3fa313",
   "metadata": {},
   "outputs": [
    {
     "data": {
      "image/png": "[encoded data removed]",
      "text/plain": [
       "<Figure size 1152x360 with 1 Axes>"
      ]
     },
     "metadata": {
      "needs_background": "light"
     },
     "output_type": "display_data"
    }
   ],
   "source": [
    "sns.scatterplot(data=time_elapsed, x='n_fields', y='total', hue='method', style='method', markers=('o', 's'))\n",
    "plt.xscale('log'); plt.yscale('log');"
   ]
  },
  {
   "cell_type": "markdown",
   "id": "f593a35f-e14f-4d5b-8151-bcb9bce2d0cb",
   "metadata": {},
   "source": [
    "### Approach 3: Python, brute-force"
   ]
  },
  {
   "cell_type": "code",
   "execution_count": 58,
   "id": "c5ec9278-0807-4453-b436-739aa01464e0",
   "metadata": {},
   "outputs": [],
   "source": [
    "def brute_force():\n",
    "    coord1 = SkyCoord(coord[:,0], coord[:,1], unit='rad')\n",
    "    center1 = SkyCoord(center[0], center[1], unit='rad')\n",
    "    sel = center1.separation(coord1) < 5. * u.deg\n",
    "    ids = list(np.arange(coord.shape[0])[sel])\n",
    "    \n",
    "    return ids"
   ]
  },
  {
   "cell_type": "code",
   "execution_count": 59,
   "id": "a275dc20-f326-4df7-8f05-9a5aad26f832",
   "metadata": {},
   "outputs": [],
   "source": [
    "time_elapsed_init = {}\n",
    "method_used = {}"
   ]
  },
  {
   "cell_type": "code",
   "execution_count": 60,
   "id": "1f183c3d-2879-463f-8215-eee826aeffe6",
   "metadata": {},
   "outputs": [
    {
     "name": "stdout",
     "output_type": "stream",
     "text": [
      " #fields   t_init [s]  t_query [s]\n",
      "     100          0.0        0.004\n",
      "     500          0.0        0.004\n",
      "    1000          0.0        0.004\n",
      "    5000          0.0        0.006\n",
      "   10000          0.0        0.008\n"
     ]
    }
   ],
   "source": [
    "method = 'python'\n",
    "\n",
    "print(' #fields   t_init [s]  t_query [s]')\n",
    "\n",
    "for n in n_fields:\n",
    "    print(f'{n:8d} ', end='')\n",
    "    coord, center = gen_data(n)\n",
    "    \n",
    "    method_used[n] = method\n",
    "\n",
    "    time_elapsed_init[n] = 0\n",
    "    print(f'{time_elapsed_init[n]:12.1f} ', end='')\n",
    "    time_elapsed_query[n], neigh = timeit(brute_force, n_iter=100)\n",
    "    print(f'{time_elapsed_query[n]:12.3f}')"
   ]
  },
  {
   "cell_type": "code",
   "execution_count": 53,
   "id": "36413f78-5f03-4ec8-a625-5dc2c74139f9",
   "metadata": {},
   "outputs": [
    {
     "data": {
      "text/html": [
       "<div>\n",
       "<style scoped>\n",
       "    .dataframe tbody tr th:only-of-type {\n",
       "        vertical-align: middle;\n",
       "    }\n",
       "\n",
       "    .dataframe tbody tr th {\n",
       "        vertical-align: top;\n",
       "    }\n",
       "\n",
       "    .dataframe thead th {\n",
       "        text-align: right;\n",
       "    }\n",
       "</style>\n",
       "<table border=\"1\" class=\"dataframe\">\n",
       "  <thead>\n",
       "    <tr style=\"text-align: right;\">\n",
       "      <th></th>\n",
       "      <th>n_fields</th>\n",
       "      <th>method</th>\n",
       "      <th>init</th>\n",
       "      <th>query</th>\n",
       "      <th>query_sum</th>\n",
       "      <th>total</th>\n",
       "    </tr>\n",
       "  </thead>\n",
       "  <tbody>\n",
       "    <tr>\n",
       "      <th>0</th>\n",
       "      <td>100</td>\n",
       "      <td>NN,ball_tree</td>\n",
       "      <td>0.578889</td>\n",
       "      <td>0.276320</td>\n",
       "      <td>27.632021</td>\n",
       "      <td>28.210911</td>\n",
       "    </tr>\n",
       "    <tr>\n",
       "      <th>1</th>\n",
       "      <td>500</td>\n",
       "      <td>NN,ball_tree</td>\n",
       "      <td>6.417314</td>\n",
       "      <td>0.197804</td>\n",
       "      <td>98.901799</td>\n",
       "      <td>105.319113</td>\n",
       "    </tr>\n",
       "    <tr>\n",
       "      <th>2</th>\n",
       "      <td>1000</td>\n",
       "      <td>NN,ball_tree</td>\n",
       "      <td>16.143874</td>\n",
       "      <td>0.242823</td>\n",
       "      <td>242.823346</td>\n",
       "      <td>258.967220</td>\n",
       "    </tr>\n",
       "    <tr>\n",
       "      <th>3</th>\n",
       "      <td>5000</td>\n",
       "      <td>NN,ball_tree</td>\n",
       "      <td>135.567186</td>\n",
       "      <td>0.727733</td>\n",
       "      <td>3638.662803</td>\n",
       "      <td>3774.229990</td>\n",
       "    </tr>\n",
       "    <tr>\n",
       "      <th>4</th>\n",
       "      <td>10000</td>\n",
       "      <td>NN,ball_tree</td>\n",
       "      <td>321.719568</td>\n",
       "      <td>0.654535</td>\n",
       "      <td>6545.349097</td>\n",
       "      <td>6867.068665</td>\n",
       "    </tr>\n",
       "    <tr>\n",
       "      <th>0</th>\n",
       "      <td>100</td>\n",
       "      <td>NN,brute</td>\n",
       "      <td>0.000211</td>\n",
       "      <td>0.336826</td>\n",
       "      <td>33.682585</td>\n",
       "      <td>33.682796</td>\n",
       "    </tr>\n",
       "    <tr>\n",
       "      <th>1</th>\n",
       "      <td>500</td>\n",
       "      <td>NN,brute</td>\n",
       "      <td>0.000162</td>\n",
       "      <td>1.597116</td>\n",
       "      <td>798.557830</td>\n",
       "      <td>798.557992</td>\n",
       "    </tr>\n",
       "    <tr>\n",
       "      <th>2</th>\n",
       "      <td>1000</td>\n",
       "      <td>NN,brute</td>\n",
       "      <td>0.000154</td>\n",
       "      <td>3.169849</td>\n",
       "      <td>3169.848680</td>\n",
       "      <td>3169.848834</td>\n",
       "    </tr>\n",
       "    <tr>\n",
       "      <th>3</th>\n",
       "      <td>5000</td>\n",
       "      <td>NN,brute</td>\n",
       "      <td>0.000181</td>\n",
       "      <td>15.953248</td>\n",
       "      <td>79766.240120</td>\n",
       "      <td>79766.240301</td>\n",
       "    </tr>\n",
       "    <tr>\n",
       "      <th>4</th>\n",
       "      <td>10000</td>\n",
       "      <td>NN,brute</td>\n",
       "      <td>0.000226</td>\n",
       "      <td>30.924592</td>\n",
       "      <td>309245.916605</td>\n",
       "      <td>309245.916831</td>\n",
       "    </tr>\n",
       "    <tr>\n",
       "      <th>0</th>\n",
       "      <td>100</td>\n",
       "      <td>python</td>\n",
       "      <td>0.000000</td>\n",
       "      <td>0.004684</td>\n",
       "      <td>0.468397</td>\n",
       "      <td>0.468397</td>\n",
       "    </tr>\n",
       "    <tr>\n",
       "      <th>1</th>\n",
       "      <td>500</td>\n",
       "      <td>python</td>\n",
       "      <td>0.000000</td>\n",
       "      <td>0.003173</td>\n",
       "      <td>1.586742</td>\n",
       "      <td>1.586742</td>\n",
       "    </tr>\n",
       "    <tr>\n",
       "      <th>2</th>\n",
       "      <td>1000</td>\n",
       "      <td>python</td>\n",
       "      <td>0.000000</td>\n",
       "      <td>0.003917</td>\n",
       "      <td>3.916512</td>\n",
       "      <td>3.916512</td>\n",
       "    </tr>\n",
       "    <tr>\n",
       "      <th>3</th>\n",
       "      <td>5000</td>\n",
       "      <td>python</td>\n",
       "      <td>0.000000</td>\n",
       "      <td>0.005336</td>\n",
       "      <td>26.679242</td>\n",
       "      <td>26.679242</td>\n",
       "    </tr>\n",
       "    <tr>\n",
       "      <th>4</th>\n",
       "      <td>10000</td>\n",
       "      <td>python</td>\n",
       "      <td>0.000000</td>\n",
       "      <td>0.005912</td>\n",
       "      <td>59.122252</td>\n",
       "      <td>59.122252</td>\n",
       "    </tr>\n",
       "  </tbody>\n",
       "</table>\n",
       "</div>"
      ],
      "text/plain": [
       "   n_fields        method        init      query      query_sum          total\n",
       "0       100  NN,ball_tree    0.578889   0.276320      27.632021      28.210911\n",
       "1       500  NN,ball_tree    6.417314   0.197804      98.901799     105.319113\n",
       "2      1000  NN,ball_tree   16.143874   0.242823     242.823346     258.967220\n",
       "3      5000  NN,ball_tree  135.567186   0.727733    3638.662803    3774.229990\n",
       "4     10000  NN,ball_tree  321.719568   0.654535    6545.349097    6867.068665\n",
       "0       100      NN,brute    0.000211   0.336826      33.682585      33.682796\n",
       "1       500      NN,brute    0.000162   1.597116     798.557830     798.557992\n",
       "2      1000      NN,brute    0.000154   3.169849    3169.848680    3169.848834\n",
       "3      5000      NN,brute    0.000181  15.953248   79766.240120   79766.240301\n",
       "4     10000      NN,brute    0.000226  30.924592  309245.916605  309245.916831\n",
       "0       100        python    0.000000   0.004684       0.468397       0.468397\n",
       "1       500        python    0.000000   0.003173       1.586742       1.586742\n",
       "2      1000        python    0.000000   0.003917       3.916512       3.916512\n",
       "3      5000        python    0.000000   0.005336      26.679242      26.679242\n",
       "4     10000        python    0.000000   0.005912      59.122252      59.122252"
      ]
     },
     "execution_count": 53,
     "metadata": {},
     "output_type": "execute_result"
    }
   ],
   "source": [
    "time_elapsed_query_total = np.array(list(time_elapsed_query.keys())) * np.array(list(time_elapsed_query.values()))\n",
    "time_elapsed_total = np.array(list(time_elapsed_init.values())) + time_elapsed_query_total\n",
    "\n",
    "time_elapsed_temp = {\n",
    "        'n_fields': list(time_elapsed_init.keys()),\n",
    "        'method': list(method_used.values()),\n",
    "        'init': list(time_elapsed_init.values()),\n",
    "        'query': list(time_elapsed_query.values()),\n",
    "        'query_sum': time_elapsed_query_total,\n",
    "        'total': time_elapsed_total\n",
    "}\n",
    "del time_elapsed_query_total, time_elapsed_total\n",
    "time_elapsed = pd.concat([time_elapsed, pd.DataFrame(time_elapsed_temp)])\n",
    "time_elapsed"
   ]
  },
  {
   "cell_type": "code",
   "execution_count": 54,
   "id": "7f4eed74-3f41-454f-a5f1-27063935b042",
   "metadata": {},
   "outputs": [
    {
     "data": {
      "image/png": "[encoded data removed]",
      "text/plain": [
       "<Figure size 1152x360 with 1 Axes>"
      ]
     },
     "metadata": {
      "needs_background": "light"
     },
     "output_type": "display_data"
    }
   ],
   "source": [
    "sns.scatterplot(data=time_elapsed, x='n_fields', y='init', hue='method', style='method', markers=('o', 's', '^'))\n",
    "plt.xscale('log'); plt.yscale('log');"
   ]
  },
  {
   "cell_type": "code",
   "execution_count": 55,
   "id": "a961bcc4-bdb1-45a3-b203-ff8e241ad6e4",
   "metadata": {},
   "outputs": [
    {
     "data": {
      "image/png": "[encoded data removed]",
      "text/plain": [
       "<Figure size 1152x360 with 1 Axes>"
      ]
     },
     "metadata": {
      "needs_background": "light"
     },
     "output_type": "display_data"
    }
   ],
   "source": [
    "sns.scatterplot(data=time_elapsed, x='n_fields', y='query', hue='method', style='method', markers=('o', 's', '^'))\n",
    "plt.xscale('log'); plt.yscale('log');"
   ]
  },
  {
   "cell_type": "code",
   "execution_count": 56,
   "id": "4d79cc8f-70b9-45bd-a2bf-d5888cc2670a",
   "metadata": {},
   "outputs": [
    {
     "data": {
      "image/png": "[encoded data removed]",
      "text/plain": [
       "<Figure size 1152x360 with 1 Axes>"
      ]
     },
     "metadata": {
      "needs_background": "light"
     },
     "output_type": "display_data"
    }
   ],
   "source": [
    "sns.scatterplot(data=time_elapsed, x='n_fields', y='query_sum', hue='method', style='method', markers=('o', 's', '^'))\n",
    "plt.xscale('log'); plt.yscale('log');"
   ]
  },
  {
   "cell_type": "code",
   "execution_count": 57,
   "id": "65207cb3-937c-474c-b696-b64f05013430",
   "metadata": {},
   "outputs": [
    {
     "data": {
      "image/png": "[encoded data removed]",
      "text/plain": [
       "<Figure size 1152x360 with 1 Axes>"
      ]
     },
     "metadata": {
      "needs_background": "light"
     },
     "output_type": "display_data"
    }
   ],
   "source": [
    "sns.scatterplot(data=time_elapsed, x='n_fields', y='total', hue='method', style='method', markers=('o', 's', '^'))\n",
    "plt.xscale('log'); plt.yscale('log');"
   ]
  },
  {
   "cell_type": "markdown",
   "id": "3394f96a-699a-46a4-9bec-b09e3a0f6413",
   "metadata": {},
   "source": [
    "### Result"
   ]
  },
  {
   "cell_type": "markdown",
   "id": "5451c225-f8a9-442d-b12a-dc62e389934e",
   "metadata": {},
   "source": [
    "The simple python brute force implementation is by far the fastest. This is probably be case, because I am using a custom distance measure. scikit is specifically optimized for the usual distance measures. I suspect that it cannot vectorize the provided callable distance measure. Thus, the direct python implementation, where I use astropy's vectorization of coordinates, is faster."
   ]
  },
  {
   "cell_type": "markdown",
   "id": "b74d2ae1-aa84-487b-9dce-8da58b5ba3c8",
   "metadata": {},
   "source": [
    "<div class=\"alert alert-block alert-success\">\n",
    "<b>Decision:</b> Use a simple python implementation. No use for scikit-learn.\n",
    "</div>"
   ]
  },
  {
   "cell_type": "markdown",
   "id": "777e1c3b-daf3-4934-816b-208ad1aac864",
   "metadata": {
    "tags": []
   },
   "source": [
    "## On-the-fly identification vs. database query\n",
    "\n",
    "Is it faster to identify the field neighbors on-the-fly or via database query? In the former case the identification has to be repeated each time that fields are queried for the survey planner. In the latter case the identification happens once, when fields are added to the database and associations are then queried from the database for the survey planner."
   ]
  },
  {
   "cell_type": "markdown",
   "id": "4881ee5c-c904-4c3e-aa78-842d240a1d7a",
   "metadata": {},
   "source": [
    "### Setup test\n",
    "\n",
    "I the real situation we will have almost 100000 fields. I will create a test database for 100000 fields each of which has 20 neighbors. I will also create 100000 coordinates. Then I can test querying against the database vs identifying neighbors on the fly.\n",
    "\n",
    "#### Create test database with random associations\n",
    "\n",
    "The associations do not matter. Therefore, I simply random shuffle the IDs."
   ]
  },
  {
   "cell_type": "code",
   "execution_count": 6,
   "id": "9c08f1bb-56d7-4591-9139-56d14cb62d21",
   "metadata": {},
   "outputs": [],
   "source": [
    "with sqlite3.connect('test_neigh.sqlite3') as connection:\n",
    "    cursor = connection.cursor()\n",
    "    \n",
    "    # create table:\n",
    "    query = \"\"\"\\\n",
    "            CREATE TABLE Neighbors(\n",
    "                field_id integer,\n",
    "                neighbor_id integer)\n",
    "            \"\"\"\n",
    "    cursor.execute(query)\n",
    "    connection.commit()\n",
    "    \n",
    "    # create field IDs and 20 random associations for each field:\n",
    "    field_ids = np.arange(100000)\n",
    "    field_ids = np.repeat(field_ids, 20)\n",
    "    neighbor_ids = np.array(field_ids)\n",
    "    np.random.shuffle(neighbor_ids)\n",
    "    \n",
    "    # add associations to database:\n",
    "    query = \"\"\"\\\n",
    "            INSERT INTO Neighbors (\n",
    "                field_id, neighbor_id)\n",
    "            VALUES (?, ?);\n",
    "            \"\"\"\n",
    "    values = [[int(f), int(n)] for f, n in zip(field_ids, neighbor_ids)]\n",
    "    cursor.executemany(query, values)\n",
    "    connection.commit()\n",
    "    \n",
    "    del field_ids, neighbor_ids, values, query"
   ]
  },
  {
   "cell_type": "code",
   "execution_count": 7,
   "id": "6ab461a3-a5a0-4864-bb9f-c71830e91eaf",
   "metadata": {},
   "outputs": [],
   "source": [
    "def query():\n",
    "    field_id = np.random.randint(100000)\n",
    "    \n",
    "    with sqlite3.connect('test_neigh.sqlite3') as connection:\n",
    "        cursor = connection.cursor()\n",
    "\n",
    "        # create table:\n",
    "        query = \"\"\"\\\n",
    "                SELECT neighbor_id\n",
    "                FROM Neighbors\n",
    "                WHERE field_id = {0};\n",
    "                \"\"\".format(field_id)\n",
    "        results = cursor.execute(query).fetchall()\n",
    "        results = [r[0] for r in results]\n",
    "        \n",
    "    return results"
   ]
  },
  {
   "cell_type": "markdown",
   "id": "7fc26cc0-3006-4c87-8a6c-16cb10456a49",
   "metadata": {},
   "source": [
    "#### Create random field coordinates"
   ]
  },
  {
   "cell_type": "code",
   "execution_count": 8,
   "id": "98a4926a-cdb1-4a28-a87d-c657295bc9f6",
   "metadata": {},
   "outputs": [],
   "source": [
    "coord, _ = gen_data(100000)"
   ]
  },
  {
   "cell_type": "code",
   "execution_count": 9,
   "id": "05982245-5d50-466a-86a5-cc9489a44f00",
   "metadata": {},
   "outputs": [],
   "source": [
    "def brute_force():\n",
    "    field_id = np.random.randint(100000)\n",
    "    coords = SkyCoord(coord[:,0], coord[:,1], unit='rad')\n",
    "    coords_target = coords[field_id]\n",
    "    sel = coords_target.separation(coords) < 2. * u.deg\n",
    "    ids = list(np.arange(coords.shape[0])[sel])\n",
    "    \n",
    "    return ids"
   ]
  },
  {
   "cell_type": "markdown",
   "id": "5bf7ed47-0d07-4f30-8d0f-9cfed7f557ae",
   "metadata": {},
   "source": [
    "### Run test"
   ]
  },
  {
   "cell_type": "code",
   "execution_count": 10,
   "id": "5f0eba03-22da-4823-a02e-7ef3a8421dc0",
   "metadata": {},
   "outputs": [],
   "source": [
    "n_iter = 100"
   ]
  },
  {
   "cell_type": "code",
   "execution_count": 11,
   "id": "698d593a-e3c9-438b-b37e-4c05ea71258a",
   "metadata": {},
   "outputs": [],
   "source": [
    "time_bf, __ = timeit(brute_force, n_iter=n_iter)"
   ]
  },
  {
   "cell_type": "code",
   "execution_count": 12,
   "id": "0c505f79-987b-40d8-b832-90ff265034f9",
   "metadata": {},
   "outputs": [],
   "source": [
    "time_query, __ = timeit(query, n_iter=n_iter)"
   ]
  },
  {
   "cell_type": "code",
   "execution_count": 13,
   "id": "bad37e5b-44df-4f26-a806-553143477fc0",
   "metadata": {},
   "outputs": [
    {
     "name": "stdout",
     "output_type": "stream",
     "text": [
      "Average run time for brute force approach:    0.03 s\n",
      "Average run time for database query approach: 0.08 s\n",
      "Difference: 0.05 s\n",
      "Ratio:      2.87\n"
     ]
    }
   ],
   "source": [
    "print(f'Average run time for brute force approach:    {time_bf:.2f} s')\n",
    "print(f'Average run time for database query approach: {time_query:.2f} s')\n",
    "print(f'Difference: {abs(time_query-time_bf):.2f} s')\n",
    "print(f'Ratio:      {time_query/time_bf:.2f}')"
   ]
  },
  {
   "cell_type": "markdown",
   "id": "e4ebc46c-64f0-4d70-b3bb-8cf4363d864c",
   "metadata": {},
   "source": [
    "### Result"
   ]
  },
  {
   "cell_type": "markdown",
   "id": "4a9437ac-0301-49d6-8e12-6d68603a7a84",
   "metadata": {},
   "source": [
    "<div class=\"alert alert-block alert-success\">\n",
    "The difference in marginal and both approaches are very fast. What this test neglects is that the brute force appoach also needs to query all coordinates first. This query will not be longer than the one done here, thus in total the brute force approach will still be very fast. There is no clear advantage in pre-identifying all neighbors and storing those associations in the database. We can simply identify them on-the-fly. The advantage of the on-the-fly approach is that we do not have to fix the radius. It can simply be a parameter stored in the database. Changing it, will only affect the later on-the-fly identifications and not any pre-identified associations, which would need to be changed.\n",
    "</div>"
   ]
  },
  {
   "cell_type": "markdown",
   "id": "fe46a435-22a4-4bc7-aa1c-c780c663735c",
   "metadata": {},
   "source": [
    "## Conclusions"
   ]
  },
  {
   "cell_type": "markdown",
   "id": "1caddf16-7b75-4314-93ca-688c4a7475e6",
   "metadata": {},
   "source": [
    "<div class=\"alert alert-block alert-success\">\n",
    "I will directly implement the pure python/astropy brute-force approach. It will run on-the-fly, when available fields have been identified.\n",
    "</div>"
   ]
  },
  {
   "cell_type": "code",
   "execution_count": null,
   "id": "53001f11-5745-4fbf-b863-b92af81790f4",
   "metadata": {},
   "outputs": [],
   "source": []
  }
 ],
 "metadata": {
  "kernelspec": {
   "display_name": "Python 3 (ipykernel)",
   "language": "python",
   "name": "python3"
  },
  "language_info": {
   "codemirror_mode": {
    "name": "ipython",
    "version": 3
   },
   "file_extension": ".py",
   "mimetype": "text/x-python",
   "name": "python",
   "nbconvert_exporter": "python",
   "pygments_lexer": "ipython3",
   "version": "3.9.18"
  },
  "toc-autonumbering": true
 },
 "nbformat": 4,
 "nbformat_minor": 5
}

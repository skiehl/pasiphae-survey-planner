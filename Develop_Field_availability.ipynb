{
 "cells": [
  {
   "cell_type": "code",
   "execution_count": 1,
   "id": "c3aa2dd8-388c-41ac-851d-c8b6dc64cd67",
   "metadata": {},
   "outputs": [],
   "source": [
    "%load_ext autoreload\n",
    "%autoreload 2"
   ]
  },
  {
   "cell_type": "code",
   "execution_count": 2,
   "id": "53441596-b4ab-4358-9000-ae14c1b1a669",
   "metadata": {},
   "outputs": [],
   "source": [
    "from astropy.time import Time\n",
    "import astropy.units as u\n",
    "import numpy as np\n",
    "import pandas as pd\n",
    "from scipy.stats import linregress\n",
    "import seaborn as sns\n",
    "\n",
    "from db import DBConnectorSQLite, SQLiteConnection"
   ]
  },
  {
   "cell_type": "code",
   "execution_count": 3,
   "id": "cdb4ab1c-4e40-44a6-82aa-d41f1801cc09",
   "metadata": {},
   "outputs": [],
   "source": [
    "db = DBConnectorSQLite('test.sqlite3')"
   ]
  },
  {
   "cell_type": "code",
   "execution_count": 5,
   "id": "7dfc068c-be06-466a-9bf1-59df150fa000",
   "metadata": {},
   "outputs": [
    {
     "data": {
      "text/plain": [
       "<AxesSubplot:ylabel='duration'>"
      ]
     },
     "execution_count": 5,
     "metadata": {},
     "output_type": "execute_result"
    },
    {
     "data": {
      "image/png": "[encoded data removed]",
      "text/plain": [
       "<Figure size 432x288 with 1 Axes>"
      ]
     },
     "metadata": {
      "needs_background": "light"
     },
     "output_type": "display_data"
    }
   ],
   "source": [
    "field_id = 21\n",
    "\n",
    "with SQLiteConnection('test.sqlite3') as connection:\n",
    "    query = \"\"\"\n",
    "    SELECT * FROM ObsWindows\n",
    "    WHERE (field_id={0})\n",
    "    \"\"\".format(field_id)\n",
    "    results = db._query(connection, query).fetchall()\n",
    "    \n",
    "results = pd.DataFrame(results, columns=('obswindow_id', 'field_id', 'date_start', 'date_stop', 'duration', 'active'))\n",
    "results['duration'] *= 24.\n",
    "\n",
    "sns.scatterplot(data=results, x=np.arange(results.shape[0]), y='duration')"
   ]
  },
  {
   "cell_type": "code",
   "execution_count": 16,
   "id": "896c5288-9d7b-4df7-b1bd-251fd69071f0",
   "metadata": {},
   "outputs": [
    {
     "name": "stdout",
     "output_type": "stream",
     "text": [
      "LinregressResult(slope=-0.0833333333333357, intercept=5.433333333333335, rvalue=-1.0, pvalue=0.0, stderr=0.0, intercept_stderr=0.0)\n",
      "Source is setting.\n",
      "Source still observable for: 65.19999999999817 d\n",
      "That is until: 2022-08-03\n"
     ]
    },
    {
     "data": {
      "image/png": "[encoded data removed]",
      "text/plain": [
       "<Figure size 432x288 with 1 Axes>"
      ]
     },
     "metadata": {
      "needs_background": "light"
     },
     "output_type": "display_data"
    }
   ],
   "source": [
    "date_start = Time('2022-05-30')\n",
    "date_stop = date_start + 7 * u.d\n",
    "\n",
    "with SQLiteConnection('test.sqlite3') as connection:\n",
    "    query = \"\"\"\n",
    "    SELECT * FROM ObsWindows\n",
    "    WHERE (field_id={0} AND\n",
    "           date_start>'{1}' AND\n",
    "           date_stop<'{2}')\n",
    "    \"\"\".format(field_id, date_start.iso, date_stop.iso)\n",
    "    results = db._query(connection, query).fetchall()\n",
    "    \n",
    "results = pd.DataFrame(results, columns=('obswindow_id', 'field_id', 'date_start', 'date_stop', 'duration', 'active'))\n",
    "results['duration'] *= 24.\n",
    "\n",
    "sns.scatterplot(data=results, x=np.arange(results.shape[0]), y='duration')\n",
    "linreg = linregress(np.arange(results.shape[0]), results['duration'].to_numpy())\n",
    "\n",
    "print(linreg)\n",
    "if linreg.pvalue < 0.01:\n",
    "    if linreg.slope > 0:\n",
    "        print('Source is rising.')\n",
    "    else:\n",
    "        print('Source is setting.')\n",
    "        duration = -linreg.intercept / linreg.slope * u.d\n",
    "        print('Source still observable for:', duration)\n",
    "        print('That is until:', (date_start + duration).iso[:10])\n",
    "else:\n",
    "    print('Source is plateauing.')"
   ]
  },
  {
   "cell_type": "code",
   "execution_count": 12,
   "id": "660789dd-7528-49c5-861f-263c80722401",
   "metadata": {},
   "outputs": [
    {
     "data": {
      "text/plain": [
       "array([0.24236111, 0.24236111, 0.23958333, 0.23611111, 0.23263889,\n",
       "       0.22916667, 0.22638889])"
      ]
     },
     "execution_count": 12,
     "metadata": {},
     "output_type": "execute_result"
    }
   ],
   "source": [
    "durations = db.get_obs_window_durations(field_id, date_start, date_stop)\n",
    "durations = np.array(durations).squeeze()\n",
    "durations"
   ]
  }
 ],
 "metadata": {
  "kernelspec": {
   "display_name": "Python 3 (ipykernel)",
   "language": "python",
   "name": "python3"
  },
  "language_info": {
   "codemirror_mode": {
    "name": "ipython",
    "version": 3
   },
   "file_extension": ".py",
   "mimetype": "text/x-python",
   "name": "python",
   "nbconvert_exporter": "python",
   "pygments_lexer": "ipython3",
   "version": "3.9.18"
  }
 },
 "nbformat": 4,
 "nbformat_minor": 5
}

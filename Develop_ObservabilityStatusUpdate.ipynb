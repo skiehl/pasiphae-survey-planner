{
 "cells": [
  {
   "cell_type": "markdown",
   "id": "17d11c90-fe45-433a-84b4-9b2892f1cfd3",
   "metadata": {},
   "source": [
    "# Develop status updates for field observabilities"
   ]
  },
  {
   "cell_type": "code",
   "execution_count": 1,
   "id": "a5a263ca-8233-4531-bfb3-8417c70267d3",
   "metadata": {},
   "outputs": [],
   "source": [
    "from copy import copy\n",
    "from itertools import product\n",
    "import matplotlib.pyplot as plt\n",
    "import numpy as np\n",
    "import pandas as pd\n",
    "from scipy.stats import linregress\n",
    "import seaborn as sns\n",
    "import statsmodels.api as sm\n",
    "\n",
    "from db import DBConnectorSQLite\n",
    "from utilities import true_blocks"
   ]
  },
  {
   "cell_type": "code",
   "execution_count": 2,
   "id": "1572c4c4-9177-420c-ae6c-31f6c070b98f",
   "metadata": {},
   "outputs": [],
   "source": [
    "palette = {'not observable': 'r', 'init': 'orange', 'rising': 'g', 'plateauing': 'c', 'setting': 'b', 'unknown': '0.5'}"
   ]
  },
  {
   "cell_type": "code",
   "execution_count": 3,
   "id": "d02b9d53-36b1-47c6-80ab-bbb77d5250d3",
   "metadata": {},
   "outputs": [],
   "source": [
    "pd.set_option('display.max_rows', 100)"
   ]
  },
  {
   "cell_type": "markdown",
   "id": "ab2024b8-57d2-4fa1-85fa-273ad006d7f2",
   "metadata": {},
   "source": [
    "## Get data"
   ]
  },
  {
   "cell_type": "markdown",
   "id": "e2ca26e1-3028-4691-86cf-f3ba34eac971",
   "metadata": {},
   "source": [
    "Get fields that have observability entries with missing status information:"
   ]
  },
  {
   "cell_type": "code",
   "execution_count": 4,
   "id": "e3e398b6-d0e8-4915-9c9e-fe90b8c6f72a",
   "metadata": {},
   "outputs": [],
   "source": [
    "def get_fields_missing_status(db):\n",
    "    \"\"\"Get fields that have associated observing windows without\n",
    "        observability status information.\n",
    "\n",
    "        Parameters\n",
    "        ----------\n",
    "        db : db.DBConnectorSQLite\n",
    "            Active database connection.\n",
    "\n",
    "        Returns\n",
    "        -------\n",
    "        field_ids : numpy.ndarray\n",
    "            Field IDs of fields with missing observing status.\n",
    "        jd_min : numpy.ndarray\n",
    "            JD of the first missing observing status corresponding to each\n",
    "            field.\n",
    "        jd_max : numpy.ndarray\n",
    "            JD of the last missing observing status corresponding to each\n",
    "            field.\n",
    "    \"\"\"\n",
    "\n",
    "    fields = db.get_fields_missing_status()\n",
    "    fields = pd.DataFrame(fields, columns=('field_id', 'jd'))\n",
    "    fields = fields.groupby('field_id').agg(\n",
    "            jd_min=('jd', 'min'), jd_max=('jd', 'max'))\n",
    "    field_ids = fields.index.to_numpy()\n",
    "    jd_min = fields['jd_min'].to_numpy()\n",
    "    jd_max = fields['jd_max'].to_numpy()\n",
    "\n",
    "    return field_ids, jd_min, jd_max"
   ]
  },
  {
   "cell_type": "markdown",
   "id": "3d436530-4530-485a-b06b-07a498fd5cc8",
   "metadata": {},
   "source": [
    "### Connect to database"
   ]
  },
  {
   "cell_type": "markdown",
   "id": "a91efee1-57e2-43a0-adc0-0ecc3032a975",
   "metadata": {},
   "source": [
    "The following database has observing windows, but no statuses stored:"
   ]
  },
  {
   "cell_type": "code",
   "execution_count": 457,
   "id": "2b657eac-b3a6-4721-9543-3e00a008ecd0",
   "metadata": {},
   "outputs": [],
   "source": [
    "db_file = 'test_status_init.sqlite3'\n",
    "db = DBConnectorSQLite(db_file)"
   ]
  },
  {
   "cell_type": "code",
   "execution_count": 458,
   "id": "9983db32-4f04-40fb-9b60-660ee6fb23d5",
   "metadata": {},
   "outputs": [],
   "source": [
    "days_before = 7\n",
    "days_after = 7"
   ]
  },
  {
   "cell_type": "code",
   "execution_count": 459,
   "id": "456f33fb-81ef-4735-a114-45f857820e7e",
   "metadata": {},
   "outputs": [],
   "source": [
    "field_ids, jds_min, jds_max = get_fields_missing_status(db)\n",
    "days_required = days_before + days_after + 1\n",
    "jds_before = jds_min - days_before\n",
    "jds_after = jds_max + days_after"
   ]
  },
  {
   "cell_type": "code",
   "execution_count": 460,
   "id": "178f5959-7d4d-4f2f-8396-10f465c42ce9",
   "metadata": {},
   "outputs": [
    {
     "name": "stdout",
     "output_type": "stream",
     "text": [
      "Fields with missing status: 1393\n"
     ]
    }
   ],
   "source": [
    "print('Fields with missing status:', field_ids.shape[0])"
   ]
  },
  {
   "cell_type": "markdown",
   "id": "2e2f7f54-2801-43a0-8492-5ea74c9e3821",
   "metadata": {},
   "source": [
    "### Select one of the fields for testing"
   ]
  },
  {
   "cell_type": "markdown",
   "id": "9a106d52-aaba-4570-9c6d-93bab3d18e62",
   "metadata": {},
   "source": [
    "I am selecting a specific case for developing the approaches below. Later I will iterate through more cases to show that the methods work well in general."
   ]
  },
  {
   "cell_type": "code",
   "execution_count": 100,
   "id": "a09bff7c-c871-4bb2-afef-a2d81bfade73",
   "metadata": {},
   "outputs": [],
   "source": [
    "field_id = 400\n",
    "i = np.nonzero(field_ids == field_id)[0][0]"
   ]
  },
  {
   "cell_type": "code",
   "execution_count": 101,
   "id": "17f3033c-e11f-44d2-ae50-d5d1b0d967bb",
   "metadata": {},
   "outputs": [
    {
     "data": {
      "image/png": "[encoded data removed]",
      "text/plain": [
       "<Figure size 640x480 with 1 Axes>"
      ]
     },
     "metadata": {},
     "output_type": "display_data"
    }
   ],
   "source": [
    "durations_init = db.get_obs_window_durations(\n",
    "        field_ids[i], jds_before[i], jds_after[i])\n",
    "durations_init = pd.DataFrame(\n",
    "        durations_init, columns=('observability_id', 'jd', 'status', 'duration'))\n",
    "durations_init = durations_init.groupby(['observability_id', 'jd', 'status']).sum()\n",
    "durations_init.reset_index(inplace=True)\n",
    "durations_init['setting_in'] = np.zeros(durations_init.shape[0]) * np.nan\n",
    "durations_init['update'] = np.zeros(durations_init.shape[0], dtype=bool)\n",
    "\n",
    "sns.scatterplot(data=durations_init, x='jd', y='duration', hue='status', palette=palette);\n",
    "#print(durations_init)"
   ]
  },
  {
   "cell_type": "markdown",
   "id": "fe8ac67b-e14f-4b17-ab94-11c0371ce55c",
   "metadata": {},
   "source": [
    "## Determine status for new observabilities"
   ]
  },
  {
   "cell_type": "markdown",
   "id": "33da658f-14e9-4e1d-85b7-4ab4c1e3dce7",
   "metadata": {},
   "source": [
    "### Too few data points to work with\n",
    "\n",
    "If too few days are available to determine the status, we leave everything unchanged:"
   ]
  },
  {
   "cell_type": "code",
   "execution_count": 103,
   "id": "0927ea7b-942b-426c-994d-4dcb0216df36",
   "metadata": {},
   "outputs": [],
   "source": [
    "# create a shorter copy of the initial mock data above to demonstrate this part of the code:\n",
    "durations = copy(durations_init)\n",
    "durations = durations.iloc[:10]"
   ]
  },
  {
   "cell_type": "code",
   "execution_count": 104,
   "id": "7633a181-680b-422c-8ae1-3a24d07d4b2a",
   "metadata": {},
   "outputs": [
    {
     "name": "stdout",
     "output_type": "stream",
     "text": [
      "Too few days\n"
     ]
    }
   ],
   "source": [
    "if durations.shape[0] < days_required:\n",
    "    print('Too few days')"
   ]
  },
  {
   "cell_type": "code",
   "execution_count": 105,
   "id": "ed9278fc-2666-4258-9fde-9cef2ed129b1",
   "metadata": {},
   "outputs": [
    {
     "data": {
      "text/html": [
       "<div>\n",
       "<style scoped>\n",
       "    .dataframe tbody tr th:only-of-type {\n",
       "        vertical-align: middle;\n",
       "    }\n",
       "\n",
       "    .dataframe tbody tr th {\n",
       "        vertical-align: top;\n",
       "    }\n",
       "\n",
       "    .dataframe thead th {\n",
       "        text-align: right;\n",
       "    }\n",
       "</style>\n",
       "<table border=\"1\" class=\"dataframe\">\n",
       "  <thead>\n",
       "    <tr style=\"text-align: right;\">\n",
       "      <th></th>\n",
       "      <th>observability_id</th>\n",
       "      <th>jd</th>\n",
       "      <th>status</th>\n",
       "      <th>duration</th>\n",
       "      <th>setting_in</th>\n",
       "      <th>update</th>\n",
       "    </tr>\n",
       "  </thead>\n",
       "  <tbody>\n",
       "    <tr>\n",
       "      <th>0</th>\n",
       "      <td>279</td>\n",
       "      <td>2460310.5</td>\n",
       "      <td>init</td>\n",
       "      <td>0.281420</td>\n",
       "      <td>NaN</td>\n",
       "      <td>False</td>\n",
       "    </tr>\n",
       "    <tr>\n",
       "      <th>1</th>\n",
       "      <td>1330</td>\n",
       "      <td>2460311.5</td>\n",
       "      <td>init</td>\n",
       "      <td>0.284344</td>\n",
       "      <td>NaN</td>\n",
       "      <td>False</td>\n",
       "    </tr>\n",
       "    <tr>\n",
       "      <th>2</th>\n",
       "      <td>2389</td>\n",
       "      <td>2460312.5</td>\n",
       "      <td>init</td>\n",
       "      <td>0.287248</td>\n",
       "      <td>NaN</td>\n",
       "      <td>False</td>\n",
       "    </tr>\n",
       "    <tr>\n",
       "      <th>3</th>\n",
       "      <td>3441</td>\n",
       "      <td>2460313.5</td>\n",
       "      <td>init</td>\n",
       "      <td>0.289439</td>\n",
       "      <td>NaN</td>\n",
       "      <td>False</td>\n",
       "    </tr>\n",
       "    <tr>\n",
       "      <th>4</th>\n",
       "      <td>4498</td>\n",
       "      <td>2460314.5</td>\n",
       "      <td>init</td>\n",
       "      <td>0.292304</td>\n",
       "      <td>NaN</td>\n",
       "      <td>False</td>\n",
       "    </tr>\n",
       "    <tr>\n",
       "      <th>5</th>\n",
       "      <td>5553</td>\n",
       "      <td>2460315.5</td>\n",
       "      <td>init</td>\n",
       "      <td>0.295151</td>\n",
       "      <td>NaN</td>\n",
       "      <td>False</td>\n",
       "    </tr>\n",
       "    <tr>\n",
       "      <th>6</th>\n",
       "      <td>6612</td>\n",
       "      <td>2460316.5</td>\n",
       "      <td>init</td>\n",
       "      <td>0.297978</td>\n",
       "      <td>NaN</td>\n",
       "      <td>False</td>\n",
       "    </tr>\n",
       "    <tr>\n",
       "      <th>7</th>\n",
       "      <td>7667</td>\n",
       "      <td>2460317.5</td>\n",
       "      <td>init</td>\n",
       "      <td>0.300785</td>\n",
       "      <td>NaN</td>\n",
       "      <td>False</td>\n",
       "    </tr>\n",
       "    <tr>\n",
       "      <th>8</th>\n",
       "      <td>8727</td>\n",
       "      <td>2460318.5</td>\n",
       "      <td>init</td>\n",
       "      <td>0.303572</td>\n",
       "      <td>NaN</td>\n",
       "      <td>False</td>\n",
       "    </tr>\n",
       "    <tr>\n",
       "      <th>9</th>\n",
       "      <td>9779</td>\n",
       "      <td>2460319.5</td>\n",
       "      <td>init</td>\n",
       "      <td>0.306339</td>\n",
       "      <td>NaN</td>\n",
       "      <td>False</td>\n",
       "    </tr>\n",
       "  </tbody>\n",
       "</table>\n",
       "</div>"
      ],
      "text/plain": [
       "   observability_id         jd status  duration  setting_in  update\n",
       "0               279  2460310.5   init  0.281420         NaN   False\n",
       "1              1330  2460311.5   init  0.284344         NaN   False\n",
       "2              2389  2460312.5   init  0.287248         NaN   False\n",
       "3              3441  2460313.5   init  0.289439         NaN   False\n",
       "4              4498  2460314.5   init  0.292304         NaN   False\n",
       "5              5553  2460315.5   init  0.295151         NaN   False\n",
       "6              6612  2460316.5   init  0.297978         NaN   False\n",
       "7              7667  2460317.5   init  0.300785         NaN   False\n",
       "8              8727  2460318.5   init  0.303572         NaN   False\n",
       "9              9779  2460319.5   init  0.306339         NaN   False"
      ]
     },
     "execution_count": 105,
     "metadata": {},
     "output_type": "execute_result"
    }
   ],
   "source": [
    "durations"
   ]
  },
  {
   "cell_type": "markdown",
   "id": "935d0df7-73c2-4cdd-b487-9eb42fb95bf8",
   "metadata": {},
   "source": [
    "### Data flagging"
   ]
  },
  {
   "cell_type": "markdown",
   "id": "1a90e3c0-e009-4068-8c2f-b209220105d8",
   "metadata": {},
   "source": [
    "The next few sub-sections deal with the steps we run when enough data points are available. First we restore a copy of the full data set above:"
   ]
  },
  {
   "cell_type": "code",
   "execution_count": 110,
   "id": "a0248951-eeef-45ee-8f5f-ff7fd6282bf7",
   "metadata": {},
   "outputs": [],
   "source": [
    "# create a copy of the complete, initial mock data above to demonstrate this part of the code:\n",
    "durations = copy(durations_init)"
   ]
  },
  {
   "cell_type": "markdown",
   "id": "95005dc8-f44c-481e-b93a-231720d06452",
   "metadata": {},
   "source": [
    "The first step in the analysis is data flagging. To determine whether an field is rising, plateauing, or setting we fit a range of durations around the day of interest with a linear function. However, some days the duration may be low or even zero due to as small seaparation from the Moon. Those affect the linear regression as outliers. We want to remove those. Zero durations can be easily removed, but small durations are more tricky."
   ]
  },
  {
   "cell_type": "markdown",
   "id": "302503e0-2e63-4865-abd7-5bf10ea59a12",
   "metadata": {},
   "source": [
    "#### Approach 1: residuals from a smoothed curve\n",
    "\n",
    "My usual flagging approach I use for blazar light curves does not work here, as the example below shows:"
   ]
  },
  {
   "cell_type": "code",
   "execution_count": 15,
   "id": "159f8e38-bae2-4250-ae1a-e9bae4ade565",
   "metadata": {},
   "outputs": [],
   "source": [
    "def mask_outliers_hann(x, window_length, threshold):\n",
    "    \"\"\"Identify outliers.\n",
    "\n",
    "    Parameters\n",
    "    ----------\n",
    "    x : array-like\n",
    "        Time-sorted data sequence.\n",
    "    window_length : int\n",
    "        Defines the width of the Hann window function that is used to calculate\n",
    "        a smoothed data curve.\n",
    "    threshold : float\n",
    "        Threshold for detecting outliers. Residuals that are larger than the\n",
    "        mean residual value times this threshold factor are considered\n",
    "        outliers.\n",
    "\n",
    "    Raises\n",
    "    ------\n",
    "    ValueError\n",
    "        Raised, if `window_length` is not an integer.\n",
    "\n",
    "    Returns\n",
    "    -------\n",
    "    outlier : np.ndarray (dtype: bool)\n",
    "        Items are True if a value in the input `x` is considered an outliers;\n",
    "        False otherwise.\n",
    "    x_smoothed : np.ndarray\n",
    "        The smoothed data. Usually I do not return this, but for demonstration below I need to plot these.\n",
    "    \"\"\"\n",
    "\n",
    "    # check input:\n",
    "    x = np.asarray(x)\n",
    "\n",
    "    if not isinstance(window_length, int):\n",
    "        raise ValueError(\"`window_length` must be integer.\")\n",
    "\n",
    "    # smoothed data:\n",
    "    s = np.r_[x[window_length-1:0:-1], x, x[-2:-window_length-1:-1]]\n",
    "    w = np.hanning(window_length)\n",
    "    n = int(np.floor(window_length/2))\n",
    "    x_smoothed = np.convolve(w/w.sum(), s, mode='valid')[n:-n]\n",
    "\n",
    "    # residuals:\n",
    "    x_res = np.absolute(x - x_smoothed)\n",
    "    mean_res = x_res.mean()\n",
    "\n",
    "    # identify outliers:\n",
    "    outlier = x_res > threshold * mean_res\n",
    "\n",
    "    return outlier, x_smoothed"
   ]
  },
  {
   "cell_type": "markdown",
   "id": "32a343a4-c97c-4e94-b997-aea0870ffbd4",
   "metadata": {},
   "source": [
    "Irregardless which `window_length` we use, the wrong data points are flagged, because the smoothed data is strongly affected by the outliers:"
   ]
  },
  {
   "cell_type": "code",
   "execution_count": 16,
   "id": "22dcab3a-5066-4b13-a0ce-5d4b0b181f0d",
   "metadata": {},
   "outputs": [
    {
     "data": {
      "image/png": "[encoded data removed]",
      "text/plain": [
       "<Figure size 640x480 with 1 Axes>"
      ]
     },
     "metadata": {},
     "output_type": "display_data"
    }
   ],
   "source": [
    "window_length = 11\n",
    "sel_init = durations['status'] == 'init'\n",
    "mask, s_smoothed = mask_outliers_hann(durations.loc[sel_init, 'duration'], window_length, 3)\n",
    "sns.scatterplot(data=durations.loc[sel_init].loc[~mask], x='jd', y='duration')\n",
    "sns.scatterplot(data=durations.loc[sel_init].loc[mask], x='jd', y='duration')\n",
    "plt.plot(durations['jd'].loc[sel_init], s_smoothed, marker='x', color='0.5', ms=4);"
   ]
  },
  {
   "cell_type": "markdown",
   "id": "8bcd71f8-6c00-4224-92ad-49d05880127d",
   "metadata": {},
   "source": [
    "#### Approach 2: Cook's distance"
   ]
  },
  {
   "cell_type": "markdown",
   "id": "ff4f82bf-0866-4405-9d2b-776e95ddcb6c",
   "metadata": {},
   "source": [
    "Here, I am using OLS from `statsmodels` which provides the [Cook's distance](https://en.wikipedia.org/wiki/Cook%27s_distance) as measure of influence on the fit.\n",
    "\n",
    "First, I am selecting a subset of the data:"
   ]
  },
  {
   "cell_type": "code",
   "execution_count": 17,
   "id": "1a6bb0b9-58dd-4e1f-a026-65de226e5e2d",
   "metadata": {},
   "outputs": [
    {
     "data": {
      "image/png": "[encoded data removed]",
      "text/plain": [
       "<Figure size 640x480 with 1 Axes>"
      ]
     },
     "metadata": {},
     "output_type": "display_data"
    }
   ],
   "source": [
    "i0 = 0\n",
    "i1 = 50\n",
    "\n",
    "x = durations.loc[sel_init, 'jd'].iloc[i0:i1]\n",
    "y = durations.loc[sel_init, 'duration'].iloc[i0:i1]\n",
    "plt.plot(x, y, marker='o', linestyle='None');"
   ]
  },
  {
   "cell_type": "markdown",
   "id": "66b5f847-304c-4282-b0b0-063783a15847",
   "metadata": {},
   "source": [
    "Second, I am running the OLS fit and get the Cook's distance. The following plot shows the corresponding p-values:"
   ]
  },
  {
   "cell_type": "code",
   "execution_count": 18,
   "id": "e21b2c6e-74e4-4f7d-8079-83a37ab488a9",
   "metadata": {},
   "outputs": [
    {
     "data": {
      "image/png": "[encoded data removed]",
      "text/plain": [
       "<Figure size 640x480 with 1 Axes>"
      ]
     },
     "metadata": {},
     "output_type": "display_data"
    }
   ],
   "source": [
    "x_mod = sm.add_constant(x)\n",
    "model = sm.OLS(y, x_mod).fit() \n",
    "influence = model.get_influence()\n",
    "cooks, cooks_pval = influence.cooks_distance\n",
    "plt.plot(x, cooks_pval, marker='o');"
   ]
  },
  {
   "cell_type": "markdown",
   "id": "fa6b2911-3b7d-4e8a-9bf0-ebaffa58f328",
   "metadata": {},
   "source": [
    "Third, I am marking those values as outliers that have a Cook's distance p-value < 0.6 (I need to test if this threshold works generally).\n",
    "I remove ourliers and repeat the OLS:"
   ]
  },
  {
   "cell_type": "code",
   "execution_count": 24,
   "id": "65c1ad45-b797-4966-b717-1636ea35e89e",
   "metadata": {},
   "outputs": [
    {
     "name": "stdout",
     "output_type": "stream",
     "text": [
      "Any data points masked: True\n"
     ]
    },
    {
     "data": {
      "text/plain": [
       "const   -5839.724303\n",
       "jd          0.002374\n",
       "dtype: float64"
      ]
     },
     "execution_count": 24,
     "metadata": {},
     "output_type": "execute_result"
    }
   ],
   "source": [
    "mask = cooks_pval < 0.7\n",
    "print('Any data points masked:', np.any(mask))\n",
    "x_masked = durations.loc[sel_init, 'jd'].iloc[i0:i1].loc[~mask]\n",
    "y_masked = durations.loc[sel_init, 'duration'].iloc[i0:i1].loc[~mask]\n",
    "x_mod = sm.add_constant(x_masked)\n",
    "model = sm.OLS(y_masked, x_mod).fit()\n",
    "model.params"
   ]
  },
  {
   "cell_type": "markdown",
   "id": "e9297129-4f52-42f9-9473-ff2d5e3b0522",
   "metadata": {},
   "source": [
    "This is the result:"
   ]
  },
  {
   "cell_type": "code",
   "execution_count": 31,
   "id": "cf758296-6009-49a3-9218-527040bf4e0c",
   "metadata": {},
   "outputs": [
    {
     "name": "stdout",
     "output_type": "stream",
     "text": [
      "Fit p-value (H0: zero slope): 5.704332537307967e-62\n"
     ]
    },
    {
     "data": {
      "image/png": "[encoded data removed]",
      "text/plain": [
       "<Figure size 640x480 with 1 Axes>"
      ]
     },
     "metadata": {},
     "output_type": "display_data"
    }
   ],
   "source": [
    "y_fit = model.params.const + x * model.params.jd\n",
    "plt.plot(x[~mask], y[~mask], marker='o', ls='None')\n",
    "plt.plot(x[mask], y[mask], marker='o', color='0.7', ls='None')\n",
    "plt.plot(x, y_fit, marker='None', ls='-')\n",
    "print('Fit p-value (H0: zero slope):', model.pvalues[1])"
   ]
  },
  {
   "cell_type": "markdown",
   "id": "83b49258-8b1c-4519-9633-c4baf2e45646",
   "metadata": {},
   "source": [
    "We write up the above approach as a function:"
   ]
  },
  {
   "cell_type": "code",
   "execution_count": 33,
   "id": "ba706ffa-b503-4370-a27f-70e80db1cdbd",
   "metadata": {},
   "outputs": [],
   "source": [
    "def mask_outlier_cook(jd, duration, outlier_threshold=0.7):\n",
    "    \"\"\"Linear ordinary least square regression with exclusion of outliers.\n",
    "    \n",
    "    Parameters\n",
    "    ----------\n",
    "    jd : array-like\n",
    "        JD.\n",
    "    duration : array-like\n",
    "        Durations of the observing windows for each JD.\n",
    "    outlier_threshold : float, optional\n",
    "        Threshold for outlier detection. Data points with a Cook's distance p-value\n",
    "        lower than this threshold are considered outliers and excluded from the \n",
    "        regression. The default is 0.6.\n",
    "        \n",
    "    Returns\n",
    "    -------\n",
    "    sel_outl : numpy.ndarray (dtype: bool)\n",
    "        True, for detected outliers. False, otherwise.\n",
    "    \"\"\"\n",
    "    \n",
    "    x = np.asarray(jd)\n",
    "    y = np.asarray(duration)\n",
    "    \n",
    "    # linear regression:\n",
    "    x = sm.add_constant(x)\n",
    "    model = sm.OLS(y, x).fit() \n",
    "    \n",
    "    # check for outliers:\n",
    "    influence = model.get_influence()\n",
    "    __, cooks_pval = influence.cooks_distance\n",
    "    sel_outl = cooks_pval < outlier_threshold\n",
    "    \n",
    "    return sel_outl"
   ]
  },
  {
   "cell_type": "markdown",
   "id": "fefe7e2e-89f6-41e4-8c86-78758d8675f5",
   "metadata": {},
   "source": [
    "Test different values:"
   ]
  },
  {
   "cell_type": "code",
   "execution_count": 38,
   "id": "40812e9e-abe2-4172-ab9a-ed4dae56747a",
   "metadata": {},
   "outputs": [
    {
     "data": {
      "image/png": "[encoded data removed]",
      "text/plain": [
       "<Figure size 640x480 with 1 Axes>"
      ]
     },
     "metadata": {},
     "output_type": "display_data"
    }
   ],
   "source": [
    "n_dp = 11\n",
    "outlier_threshold = 0.7\n",
    "\n",
    "for i0 in np.arange(0, durations.shape[0]-n_dp, n_dp):\n",
    "    i1 = i0 + n_dp\n",
    "    jd = durations.loc[sel_init, 'jd'].iloc[i0:i1]\n",
    "    duration = durations.loc[sel_init, 'duration'].iloc[i0:i1]\n",
    "    sel_outl = mask_outlier_cook(jd, duration, outlier_threshold=outlier_threshold)\n",
    "    \n",
    "    plt.plot(jd[~sel_outl], duration[~sel_outl], ls='None', marker='o')\n",
    "    plt.plot(jd[sel_outl], duration[sel_outl], ls='None', marker='o', mfc='w', color='0.5')"
   ]
  },
  {
   "cell_type": "markdown",
   "id": "f2af5e51-cc83-4c1f-95de-66510bc1b90f",
   "metadata": {},
   "source": [
    "Playing with the number of data points that we select for fitting, `n_dp`, and the outlier detection threshold, `outlier_threshold`, shows that they strongly affect which data points are selected as outliers:\n",
    "\n",
    "**Results:**\n",
    "* A higher threshold, e.g. `0.8`, largely increases the number of \"outliers\". This is not reasonable.\n",
    "* A lower threshold, e.g. `0.5`, will miss some outliers.\n",
    "* The value of `0.7` seems to be a good compromise for this test case. Even though it misclassifies some data points as outliers.\n",
    "* The selection of the threshold also depends on the number of data points. With more data points, e.g. `12`, the impact of single data points becomes smaller, thus a \"clear\" outlier may not be detected as such.\n",
    "* Vice versa with a smaller number of data points, e.g. `7`, the impact of individual data points increases and starting or ending points of a data subset, which typically have stronger impact than other data points (except outliers), may be misclassified as outliers.\n",
    "\n",
    "**Discussion:**\n",
    "None of the above really matters much. We want to make sure to remove the strongest outliers, because the can result in poor estimates of the slope and, thus, misclassification of the status. False outlier detection occasionally removes data points that do not change the slope drastically. Therefore, we do not care. Therefore, it is of higher importance to check further below that the status classification works well, rather than getting the outlier classification absolutely right."
   ]
  },
  {
   "cell_type": "markdown",
   "id": "9d80cc50-e9e3-4aab-9eb0-8240289dc029",
   "metadata": {},
   "source": [
    "### Status classification"
   ]
  },
  {
   "cell_type": "markdown",
   "id": "b146104a-1596-449c-bfd8-12743df620be",
   "metadata": {},
   "source": [
    "I am selecting a specific case for developing the approaches below. Later I will iterate through more cases to show that the methods work well in general."
   ]
  },
  {
   "cell_type": "markdown",
   "id": "e14defed-0b64-40d8-b325-864a14212ec4",
   "metadata": {
    "tags": []
   },
   "source": [
    "#### Approach 1: linear regression p-value\n",
    "\n",
    "**Criterion:** We use the linear regression p-value to distinguish plateauing from rising or setting."
   ]
  },
  {
   "cell_type": "code",
   "execution_count": 244,
   "id": "8a330bb7-0867-4293-8820-1a4a486972ea",
   "metadata": {},
   "outputs": [],
   "source": [
    "def get_status(jd, jds, durations, status_threshold=0.001, mask_outl=None):\n",
    "    \"\"\"Status based on linear ordinary least square regression with exclusion of outliers.\n",
    "    \n",
    "    Parameters\n",
    "    ----------\n",
    "    jd : float\n",
    "        JD of the date of interest.\n",
    "    jds : array-like\n",
    "        JDs of the observing windows.\n",
    "    durations : array-like\n",
    "        Durations of the observing windows for each JD.\n",
    "    status_threshold : float, optional\n",
    "        Threshold for distinguishing plateauing from rising or setting. If the OLS p-value is \n",
    "        larger than this threshold, the status is considered \"plateauing\"; otherwise \"rising\" \n",
    "        or \"setting\" depending on the slope. The default is 0.001.\n",
    "    mask_outl : numpy.ndarray (dtype: bool) or None, optional\n",
    "        If given, Trues mark outliers that are removed from the OLS. The default is None.\n",
    "        \n",
    "    Returns\n",
    "    -------\n",
    "    status : str\n",
    "        Either \"rising\", \"plateauing\", or \"setting\".\n",
    "    setting_in : float\n",
    "        If the status is \"setting\" this is the duration in days, when the field is setting.\n",
    "        Otherwise a numpy.nan is returned.\n",
    "    \"\"\"\n",
    "    \n",
    "    x = np.asarray(jds)\n",
    "    y = np.asarray(durations)\n",
    "    \n",
    "    # remove outliers:\n",
    "    if mask_outl is not None:\n",
    "        x = x[~mask_outl]\n",
    "        y = y[~mask_outl]\n",
    "    \n",
    "    # linear regression:\n",
    "    x = sm.add_constant(x)\n",
    "    model = sm.OLS(y, x).fit()\n",
    "    pval = model.pvalues[1]\n",
    "    slope = model.params[1]\n",
    "    intercept = model.params[0]\n",
    "    \n",
    "    # get status:\n",
    "    if pval >= status_threshold:\n",
    "        status = 'plateauing'\n",
    "        setting_in = np.nan\n",
    "        \n",
    "    elif slope > 0:\n",
    "        status = 'rising'\n",
    "        setting_in = np.nan\n",
    "        \n",
    "    else:\n",
    "        status = 'setting'\n",
    "        setting_in = -intercept / slope - jd\n",
    "        \n",
    "    return status, setting_in"
   ]
  },
  {
   "cell_type": "markdown",
   "id": "4a8bd2ad-7afb-43a7-8671-72077528c6d4",
   "metadata": {},
   "source": [
    "Test:"
   ]
  },
  {
   "cell_type": "code",
   "execution_count": 245,
   "id": "1ae6025a-76e5-4c76-a93b-d7e5e9c50d8d",
   "metadata": {},
   "outputs": [
    {
     "data": {
      "image/png": "[encoded data removed]",
      "text/plain": [
       "<Figure size 640x480 with 1 Axes>"
      ]
     },
     "metadata": {},
     "output_type": "display_data"
    }
   ],
   "source": [
    "# test configuration:\n",
    "days_before, days_after = 7, 7\n",
    "outlier_threshold = 0.7\n",
    "status_threshold = 0.001\n",
    "field_id = 711\n",
    "verbose = 0\n",
    "\n",
    "#------------------------------------------\n",
    "# get random field, if no ID is specified:\n",
    "if field_id is None:\n",
    "    i = np.random.randint(len(field_ids))\n",
    "    field_id = field_ids[i]\n",
    "else:\n",
    "    i = np.nonzero(field_ids == field_id)[0][0]\n",
    "\n",
    "# get initial data for that field:\n",
    "durations = db.get_obs_window_durations(\n",
    "        field_ids[i], jds_before[i], jds_after[i])\n",
    "durations = pd.DataFrame(\n",
    "        durations, columns=('observability_id', 'jd', 'status', 'duration'))\n",
    "durations = durations.groupby(['observability_id', 'jd', 'status']).sum()\n",
    "durations.reset_index(inplace=True)\n",
    "durations['setting_in'] = np.zeros(durations.shape[0]) * np.nan\n",
    "durations['update'] = np.zeros(durations.shape[0], dtype=bool)\n",
    "\n",
    "sel_init = durations['status'] == 'init'\n",
    "\n",
    "for i in np.nonzero(sel_init.to_numpy())[0]:\n",
    "    jd = durations.iloc[i]['jd']\n",
    "    jd_before = jd - days_before\n",
    "    jd_after = jd + days_after\n",
    "    sel_time = np.logical_and.reduce([\n",
    "            durations['jd'] >= jd_before,\n",
    "            durations['jd'] <= jd_after,\n",
    "            durations['status'] != 'not observable'])\n",
    "\n",
    "    if (durations.loc[sel_time, 'jd'].iloc[0] != jd_before or\n",
    "            durations.loc[sel_time, 'jd'].iloc[-1] != jd_after):\n",
    "        status = 'unknown'\n",
    "        durations.at[i, 'status'] = status\n",
    "\n",
    "    else:\n",
    "        mask_outl = mask_outlier_cook(\n",
    "                durations.loc[sel_time, 'jd'], durations.loc[sel_time, 'duration'], outlier_threshold=outlier_threshold)\n",
    "        status, setting_in = get_status(\n",
    "                jd, durations.loc[sel_time, 'jd'], durations.loc[sel_time, 'duration'], status_threshold=status_threshold, \n",
    "                mask_outl=mask_outl)\n",
    "        durations.at[i, 'status'] = status\n",
    "        durations.at[i, 'update'] = True\n",
    "        \n",
    "        if status == 'setting':\n",
    "            durations.at[i, 'setting_in'] = setting_in\n",
    "            \n",
    "        if verbose and np.any(mask_outl):\n",
    "            print(f'Point {i}, outliers', np.nonzero(mask_outl)[0])\n",
    "\n",
    "# plot result:\n",
    "sns.scatterplot(data=durations, x='jd', y='duration', hue='status', palette=palette)\n",
    "plt.suptitle(f'Field ID: {field_id}', y=0.94);"
   ]
  },
  {
   "cell_type": "markdown",
   "id": "9dcf1180-e5cf-41fa-81ca-f806f15a28b5",
   "metadata": {},
   "source": [
    "**Results:**\n",
    "\n",
    "* With seven days before and after, the results look pretty good.\n",
    "* Some points remain unclassified, when the first or last data point is \"not observable\". These classification gaps are not critical. They will be fixed later.\n",
    "* Bad cases occure in plateauing phases, where the duration jumps due to insufficient accuracy, gives very poor results (e.g. ID 134, 138, 711)."
   ]
  },
  {
   "cell_type": "markdown",
   "id": "f7529c9b-a405-4fbe-928a-13df6f5a6224",
   "metadata": {},
   "source": [
    "#### Approach 2: First half vs second half\n",
    "\n",
    "With the approach above I had some issues, when I was using 5 days before and after. This is why I tested this second appoach.\n",
    "\n",
    "**Criterion:** If the second half of the durations is not significantly different from the first half, we consider the status plateauing. Otherwise, if the second half is larger than the first, the status is rising; if it is smaller, the status is setting."
   ]
  },
  {
   "cell_type": "markdown",
   "id": "e7a61225-c8e5-4e32-8f1c-ac17cf89b8a5",
   "metadata": {},
   "source": [
    "Quick demonstration:"
   ]
  },
  {
   "cell_type": "code",
   "execution_count": 222,
   "id": "6383c373-d084-4953-bec4-be67910b4306",
   "metadata": {},
   "outputs": [
    {
     "name": "stdout",
     "output_type": "stream",
     "text": [
      "0.375 0.3903123748998999 False\n"
     ]
    },
    {
     "data": {
      "image/png": "[encoded data removed]",
      "text/plain": [
       "<Figure size 640x480 with 1 Axes>"
      ]
     },
     "metadata": {},
     "output_type": "display_data"
    }
   ],
   "source": [
    "x = np.array([1,2,1,2,1,2,1,1,1,1,1,1,1,1,1,1])\n",
    "\n",
    "plt.plot(x, linestyle='None', marker='o')\n",
    "\n",
    "n = len(x)\n",
    "print(x[:n//2].mean() - x[n//2:].mean(), x.std(), np.abs(x[:n//2].mean() - x[n//2:].mean()) > x.std())"
   ]
  },
  {
   "cell_type": "code",
   "execution_count": 223,
   "id": "7c8f8785-a0af-46c9-b6bc-bd9d4dd57d12",
   "metadata": {},
   "outputs": [
    {
     "name": "stdout",
     "output_type": "stream",
     "text": [
      "-0.46000000000000013 0.26851443164195105 True\n"
     ]
    },
    {
     "data": {
      "image/png": "[encoded data removed]",
      "text/plain": [
       "<Figure size 640x480 with 1 Axes>"
      ]
     },
     "metadata": {},
     "output_type": "display_data"
    }
   ],
   "source": [
    "x = np.array([1,2,3,4,5,6,7,8,7,10]) * 0.1\n",
    "\n",
    "plt.plot(x, linestyle='None', marker='o')\n",
    "\n",
    "n = len(x)\n",
    "print(x[:n//2].mean() - x[n//2:].mean(), x.std(), np.abs(x[:n//2].mean() - x[n//2:].mean()) > x.std())"
   ]
  },
  {
   "cell_type": "markdown",
   "id": "b7803855-68c8-405a-a496-1501b9763012",
   "metadata": {},
   "source": [
    "Write up as function:"
   ]
  },
  {
   "cell_type": "code",
   "execution_count": 242,
   "id": "0e1095f0-1eea-47af-a4f8-1d5e5534dc8b",
   "metadata": {},
   "outputs": [],
   "source": [
    "def get_status(jd, jds, durations, status_threshold=1, mask_outl=None):\n",
    "    \"\"\"Status based relative changes between first and second half of the data.\n",
    "    \n",
    "    Parameters\n",
    "    ----------\n",
    "    jd : float\n",
    "        JD of the date of interest.\n",
    "    jds : array-like\n",
    "        JDs of the observing windows.\n",
    "    durations : array-like\n",
    "        Durations of the observing windows for each JD.\n",
    "    status_threshold : float, optional\n",
    "        Threshold for distinguishing plateauing from rising or setting. If the first half of the data\n",
    "        is larger than the second half by more than the standard deviation of the data multiplied with\n",
    "        this threshold, then the status is \"rising\" or \"setting\", depending on the values. Otherwise,\n",
    "        the status is \"plateauing\". The default is 1.\n",
    "    mask_outl : numpy.ndarray (dtype: bool) or None, optional\n",
    "        If given, Trues mark outliers that are removed from the analysis. The default is None.\n",
    "        \n",
    "    Returns\n",
    "    -------\n",
    "    status : str\n",
    "        Either \"rising\", \"plateauing\", or \"setting\".\n",
    "    setting_in : float\n",
    "        If the status is \"setting\" this is the duration in days, when the field is setting.\n",
    "        Otherwise a numpy.nan is returned.\n",
    "    \"\"\"\n",
    "    \n",
    "    x = np.asarray(jds)\n",
    "    y = np.asarray(durations)\n",
    "    \n",
    "    # remove outliers:\n",
    "    if mask_outl is not None:\n",
    "        x = x[~mask_outl]\n",
    "        y = y[~mask_outl]\n",
    "    \n",
    "    # calculate difference between first and second half of data:\n",
    "    n = x.shape[0]\n",
    "    y_diff = y[n//2:].mean() - y[:n//2].mean()\n",
    "    #y_diff = np.median(y[n//2:]) - np.median(y[:n//2])\n",
    "    y_std = y.std()\n",
    "    diff_lt_std = np.abs(y_diff) > y_std * status_threshold\n",
    "    \n",
    "    # get status:\n",
    "    if diff_lt_std and y_diff > 0:\n",
    "        status = 'rising'\n",
    "        setting_in = np.nan\n",
    "        \n",
    "    elif diff_lt_std:\n",
    "        status = 'setting'\n",
    "        \n",
    "        # linear regression for setting duration:\n",
    "        x = sm.add_constant(x)\n",
    "        model = sm.OLS(y, x).fit()\n",
    "        slope = model.params[1]\n",
    "        intercept = model.params[0]\n",
    "        setting_in = -intercept / slope - jd\n",
    "    \n",
    "    else:\n",
    "        status = 'plateauing'\n",
    "        setting_in = np.nan\n",
    "        \n",
    "    return status, setting_in"
   ]
  },
  {
   "cell_type": "markdown",
   "id": "fc25fbcb-54a9-455b-a6a4-d5827d8d582c",
   "metadata": {},
   "source": [
    "Test:"
   ]
  },
  {
   "cell_type": "code",
   "execution_count": 243,
   "id": "d25d3a30-6db8-4648-9fad-51755e427be9",
   "metadata": {},
   "outputs": [
    {
     "data": {
      "image/png": "[encoded data removed]",
      "text/plain": [
       "<Figure size 640x480 with 1 Axes>"
      ]
     },
     "metadata": {},
     "output_type": "display_data"
    }
   ],
   "source": [
    "# test configuration:\n",
    "days_before, days_after = 7, 7\n",
    "outlier_threshold = 0.7\n",
    "status_threshold = 1.4\n",
    "field_id = None\n",
    "\n",
    "#------------------------------------------\n",
    "# get random field, if no ID is specified:\n",
    "if field_id is None:\n",
    "    i = np.random.randint(len(field_ids))\n",
    "    field_id = field_ids[i]\n",
    "else:\n",
    "    i = np.nonzero(field_ids == field_id)[0][0]\n",
    "\n",
    "# get initial data for that field:\n",
    "durations = db.get_obs_window_durations(\n",
    "        field_ids[i], jds_before[i], jds_after[i])\n",
    "durations = pd.DataFrame(\n",
    "        durations, columns=('observability_id', 'jd', 'status', 'duration'))\n",
    "durations = durations.groupby(['observability_id', 'jd', 'status']).sum()\n",
    "durations.reset_index(inplace=True)\n",
    "durations['setting_in'] = np.zeros(durations.shape[0]) * np.nan\n",
    "durations['update'] = np.zeros(durations.shape[0], dtype=bool)\n",
    "\n",
    "sel_init = durations['status'] == 'init'\n",
    "\n",
    "for i in np.nonzero(sel_init.to_numpy())[0]:\n",
    "    jd = durations.iloc[i]['jd']\n",
    "    jd_before = jd - days_before\n",
    "    jd_after = jd + days_after\n",
    "    sel_time = np.logical_and.reduce([\n",
    "            durations['jd'] >= jd_before,\n",
    "            durations['jd'] <= jd_after,\n",
    "            durations['status'] != 'not observable'])\n",
    "\n",
    "    if (durations.loc[sel_time, 'jd'].iloc[0] != jd_before or\n",
    "            durations.loc[sel_time, 'jd'].iloc[-1] != jd_after):\n",
    "        status = 'unknown'\n",
    "        durations.at[i, 'status'] = status\n",
    "\n",
    "    else:\n",
    "        mask_outl = mask_outlier_cook(\n",
    "                durations.loc[sel_time, 'jd'], durations.loc[sel_time, 'duration'], outlier_threshold=outlier_threshold)\n",
    "        status, setting_in = get_status(\n",
    "                jd, durations.loc[sel_time, 'jd'], durations.loc[sel_time, 'duration'], status_threshold=status_threshold, \n",
    "                mask_outl=mask_outl)\n",
    "        durations.at[i, 'status'] = status\n",
    "        durations.at[i, 'update'] = True\n",
    "        \n",
    "        if status == 'setting':\n",
    "            durations.at[i, 'setting_in'] = setting_in\n",
    "\n",
    "# plot result:\n",
    "sns.scatterplot(data=durations, x='jd', y='duration', hue='status', palette=palette)\n",
    "plt.suptitle(f'Field ID: {field_id}', y=0.94);"
   ]
  },
  {
   "cell_type": "markdown",
   "id": "93420133-4be4-4a82-9c48-cd57d61e6646",
   "metadata": {},
   "source": [
    "**Results:**\n",
    "\n",
    "* Same isues as with the first approach in the plateauing phases (e.g. ID 134, 138, 711).\n",
    "* Some points remain unclassified, when the first or last data point is \"not observable\". These classification gaps are not critical. They will be fixed later."
   ]
  },
  {
   "cell_type": "markdown",
   "id": "785fe291-3303-4fe2-82df-06d2a4a24e99",
   "metadata": {
    "tags": []
   },
   "source": [
    "#### Approach 3: variability exceeding sampling accuracy\n",
    "\n",
    "**Criterion:** We classify as plateauing, when the variability does not exceed the sampling accuracy. Rising/setting otherwise, depending on the sign."
   ]
  },
  {
   "cell_type": "code",
   "execution_count": 461,
   "id": "6bbff2b4-468c-4a41-8856-27a7c73f2b76",
   "metadata": {},
   "outputs": [],
   "source": [
    "def get_status(jd, jds, durations, time_interval, status_threshold=6, mask_outl=None):\n",
    "    \"\"\"Status based on linear ordinary least square regression with exclusion of outliers.\n",
    "    \n",
    "    Parameters\n",
    "    ----------\n",
    "    jd : float\n",
    "        JD of the date of interest.\n",
    "    jds : array-like\n",
    "        JDs of the observing windows.\n",
    "    durations : array-like\n",
    "        Durations of the observing windows for each JD.\n",
    "    time_interval : float\n",
    "        Time interval of the duration sampling in seconds. The status is considered \"plateauing\" if the standard deviation\n",
    "        of the durations is smaller than this time interval times the status_threshold.\n",
    "    status_threshold : float, optional\n",
    "        Scaling factor. See description of time_interval. The default is 6.\n",
    "    mask_outl : numpy.ndarray (dtype: bool) or None, optional\n",
    "        If given, Trues mark outliers that are removed from the OLS. The default is None.\n",
    "        \n",
    "    Returns\n",
    "    -------\n",
    "    status : str\n",
    "        Either \"rising\", \"plateauing\", or \"setting\".\n",
    "    setting_in : float\n",
    "        If the status is \"setting\" this is the duration in days, when the field is setting.\n",
    "        Otherwise a numpy.nan is returned.\n",
    "    \"\"\"\n",
    "    \n",
    "    x = np.asarray(jds)\n",
    "    y = np.asarray(durations)\n",
    "    \n",
    "    # remove outliers:\n",
    "    if mask_outl is not None:\n",
    "        x = x[~mask_outl]\n",
    "        y = y[~mask_outl]\n",
    "    \n",
    "    # get status:\n",
    "    if y.std() <= time_interval / 24 / 3600 * status_threshold:\n",
    "        status = 'plateauing'\n",
    "        setting_in = np.nan\n",
    "        \n",
    "    elif np.median(np.diff(y)) > 0:\n",
    "        status = 'rising'\n",
    "        setting_in = np.nan\n",
    "        \n",
    "    else:\n",
    "        status = 'setting'\n",
    "        \n",
    "        # linear regression for setting duration:\n",
    "        x = sm.add_constant(x)\n",
    "        model = sm.OLS(y, x).fit()\n",
    "        slope = model.params[1]\n",
    "        intercept = model.params[0]\n",
    "        setting_in = -intercept / slope - jd\n",
    "    \n",
    "    return status, setting_in"
   ]
  },
  {
   "cell_type": "markdown",
   "id": "58ba5288-69ae-4495-969d-517f02933a4b",
   "metadata": {},
   "source": [
    "Test:"
   ]
  },
  {
   "cell_type": "code",
   "execution_count": 477,
   "id": "6fb9ace3-bf9a-4d27-9929-fb4ae309ccf3",
   "metadata": {},
   "outputs": [
    {
     "data": {
      "image/png": "[encoded data removed]",
      "text/plain": [
       "<Figure size 640x480 with 1 Axes>"
      ]
     },
     "metadata": {},
     "output_type": "display_data"
    }
   ],
   "source": [
    "# test configuration:\n",
    "days_before, days_after = 7, 7\n",
    "outlier_threshold = 0.7\n",
    "time_interval = 60\n",
    "status_threshold = 6\n",
    "field_id = 196\n",
    "verbose = 0\n",
    "\n",
    "#------------------------------------------\n",
    "# get random field, if no ID is specified:\n",
    "if field_id is None:\n",
    "    i = np.random.randint(len(field_ids))\n",
    "    field_id = field_ids[i]\n",
    "else:\n",
    "    i = np.nonzero(field_ids == field_id)[0][0]\n",
    "\n",
    "# get initial data for that field:\n",
    "durations = db.get_obs_window_durations(\n",
    "        field_ids[i], jds_before[i], jds_after[i])\n",
    "durations = pd.DataFrame(\n",
    "        durations, columns=('observability_id', 'jd', 'status', 'duration'))\n",
    "durations = durations.groupby(['observability_id', 'jd', 'status']).sum()\n",
    "durations.reset_index(inplace=True)\n",
    "durations['setting_in'] = np.zeros(durations.shape[0]) * np.nan\n",
    "durations['update'] = np.zeros(durations.shape[0], dtype=bool)\n",
    "\n",
    "sel_init = durations['status'] == 'init'\n",
    "\n",
    "for i in np.nonzero(sel_init.to_numpy())[0]:\n",
    "    jd = durations.iloc[i]['jd']\n",
    "    jd_before = jd - days_before\n",
    "    jd_after = jd + days_after\n",
    "    sel_time = np.logical_and.reduce([\n",
    "            durations['jd'] >= jd_before,\n",
    "            durations['jd'] <= jd_after,\n",
    "            durations['status'] != 'not observable'])\n",
    "\n",
    "    if (durations.loc[sel_time, 'jd'].iloc[0] != jd_before or\n",
    "            durations.loc[sel_time, 'jd'].iloc[-1] != jd_after):\n",
    "        status = 'unknown'\n",
    "        durations.at[i, 'status'] = status\n",
    "\n",
    "    else:\n",
    "        mask_outl = mask_outlier_cook(\n",
    "                durations.loc[sel_time, 'jd'], durations.loc[sel_time, 'duration'], outlier_threshold=outlier_threshold)\n",
    "        status, setting_in = get_status(\n",
    "                jd, durations.loc[sel_time, 'jd'], durations.loc[sel_time, 'duration'], time_interval, status_threshold=status_threshold,\n",
    "                mask_outl=mask_outl)\n",
    "        durations.at[i, 'status'] = status\n",
    "        durations.at[i, 'update'] = True\n",
    "        \n",
    "        if status == 'setting':\n",
    "            durations.at[i, 'setting_in'] = setting_in\n",
    "            \n",
    "        if verbose and np.any(mask_outl):\n",
    "            print(f'Point {i}, outliers', np.nonzero(mask_outl)[0])\n",
    "        \n",
    "# plot result:\n",
    "sns.scatterplot(data=durations, x='jd', y='duration', hue='status', palette=palette)\n",
    "plt.suptitle(f'Field ID: {field_id}', y=0.94);"
   ]
  },
  {
   "cell_type": "markdown",
   "id": "60b87a9a-5fd6-4a0d-8956-1b1cf89f5128",
   "metadata": {},
   "source": [
    "**Results:**\n",
    "\n",
    "- This appraoch seems to work reliably."
   ]
  },
  {
   "cell_type": "markdown",
   "id": "1f1465e1-6e32-4aab-aeb7-5b793104c80b",
   "metadata": {},
   "source": [
    "#### Comparison of the three approaches"
   ]
  },
  {
   "cell_type": "markdown",
   "id": "cc0117c5-c864-429e-a26e-36bec367e72a",
   "metadata": {},
   "source": [
    "**Conclusion:** I will use the third approach in the final code."
   ]
  },
  {
   "cell_type": "markdown",
   "id": "ea4ca578-bb6e-4275-a3cc-6a411b083b48",
   "metadata": {},
   "source": [
    "### Status for first data points initially classified as \"unknown\" "
   ]
  },
  {
   "cell_type": "markdown",
   "id": "9c1b7b7f-bc93-4e12-b28a-bcd6becab3b8",
   "metadata": {},
   "source": [
    "There are one or two blocks of days with unknown status:\n",
    "* A block at the end will be the usual case, because the last days will never be considered in the status classification. We will leave them untouched until observing blocks for the following days have been calculated.\n",
    "* A block at the beginning occurs when we run the classification for the first time. In this case we can simply change those unknown cases to the status of the next known status. This may not be correct in all cases. E.g. the first data points could be rising, the next plateauing, and we will set everything to plateauing. The same with pleateauing and setting. However, this is not really that relevant. Best case scenario: If we want to start the survey on 2024-04-01 we start the observing window calculations with 2024-03-25 to include seven days before the first date of interest. One thing to take care of: If the next data point has status \"not observable\", because e.g. the Moon is too close, we should not set all preceeding statuses to \"not observable\". Instead we will check the next entries and use the next status that is not \"not observable\". If all next ones are \"not observable\" this indicates that the previous statuses should have been \"setting\".\n",
    "* The final points before all are \"note observable\" are also not classified. This case is also covered by the above, as all of these will be classified as \"setting\".\n",
    "\n",
    "To do this we need two steps:\n",
    "1. Identify the blocks with unknown status. \n",
    "2. Iterate through those blocks. We need to do this in reverse order. Otherwise, The next status that is not \"not observable\" may again be \"unknown\", if a block is split in two parts due to a non-observable point in-between. This issue will not arise when we iterate through blocks in reverse.\n",
    "3. Kick out if the block or one of the blocks is the final data.\n",
    "4. Do not update if the next status again is \"unknown\". This case may occur when the final block is split into two due to non-observable points in-between.\n",
    "2. Update the status for the remaining block."
   ]
  },
  {
   "cell_type": "code",
   "execution_count": 476,
   "id": "409b48f0-a675-44bf-bf0a-982a672350e6",
   "metadata": {},
   "outputs": [],
   "source": [
    "def update_unknown_status(durations):\n",
    "    \"\"\"Update the status where unknown, if possible.\n",
    "    \n",
    "    Parameters\n",
    "    ----------\n",
    "    durations : pandas.DataFrame\n",
    "        Observing window durations and status information.\n",
    "    \n",
    "    Notes\n",
    "    -------\n",
    "    Changes are done inplace, therefore the dataframe does not have to be returned.\n",
    "    \"\"\"\n",
    "    \n",
    "    # identify blocks with unknown status:\n",
    "    sel_unk = durations['status'] == 'unknown'\n",
    "    \n",
    "    # iterate through these blocks in reverse:\n",
    "    for i0, i1 in true_blocks(sel_unk)[::-1]:\n",
    "        \n",
    "        # skip blocks at the end:\n",
    "        if i1 == durations.shape[0] - 1:\n",
    "            continue\n",
    "        \n",
    "        # otherwise, update status based on next one that is not \"not observable\":\n",
    "        for j in range(1, 5):\n",
    "            # try to get next status, break if no more are available:\n",
    "            try:\n",
    "                status = durations['status'][i1+j]\n",
    "            except KeyError:\n",
    "                break\n",
    "            \n",
    "            # if status is \"not observable\", go to next status:\n",
    "            if status == 'not observable':\n",
    "                continue\n",
    "            \n",
    "            # update status:\n",
    "            if status != 'unknown':\n",
    "                durations.loc[i0:i1, 'status'] = status\n",
    "                durations.loc[i0:i1, 'update'] = True\n",
    "\n",
    "            # extrapolate setting duration, if needed:\n",
    "            if status == 'setting':\n",
    "                setting_in = durations['setting_in'][i1+j] + j - 1\n",
    "                setting_in += np.arange(i1 - i0 + 1, 0, -1)\n",
    "                durations.loc[i0:i1, 'setting_in'] = setting_in\n",
    "            \n",
    "            break\n",
    "        \n",
    "        # all next statuses are \"not observable\"\n",
    "        else:\n",
    "            durations.loc[i0:i1, 'status'] = 'setting'\n",
    "            durations.loc[i0:i1, 'update'] = True\n",
    "            durations.loc[i0:i1, 'setting_in'] = np.arange(i1 - i0, -1, -1)"
   ]
  },
  {
   "cell_type": "markdown",
   "id": "35945e85-b9ce-4477-9679-6f1b4c47ea73",
   "metadata": {},
   "source": [
    "Test case: \"unknown\" status followed by \"not observable\" followed by setting (could also be rising or plateauing):"
   ]
  },
  {
   "cell_type": "code",
   "execution_count": 91,
   "id": "74da9e32-15e4-41e6-887c-8df26dc154f1",
   "metadata": {},
   "outputs": [
    {
     "data": {
      "text/html": [
       "<div>\n",
       "<style scoped>\n",
       "    .dataframe tbody tr th:only-of-type {\n",
       "        vertical-align: middle;\n",
       "    }\n",
       "\n",
       "    .dataframe tbody tr th {\n",
       "        vertical-align: top;\n",
       "    }\n",
       "\n",
       "    .dataframe thead th {\n",
       "        text-align: right;\n",
       "    }\n",
       "</style>\n",
       "<table border=\"1\" class=\"dataframe\">\n",
       "  <thead>\n",
       "    <tr style=\"text-align: right;\">\n",
       "      <th></th>\n",
       "      <th>status</th>\n",
       "      <th>setting_in</th>\n",
       "      <th>update</th>\n",
       "    </tr>\n",
       "  </thead>\n",
       "  <tbody>\n",
       "    <tr>\n",
       "      <th>0</th>\n",
       "      <td>unknown</td>\n",
       "      <td>0</td>\n",
       "      <td>False</td>\n",
       "    </tr>\n",
       "    <tr>\n",
       "      <th>1</th>\n",
       "      <td>unknown</td>\n",
       "      <td>0</td>\n",
       "      <td>False</td>\n",
       "    </tr>\n",
       "    <tr>\n",
       "      <th>2</th>\n",
       "      <td>unknown</td>\n",
       "      <td>0</td>\n",
       "      <td>False</td>\n",
       "    </tr>\n",
       "    <tr>\n",
       "      <th>3</th>\n",
       "      <td>unknown</td>\n",
       "      <td>0</td>\n",
       "      <td>False</td>\n",
       "    </tr>\n",
       "    <tr>\n",
       "      <th>4</th>\n",
       "      <td>unknown</td>\n",
       "      <td>0</td>\n",
       "      <td>False</td>\n",
       "    </tr>\n",
       "    <tr>\n",
       "      <th>5</th>\n",
       "      <td>unknown</td>\n",
       "      <td>0</td>\n",
       "      <td>False</td>\n",
       "    </tr>\n",
       "    <tr>\n",
       "      <th>6</th>\n",
       "      <td>unknown</td>\n",
       "      <td>0</td>\n",
       "      <td>False</td>\n",
       "    </tr>\n",
       "    <tr>\n",
       "      <th>7</th>\n",
       "      <td>not observable</td>\n",
       "      <td>0</td>\n",
       "      <td>False</td>\n",
       "    </tr>\n",
       "    <tr>\n",
       "      <th>8</th>\n",
       "      <td>not observable</td>\n",
       "      <td>0</td>\n",
       "      <td>False</td>\n",
       "    </tr>\n",
       "    <tr>\n",
       "      <th>9</th>\n",
       "      <td>setting</td>\n",
       "      <td>12</td>\n",
       "      <td>False</td>\n",
       "    </tr>\n",
       "  </tbody>\n",
       "</table>\n",
       "</div>"
      ],
      "text/plain": [
       "           status  setting_in  update\n",
       "0         unknown           0   False\n",
       "1         unknown           0   False\n",
       "2         unknown           0   False\n",
       "3         unknown           0   False\n",
       "4         unknown           0   False\n",
       "5         unknown           0   False\n",
       "6         unknown           0   False\n",
       "7  not observable           0   False\n",
       "8  not observable           0   False\n",
       "9         setting          12   False"
      ]
     },
     "execution_count": 91,
     "metadata": {},
     "output_type": "execute_result"
    }
   ],
   "source": [
    "durations = pd.DataFrame({\n",
    "        'status': ['unknown']*7 + ['not observable']*2 + ['setting']*1,\n",
    "        'setting_in': [0]*9 + [12],\n",
    "        'update': [False]*10\n",
    "        })\n",
    "durations"
   ]
  },
  {
   "cell_type": "code",
   "execution_count": 92,
   "id": "8daceb20-987d-42b9-910d-eb1264923726",
   "metadata": {},
   "outputs": [],
   "source": [
    "update_unknown_status(durations)"
   ]
  },
  {
   "cell_type": "code",
   "execution_count": 93,
   "id": "37898aa6-7b5c-4bf3-b4c9-8d51a4f1a974",
   "metadata": {},
   "outputs": [
    {
     "data": {
      "text/html": [
       "<div>\n",
       "<style scoped>\n",
       "    .dataframe tbody tr th:only-of-type {\n",
       "        vertical-align: middle;\n",
       "    }\n",
       "\n",
       "    .dataframe tbody tr th {\n",
       "        vertical-align: top;\n",
       "    }\n",
       "\n",
       "    .dataframe thead th {\n",
       "        text-align: right;\n",
       "    }\n",
       "</style>\n",
       "<table border=\"1\" class=\"dataframe\">\n",
       "  <thead>\n",
       "    <tr style=\"text-align: right;\">\n",
       "      <th></th>\n",
       "      <th>status</th>\n",
       "      <th>setting_in</th>\n",
       "      <th>update</th>\n",
       "    </tr>\n",
       "  </thead>\n",
       "  <tbody>\n",
       "    <tr>\n",
       "      <th>0</th>\n",
       "      <td>setting</td>\n",
       "      <td>21</td>\n",
       "      <td>True</td>\n",
       "    </tr>\n",
       "    <tr>\n",
       "      <th>1</th>\n",
       "      <td>setting</td>\n",
       "      <td>20</td>\n",
       "      <td>True</td>\n",
       "    </tr>\n",
       "    <tr>\n",
       "      <th>2</th>\n",
       "      <td>setting</td>\n",
       "      <td>19</td>\n",
       "      <td>True</td>\n",
       "    </tr>\n",
       "    <tr>\n",
       "      <th>3</th>\n",
       "      <td>setting</td>\n",
       "      <td>18</td>\n",
       "      <td>True</td>\n",
       "    </tr>\n",
       "    <tr>\n",
       "      <th>4</th>\n",
       "      <td>setting</td>\n",
       "      <td>17</td>\n",
       "      <td>True</td>\n",
       "    </tr>\n",
       "    <tr>\n",
       "      <th>5</th>\n",
       "      <td>setting</td>\n",
       "      <td>16</td>\n",
       "      <td>True</td>\n",
       "    </tr>\n",
       "    <tr>\n",
       "      <th>6</th>\n",
       "      <td>setting</td>\n",
       "      <td>15</td>\n",
       "      <td>True</td>\n",
       "    </tr>\n",
       "    <tr>\n",
       "      <th>7</th>\n",
       "      <td>not observable</td>\n",
       "      <td>0</td>\n",
       "      <td>False</td>\n",
       "    </tr>\n",
       "    <tr>\n",
       "      <th>8</th>\n",
       "      <td>not observable</td>\n",
       "      <td>0</td>\n",
       "      <td>False</td>\n",
       "    </tr>\n",
       "    <tr>\n",
       "      <th>9</th>\n",
       "      <td>setting</td>\n",
       "      <td>12</td>\n",
       "      <td>False</td>\n",
       "    </tr>\n",
       "  </tbody>\n",
       "</table>\n",
       "</div>"
      ],
      "text/plain": [
       "           status  setting_in  update\n",
       "0         setting          21    True\n",
       "1         setting          20    True\n",
       "2         setting          19    True\n",
       "3         setting          18    True\n",
       "4         setting          17    True\n",
       "5         setting          16    True\n",
       "6         setting          15    True\n",
       "7  not observable           0   False\n",
       "8  not observable           0   False\n",
       "9         setting          12   False"
      ]
     },
     "execution_count": 93,
     "metadata": {},
     "output_type": "execute_result"
    }
   ],
   "source": [
    "durations"
   ]
  },
  {
   "cell_type": "markdown",
   "id": "26eae2d4-d28a-472c-a552-60913c183f96",
   "metadata": {},
   "source": [
    "Test case: \"unknown\" status followed only by \"not observable\":"
   ]
  },
  {
   "cell_type": "code",
   "execution_count": 94,
   "id": "76e0d6a0-03ba-4fe5-8119-2a012578dc7e",
   "metadata": {},
   "outputs": [
    {
     "data": {
      "text/html": [
       "<div>\n",
       "<style scoped>\n",
       "    .dataframe tbody tr th:only-of-type {\n",
       "        vertical-align: middle;\n",
       "    }\n",
       "\n",
       "    .dataframe tbody tr th {\n",
       "        vertical-align: top;\n",
       "    }\n",
       "\n",
       "    .dataframe thead th {\n",
       "        text-align: right;\n",
       "    }\n",
       "</style>\n",
       "<table border=\"1\" class=\"dataframe\">\n",
       "  <thead>\n",
       "    <tr style=\"text-align: right;\">\n",
       "      <th></th>\n",
       "      <th>status</th>\n",
       "      <th>setting_in</th>\n",
       "      <th>update</th>\n",
       "    </tr>\n",
       "  </thead>\n",
       "  <tbody>\n",
       "    <tr>\n",
       "      <th>0</th>\n",
       "      <td>unknown</td>\n",
       "      <td>0</td>\n",
       "      <td>False</td>\n",
       "    </tr>\n",
       "    <tr>\n",
       "      <th>1</th>\n",
       "      <td>unknown</td>\n",
       "      <td>0</td>\n",
       "      <td>False</td>\n",
       "    </tr>\n",
       "    <tr>\n",
       "      <th>2</th>\n",
       "      <td>unknown</td>\n",
       "      <td>0</td>\n",
       "      <td>False</td>\n",
       "    </tr>\n",
       "    <tr>\n",
       "      <th>3</th>\n",
       "      <td>unknown</td>\n",
       "      <td>0</td>\n",
       "      <td>False</td>\n",
       "    </tr>\n",
       "    <tr>\n",
       "      <th>4</th>\n",
       "      <td>unknown</td>\n",
       "      <td>0</td>\n",
       "      <td>False</td>\n",
       "    </tr>\n",
       "    <tr>\n",
       "      <th>5</th>\n",
       "      <td>unknown</td>\n",
       "      <td>0</td>\n",
       "      <td>False</td>\n",
       "    </tr>\n",
       "    <tr>\n",
       "      <th>6</th>\n",
       "      <td>unknown</td>\n",
       "      <td>0</td>\n",
       "      <td>False</td>\n",
       "    </tr>\n",
       "    <tr>\n",
       "      <th>7</th>\n",
       "      <td>not observable</td>\n",
       "      <td>0</td>\n",
       "      <td>False</td>\n",
       "    </tr>\n",
       "    <tr>\n",
       "      <th>8</th>\n",
       "      <td>not observable</td>\n",
       "      <td>0</td>\n",
       "      <td>False</td>\n",
       "    </tr>\n",
       "    <tr>\n",
       "      <th>9</th>\n",
       "      <td>not observable</td>\n",
       "      <td>0</td>\n",
       "      <td>False</td>\n",
       "    </tr>\n",
       "    <tr>\n",
       "      <th>10</th>\n",
       "      <td>not observable</td>\n",
       "      <td>0</td>\n",
       "      <td>False</td>\n",
       "    </tr>\n",
       "    <tr>\n",
       "      <th>11</th>\n",
       "      <td>not observable</td>\n",
       "      <td>0</td>\n",
       "      <td>False</td>\n",
       "    </tr>\n",
       "  </tbody>\n",
       "</table>\n",
       "</div>"
      ],
      "text/plain": [
       "            status  setting_in  update\n",
       "0          unknown           0   False\n",
       "1          unknown           0   False\n",
       "2          unknown           0   False\n",
       "3          unknown           0   False\n",
       "4          unknown           0   False\n",
       "5          unknown           0   False\n",
       "6          unknown           0   False\n",
       "7   not observable           0   False\n",
       "8   not observable           0   False\n",
       "9   not observable           0   False\n",
       "10  not observable           0   False\n",
       "11  not observable           0   False"
      ]
     },
     "execution_count": 94,
     "metadata": {},
     "output_type": "execute_result"
    }
   ],
   "source": [
    "durations = pd.DataFrame({\n",
    "        'status': ['unknown']*7 + ['not observable']*5,\n",
    "        'setting_in': [0]*12,\n",
    "        'update': [False]*12\n",
    "        })\n",
    "durations"
   ]
  },
  {
   "cell_type": "code",
   "execution_count": 95,
   "id": "617065c6-cbc6-4c18-88ee-650bab543ff6",
   "metadata": {},
   "outputs": [],
   "source": [
    "update_unknown_status(durations)"
   ]
  },
  {
   "cell_type": "code",
   "execution_count": 96,
   "id": "ab9cefd5-3c5f-467a-9f95-4defb074cfff",
   "metadata": {},
   "outputs": [
    {
     "data": {
      "text/html": [
       "<div>\n",
       "<style scoped>\n",
       "    .dataframe tbody tr th:only-of-type {\n",
       "        vertical-align: middle;\n",
       "    }\n",
       "\n",
       "    .dataframe tbody tr th {\n",
       "        vertical-align: top;\n",
       "    }\n",
       "\n",
       "    .dataframe thead th {\n",
       "        text-align: right;\n",
       "    }\n",
       "</style>\n",
       "<table border=\"1\" class=\"dataframe\">\n",
       "  <thead>\n",
       "    <tr style=\"text-align: right;\">\n",
       "      <th></th>\n",
       "      <th>status</th>\n",
       "      <th>setting_in</th>\n",
       "      <th>update</th>\n",
       "    </tr>\n",
       "  </thead>\n",
       "  <tbody>\n",
       "    <tr>\n",
       "      <th>0</th>\n",
       "      <td>setting</td>\n",
       "      <td>6</td>\n",
       "      <td>True</td>\n",
       "    </tr>\n",
       "    <tr>\n",
       "      <th>1</th>\n",
       "      <td>setting</td>\n",
       "      <td>5</td>\n",
       "      <td>True</td>\n",
       "    </tr>\n",
       "    <tr>\n",
       "      <th>2</th>\n",
       "      <td>setting</td>\n",
       "      <td>4</td>\n",
       "      <td>True</td>\n",
       "    </tr>\n",
       "    <tr>\n",
       "      <th>3</th>\n",
       "      <td>setting</td>\n",
       "      <td>3</td>\n",
       "      <td>True</td>\n",
       "    </tr>\n",
       "    <tr>\n",
       "      <th>4</th>\n",
       "      <td>setting</td>\n",
       "      <td>2</td>\n",
       "      <td>True</td>\n",
       "    </tr>\n",
       "    <tr>\n",
       "      <th>5</th>\n",
       "      <td>setting</td>\n",
       "      <td>1</td>\n",
       "      <td>True</td>\n",
       "    </tr>\n",
       "    <tr>\n",
       "      <th>6</th>\n",
       "      <td>setting</td>\n",
       "      <td>0</td>\n",
       "      <td>True</td>\n",
       "    </tr>\n",
       "    <tr>\n",
       "      <th>7</th>\n",
       "      <td>not observable</td>\n",
       "      <td>0</td>\n",
       "      <td>False</td>\n",
       "    </tr>\n",
       "    <tr>\n",
       "      <th>8</th>\n",
       "      <td>not observable</td>\n",
       "      <td>0</td>\n",
       "      <td>False</td>\n",
       "    </tr>\n",
       "    <tr>\n",
       "      <th>9</th>\n",
       "      <td>not observable</td>\n",
       "      <td>0</td>\n",
       "      <td>False</td>\n",
       "    </tr>\n",
       "    <tr>\n",
       "      <th>10</th>\n",
       "      <td>not observable</td>\n",
       "      <td>0</td>\n",
       "      <td>False</td>\n",
       "    </tr>\n",
       "    <tr>\n",
       "      <th>11</th>\n",
       "      <td>not observable</td>\n",
       "      <td>0</td>\n",
       "      <td>False</td>\n",
       "    </tr>\n",
       "  </tbody>\n",
       "</table>\n",
       "</div>"
      ],
      "text/plain": [
       "            status  setting_in  update\n",
       "0          setting           6    True\n",
       "1          setting           5    True\n",
       "2          setting           4    True\n",
       "3          setting           3    True\n",
       "4          setting           2    True\n",
       "5          setting           1    True\n",
       "6          setting           0    True\n",
       "7   not observable           0   False\n",
       "8   not observable           0   False\n",
       "9   not observable           0   False\n",
       "10  not observable           0   False\n",
       "11  not observable           0   False"
      ]
     },
     "execution_count": 96,
     "metadata": {},
     "output_type": "execute_result"
    }
   ],
   "source": [
    "durations"
   ]
  },
  {
   "cell_type": "markdown",
   "id": "a96d155f-2d1c-41fe-834e-f516f2c27811",
   "metadata": {},
   "source": [
    "Test case: \"Plateauing\" followed by \"unknown\" followed by \"not observable\":"
   ]
  },
  {
   "cell_type": "code",
   "execution_count": 412,
   "id": "85b9cd75-f0e6-45bf-a0fb-8e8289a6ab3f",
   "metadata": {},
   "outputs": [
    {
     "data": {
      "text/html": [
       "<div>\n",
       "<style scoped>\n",
       "    .dataframe tbody tr th:only-of-type {\n",
       "        vertical-align: middle;\n",
       "    }\n",
       "\n",
       "    .dataframe tbody tr th {\n",
       "        vertical-align: top;\n",
       "    }\n",
       "\n",
       "    .dataframe thead th {\n",
       "        text-align: right;\n",
       "    }\n",
       "</style>\n",
       "<table border=\"1\" class=\"dataframe\">\n",
       "  <thead>\n",
       "    <tr style=\"text-align: right;\">\n",
       "      <th></th>\n",
       "      <th>status</th>\n",
       "      <th>setting_in</th>\n",
       "      <th>update</th>\n",
       "    </tr>\n",
       "  </thead>\n",
       "  <tbody>\n",
       "    <tr>\n",
       "      <th>0</th>\n",
       "      <td>plateauing</td>\n",
       "      <td>0</td>\n",
       "      <td>False</td>\n",
       "    </tr>\n",
       "    <tr>\n",
       "      <th>1</th>\n",
       "      <td>plateauing</td>\n",
       "      <td>0</td>\n",
       "      <td>False</td>\n",
       "    </tr>\n",
       "    <tr>\n",
       "      <th>2</th>\n",
       "      <td>unknown</td>\n",
       "      <td>0</td>\n",
       "      <td>False</td>\n",
       "    </tr>\n",
       "    <tr>\n",
       "      <th>3</th>\n",
       "      <td>unknown</td>\n",
       "      <td>0</td>\n",
       "      <td>False</td>\n",
       "    </tr>\n",
       "    <tr>\n",
       "      <th>4</th>\n",
       "      <td>unknown</td>\n",
       "      <td>0</td>\n",
       "      <td>False</td>\n",
       "    </tr>\n",
       "    <tr>\n",
       "      <th>5</th>\n",
       "      <td>unknown</td>\n",
       "      <td>0</td>\n",
       "      <td>False</td>\n",
       "    </tr>\n",
       "    <tr>\n",
       "      <th>6</th>\n",
       "      <td>unknown</td>\n",
       "      <td>0</td>\n",
       "      <td>False</td>\n",
       "    </tr>\n",
       "    <tr>\n",
       "      <th>7</th>\n",
       "      <td>not observable</td>\n",
       "      <td>0</td>\n",
       "      <td>False</td>\n",
       "    </tr>\n",
       "    <tr>\n",
       "      <th>8</th>\n",
       "      <td>not observable</td>\n",
       "      <td>0</td>\n",
       "      <td>False</td>\n",
       "    </tr>\n",
       "    <tr>\n",
       "      <th>9</th>\n",
       "      <td>not observable</td>\n",
       "      <td>0</td>\n",
       "      <td>False</td>\n",
       "    </tr>\n",
       "    <tr>\n",
       "      <th>10</th>\n",
       "      <td>not observable</td>\n",
       "      <td>0</td>\n",
       "      <td>False</td>\n",
       "    </tr>\n",
       "    <tr>\n",
       "      <th>11</th>\n",
       "      <td>not observable</td>\n",
       "      <td>0</td>\n",
       "      <td>False</td>\n",
       "    </tr>\n",
       "  </tbody>\n",
       "</table>\n",
       "</div>"
      ],
      "text/plain": [
       "            status  setting_in  update\n",
       "0       plateauing           0   False\n",
       "1       plateauing           0   False\n",
       "2          unknown           0   False\n",
       "3          unknown           0   False\n",
       "4          unknown           0   False\n",
       "5          unknown           0   False\n",
       "6          unknown           0   False\n",
       "7   not observable           0   False\n",
       "8   not observable           0   False\n",
       "9   not observable           0   False\n",
       "10  not observable           0   False\n",
       "11  not observable           0   False"
      ]
     },
     "execution_count": 412,
     "metadata": {},
     "output_type": "execute_result"
    }
   ],
   "source": [
    "durations = pd.DataFrame({\n",
    "        'status': ['plateauing']*2 + ['unknown']*5 + ['not observable']*5,\n",
    "        'setting_in': [0]*12,\n",
    "        'update': [False]*12\n",
    "        })\n",
    "durations"
   ]
  },
  {
   "cell_type": "code",
   "execution_count": 413,
   "id": "23568d7c-408d-45c9-b414-3ef1c61597e9",
   "metadata": {},
   "outputs": [],
   "source": [
    "update_unknown_status(durations)"
   ]
  },
  {
   "cell_type": "code",
   "execution_count": 414,
   "id": "05d70381-1fce-4636-bb9f-93c09fc81a51",
   "metadata": {},
   "outputs": [
    {
     "data": {
      "text/html": [
       "<div>\n",
       "<style scoped>\n",
       "    .dataframe tbody tr th:only-of-type {\n",
       "        vertical-align: middle;\n",
       "    }\n",
       "\n",
       "    .dataframe tbody tr th {\n",
       "        vertical-align: top;\n",
       "    }\n",
       "\n",
       "    .dataframe thead th {\n",
       "        text-align: right;\n",
       "    }\n",
       "</style>\n",
       "<table border=\"1\" class=\"dataframe\">\n",
       "  <thead>\n",
       "    <tr style=\"text-align: right;\">\n",
       "      <th></th>\n",
       "      <th>status</th>\n",
       "      <th>setting_in</th>\n",
       "      <th>update</th>\n",
       "    </tr>\n",
       "  </thead>\n",
       "  <tbody>\n",
       "    <tr>\n",
       "      <th>0</th>\n",
       "      <td>plateauing</td>\n",
       "      <td>0</td>\n",
       "      <td>False</td>\n",
       "    </tr>\n",
       "    <tr>\n",
       "      <th>1</th>\n",
       "      <td>plateauing</td>\n",
       "      <td>0</td>\n",
       "      <td>False</td>\n",
       "    </tr>\n",
       "    <tr>\n",
       "      <th>2</th>\n",
       "      <td>setting</td>\n",
       "      <td>4</td>\n",
       "      <td>True</td>\n",
       "    </tr>\n",
       "    <tr>\n",
       "      <th>3</th>\n",
       "      <td>setting</td>\n",
       "      <td>3</td>\n",
       "      <td>True</td>\n",
       "    </tr>\n",
       "    <tr>\n",
       "      <th>4</th>\n",
       "      <td>setting</td>\n",
       "      <td>2</td>\n",
       "      <td>True</td>\n",
       "    </tr>\n",
       "    <tr>\n",
       "      <th>5</th>\n",
       "      <td>setting</td>\n",
       "      <td>1</td>\n",
       "      <td>True</td>\n",
       "    </tr>\n",
       "    <tr>\n",
       "      <th>6</th>\n",
       "      <td>setting</td>\n",
       "      <td>0</td>\n",
       "      <td>True</td>\n",
       "    </tr>\n",
       "    <tr>\n",
       "      <th>7</th>\n",
       "      <td>not observable</td>\n",
       "      <td>0</td>\n",
       "      <td>False</td>\n",
       "    </tr>\n",
       "    <tr>\n",
       "      <th>8</th>\n",
       "      <td>not observable</td>\n",
       "      <td>0</td>\n",
       "      <td>False</td>\n",
       "    </tr>\n",
       "    <tr>\n",
       "      <th>9</th>\n",
       "      <td>not observable</td>\n",
       "      <td>0</td>\n",
       "      <td>False</td>\n",
       "    </tr>\n",
       "    <tr>\n",
       "      <th>10</th>\n",
       "      <td>not observable</td>\n",
       "      <td>0</td>\n",
       "      <td>False</td>\n",
       "    </tr>\n",
       "    <tr>\n",
       "      <th>11</th>\n",
       "      <td>not observable</td>\n",
       "      <td>0</td>\n",
       "      <td>False</td>\n",
       "    </tr>\n",
       "  </tbody>\n",
       "</table>\n",
       "</div>"
      ],
      "text/plain": [
       "            status  setting_in  update\n",
       "0       plateauing           0   False\n",
       "1       plateauing           0   False\n",
       "2          setting           4    True\n",
       "3          setting           3    True\n",
       "4          setting           2    True\n",
       "5          setting           1    True\n",
       "6          setting           0    True\n",
       "7   not observable           0   False\n",
       "8   not observable           0   False\n",
       "9   not observable           0   False\n",
       "10  not observable           0   False\n",
       "11  not observable           0   False"
      ]
     },
     "execution_count": 414,
     "metadata": {},
     "output_type": "execute_result"
    }
   ],
   "source": [
    "durations"
   ]
  },
  {
   "cell_type": "markdown",
   "id": "d6f5958c-90f2-42fa-9054-a8f83c6c24f3",
   "metadata": {},
   "source": [
    "Test case: Just a single \"unknown\" in between:"
   ]
  },
  {
   "cell_type": "code",
   "execution_count": 453,
   "id": "a996e091-35bc-4dfb-8392-cbc189c2ca7d",
   "metadata": {},
   "outputs": [
    {
     "data": {
      "text/html": [
       "<div>\n",
       "<style scoped>\n",
       "    .dataframe tbody tr th:only-of-type {\n",
       "        vertical-align: middle;\n",
       "    }\n",
       "\n",
       "    .dataframe tbody tr th {\n",
       "        vertical-align: top;\n",
       "    }\n",
       "\n",
       "    .dataframe thead th {\n",
       "        text-align: right;\n",
       "    }\n",
       "</style>\n",
       "<table border=\"1\" class=\"dataframe\">\n",
       "  <thead>\n",
       "    <tr style=\"text-align: right;\">\n",
       "      <th></th>\n",
       "      <th>status</th>\n",
       "      <th>setting_in</th>\n",
       "      <th>update</th>\n",
       "    </tr>\n",
       "  </thead>\n",
       "  <tbody>\n",
       "    <tr>\n",
       "      <th>0</th>\n",
       "      <td>rising</td>\n",
       "      <td>0</td>\n",
       "      <td>False</td>\n",
       "    </tr>\n",
       "    <tr>\n",
       "      <th>1</th>\n",
       "      <td>rising</td>\n",
       "      <td>0</td>\n",
       "      <td>False</td>\n",
       "    </tr>\n",
       "    <tr>\n",
       "      <th>2</th>\n",
       "      <td>rising</td>\n",
       "      <td>0</td>\n",
       "      <td>False</td>\n",
       "    </tr>\n",
       "    <tr>\n",
       "      <th>3</th>\n",
       "      <td>rising</td>\n",
       "      <td>0</td>\n",
       "      <td>False</td>\n",
       "    </tr>\n",
       "    <tr>\n",
       "      <th>4</th>\n",
       "      <td>rising</td>\n",
       "      <td>0</td>\n",
       "      <td>False</td>\n",
       "    </tr>\n",
       "    <tr>\n",
       "      <th>5</th>\n",
       "      <td>unknown</td>\n",
       "      <td>0</td>\n",
       "      <td>False</td>\n",
       "    </tr>\n",
       "    <tr>\n",
       "      <th>6</th>\n",
       "      <td>rising</td>\n",
       "      <td>0</td>\n",
       "      <td>False</td>\n",
       "    </tr>\n",
       "    <tr>\n",
       "      <th>7</th>\n",
       "      <td>rising</td>\n",
       "      <td>0</td>\n",
       "      <td>False</td>\n",
       "    </tr>\n",
       "    <tr>\n",
       "      <th>8</th>\n",
       "      <td>rising</td>\n",
       "      <td>0</td>\n",
       "      <td>False</td>\n",
       "    </tr>\n",
       "    <tr>\n",
       "      <th>9</th>\n",
       "      <td>rising</td>\n",
       "      <td>0</td>\n",
       "      <td>False</td>\n",
       "    </tr>\n",
       "    <tr>\n",
       "      <th>10</th>\n",
       "      <td>rising</td>\n",
       "      <td>0</td>\n",
       "      <td>False</td>\n",
       "    </tr>\n",
       "    <tr>\n",
       "      <th>11</th>\n",
       "      <td>rising</td>\n",
       "      <td>0</td>\n",
       "      <td>False</td>\n",
       "    </tr>\n",
       "  </tbody>\n",
       "</table>\n",
       "</div>"
      ],
      "text/plain": [
       "     status  setting_in  update\n",
       "0    rising           0   False\n",
       "1    rising           0   False\n",
       "2    rising           0   False\n",
       "3    rising           0   False\n",
       "4    rising           0   False\n",
       "5   unknown           0   False\n",
       "6    rising           0   False\n",
       "7    rising           0   False\n",
       "8    rising           0   False\n",
       "9    rising           0   False\n",
       "10   rising           0   False\n",
       "11   rising           0   False"
      ]
     },
     "execution_count": 453,
     "metadata": {},
     "output_type": "execute_result"
    }
   ],
   "source": [
    "durations = pd.DataFrame({\n",
    "        'status': ['rising']*5 + ['unknown'] + ['rising']*6,\n",
    "        'setting_in': [0]*12,\n",
    "        'update': [False]*12\n",
    "        })\n",
    "durations"
   ]
  },
  {
   "cell_type": "code",
   "execution_count": 454,
   "id": "505a9f35-855a-474a-bab9-cf9e8c999a21",
   "metadata": {},
   "outputs": [],
   "source": [
    "update_unknown_status(durations)"
   ]
  },
  {
   "cell_type": "code",
   "execution_count": 455,
   "id": "b98737f8-70cb-41a9-a89e-9e5013a4c513",
   "metadata": {},
   "outputs": [
    {
     "data": {
      "text/html": [
       "<div>\n",
       "<style scoped>\n",
       "    .dataframe tbody tr th:only-of-type {\n",
       "        vertical-align: middle;\n",
       "    }\n",
       "\n",
       "    .dataframe tbody tr th {\n",
       "        vertical-align: top;\n",
       "    }\n",
       "\n",
       "    .dataframe thead th {\n",
       "        text-align: right;\n",
       "    }\n",
       "</style>\n",
       "<table border=\"1\" class=\"dataframe\">\n",
       "  <thead>\n",
       "    <tr style=\"text-align: right;\">\n",
       "      <th></th>\n",
       "      <th>status</th>\n",
       "      <th>setting_in</th>\n",
       "      <th>update</th>\n",
       "    </tr>\n",
       "  </thead>\n",
       "  <tbody>\n",
       "    <tr>\n",
       "      <th>0</th>\n",
       "      <td>rising</td>\n",
       "      <td>0</td>\n",
       "      <td>False</td>\n",
       "    </tr>\n",
       "    <tr>\n",
       "      <th>1</th>\n",
       "      <td>rising</td>\n",
       "      <td>0</td>\n",
       "      <td>False</td>\n",
       "    </tr>\n",
       "    <tr>\n",
       "      <th>2</th>\n",
       "      <td>rising</td>\n",
       "      <td>0</td>\n",
       "      <td>False</td>\n",
       "    </tr>\n",
       "    <tr>\n",
       "      <th>3</th>\n",
       "      <td>rising</td>\n",
       "      <td>0</td>\n",
       "      <td>False</td>\n",
       "    </tr>\n",
       "    <tr>\n",
       "      <th>4</th>\n",
       "      <td>rising</td>\n",
       "      <td>0</td>\n",
       "      <td>False</td>\n",
       "    </tr>\n",
       "    <tr>\n",
       "      <th>5</th>\n",
       "      <td>rising</td>\n",
       "      <td>0</td>\n",
       "      <td>True</td>\n",
       "    </tr>\n",
       "    <tr>\n",
       "      <th>6</th>\n",
       "      <td>rising</td>\n",
       "      <td>0</td>\n",
       "      <td>False</td>\n",
       "    </tr>\n",
       "    <tr>\n",
       "      <th>7</th>\n",
       "      <td>rising</td>\n",
       "      <td>0</td>\n",
       "      <td>False</td>\n",
       "    </tr>\n",
       "    <tr>\n",
       "      <th>8</th>\n",
       "      <td>rising</td>\n",
       "      <td>0</td>\n",
       "      <td>False</td>\n",
       "    </tr>\n",
       "    <tr>\n",
       "      <th>9</th>\n",
       "      <td>rising</td>\n",
       "      <td>0</td>\n",
       "      <td>False</td>\n",
       "    </tr>\n",
       "    <tr>\n",
       "      <th>10</th>\n",
       "      <td>rising</td>\n",
       "      <td>0</td>\n",
       "      <td>False</td>\n",
       "    </tr>\n",
       "    <tr>\n",
       "      <th>11</th>\n",
       "      <td>rising</td>\n",
       "      <td>0</td>\n",
       "      <td>False</td>\n",
       "    </tr>\n",
       "  </tbody>\n",
       "</table>\n",
       "</div>"
      ],
      "text/plain": [
       "    status  setting_in  update\n",
       "0   rising           0   False\n",
       "1   rising           0   False\n",
       "2   rising           0   False\n",
       "3   rising           0   False\n",
       "4   rising           0   False\n",
       "5   rising           0    True\n",
       "6   rising           0   False\n",
       "7   rising           0   False\n",
       "8   rising           0   False\n",
       "9   rising           0   False\n",
       "10  rising           0   False\n",
       "11  rising           0   False"
      ]
     },
     "execution_count": 455,
     "metadata": {},
     "output_type": "execute_result"
    }
   ],
   "source": [
    "durations"
   ]
  },
  {
   "cell_type": "markdown",
   "id": "c38904bc-9ecd-4799-86ca-7d71dbab227e",
   "metadata": {},
   "source": [
    "## Check results in the database"
   ]
  },
  {
   "cell_type": "markdown",
   "id": "3ea1b8b3-c700-4899-887e-b9bdd137be1e",
   "metadata": {},
   "source": [
    "The following database coontains the status classifications. I am using it to check the results:"
   ]
  },
  {
   "cell_type": "code",
   "execution_count": 480,
   "id": "046ca516-8cf7-4635-aed2-8b0ae7ef65e6",
   "metadata": {},
   "outputs": [],
   "source": [
    "db_file = 'test_status.sqlite3'\n",
    "db = DBConnectorSQLite(db_file)"
   ]
  },
  {
   "cell_type": "code",
   "execution_count": 481,
   "id": "acc20354-b82e-4c4d-9234-1bfd69bff149",
   "metadata": {},
   "outputs": [],
   "source": [
    "fields = np.array(db.get_fields())\n",
    "field_ids = fields[:, 0].astype(int)\n",
    "jds_min = fields[:, 7].astype(float)\n",
    "jds_max = fields[:, 8].astype(float)"
   ]
  },
  {
   "cell_type": "code",
   "execution_count": 525,
   "id": "e32820c3-ab16-4b64-810d-6d14798a3b80",
   "metadata": {},
   "outputs": [
    {
     "data": {
      "image/png": "[encoded data removed]",
      "text/plain": [
       "<Figure size 640x480 with 1 Axes>"
      ]
     },
     "metadata": {},
     "output_type": "display_data"
    }
   ],
   "source": [
    "field_id = None # 1392\n",
    "\n",
    "# get random field, if no ID is specified:\n",
    "if field_id is None:\n",
    "    i = np.random.randint(len(field_ids))\n",
    "    field_id = field_ids[i]\n",
    "else:\n",
    "    i = np.nonzero(field_ids == field_id)[0][0]\n",
    "    \n",
    "durations = db.get_obs_window_durations(\n",
    "        field_ids[i], jds_min[i], jds_max[i])\n",
    "durations = pd.DataFrame(\n",
    "        durations, columns=('observability_id', 'jd', 'status', 'duration'))\n",
    "durations = durations.groupby(['observability_id', 'jd', 'status']).sum()\n",
    "durations.reset_index(inplace=True)\n",
    "\n",
    "sns.scatterplot(data=durations, x='jd', y='duration', hue='status', palette=palette)\n",
    "plt.suptitle(f'Field ID: {field_ids[i]}', y=0.94);"
   ]
  },
  {
   "cell_type": "markdown",
   "id": "3acd00da-13d7-4a2c-a5df-6fae8f97ae98",
   "metadata": {},
   "source": [
    "**Conclusion:** The results look really good."
   ]
  },
  {
   "cell_type": "markdown",
   "id": "f64a37e6-1ffe-44c9-b750-5d50fe93cf23",
   "metadata": {},
   "source": [
    "## Performance tests"
   ]
  },
  {
   "cell_type": "markdown",
   "id": "f24fb591-d9f9-421c-bc94-2b4bac35aa6c",
   "metadata": {},
   "source": [
    "In this section I am testing what accuracy we need in the refined time grid to get the status classification as good as needed. We cannot go for arbitrary accuracy, because that increases the runtime of the observability field calculation.\n",
    "\n",
    "For these tests I ran the observability window calculation with three different initial and refined time intervals.\n",
    "In the following I will check how well we can determine the observability status."
   ]
  },
  {
   "cell_type": "markdown",
   "id": "0da64a54-99f5-47f5-9713-1c17dbec293d",
   "metadata": {},
   "source": [
    "### Run tests"
   ]
  },
  {
   "cell_type": "code",
   "execution_count": 5,
   "id": "29085f96-0ea0-4275-a153-2761e65089f3",
   "metadata": {},
   "outputs": [],
   "source": [
    "test_time_init = [300, 600]\n",
    "test_time_refine = [10, 30, 60]"
   ]
  },
  {
   "cell_type": "markdown",
   "id": "85915ed4-e6d4-453f-9d8a-10dd9f8bbbd4",
   "metadata": {},
   "source": [
    "Get fields (it does not matter to which database we connect to get the fields):"
   ]
  },
  {
   "cell_type": "code",
   "execution_count": 7,
   "id": "169adfac-8ac5-4a08-9e50-8f7760816944",
   "metadata": {},
   "outputs": [],
   "source": [
    "days_before = 7\n",
    "days_after = 7"
   ]
  },
  {
   "cell_type": "code",
   "execution_count": 8,
   "id": "53dec000-2e28-48d4-8d3e-7ce46acc3de7",
   "metadata": {},
   "outputs": [
    {
     "name": "stdout",
     "output_type": "stream",
     "text": [
      "Fields missing observability status: 1285\n"
     ]
    }
   ],
   "source": [
    "db = DBConnectorSQLite(f'test_timegrid_{test_time_init[0]}-{test_time_refine[0]}.sqlite3')\n",
    "field_ids, jds_min, jds_max = get_fields_missing_status(db)\n",
    "days_required = days_before + days_after + 1\n",
    "jds_before = jds_min - days_before\n",
    "jds_after = jds_max + days_after\n",
    "print(f'Fields missing observability status: {field_ids.shape[0]}')"
   ]
  },
  {
   "cell_type": "code",
   "execution_count": 9,
   "id": "f751b0d2-9f2d-4c60-a223-34c6bf89039a",
   "metadata": {},
   "outputs": [],
   "source": [
    "db = DBConnectorSQLite(f'test_timegrid_{test_time_init[0]}-{test_time_refine[0]}.sqlite3')\n",
    "results = np.array(db.get_fields())\n",
    "field_ids = results[:,0].astype(int)\n",
    "jd0 = np.unique(results[:,7].astype(float))[0]\n",
    "jd1 = np.unique(results[:,8].astype(float))[0]\n",
    "del results"
   ]
  },
  {
   "cell_type": "markdown",
   "id": "4c466236-bc4c-4a3e-b529-9068c46bb019",
   "metadata": {},
   "source": [
    "Get all observability status classifications from all test databases (this takes several minutes):"
   ]
  },
  {
   "cell_type": "code",
   "execution_count": 10,
   "id": "6f0a2e2b-a2ac-43f8-82db-530eecd45d32",
   "metadata": {},
   "outputs": [
    {
     "name": "stdout",
     "output_type": "stream",
     "text": [
      "Analyse time grid 300-10..\n",
      "  Progress: done.                 \n",
      "Analyse time grid 300-30..\n",
      "  Progress: done.                 \n",
      "Analyse time grid 300-60..\n",
      "  Progress: done.                 \n",
      "Analyse time grid 600-10..\n",
      "  Progress: done.                 \n",
      "Analyse time grid 600-30..\n",
      "  Progress: done.                 \n",
      "Analyse time grid 600-60..\n",
      "  Progress: done.                 \n"
     ]
    }
   ],
   "source": [
    "durations = {}\n",
    "\n",
    "# iterate though different time grids:\n",
    "for time_init, time_refine in product(test_time_init, test_time_refine):\n",
    "    tag = f'{time_init}-{time_refine}'\n",
    "    print(f'Analyse time grid {tag}..')\n",
    "    db = DBConnectorSQLite(f'test_timegrid_{time_init}-{time_refine}.sqlite3')\n",
    "    \n",
    "    # iterate through fields:\n",
    "    for i, field_id in enumerate(field_ids):\n",
    "        print(f'\\r  Progress: {i} of {field_ids.shape[0]} ({i/field_ids.shape[0]*100:.1f}%)..', end='')\n",
    "        \n",
    "        if field_id not in durations.keys():\n",
    "            durations[field_id] = {}\n",
    "        \n",
    "        # get observability window durations:\n",
    "        i = np.nonzero(field_ids == field_id)[0][0]\n",
    "        dur = db.get_obs_window_durations(field_ids[i], jd0, jd1)\n",
    "        dur = pd.DataFrame(dur, columns=('observability_id', 'jd', 'status', 'duration'))\n",
    "        dur['duration'] = np.where(dur['status'] == 'not observable', 0, dur['duration'])\n",
    "        dur = dur.drop('observability_id', axis=1)\n",
    "        durations[field_id][tag] = dur\n",
    "    \n",
    "    print('\\r  Progress: done.                 ')"
   ]
  },
  {
   "cell_type": "markdown",
   "id": "88b8486d-b882-4009-98f9-43455f5cba2e",
   "metadata": {},
   "source": [
    "Check for consistency in the status classification between best sampled time grid and other test grids:"
   ]
  },
  {
   "cell_type": "code",
   "execution_count": 11,
   "id": "30e5bb76-1e1c-4108-ae88-6586714a197d",
   "metadata": {},
   "outputs": [],
   "source": [
    "tags = [f'{time_init}-{time_refine}' for time_init, time_refine in product(test_time_init, test_time_refine)]\n",
    "tag0 = tags[0]\n",
    "tags = tags[1:]"
   ]
  },
  {
   "cell_type": "code",
   "execution_count": 12,
   "id": "1666868f-d262-423d-b517-0bdc7d78f45c",
   "metadata": {},
   "outputs": [
    {
     "data": {
      "text/html": [
       "<div>\n",
       "<style scoped>\n",
       "    .dataframe tbody tr th:only-of-type {\n",
       "        vertical-align: middle;\n",
       "    }\n",
       "\n",
       "    .dataframe tbody tr th {\n",
       "        vertical-align: top;\n",
       "    }\n",
       "\n",
       "    .dataframe thead th {\n",
       "        text-align: right;\n",
       "    }\n",
       "</style>\n",
       "<table border=\"1\" class=\"dataframe\">\n",
       "  <thead>\n",
       "    <tr style=\"text-align: right;\">\n",
       "      <th></th>\n",
       "      <th>field_id</th>\n",
       "      <th>300-30</th>\n",
       "      <th>300-60</th>\n",
       "      <th>600-10</th>\n",
       "      <th>600-30</th>\n",
       "      <th>600-60</th>\n",
       "      <th>all</th>\n",
       "    </tr>\n",
       "  </thead>\n",
       "  <tbody>\n",
       "    <tr>\n",
       "      <th>0</th>\n",
       "      <td>1</td>\n",
       "      <td>True</td>\n",
       "      <td>True</td>\n",
       "      <td>True</td>\n",
       "      <td>True</td>\n",
       "      <td>True</td>\n",
       "      <td>True</td>\n",
       "    </tr>\n",
       "    <tr>\n",
       "      <th>1</th>\n",
       "      <td>2</td>\n",
       "      <td>True</td>\n",
       "      <td>True</td>\n",
       "      <td>True</td>\n",
       "      <td>True</td>\n",
       "      <td>True</td>\n",
       "      <td>True</td>\n",
       "    </tr>\n",
       "    <tr>\n",
       "      <th>2</th>\n",
       "      <td>3</td>\n",
       "      <td>True</td>\n",
       "      <td>True</td>\n",
       "      <td>True</td>\n",
       "      <td>True</td>\n",
       "      <td>True</td>\n",
       "      <td>True</td>\n",
       "    </tr>\n",
       "    <tr>\n",
       "      <th>3</th>\n",
       "      <td>4</td>\n",
       "      <td>True</td>\n",
       "      <td>True</td>\n",
       "      <td>True</td>\n",
       "      <td>True</td>\n",
       "      <td>True</td>\n",
       "      <td>True</td>\n",
       "    </tr>\n",
       "    <tr>\n",
       "      <th>4</th>\n",
       "      <td>5</td>\n",
       "      <td>True</td>\n",
       "      <td>True</td>\n",
       "      <td>True</td>\n",
       "      <td>True</td>\n",
       "      <td>True</td>\n",
       "      <td>True</td>\n",
       "    </tr>\n",
       "    <tr>\n",
       "      <th>...</th>\n",
       "      <td>...</td>\n",
       "      <td>...</td>\n",
       "      <td>...</td>\n",
       "      <td>...</td>\n",
       "      <td>...</td>\n",
       "      <td>...</td>\n",
       "      <td>...</td>\n",
       "    </tr>\n",
       "    <tr>\n",
       "      <th>1568</th>\n",
       "      <td>1569</td>\n",
       "      <td>True</td>\n",
       "      <td>True</td>\n",
       "      <td>True</td>\n",
       "      <td>True</td>\n",
       "      <td>True</td>\n",
       "      <td>True</td>\n",
       "    </tr>\n",
       "    <tr>\n",
       "      <th>1569</th>\n",
       "      <td>1570</td>\n",
       "      <td>True</td>\n",
       "      <td>True</td>\n",
       "      <td>True</td>\n",
       "      <td>True</td>\n",
       "      <td>True</td>\n",
       "      <td>True</td>\n",
       "    </tr>\n",
       "    <tr>\n",
       "      <th>1570</th>\n",
       "      <td>1571</td>\n",
       "      <td>True</td>\n",
       "      <td>True</td>\n",
       "      <td>True</td>\n",
       "      <td>True</td>\n",
       "      <td>True</td>\n",
       "      <td>True</td>\n",
       "    </tr>\n",
       "    <tr>\n",
       "      <th>1571</th>\n",
       "      <td>1572</td>\n",
       "      <td>True</td>\n",
       "      <td>True</td>\n",
       "      <td>True</td>\n",
       "      <td>True</td>\n",
       "      <td>True</td>\n",
       "      <td>True</td>\n",
       "    </tr>\n",
       "    <tr>\n",
       "      <th>1572</th>\n",
       "      <td>1573</td>\n",
       "      <td>True</td>\n",
       "      <td>True</td>\n",
       "      <td>True</td>\n",
       "      <td>True</td>\n",
       "      <td>True</td>\n",
       "      <td>True</td>\n",
       "    </tr>\n",
       "  </tbody>\n",
       "</table>\n",
       "<p>1573 rows × 7 columns</p>\n",
       "</div>"
      ],
      "text/plain": [
       "      field_id  300-30  300-60  600-10  600-30  600-60   all\n",
       "0            1    True    True    True    True    True  True\n",
       "1            2    True    True    True    True    True  True\n",
       "2            3    True    True    True    True    True  True\n",
       "3            4    True    True    True    True    True  True\n",
       "4            5    True    True    True    True    True  True\n",
       "...        ...     ...     ...     ...     ...     ...   ...\n",
       "1568      1569    True    True    True    True    True  True\n",
       "1569      1570    True    True    True    True    True  True\n",
       "1570      1571    True    True    True    True    True  True\n",
       "1571      1572    True    True    True    True    True  True\n",
       "1572      1573    True    True    True    True    True  True\n",
       "\n",
       "[1573 rows x 7 columns]"
      ]
     },
     "execution_count": 12,
     "metadata": {},
     "output_type": "execute_result"
    }
   ],
   "source": [
    "consistency = {'field_id': []} | {tag: [] for tag in tags}\n",
    "\n",
    "for field_id in field_ids:\n",
    "    consistency['field_id'].append(field_id)\n",
    "\n",
    "    for tag in tags:\n",
    "        consistent = np.all(durations[field_id][tag]['status'] == durations[field_id][tag0]['status'])\n",
    "        consistency[tag].append(consistent)\n",
    "    \n",
    "consistency = pd.DataFrame(consistency)\n",
    "consistency['all'] = np.all(consistency.iloc[:,1:], axis=1)\n",
    "consistency"
   ]
  },
  {
   "cell_type": "markdown",
   "id": "649518c5-cd5b-4427-a8df-b7255e68d880",
   "metadata": {},
   "source": [
    "### Results"
   ]
  },
  {
   "cell_type": "code",
   "execution_count": 13,
   "id": "a41d7721-f966-42b9-8c70-cf23e063d302",
   "metadata": {},
   "outputs": [
    {
     "data": {
      "text/html": [
       "<div>\n",
       "<style scoped>\n",
       "    .dataframe tbody tr th:only-of-type {\n",
       "        vertical-align: middle;\n",
       "    }\n",
       "\n",
       "    .dataframe tbody tr th {\n",
       "        vertical-align: top;\n",
       "    }\n",
       "\n",
       "    .dataframe thead th {\n",
       "        text-align: right;\n",
       "    }\n",
       "</style>\n",
       "<table border=\"1\" class=\"dataframe\">\n",
       "  <thead>\n",
       "    <tr style=\"text-align: right;\">\n",
       "      <th></th>\n",
       "      <th>test</th>\n",
       "      <th>consistency count</th>\n",
       "      <th>consistency ratio (%)</th>\n",
       "      <th>failed count</th>\n",
       "      <th>failed ratio (%)</th>\n",
       "    </tr>\n",
       "  </thead>\n",
       "  <tbody>\n",
       "    <tr>\n",
       "      <th>0</th>\n",
       "      <td>300-30</td>\n",
       "      <td>1472</td>\n",
       "      <td>93.6</td>\n",
       "      <td>101</td>\n",
       "      <td>6.4</td>\n",
       "    </tr>\n",
       "    <tr>\n",
       "      <th>1</th>\n",
       "      <td>300-60</td>\n",
       "      <td>1434</td>\n",
       "      <td>91.2</td>\n",
       "      <td>139</td>\n",
       "      <td>8.8</td>\n",
       "    </tr>\n",
       "    <tr>\n",
       "      <th>2</th>\n",
       "      <td>600-10</td>\n",
       "      <td>1511</td>\n",
       "      <td>96.1</td>\n",
       "      <td>62</td>\n",
       "      <td>3.9</td>\n",
       "    </tr>\n",
       "    <tr>\n",
       "      <th>3</th>\n",
       "      <td>600-30</td>\n",
       "      <td>1456</td>\n",
       "      <td>92.6</td>\n",
       "      <td>117</td>\n",
       "      <td>7.4</td>\n",
       "    </tr>\n",
       "    <tr>\n",
       "      <th>4</th>\n",
       "      <td>600-60</td>\n",
       "      <td>1419</td>\n",
       "      <td>90.2</td>\n",
       "      <td>154</td>\n",
       "      <td>9.8</td>\n",
       "    </tr>\n",
       "    <tr>\n",
       "      <th>5</th>\n",
       "      <td>all</td>\n",
       "      <td>1417</td>\n",
       "      <td>90.1</td>\n",
       "      <td>156</td>\n",
       "      <td>9.9</td>\n",
       "    </tr>\n",
       "  </tbody>\n",
       "</table>\n",
       "</div>"
      ],
      "text/plain": [
       "     test  consistency count  consistency ratio (%)  failed count  \\\n",
       "0  300-30               1472                   93.6           101   \n",
       "1  300-60               1434                   91.2           139   \n",
       "2  600-10               1511                   96.1            62   \n",
       "3  600-30               1456                   92.6           117   \n",
       "4  600-60               1419                   90.2           154   \n",
       "5     all               1417                   90.1           156   \n",
       "\n",
       "   failed ratio (%)  \n",
       "0               6.4  \n",
       "1               8.8  \n",
       "2               3.9  \n",
       "3               7.4  \n",
       "4               9.8  \n",
       "5               9.9  "
      ]
     },
     "execution_count": 13,
     "metadata": {},
     "output_type": "execute_result"
    }
   ],
   "source": [
    "consistency_stats = {'test': [], 'consistency count': [], 'consistency ratio (%)': [], 'failed count': [], 'failed ratio (%)': []}\n",
    "\n",
    "for tag in tags + ['all']:\n",
    "    n = np.sum(consistency[tag])\n",
    "    r = np.round(n / field_ids.shape[0] * 100, 1)\n",
    "    consistency_stats['test'].append(tag)\n",
    "    consistency_stats['consistency count'].append(n)\n",
    "    consistency_stats['consistency ratio (%)'].append(r)\n",
    "    consistency_stats['failed count'].append(field_ids.shape[0] - n)\n",
    "    consistency_stats['failed ratio (%)'].append(100-r)\n",
    "    \n",
    "consistency_stats = pd.DataFrame(consistency_stats)\n",
    "consistency_stats"
   ]
  },
  {
   "cell_type": "markdown",
   "id": "b9f8fe86-f0fd-449a-a707-50802b3f89b8",
   "metadata": {},
   "source": [
    "### Show examples"
   ]
  },
  {
   "cell_type": "code",
   "execution_count": 14,
   "id": "1b4c34b6-479c-4f5d-b639-ff3d25e430af",
   "metadata": {},
   "outputs": [],
   "source": [
    "field_ids_failed = consistency.loc[~consistency['all'], 'field_id'].to_numpy()"
   ]
  },
  {
   "cell_type": "code",
   "execution_count": 34,
   "id": "5294a606-ab36-4088-9b30-e86e3baf282f",
   "metadata": {},
   "outputs": [
    {
     "data": {
      "image/png": "[encoded data removed]",
      "text/plain": [
       "<Figure size 1200x800 with 6 Axes>"
      ]
     },
     "metadata": {},
     "output_type": "display_data"
    }
   ],
   "source": [
    "i = np.random.randint(field_ids_failed.shape[0])\n",
    "field_id = field_ids_failed[i]\n",
    "\n",
    "# create figure:\n",
    "__, ax0 = plt.subplots(3, 2, figsize=(12, 8), num=1, clear=True)\n",
    "plt.subplots_adjust(hspace=0.5)\n",
    "plt.suptitle(f'Field ID: {field_id}', y=0.93);\n",
    "\n",
    "\n",
    "for i, tag in enumerate(durations[field_id].keys()):\n",
    "    sns.scatterplot(data=durations[field_id][tag], x='jd', y='duration', hue='status', palette=palette, ax=ax0[i%3,i//3])\n",
    "    sns.move_legend(ax0[i%3,i//3], \"lower center\", bbox_to_anchor=(.5, 0.95), ncol=5, title=None, frameon=False)\n",
    "    if i > 0:\n",
    "        consistent = consistency.loc[consistency['field_id']==field_id, tag].values[0]\n",
    "        color = 'k' if consistent else 'r'\n",
    "    else:\n",
    "        color = 'k'\n",
    "    ax0[i%3,i//3].text(\n",
    "            0.5, 0.1, tag, color=color, horizontalalignment='center', verticalalignment='center', transform=ax0[i%3,i//3].transAxes)"
   ]
  },
  {
   "cell_type": "markdown",
   "id": "b280bab4-331e-47de-8499-a23dc4bd8912",
   "metadata": {},
   "source": [
    "### Runtime"
   ]
  },
  {
   "cell_type": "code",
   "execution_count": 55,
   "id": "13fcb848-b6d6-4aa4-9992-aeab463c7886",
   "metadata": {},
   "outputs": [
    {
     "data": {
      "text/html": [
       "<div>\n",
       "<style scoped>\n",
       "    .dataframe tbody tr th:only-of-type {\n",
       "        vertical-align: middle;\n",
       "    }\n",
       "\n",
       "    .dataframe tbody tr th {\n",
       "        vertical-align: top;\n",
       "    }\n",
       "\n",
       "    .dataframe thead th {\n",
       "        text-align: right;\n",
       "    }\n",
       "</style>\n",
       "<table border=\"1\" class=\"dataframe\">\n",
       "  <thead>\n",
       "    <tr style=\"text-align: right;\">\n",
       "      <th></th>\n",
       "      <th>computer</th>\n",
       "      <th>time_start</th>\n",
       "      <th>time_stop</th>\n",
       "      <th>n_days</th>\n",
       "      <th>interval_init</th>\n",
       "      <th>interval_refine</th>\n",
       "      <th>processes</th>\n",
       "      <th>batch_write</th>\n",
       "      <th>test_id</th>\n",
       "      <th>runtime (min)</th>\n",
       "    </tr>\n",
       "  </thead>\n",
       "  <tbody>\n",
       "    <tr>\n",
       "      <th>0</th>\n",
       "      <td>kallisto</td>\n",
       "      <td>2024-01-01 00:00:00.000</td>\n",
       "      <td>2024-02-01 00:00:00.000</td>\n",
       "      <td>31</td>\n",
       "      <td>300</td>\n",
       "      <td>10</td>\n",
       "      <td>10</td>\n",
       "      <td>10000</td>\n",
       "      <td>0</td>\n",
       "      <td>121.337479</td>\n",
       "    </tr>\n",
       "    <tr>\n",
       "      <th>1</th>\n",
       "      <td>kallisto</td>\n",
       "      <td>2024-01-01 00:00:00.000</td>\n",
       "      <td>2024-02-01 00:00:00.000</td>\n",
       "      <td>31</td>\n",
       "      <td>300</td>\n",
       "      <td>30</td>\n",
       "      <td>10</td>\n",
       "      <td>10000</td>\n",
       "      <td>0</td>\n",
       "      <td>98.306519</td>\n",
       "    </tr>\n",
       "    <tr>\n",
       "      <th>2</th>\n",
       "      <td>kallisto</td>\n",
       "      <td>2024-01-01 00:00:00.000</td>\n",
       "      <td>2024-02-01 00:00:00.000</td>\n",
       "      <td>31</td>\n",
       "      <td>300</td>\n",
       "      <td>60</td>\n",
       "      <td>10</td>\n",
       "      <td>10000</td>\n",
       "      <td>0</td>\n",
       "      <td>86.515914</td>\n",
       "    </tr>\n",
       "    <tr>\n",
       "      <th>3</th>\n",
       "      <td>kallisto</td>\n",
       "      <td>2024-01-01 00:00:00.000</td>\n",
       "      <td>2024-02-01 00:00:00.000</td>\n",
       "      <td>31</td>\n",
       "      <td>600</td>\n",
       "      <td>10</td>\n",
       "      <td>10</td>\n",
       "      <td>10000</td>\n",
       "      <td>0</td>\n",
       "      <td>126.924310</td>\n",
       "    </tr>\n",
       "    <tr>\n",
       "      <th>4</th>\n",
       "      <td>kallisto</td>\n",
       "      <td>2024-01-01 00:00:00.000</td>\n",
       "      <td>2024-02-01 00:00:00.000</td>\n",
       "      <td>31</td>\n",
       "      <td>600</td>\n",
       "      <td>30</td>\n",
       "      <td>10</td>\n",
       "      <td>10000</td>\n",
       "      <td>0</td>\n",
       "      <td>93.261819</td>\n",
       "    </tr>\n",
       "    <tr>\n",
       "      <th>5</th>\n",
       "      <td>kallisto</td>\n",
       "      <td>2024-01-01 00:00:00.000</td>\n",
       "      <td>2024-02-01 00:00:00.000</td>\n",
       "      <td>31</td>\n",
       "      <td>600</td>\n",
       "      <td>60</td>\n",
       "      <td>10</td>\n",
       "      <td>10000</td>\n",
       "      <td>0</td>\n",
       "      <td>79.448332</td>\n",
       "    </tr>\n",
       "  </tbody>\n",
       "</table>\n",
       "</div>"
      ],
      "text/plain": [
       "   computer               time_start                time_stop  n_days  \\\n",
       "0  kallisto  2024-01-01 00:00:00.000  2024-02-01 00:00:00.000      31   \n",
       "1  kallisto  2024-01-01 00:00:00.000  2024-02-01 00:00:00.000      31   \n",
       "2  kallisto  2024-01-01 00:00:00.000  2024-02-01 00:00:00.000      31   \n",
       "3  kallisto  2024-01-01 00:00:00.000  2024-02-01 00:00:00.000      31   \n",
       "4  kallisto  2024-01-01 00:00:00.000  2024-02-01 00:00:00.000      31   \n",
       "5  kallisto  2024-01-01 00:00:00.000  2024-02-01 00:00:00.000      31   \n",
       "\n",
       "   interval_init  interval_refine  processes  batch_write  test_id  \\\n",
       "0            300               10         10        10000        0   \n",
       "1            300               30         10        10000        0   \n",
       "2            300               60         10        10000        0   \n",
       "3            600               10         10        10000        0   \n",
       "4            600               30         10        10000        0   \n",
       "5            600               60         10        10000        0   \n",
       "\n",
       "   runtime (min)  \n",
       "0     121.337479  \n",
       "1      98.306519  \n",
       "2      86.515914  \n",
       "3     126.924310  \n",
       "4      93.261819  \n",
       "5      79.448332  "
      ]
     },
     "execution_count": 55,
     "metadata": {},
     "output_type": "execute_result"
    }
   ],
   "source": [
    "runtime = pd.read_csv(\n",
    "        'timegrid_tests.dat',\n",
    "        names=['computer', 'time_start', 'time_stop', 'n_days', 'interval_init', 'interval_refine', 'processes', \n",
    "               'batch_write', 'test_id', 'runtime (days)']\n",
    "        )\n",
    "runtime.sort_values(by=['interval_init', 'interval_refine'], ignore_index=True, inplace=True)\n",
    "runtime['runtime (min)'] = runtime['runtime (days)'] * 24 * 60\n",
    "del runtime['runtime (days)']\n",
    "runtime"
   ]
  },
  {
   "cell_type": "markdown",
   "id": "f94a30a1-58b4-41b1-957b-992574fb94c3",
   "metadata": {},
   "source": [
    "### Conclusions\n",
    "\n",
    "- For the cases where 600-60 differs from 300-10, 600-60 often gives the better result. Often\n",
    "    - Plateauing and rising are better distinguished, likely because I tweaked the parameters to work for 600-60. I am still surprised, because the differences in the durations should not be this large and the trends should be basically the same.\n",
    "    - Sometimes days are differently defined as observable or not observable, when the window is very short. This makes sense given the different sampling.\n",
    "- In some cases 600-60 does classify the rising part as plateauing. In the end this is not too critical.\n",
    "- I will use 600-60."
   ]
  },
  {
   "cell_type": "code",
   "execution_count": null,
   "id": "5b94159b-fbef-4e55-84ef-f6e99d046c31",
   "metadata": {},
   "outputs": [],
   "source": []
  }
 ],
 "metadata": {
  "kernelspec": {
   "display_name": "Python 3 (ipykernel)",
   "language": "python",
   "name": "python3"
  },
  "language_info": {
   "codemirror_mode": {
    "name": "ipython",
    "version": 3
   },
   "file_extension": ".py",
   "mimetype": "text/x-python",
   "name": "python",
   "nbconvert_exporter": "python",
   "pygments_lexer": "ipython3",
   "version": "3.9.18"
  },
  "toc-autonumbering": true
 },
 "nbformat": 4,
 "nbformat_minor": 5
}

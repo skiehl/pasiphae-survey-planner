{
 "cells": [
  {
   "cell_type": "markdown",
   "id": "17d11c90-fe45-433a-84b4-9b2892f1cfd3",
   "metadata": {},
   "source": [
    "# Develop status updates for field observabilities"
   ]
  },
  {
   "cell_type": "code",
   "execution_count": 1,
   "id": "a5a263ca-8233-4531-bfb3-8417c70267d3",
   "metadata": {},
   "outputs": [],
   "source": [
    "from copy import copy\n",
    "import matplotlib.pyplot as plt\n",
    "import numpy as np\n",
    "import pandas as pd\n",
    "from scipy.stats import linregress\n",
    "import seaborn as sns\n",
    "import statsmodels.api as sm\n",
    "\n",
    "from db import DBConnectorSQLite\n",
    "from utilities import true_blocks"
   ]
  },
  {
   "cell_type": "markdown",
   "id": "ab2024b8-57d2-4fa1-85fa-273ad006d7f2",
   "metadata": {},
   "source": [
    "## Get data"
   ]
  },
  {
   "cell_type": "markdown",
   "id": "e2ca26e1-3028-4691-86cf-f3ba34eac971",
   "metadata": {},
   "source": [
    "Get fields that have observability entries with missing status information:"
   ]
  },
  {
   "cell_type": "code",
   "execution_count": 2,
   "id": "e3e398b6-d0e8-4915-9c9e-fe90b8c6f72a",
   "metadata": {},
   "outputs": [],
   "source": [
    "def get_fields_missing_status(db):\n",
    "    # TODO\n",
    "    \"\"\"\n",
    "    \"\"\"\n",
    "\n",
    "    fields = db.get_fields_missing_status()\n",
    "    fields = pd.DataFrame(fields, columns=('field_id', 'jd'))\n",
    "    fields = fields.groupby('field_id').agg(\n",
    "            jd_min=('jd', 'min'), jd_max=('jd', 'max'))\n",
    "    field_ids = fields.index.to_numpy()\n",
    "    jd_min = fields['jd_min'].to_numpy()\n",
    "    jd_max = fields['jd_max'].to_numpy()\n",
    "\n",
    "    return field_ids, jd_min, jd_max"
   ]
  },
  {
   "cell_type": "code",
   "execution_count": 3,
   "id": "2b657eac-b3a6-4721-9543-3e00a008ecd0",
   "metadata": {},
   "outputs": [],
   "source": [
    "db = DBConnectorSQLite('test_planner_temp.sqlite3')"
   ]
  },
  {
   "cell_type": "code",
   "execution_count": 4,
   "id": "9983db32-4f04-40fb-9b60-660ee6fb23d5",
   "metadata": {},
   "outputs": [],
   "source": [
    "days_before = 7\n",
    "days_after = 7"
   ]
  },
  {
   "cell_type": "code",
   "execution_count": 5,
   "id": "456f33fb-81ef-4735-a114-45f857820e7e",
   "metadata": {},
   "outputs": [],
   "source": [
    "field_ids, jds_min, jds_max = get_fields_missing_status(db)\n",
    "days_required = days_before + days_after + 1\n",
    "jds_before = jds_min - days_before\n",
    "jds_after = jds_max + days_after"
   ]
  },
  {
   "cell_type": "code",
   "execution_count": 6,
   "id": "178f5959-7d4d-4f2f-8396-10f465c42ce9",
   "metadata": {},
   "outputs": [
    {
     "name": "stdout",
     "output_type": "stream",
     "text": [
      "Fields with missing status: 1224\n"
     ]
    }
   ],
   "source": [
    "print('Fields with missing status:', field_ids.shape[0])"
   ]
  },
  {
   "cell_type": "markdown",
   "id": "2e2f7f54-2801-43a0-8492-5ea74c9e3821",
   "metadata": {},
   "source": [
    "### Select one of the fields for testing"
   ]
  },
  {
   "cell_type": "markdown",
   "id": "9a106d52-aaba-4570-9c6d-93bab3d18e62",
   "metadata": {},
   "source": [
    "I am selecting a specific case for developing the approaches below. Later I will iterate through more cases to show that the methods work well in general."
   ]
  },
  {
   "cell_type": "code",
   "execution_count": 7,
   "id": "d02b9d53-36b1-47c6-80ab-bbb77d5250d3",
   "metadata": {},
   "outputs": [],
   "source": [
    "pd.set_option('display.max_rows', 100)"
   ]
  },
  {
   "cell_type": "code",
   "execution_count": 14,
   "id": "a09bff7c-c871-4bb2-afef-a2d81bfade73",
   "metadata": {},
   "outputs": [],
   "source": [
    "field_id = 100\n",
    "i = np.nonzero(field_ids == field_id)[0][0]"
   ]
  },
  {
   "cell_type": "code",
   "execution_count": 15,
   "id": "17f3033c-e11f-44d2-ae50-d5d1b0d967bb",
   "metadata": {},
   "outputs": [
    {
     "name": "stdout",
     "output_type": "stream",
     "text": [
      "    observability_id         jd      status  duration  setting_in  update\n",
      "0             161903  2460448.5      rising  0.293692         NaN   False\n",
      "1             162944  2460449.5      rising  0.295833         NaN   False\n",
      "2             164012  2460450.5      rising  0.298032         NaN   False\n",
      "3             165065  2460451.5      rising  0.300231         NaN   False\n",
      "4             166119  2460452.5      rising  0.301157         NaN   False\n",
      "5             167178  2460453.5  plateauing  0.301157         NaN   False\n",
      "6             168223  2460454.5  plateauing  0.301215         NaN   False\n",
      "7             169279  2460455.5        init  0.301215         NaN   False\n",
      "8             170335  2460456.5        init  0.301157         NaN   False\n",
      "9             171394  2460457.5        init  0.301157         NaN   False\n",
      "10            172445  2460458.5        init  0.298148         NaN   False\n",
      "11            173495  2460459.5        init  0.294850         NaN   False\n",
      "12            174557  2460460.5        init  0.291551         NaN   False\n",
      "13            175613  2460461.5        init  0.288310         NaN   False\n"
     ]
    },
    {
     "data": {
      "image/png": "[encoded data removed]",
      "text/plain": [
       "<Figure size 640x480 with 1 Axes>"
      ]
     },
     "metadata": {},
     "output_type": "display_data"
    }
   ],
   "source": [
    "durations_init = db.get_obs_window_durations(\n",
    "        field_ids[i], jds_before[i], jds_after[i])\n",
    "durations_init = pd.DataFrame(\n",
    "        durations_init, columns=('observability_id', 'jd', 'status', 'duration'))\n",
    "durations_init = durations_init.groupby(['observability_id', 'jd', 'status']).sum()\n",
    "durations_init.reset_index(inplace=True)\n",
    "durations_init['setting_in'] = np.zeros(durations_init.shape[0]) * np.nan\n",
    "durations_init['update'] = np.zeros(durations_init.shape[0], dtype=bool)\n",
    "\n",
    "sns.scatterplot(data=durations_init, x='jd', y='duration', hue='status');\n",
    "print(durations_init)"
   ]
  },
  {
   "cell_type": "markdown",
   "id": "fe8ac67b-e14f-4b17-ab94-11c0371ce55c",
   "metadata": {},
   "source": [
    "## Determine status for new observabilities"
   ]
  },
  {
   "cell_type": "markdown",
   "id": "33da658f-14e9-4e1d-85b7-4ab4c1e3dce7",
   "metadata": {},
   "source": [
    "### Too few data points to work with\n",
    "\n",
    "If too few days are available to determine the status, we leave everything unchanged:"
   ]
  },
  {
   "cell_type": "code",
   "execution_count": 16,
   "id": "0927ea7b-942b-426c-994d-4dcb0216df36",
   "metadata": {},
   "outputs": [],
   "source": [
    "# create a shorter copy of the initial mock data above to demonstrate this part of the code:\n",
    "durations = copy(durations_init)\n",
    "durations = durations.iloc[:10]"
   ]
  },
  {
   "cell_type": "code",
   "execution_count": 17,
   "id": "7633a181-680b-422c-8ae1-3a24d07d4b2a",
   "metadata": {},
   "outputs": [
    {
     "name": "stdout",
     "output_type": "stream",
     "text": [
      "Too few days\n"
     ]
    }
   ],
   "source": [
    "if durations.shape[0] < days_required:\n",
    "    print('Too few days')"
   ]
  },
  {
   "cell_type": "code",
   "execution_count": 18,
   "id": "ed9278fc-2666-4258-9fde-9cef2ed129b1",
   "metadata": {},
   "outputs": [
    {
     "data": {
      "text/html": [
       "<div>\n",
       "<style scoped>\n",
       "    .dataframe tbody tr th:only-of-type {\n",
       "        vertical-align: middle;\n",
       "    }\n",
       "\n",
       "    .dataframe tbody tr th {\n",
       "        vertical-align: top;\n",
       "    }\n",
       "\n",
       "    .dataframe thead th {\n",
       "        text-align: right;\n",
       "    }\n",
       "</style>\n",
       "<table border=\"1\" class=\"dataframe\">\n",
       "  <thead>\n",
       "    <tr style=\"text-align: right;\">\n",
       "      <th></th>\n",
       "      <th>observability_id</th>\n",
       "      <th>jd</th>\n",
       "      <th>status</th>\n",
       "      <th>duration</th>\n",
       "      <th>setting_in</th>\n",
       "      <th>update</th>\n",
       "    </tr>\n",
       "  </thead>\n",
       "  <tbody>\n",
       "    <tr>\n",
       "      <th>0</th>\n",
       "      <td>161903</td>\n",
       "      <td>2460448.5</td>\n",
       "      <td>rising</td>\n",
       "      <td>0.293692</td>\n",
       "      <td>NaN</td>\n",
       "      <td>False</td>\n",
       "    </tr>\n",
       "    <tr>\n",
       "      <th>1</th>\n",
       "      <td>162944</td>\n",
       "      <td>2460449.5</td>\n",
       "      <td>rising</td>\n",
       "      <td>0.295833</td>\n",
       "      <td>NaN</td>\n",
       "      <td>False</td>\n",
       "    </tr>\n",
       "    <tr>\n",
       "      <th>2</th>\n",
       "      <td>164012</td>\n",
       "      <td>2460450.5</td>\n",
       "      <td>rising</td>\n",
       "      <td>0.298032</td>\n",
       "      <td>NaN</td>\n",
       "      <td>False</td>\n",
       "    </tr>\n",
       "    <tr>\n",
       "      <th>3</th>\n",
       "      <td>165065</td>\n",
       "      <td>2460451.5</td>\n",
       "      <td>rising</td>\n",
       "      <td>0.300231</td>\n",
       "      <td>NaN</td>\n",
       "      <td>False</td>\n",
       "    </tr>\n",
       "    <tr>\n",
       "      <th>4</th>\n",
       "      <td>166119</td>\n",
       "      <td>2460452.5</td>\n",
       "      <td>rising</td>\n",
       "      <td>0.301157</td>\n",
       "      <td>NaN</td>\n",
       "      <td>False</td>\n",
       "    </tr>\n",
       "    <tr>\n",
       "      <th>5</th>\n",
       "      <td>167178</td>\n",
       "      <td>2460453.5</td>\n",
       "      <td>plateauing</td>\n",
       "      <td>0.301157</td>\n",
       "      <td>NaN</td>\n",
       "      <td>False</td>\n",
       "    </tr>\n",
       "    <tr>\n",
       "      <th>6</th>\n",
       "      <td>168223</td>\n",
       "      <td>2460454.5</td>\n",
       "      <td>plateauing</td>\n",
       "      <td>0.301215</td>\n",
       "      <td>NaN</td>\n",
       "      <td>False</td>\n",
       "    </tr>\n",
       "    <tr>\n",
       "      <th>7</th>\n",
       "      <td>169279</td>\n",
       "      <td>2460455.5</td>\n",
       "      <td>init</td>\n",
       "      <td>0.301215</td>\n",
       "      <td>NaN</td>\n",
       "      <td>False</td>\n",
       "    </tr>\n",
       "    <tr>\n",
       "      <th>8</th>\n",
       "      <td>170335</td>\n",
       "      <td>2460456.5</td>\n",
       "      <td>init</td>\n",
       "      <td>0.301157</td>\n",
       "      <td>NaN</td>\n",
       "      <td>False</td>\n",
       "    </tr>\n",
       "    <tr>\n",
       "      <th>9</th>\n",
       "      <td>171394</td>\n",
       "      <td>2460457.5</td>\n",
       "      <td>init</td>\n",
       "      <td>0.301157</td>\n",
       "      <td>NaN</td>\n",
       "      <td>False</td>\n",
       "    </tr>\n",
       "  </tbody>\n",
       "</table>\n",
       "</div>"
      ],
      "text/plain": [
       "   observability_id         jd      status  duration  setting_in  update\n",
       "0            161903  2460448.5      rising  0.293692         NaN   False\n",
       "1            162944  2460449.5      rising  0.295833         NaN   False\n",
       "2            164012  2460450.5      rising  0.298032         NaN   False\n",
       "3            165065  2460451.5      rising  0.300231         NaN   False\n",
       "4            166119  2460452.5      rising  0.301157         NaN   False\n",
       "5            167178  2460453.5  plateauing  0.301157         NaN   False\n",
       "6            168223  2460454.5  plateauing  0.301215         NaN   False\n",
       "7            169279  2460455.5        init  0.301215         NaN   False\n",
       "8            170335  2460456.5        init  0.301157         NaN   False\n",
       "9            171394  2460457.5        init  0.301157         NaN   False"
      ]
     },
     "execution_count": 18,
     "metadata": {},
     "output_type": "execute_result"
    }
   ],
   "source": [
    "durations"
   ]
  },
  {
   "cell_type": "markdown",
   "id": "935d0df7-73c2-4cdd-b487-9eb42fb95bf8",
   "metadata": {},
   "source": [
    "### Data flagging"
   ]
  },
  {
   "cell_type": "markdown",
   "id": "1a90e3c0-e009-4068-8c2f-b209220105d8",
   "metadata": {},
   "source": [
    "The next few sub-sections deal with the steps we run when enough data points are available. First we restore a copy of the full data set above:"
   ]
  },
  {
   "cell_type": "code",
   "execution_count": 19,
   "id": "a0248951-eeef-45ee-8f5f-ff7fd6282bf7",
   "metadata": {},
   "outputs": [],
   "source": [
    "# create a copy of the complete, initial mock data above to demonstrate this part of the code:\n",
    "durations = copy(durations_init)"
   ]
  },
  {
   "cell_type": "markdown",
   "id": "95005dc8-f44c-481e-b93a-231720d06452",
   "metadata": {},
   "source": [
    "The first step in the analysis is data flagging. To determine whether an field is rising, plateauing, or setting we fit a range of durations around the day of interest with a linear function. However, some days the duration may be low or even zero due to as small seaparation from the Moon. Those affect the linear regression as outliers. We want to remove those. Zero durations can be easily removed, but small durations are more tricky."
   ]
  },
  {
   "cell_type": "markdown",
   "id": "302503e0-2e63-4865-abd7-5bf10ea59a12",
   "metadata": {},
   "source": [
    "#### Approach 1: residuals from a smoothed curve\n",
    "\n",
    "My usual flagging approach I use for blazar light curves does not work here, as the example below shows:"
   ]
  },
  {
   "cell_type": "code",
   "execution_count": 20,
   "id": "159f8e38-bae2-4250-ae1a-e9bae4ade565",
   "metadata": {},
   "outputs": [],
   "source": [
    "def mask_outliers_hann(x, window_length, threshold):\n",
    "    \"\"\"Identify outliers.\n",
    "\n",
    "    Parameters\n",
    "    ----------\n",
    "    x : array-like\n",
    "        Time-sorted data sequence.\n",
    "    window_length : int\n",
    "        Defines the width of the Hann window function that is used to calculate\n",
    "        a smoothed data curve.\n",
    "    threshold : float\n",
    "        Threshold for detecting outliers. Residuals that are larger than the\n",
    "        mean residual value times this threshold factor are considered\n",
    "        outliers.\n",
    "\n",
    "    Raises\n",
    "    ------\n",
    "    ValueError\n",
    "        Raised, if `window_length` is not an integer.\n",
    "\n",
    "    Returns\n",
    "    -------\n",
    "    outlier : np.ndarray (dtype: bool)\n",
    "        Items are True if a value in the input `x` is considered an outliers;\n",
    "        False otherwise.\n",
    "    x_smoothed : np.ndarray\n",
    "        The smoothed data. Usually I do not return this, but for demonstration below I need to plot these.\n",
    "    \"\"\"\n",
    "\n",
    "    # check input:\n",
    "    x = np.asarray(x)\n",
    "\n",
    "    if not isinstance(window_length, int):\n",
    "        raise ValueError(\"`window_length` must be integer.\")\n",
    "\n",
    "    # smoothed data:\n",
    "    s = np.r_[x[window_length-1:0:-1], x, x[-2:-window_length-1:-1]]\n",
    "    w = np.hanning(window_length)\n",
    "    n = int(np.floor(window_length/2))\n",
    "    x_smoothed = np.convolve(w/w.sum(), s, mode='valid')[n:-n]\n",
    "\n",
    "    # residuals:\n",
    "    x_res = np.absolute(x - x_smoothed)\n",
    "    mean_res = x_res.mean()\n",
    "\n",
    "    # identify outliers:\n",
    "    outlier = x_res > threshold * mean_res\n",
    "\n",
    "    return outlier, x_smoothed"
   ]
  },
  {
   "cell_type": "markdown",
   "id": "32a343a4-c97c-4e94-b997-aea0870ffbd4",
   "metadata": {},
   "source": [
    "Irregardless which `window_length` we use, the wrong data points are flagged, because the smoothed data is strongly affected by the outliers:"
   ]
  },
  {
   "cell_type": "code",
   "execution_count": 21,
   "id": "22dcab3a-5066-4b13-a0ce-5d4b0b181f0d",
   "metadata": {},
   "outputs": [
    {
     "ename": "ValueError",
     "evalue": "operands could not be broadcast together with shapes (7,) (0,) ",
     "output_type": "error",
     "traceback": [
      "\u001b[0;31m---------------------------------------------------------------------------\u001b[0m",
      "\u001b[0;31mValueError\u001b[0m                                Traceback (most recent call last)",
      "\u001b[0;32m/tmp/ipykernel_21731/2978255844.py\u001b[0m in \u001b[0;36m<module>\u001b[0;34m\u001b[0m\n\u001b[1;32m      1\u001b[0m \u001b[0mwindow_length\u001b[0m \u001b[0;34m=\u001b[0m \u001b[0;36m11\u001b[0m\u001b[0;34m\u001b[0m\u001b[0;34m\u001b[0m\u001b[0m\n\u001b[1;32m      2\u001b[0m \u001b[0msel_init\u001b[0m \u001b[0;34m=\u001b[0m \u001b[0mdurations\u001b[0m\u001b[0;34m[\u001b[0m\u001b[0;34m'status'\u001b[0m\u001b[0;34m]\u001b[0m \u001b[0;34m==\u001b[0m \u001b[0;34m'init'\u001b[0m\u001b[0;34m\u001b[0m\u001b[0;34m\u001b[0m\u001b[0m\n\u001b[0;32m----> 3\u001b[0;31m \u001b[0mmask\u001b[0m\u001b[0;34m,\u001b[0m \u001b[0ms_smoothed\u001b[0m \u001b[0;34m=\u001b[0m \u001b[0mmask_outliers_hann\u001b[0m\u001b[0;34m(\u001b[0m\u001b[0mdurations\u001b[0m\u001b[0;34m.\u001b[0m\u001b[0mloc\u001b[0m\u001b[0;34m[\u001b[0m\u001b[0msel_init\u001b[0m\u001b[0;34m,\u001b[0m \u001b[0;34m'duration'\u001b[0m\u001b[0;34m]\u001b[0m\u001b[0;34m,\u001b[0m \u001b[0mwindow_length\u001b[0m\u001b[0;34m,\u001b[0m \u001b[0;36m3\u001b[0m\u001b[0;34m)\u001b[0m\u001b[0;34m\u001b[0m\u001b[0;34m\u001b[0m\u001b[0m\n\u001b[0m\u001b[1;32m      4\u001b[0m \u001b[0msns\u001b[0m\u001b[0;34m.\u001b[0m\u001b[0mscatterplot\u001b[0m\u001b[0;34m(\u001b[0m\u001b[0mdata\u001b[0m\u001b[0;34m=\u001b[0m\u001b[0mdurations\u001b[0m\u001b[0;34m.\u001b[0m\u001b[0mloc\u001b[0m\u001b[0;34m[\u001b[0m\u001b[0msel_init\u001b[0m\u001b[0;34m]\u001b[0m\u001b[0;34m.\u001b[0m\u001b[0mloc\u001b[0m\u001b[0;34m[\u001b[0m\u001b[0;34m~\u001b[0m\u001b[0mmask\u001b[0m\u001b[0;34m]\u001b[0m\u001b[0;34m,\u001b[0m \u001b[0mx\u001b[0m\u001b[0;34m=\u001b[0m\u001b[0;34m'jd'\u001b[0m\u001b[0;34m,\u001b[0m \u001b[0my\u001b[0m\u001b[0;34m=\u001b[0m\u001b[0;34m'duration'\u001b[0m\u001b[0;34m)\u001b[0m\u001b[0;34m\u001b[0m\u001b[0;34m\u001b[0m\u001b[0m\n\u001b[1;32m      5\u001b[0m \u001b[0msns\u001b[0m\u001b[0;34m.\u001b[0m\u001b[0mscatterplot\u001b[0m\u001b[0;34m(\u001b[0m\u001b[0mdata\u001b[0m\u001b[0;34m=\u001b[0m\u001b[0mdurations\u001b[0m\u001b[0;34m.\u001b[0m\u001b[0mloc\u001b[0m\u001b[0;34m[\u001b[0m\u001b[0msel_init\u001b[0m\u001b[0;34m]\u001b[0m\u001b[0;34m.\u001b[0m\u001b[0mloc\u001b[0m\u001b[0;34m[\u001b[0m\u001b[0mmask\u001b[0m\u001b[0;34m]\u001b[0m\u001b[0;34m,\u001b[0m \u001b[0mx\u001b[0m\u001b[0;34m=\u001b[0m\u001b[0;34m'jd'\u001b[0m\u001b[0;34m,\u001b[0m \u001b[0my\u001b[0m\u001b[0;34m=\u001b[0m\u001b[0;34m'duration'\u001b[0m\u001b[0;34m)\u001b[0m\u001b[0;34m\u001b[0m\u001b[0;34m\u001b[0m\u001b[0m\n",
      "\u001b[0;32m/tmp/ipykernel_21731/518793600.py\u001b[0m in \u001b[0;36mmask_outliers_hann\u001b[0;34m(x, window_length, threshold)\u001b[0m\n\u001b[1;32m     41\u001b[0m \u001b[0;34m\u001b[0m\u001b[0m\n\u001b[1;32m     42\u001b[0m     \u001b[0;31m# residuals:\u001b[0m\u001b[0;34m\u001b[0m\u001b[0;34m\u001b[0m\u001b[0m\n\u001b[0;32m---> 43\u001b[0;31m     \u001b[0mx_res\u001b[0m \u001b[0;34m=\u001b[0m \u001b[0mnp\u001b[0m\u001b[0;34m.\u001b[0m\u001b[0mabsolute\u001b[0m\u001b[0;34m(\u001b[0m\u001b[0mx\u001b[0m \u001b[0;34m-\u001b[0m \u001b[0mx_smoothed\u001b[0m\u001b[0;34m)\u001b[0m\u001b[0;34m\u001b[0m\u001b[0;34m\u001b[0m\u001b[0m\n\u001b[0m\u001b[1;32m     44\u001b[0m     \u001b[0mmean_res\u001b[0m \u001b[0;34m=\u001b[0m \u001b[0mx_res\u001b[0m\u001b[0;34m.\u001b[0m\u001b[0mmean\u001b[0m\u001b[0;34m(\u001b[0m\u001b[0;34m)\u001b[0m\u001b[0;34m\u001b[0m\u001b[0;34m\u001b[0m\u001b[0m\n\u001b[1;32m     45\u001b[0m \u001b[0;34m\u001b[0m\u001b[0m\n",
      "\u001b[0;31mValueError\u001b[0m: operands could not be broadcast together with shapes (7,) (0,) "
     ]
    }
   ],
   "source": [
    "window_length = 11\n",
    "sel_init = durations['status'] == 'init'\n",
    "mask, s_smoothed = mask_outliers_hann(durations.loc[sel_init, 'duration'], window_length, 3)\n",
    "sns.scatterplot(data=durations.loc[sel_init].loc[~mask], x='jd', y='duration')\n",
    "sns.scatterplot(data=durations.loc[sel_init].loc[mask], x='jd', y='duration')\n",
    "plt.plot(durations['jd'].loc[sel_init], s_smoothed, marker='x', color='0.5', ms=4);"
   ]
  },
  {
   "cell_type": "markdown",
   "id": "8bcd71f8-6c00-4224-92ad-49d05880127d",
   "metadata": {},
   "source": [
    "#### Approach 2: Cook's distance"
   ]
  },
  {
   "cell_type": "markdown",
   "id": "ff4f82bf-0866-4405-9d2b-776e95ddcb6c",
   "metadata": {},
   "source": [
    "Here, I am using OLS from `statsmodels` which provides the [Cook's distance](https://en.wikipedia.org/wiki/Cook%27s_distance) as measure of influence on the fit.\n",
    "\n",
    "First, I am selecting a subset of the data:"
   ]
  },
  {
   "cell_type": "code",
   "execution_count": 25,
   "id": "1a6bb0b9-58dd-4e1f-a026-65de226e5e2d",
   "metadata": {},
   "outputs": [
    {
     "data": {
      "image/png": "[encoded data removed]",
      "text/plain": [
       "<Figure size 640x480 with 1 Axes>"
      ]
     },
     "metadata": {},
     "output_type": "display_data"
    }
   ],
   "source": [
    "i0 = 3\n",
    "i1 = 20\n",
    "\n",
    "x = durations.loc[sel_init, 'jd'].iloc[i0:i1]\n",
    "y = durations.loc[sel_init, 'duration'].iloc[i0:i1]\n",
    "plt.plot(x, y, marker='o', linestyle='None');"
   ]
  },
  {
   "cell_type": "markdown",
   "id": "66b5f847-304c-4282-b0b0-063783a15847",
   "metadata": {},
   "source": [
    "Second, I am running the OLS fit and get the Cook's distance. The following plot shows the corresponding p-values:"
   ]
  },
  {
   "cell_type": "code",
   "execution_count": 26,
   "id": "e21b2c6e-74e4-4f7d-8079-83a37ab488a9",
   "metadata": {},
   "outputs": [
    {
     "data": {
      "image/png": "[encoded data removed]",
      "text/plain": [
       "<Figure size 640x480 with 1 Axes>"
      ]
     },
     "metadata": {},
     "output_type": "display_data"
    }
   ],
   "source": [
    "x_mod = sm.add_constant(x)\n",
    "model = sm.OLS(y, x_mod).fit() \n",
    "influence = model.get_influence()\n",
    "cooks, cooks_pval = influence.cooks_distance\n",
    "plt.plot(x, cooks_pval, marker='o');"
   ]
  },
  {
   "cell_type": "markdown",
   "id": "fa6b2911-3b7d-4e8a-9bf0-ebaffa58f328",
   "metadata": {},
   "source": [
    "Third, I am marking those values as outliers that have a Cook's distance p-value < 0.6 (I need to test if this threshold works generally).\n",
    "I remove ourliers and repeat the OLS:"
   ]
  },
  {
   "cell_type": "code",
   "execution_count": 27,
   "id": "65c1ad45-b797-4966-b717-1636ea35e89e",
   "metadata": {},
   "outputs": [
    {
     "name": "stdout",
     "output_type": "stream",
     "text": [
      "Any data points masked: True\n"
     ]
    },
    {
     "data": {
      "text/plain": [
       "const    8116.393895\n",
       "jd         -0.003299\n",
       "dtype: float64"
      ]
     },
     "execution_count": 27,
     "metadata": {},
     "output_type": "execute_result"
    }
   ],
   "source": [
    "mask = cooks_pval < 0.6\n",
    "print('Any data points masked:', np.any(mask))\n",
    "x_masked = durations.loc[sel_init, 'jd'].iloc[i0:i1].loc[~mask]\n",
    "y_masked = durations.loc[sel_init, 'duration'].iloc[i0:i1].loc[~mask]\n",
    "x_mod = sm.add_constant(x_masked)\n",
    "model = sm.OLS(y_masked, x_mod).fit()\n",
    "model.params"
   ]
  },
  {
   "cell_type": "markdown",
   "id": "e9297129-4f52-42f9-9473-ff2d5e3b0522",
   "metadata": {},
   "source": [
    "This is the result:"
   ]
  },
  {
   "cell_type": "code",
   "execution_count": 28,
   "id": "cf758296-6009-49a3-9218-527040bf4e0c",
   "metadata": {},
   "outputs": [
    {
     "name": "stdout",
     "output_type": "stream",
     "text": [
      "Fit p-value (H0: zero slope): nan\n"
     ]
    },
    {
     "data": {
      "image/png": "[encoded data removed]",
      "text/plain": [
       "<Figure size 640x480 with 1 Axes>"
      ]
     },
     "metadata": {},
     "output_type": "display_data"
    }
   ],
   "source": [
    "y_fit = model.params.const + x * model.params.jd\n",
    "plt.plot(x, y, marker='o', ls='None')\n",
    "plt.plot(x, y_fit, marker='None', ls='-')\n",
    "print('Fit p-value (H0: zero slope):', model.pvalues[1])"
   ]
  },
  {
   "cell_type": "markdown",
   "id": "83b49258-8b1c-4519-9633-c4baf2e45646",
   "metadata": {},
   "source": [
    "We write up the above approach as a function:"
   ]
  },
  {
   "cell_type": "code",
   "execution_count": 29,
   "id": "ba706ffa-b503-4370-a27f-70e80db1cdbd",
   "metadata": {},
   "outputs": [],
   "source": [
    "def mask_outlier_cook(jd, duration, outlier_threshold=0.6):\n",
    "    \"\"\"Linear ordinary least square regression with exclusion of outliers.\n",
    "    \n",
    "    Parameters\n",
    "    ----------\n",
    "    jd : array-like\n",
    "        JD.\n",
    "    duration : array-like\n",
    "        Durations of the observing windows for each JD.\n",
    "    outlier_threshold : float, optional\n",
    "        Threshold for outlier detection. Data points with a Cook's distance p-value\n",
    "        lower than this threshold are considered outliers and excluded from the \n",
    "        regression. The default is 0.6.\n",
    "        \n",
    "    Returns\n",
    "    -------\n",
    "    sel_outl : numpy.ndarray (dtype: bool)\n",
    "        True, for detected outliers. False, otherwise.\n",
    "    \"\"\"\n",
    "    \n",
    "    x = np.asarray(jd)\n",
    "    y = np.asarray(duration)\n",
    "    \n",
    "    # linear regression:\n",
    "    x = sm.add_constant(x)\n",
    "    model = sm.OLS(y, x).fit() \n",
    "    \n",
    "    # check for outliers:\n",
    "    influence = model.get_influence()\n",
    "    __, cooks_pval = influence.cooks_distance\n",
    "    sel_outl = cooks_pval < outlier_threshold\n",
    "    \n",
    "    return sel_outl"
   ]
  },
  {
   "cell_type": "markdown",
   "id": "fefe7e2e-89f6-41e4-8c86-78758d8675f5",
   "metadata": {},
   "source": [
    "Test different values:"
   ]
  },
  {
   "cell_type": "code",
   "execution_count": 30,
   "id": "40812e9e-abe2-4172-ab9a-ed4dae56747a",
   "metadata": {},
   "outputs": [
    {
     "data": {
      "image/png": "[encoded data removed]",
      "text/plain": [
       "<Figure size 640x480 with 1 Axes>"
      ]
     },
     "metadata": {},
     "output_type": "display_data"
    }
   ],
   "source": [
    "n_dp = 7\n",
    "outlier_threshold = 0.6\n",
    "\n",
    "for i0 in np.arange(0, durations.shape[0]-n_dp, n_dp):\n",
    "    i1 = i0 + n_dp\n",
    "    jd = durations.loc[sel_init, 'jd'].iloc[i0:i1]\n",
    "    duration = durations.loc[sel_init, 'duration'].iloc[i0:i1]\n",
    "    sel_outl = mask_outlier_cook(jd, duration, outlier_threshold=outlier_threshold)\n",
    "    \n",
    "    plt.plot(jd[~sel_outl], duration[~sel_outl], ls='None', marker='o')\n",
    "    plt.plot(jd[sel_outl], duration[sel_outl], ls='None', marker='o', mfc='w', color='0.5')"
   ]
  },
  {
   "cell_type": "markdown",
   "id": "f2af5e51-cc83-4c1f-95de-66510bc1b90f",
   "metadata": {},
   "source": [
    "Playing with the number of data points that we select for fitting, `n_dp`, and the outlier detection threshold, `outlier_threshold`, shows that they strongly affect which data points are selected as outliers:\n",
    "\n",
    "**Results:**\n",
    "* A higher threshold, e.g. `0.8`, largely increases the number of \"outliers\". This is not reasonable.\n",
    "* A lower threshold, e.g. `0.5`, will miss some outliers.\n",
    "* The value of `0.6` seems to be a good compromise for this test case. Even though it misclassifies some data points as outliers.\n",
    "* The selection of the threshold also depends on the number of data points. With more data points, e.g. `12`, the impact of single data points becomes smaller, thus a \"clear\" outlier may not be detected as such.\n",
    "* Vice versa with a smaller number of data points, e.g. `7`, the impact of individual data points increases and starting or ending points of a data subset, which typically have stronger impact than other data points (except outliers), may be misclassified as outliers.\n",
    "\n",
    "**Discussion:**\n",
    "None of the above really matters much. We want to make sure to remove the strongest outliers, because the can result in poor estimates of the slope and, thus, misclassification of the status. False outlier detection occasionally removes data points that do not change the slope drastically. Therefore, we do not care. Therefore, it is of higher importance to check further below that the status classification works well, rather than getting the outlier classification absolutely right."
   ]
  },
  {
   "cell_type": "markdown",
   "id": "9d80cc50-e9e3-4aab-9eb0-8240289dc029",
   "metadata": {},
   "source": [
    "### Status classification"
   ]
  },
  {
   "cell_type": "markdown",
   "id": "e14defed-0b64-40d8-b325-864a14212ec4",
   "metadata": {
    "tags": []
   },
   "source": [
    "#### Approach 1: linear regression p-value\n",
    "\n",
    "**Criterion:** We use the linear regression p-value to distinguish plateauing from rising or setting."
   ]
  },
  {
   "cell_type": "code",
   "execution_count": 31,
   "id": "8a330bb7-0867-4293-8820-1a4a486972ea",
   "metadata": {},
   "outputs": [],
   "source": [
    "def get_status(jd, jds, durations, status_threshold=0.001, mask_outl=None):\n",
    "    \"\"\"Status based on linear ordinary least square regression with exclusion of outliers.\n",
    "    \n",
    "    Parameters\n",
    "    ----------\n",
    "    jd : float\n",
    "        JD of the date of interest.\n",
    "    jds : array-like\n",
    "        JDs of the observing windows.\n",
    "    durations : array-like\n",
    "        Durations of the observing windows for each JD.\n",
    "    status_threshold : float, optional\n",
    "        Threshold for distinguishing plateauing from rising or setting. If the OLS p-value is \n",
    "        larger than this threshold, the status is considered \"plateauing\"; otherwise \"rising\" \n",
    "        or \"setting\" depending on the slope. The default is 0.001.\n",
    "    mask_outl : numpy.ndarray (dtype: bool) or None, optional\n",
    "        If given, Trues mark outliers that are removed from the OLS. The default is None.\n",
    "        \n",
    "    Returns\n",
    "    -------\n",
    "    status : str\n",
    "        Either \"rising\", \"plateauing\", or \"setting\".\n",
    "    setting_in : float\n",
    "        If the status is \"setting\" this is the duration in days, when the field is setting.\n",
    "        Otherwise a numpy.nan is returned.\n",
    "    \"\"\"\n",
    "    \n",
    "    x = np.asarray(jds)\n",
    "    y = np.asarray(durations)\n",
    "    \n",
    "    # remove outliers:\n",
    "    if mask_outl is not None:\n",
    "        x = x[~mask_outl]\n",
    "        y = y[~mask_outl]\n",
    "    \n",
    "    # linear regression:\n",
    "    x = sm.add_constant(x)\n",
    "    model = sm.OLS(y, x).fit()\n",
    "    pval = model.pvalues[1]\n",
    "    slope = model.params[1]\n",
    "    intercept = model.params[0]\n",
    "    \n",
    "    # get status:\n",
    "    if pval >= status_threshold:\n",
    "        status = 'plateauing'\n",
    "        setting_in = np.nan\n",
    "        \n",
    "    elif slope > 0:\n",
    "        status = 'rising'\n",
    "        setting_in = np.nan\n",
    "        \n",
    "    else:\n",
    "        status = 'setting'\n",
    "        setting_in = -intercept / slope - jd\n",
    "        \n",
    "    return status, setting_in"
   ]
  },
  {
   "cell_type": "markdown",
   "id": "4a8bd2ad-7afb-43a7-8671-72077528c6d4",
   "metadata": {},
   "source": [
    "Test:"
   ]
  },
  {
   "cell_type": "code",
   "execution_count": 32,
   "id": "1ae6025a-76e5-4c76-a93b-d7e5e9c50d8d",
   "metadata": {},
   "outputs": [
    {
     "data": {
      "image/png": "[encoded data removed]",
      "text/plain": [
       "<Figure size 640x480 with 1 Axes>"
      ]
     },
     "metadata": {},
     "output_type": "display_data"
    }
   ],
   "source": [
    "# test configuration:\n",
    "days_before, days_after = 7, 7\n",
    "outlier_threshold = 0.7\n",
    "status_threshold = 0.001\n",
    "field_id = None\n",
    "\n",
    "#------------------------------------------\n",
    "# get random field, if no ID is specified:\n",
    "if field_id is None:\n",
    "    i = np.random.randint(len(field_ids))\n",
    "    field_id = field_ids[i]\n",
    "else:\n",
    "    i = np.nonzero(field_ids == field_id)[0][0]\n",
    "\n",
    "# get initial data for that field:\n",
    "durations = db.get_obs_window_durations(\n",
    "        field_ids[i], jds_before[i], jds_after[i])\n",
    "durations = pd.DataFrame(\n",
    "        durations, columns=('observability_id', 'jd', 'status', 'duration'))\n",
    "durations = durations.groupby(['observability_id', 'jd', 'status']).sum()\n",
    "durations.reset_index(inplace=True)\n",
    "durations['setting_in'] = np.zeros(durations.shape[0]) * np.nan\n",
    "durations['update'] = np.zeros(durations.shape[0], dtype=bool)\n",
    "\n",
    "sel_init = durations['status'] == 'init'\n",
    "\n",
    "for i in np.nonzero(sel_init.to_numpy())[0]:\n",
    "    jd = durations.iloc[i]['jd']\n",
    "    jd_before = jd - days_before\n",
    "    jd_after = jd + days_after\n",
    "    sel_time = np.logical_and(\n",
    "            durations['jd'] >= jd_before,\n",
    "            durations['jd'] <= jd_after)\n",
    "\n",
    "    if (durations.loc[sel_time, 'jd'].iloc[0] != jd_before or\n",
    "            durations.loc[sel_time, 'jd'].iloc[-1] != jd_after):\n",
    "        status = 'unknown'\n",
    "        durations.at[i, 'status'] = status\n",
    "\n",
    "    else:\n",
    "        mask_outl = mask_outlier_cook(\n",
    "                durations.loc[sel_time, 'jd'], durations.loc[sel_time, 'duration'], outlier_threshold=outlier_threshold)\n",
    "        status, setting_in = get_status(\n",
    "                jd, durations.loc[sel_time, 'jd'], durations.loc[sel_time, 'duration'], status_threshold=status_threshold, \n",
    "                mask_outl=mask_outl)\n",
    "        durations.at[i, 'status'] = status\n",
    "        durations.at[i, 'update'] = True\n",
    "        \n",
    "        if status == 'setting':\n",
    "            durations.at[i, 'setting_in'] = setting_in\n",
    "\n",
    "# plot result:\n",
    "sns.scatterplot(data=durations, x='jd', y='duration', hue='status')\n",
    "plt.suptitle(f'Field ID: {field_id}');"
   ]
  },
  {
   "cell_type": "markdown",
   "id": "9dcf1180-e5cf-41fa-81ca-f806f15a28b5",
   "metadata": {},
   "source": [
    "**Results:**\n",
    "\n",
    "* With five days of data points before and after, this approach is not very reliable. Several of the rising data points are classified as plateauing. \n",
    "* With seven days before and after, the results look good."
   ]
  },
  {
   "cell_type": "markdown",
   "id": "f7529c9b-a405-4fbe-928a-13df6f5a6224",
   "metadata": {},
   "source": [
    "#### Approach 2: First half vs second half\n",
    "\n",
    "With the approach above I had some issues, when I was using 5 days before and after. This is why I tested this second appoach.\n",
    "\n",
    "**Criterion:** If the second half of the durations is not significantly different from the first half, we consider the status plateauing. Otherwise, if the second half is larger than the first, the status is rising; if it is smaller, the status is setting."
   ]
  },
  {
   "cell_type": "markdown",
   "id": "e7a61225-c8e5-4e32-8f1c-ac17cf89b8a5",
   "metadata": {},
   "source": [
    "Quick demonstration:"
   ]
  },
  {
   "cell_type": "code",
   "execution_count": 33,
   "id": "6383c373-d084-4953-bec4-be67910b4306",
   "metadata": {},
   "outputs": [
    {
     "name": "stdout",
     "output_type": "stream",
     "text": [
      "0.375 0.3903123748998999 False\n"
     ]
    },
    {
     "data": {
      "image/png": "[encoded data removed]",
      "text/plain": [
       "<Figure size 640x480 with 1 Axes>"
      ]
     },
     "metadata": {},
     "output_type": "display_data"
    }
   ],
   "source": [
    "x = np.array([1,2,1,2,1,2,1,1,1,1,1,1,1,1,1,1])\n",
    "\n",
    "plt.plot(x, linestyle='None', marker='o')\n",
    "\n",
    "n = len(x)\n",
    "print(x[:n//2].mean() - x[n//2:].mean(), x.std(), np.abs(x[:n//2].mean() - x[n//2:].mean()) > x.std())"
   ]
  },
  {
   "cell_type": "code",
   "execution_count": 34,
   "id": "7c8f8785-a0af-46c9-b6bc-bd9d4dd57d12",
   "metadata": {},
   "outputs": [
    {
     "name": "stdout",
     "output_type": "stream",
     "text": [
      "-0.46000000000000013 0.26851443164195105 True\n"
     ]
    },
    {
     "data": {
      "image/png": "[encoded data removed]",
      "text/plain": [
       "<Figure size 640x480 with 1 Axes>"
      ]
     },
     "metadata": {},
     "output_type": "display_data"
    }
   ],
   "source": [
    "x = np.array([1,2,3,4,5,6,7,8,7,10]) * 0.1\n",
    "\n",
    "plt.plot(x, linestyle='None', marker='o')\n",
    "\n",
    "n = len(x)\n",
    "print(x[:n//2].mean() - x[n//2:].mean(), x.std(), np.abs(x[:n//2].mean() - x[n//2:].mean()) > x.std())"
   ]
  },
  {
   "cell_type": "markdown",
   "id": "b7803855-68c8-405a-a496-1501b9763012",
   "metadata": {},
   "source": [
    "Write up as function:"
   ]
  },
  {
   "cell_type": "code",
   "execution_count": 35,
   "id": "0e1095f0-1eea-47af-a4f8-1d5e5534dc8b",
   "metadata": {},
   "outputs": [],
   "source": [
    "def get_status(jd, jds, durations, status_threshold=1, mask_outl=None):\n",
    "    \"\"\"Status based relative changes between first and second half of the data.\n",
    "    \n",
    "    Parameters\n",
    "    ----------\n",
    "    jd : float\n",
    "        JD of the date of interest.\n",
    "    jds : array-like\n",
    "        JDs of the observing windows.\n",
    "    durations : array-like\n",
    "        Durations of the observing windows for each JD.\n",
    "    status_threshold : float, optional\n",
    "        Threshold for distinguishing plateauing from rising or setting. If the first half of the data\n",
    "        is larger than the second half by more than the standard deviation of the data multiplied with\n",
    "        this threshold, then the status is \"rising\" or \"setting\", depending on the values. Otherwise,\n",
    "        the status is \"plateauing\". The default is 1.\n",
    "    mask_outl : numpy.ndarray (dtype: bool) or None, optional\n",
    "        If given, Trues mark outliers that are removed from the analysis. The default is None.\n",
    "        \n",
    "    Returns\n",
    "    -------\n",
    "    status : str\n",
    "        Either \"rising\", \"plateauing\", or \"setting\".\n",
    "    setting_in : float\n",
    "        If the status is \"setting\" this is the duration in days, when the field is setting.\n",
    "        Otherwise a numpy.nan is returned.\n",
    "    \"\"\"\n",
    "    \n",
    "    x = np.asarray(jds)\n",
    "    y = np.asarray(durations)\n",
    "    \n",
    "    # remove outliers:\n",
    "    if mask_outl is not None:\n",
    "        x = x[~mask_outl]\n",
    "        y = y[~mask_outl]\n",
    "    \n",
    "    # calculate difference between first and second half of data:\n",
    "    n = x.shape[0]\n",
    "    y_diff = y[n//2:].mean() - y[:n//2].mean()\n",
    "    #y_diff = np.median(y[n//2:]) - np.median(y[:n//2])\n",
    "    y_std = y.std()\n",
    "    diff_lt_std = np.abs(y_diff) > y_std * status_threshold\n",
    "    \n",
    "    # get status:\n",
    "    if diff_lt_std and y_diff > 0:\n",
    "        status = 'rising'\n",
    "        setting_in = np.nan\n",
    "        \n",
    "    elif diff_lt_std:\n",
    "        status = 'setting'\n",
    "        \n",
    "        # linear regression for setting duration:\n",
    "        x = sm.add_constant(x)\n",
    "        model = sm.OLS(y, x).fit()\n",
    "        slope = model.params[1]\n",
    "        intercept = model.params[0]\n",
    "        setting_in = -intercept / slope - jd\n",
    "    \n",
    "    else:\n",
    "        status = 'plateauing'\n",
    "        setting_in = np.nan\n",
    "        \n",
    "    return status, setting_in"
   ]
  },
  {
   "cell_type": "markdown",
   "id": "fc25fbcb-54a9-455b-a6a4-d5827d8d582c",
   "metadata": {},
   "source": [
    "Test:"
   ]
  },
  {
   "cell_type": "code",
   "execution_count": 37,
   "id": "d25d3a30-6db8-4648-9fad-51755e427be9",
   "metadata": {},
   "outputs": [
    {
     "data": {
      "image/png": "[encoded data removed]",
      "text/plain": [
       "<Figure size 640x480 with 1 Axes>"
      ]
     },
     "metadata": {},
     "output_type": "display_data"
    }
   ],
   "source": [
    "# test configuration:\n",
    "days_before, days_after = 7, 7\n",
    "outlier_threshold = 0.7\n",
    "status_threshold = 1.4\n",
    "field_id = None\n",
    "debug = False\n",
    "\n",
    "#------------------------------------------\n",
    "# get random field, if no ID is specified:\n",
    "if field_id is None:\n",
    "    i = np.random.randint(len(field_ids))\n",
    "else:\n",
    "    i = np.nonzero(field_ids == field_id)[0][0]\n",
    "\n",
    "# get initial data for that field:\n",
    "durations = db.get_obs_window_durations(\n",
    "        field_ids[i], jds_before[i], jds_after[i])\n",
    "durations = pd.DataFrame(\n",
    "        durations, columns=('observability_id', 'jd', 'status', 'duration'))\n",
    "durations = durations.groupby(['observability_id', 'jd', 'status']).sum()\n",
    "durations.reset_index(inplace=True)\n",
    "durations['setting_in'] = np.zeros(durations.shape[0]) * np.nan\n",
    "durations['update'] = np.zeros(durations.shape[0], dtype=bool)\n",
    "\n",
    "sel_init = durations['status'] == 'init'\n",
    "\n",
    "for i in np.nonzero(sel_init.to_numpy())[0]:\n",
    "    jd = durations.iloc[i]['jd']\n",
    "    jd_before = jd - days_before\n",
    "    jd_after = jd + days_after\n",
    "    sel_time = np.logical_and(\n",
    "            durations['jd'] >= jd_before,\n",
    "            durations['jd'] <= jd_after)\n",
    "\n",
    "    if (durations.loc[sel_time, 'jd'].iloc[0] != jd_before or\n",
    "            durations.loc[sel_time, 'jd'].iloc[-1] != jd_after):\n",
    "        status = 'unknown'\n",
    "        durations.at[i, 'status'] = status\n",
    "\n",
    "    else:\n",
    "        mask_outl = mask_outlier_cook(\n",
    "                durations.loc[sel_time, 'jd'], durations.loc[sel_time, 'duration'], outlier_threshold=outlier_threshold)\n",
    "        status, setting_in = get_status(\n",
    "                jd, durations.loc[sel_time, 'jd'], durations.loc[sel_time, 'duration'], status_threshold=status_threshold, \n",
    "                mask_outl=mask_outl)\n",
    "        durations.at[i, 'status'] = status\n",
    "        durations.at[i, 'update'] = True\n",
    "        \n",
    "        if status == 'setting':\n",
    "            durations.at[i, 'setting_in'] = setting_in\n",
    "    \n",
    "    if debug:\n",
    "        print(status, mask_outl)\n",
    "\n",
    "# plot result:\n",
    "sns.scatterplot(data=durations, x='jd', y='duration', hue='status')\n",
    "plt.suptitle(f'Field ID: {field_id}');"
   ]
  },
  {
   "cell_type": "markdown",
   "id": "1f1465e1-6e32-4aab-aeb7-5b793104c80b",
   "metadata": {},
   "source": [
    "#### Comparison of the two approaches"
   ]
  },
  {
   "cell_type": "markdown",
   "id": "f86879df-80bf-4916-982a-eff5863480e7",
   "metadata": {},
   "source": [
    "* The outlier removal does not work perfeclty: when there are two successive outliers, of which one is a strong outlier and the other is a mild outlier, only the strong one is removed. The mild then has an effect on the status classification.\n",
    "* The linear regression approach is more robust in these cases. One example is field ID 186.\n",
    "* Otherwise, both appoaches seem to work well.\n",
    "\n",
    "**Conclusion:** I will use the linear regression approach in the final code."
   ]
  },
  {
   "cell_type": "markdown",
   "id": "ea4ca578-bb6e-4275-a3cc-6a411b083b48",
   "metadata": {},
   "source": [
    "### Status for first data points initially classified as \"unknown\" "
   ]
  },
  {
   "cell_type": "markdown",
   "id": "9c1b7b7f-bc93-4e12-b28a-bcd6becab3b8",
   "metadata": {},
   "source": [
    "There are one or two blocks of days with unknown status:\n",
    "* A block at the end will be the usual case, because the last days will never be considered in the status classification. We will leave them untouched until observing blocks for the following days have been calculated.\n",
    "* A block at the beginning occurs when we run the classification for the first time. In this case we can simply change those unknown cases to the status of the next known status. This may not be correct in all cases. E.g. the first data points could be rising, the next plateauing, and we will set everything to plateauing. The same with pleateauing and setting. However, this is not really that relevant. Best case scenario: If we want to start the survey on 2024-04-01 we start the observing window calculations with 2024-03-25 to include seven days before the first date of interest.\n",
    "\n",
    "To do this we need two steps:\n",
    "1. Identify the blocks with unknown status. Kick out if the block or one of the blocks is the final data.\n",
    "2. Update the status for the remaining block."
   ]
  },
  {
   "cell_type": "code",
   "execution_count": 221,
   "id": "409b48f0-a675-44bf-bf0a-982a672350e6",
   "metadata": {},
   "outputs": [],
   "source": [
    "def update_unknown_status(durations):\n",
    "    \"\"\"Update the status where unknown, if possible.\n",
    "    \n",
    "    Parameters\n",
    "    ----------\n",
    "    durations : pandas.DataFrame\n",
    "        Observing window durations and status information.\n",
    "    \n",
    "    Notes\n",
    "    -------\n",
    "    Changes are done inplace, therefore the dataframe does not have to be returned.\n",
    "    \"\"\"\n",
    "    \n",
    "    # identify blocks with unknown status:\n",
    "    sel_unk = durations['status'] == 'unknown'\n",
    "    \n",
    "    # iterate through these blocks:\n",
    "    for i0, i1 in true_blocks(sel_unk):\n",
    "        \n",
    "        # skip blocks at the end:\n",
    "        if i1 == durations.shape[0] - 1:\n",
    "            continue\n",
    "        \n",
    "        # otherwise, update status:\n",
    "        status = durations['status'][i1+1]\n",
    "        durations.loc[i0:i1, 'status'] = status\n",
    "        durations.loc[i0:i1, 'update'] = True\n",
    "        \n",
    "        # extrapolate setting duration, if needed:\n",
    "        if status == 'setting':\n",
    "            setting_in = durations['setting_in'][i1+1]\n",
    "            setting_in += np.arange(i1 - i0 + 1, 0, -1)\n",
    "            durations.loc[i0:i1, 'setting_in'] = setting_in"
   ]
  },
  {
   "cell_type": "code",
   "execution_count": 222,
   "id": "8daceb20-987d-42b9-910d-eb1264923726",
   "metadata": {},
   "outputs": [],
   "source": [
    "update_unknown_status(durations)"
   ]
  },
  {
   "cell_type": "code",
   "execution_count": 224,
   "id": "37898aa6-7b5c-4bf3-b4c9-8d51a4f1a974",
   "metadata": {},
   "outputs": [
    {
     "data": {
      "text/html": [
       "<div>\n",
       "<style scoped>\n",
       "    .dataframe tbody tr th:only-of-type {\n",
       "        vertical-align: middle;\n",
       "    }\n",
       "\n",
       "    .dataframe tbody tr th {\n",
       "        vertical-align: top;\n",
       "    }\n",
       "\n",
       "    .dataframe thead th {\n",
       "        text-align: right;\n",
       "    }\n",
       "</style>\n",
       "<table border=\"1\" class=\"dataframe\">\n",
       "  <thead>\n",
       "    <tr style=\"text-align: right;\">\n",
       "      <th></th>\n",
       "      <th>observability_id</th>\n",
       "      <th>jd</th>\n",
       "      <th>status</th>\n",
       "      <th>duration</th>\n",
       "      <th>setting_in</th>\n",
       "      <th>update</th>\n",
       "    </tr>\n",
       "  </thead>\n",
       "  <tbody>\n",
       "    <tr>\n",
       "      <th>0</th>\n",
       "      <td>4273</td>\n",
       "      <td>2460310.5</td>\n",
       "      <td>setting</td>\n",
       "      <td>0.030266</td>\n",
       "      <td>11.170799</td>\n",
       "      <td>True</td>\n",
       "    </tr>\n",
       "    <tr>\n",
       "      <th>1</th>\n",
       "      <td>4790</td>\n",
       "      <td>2460311.5</td>\n",
       "      <td>setting</td>\n",
       "      <td>0.027488</td>\n",
       "      <td>10.170799</td>\n",
       "      <td>True</td>\n",
       "    </tr>\n",
       "    <tr>\n",
       "      <th>2</th>\n",
       "      <td>5307</td>\n",
       "      <td>2460312.5</td>\n",
       "      <td>setting</td>\n",
       "      <td>0.024711</td>\n",
       "      <td>9.170799</td>\n",
       "      <td>True</td>\n",
       "    </tr>\n",
       "    <tr>\n",
       "      <th>3</th>\n",
       "      <td>5824</td>\n",
       "      <td>2460313.5</td>\n",
       "      <td>setting</td>\n",
       "      <td>0.021933</td>\n",
       "      <td>8.170799</td>\n",
       "      <td>True</td>\n",
       "    </tr>\n",
       "    <tr>\n",
       "      <th>4</th>\n",
       "      <td>8453</td>\n",
       "      <td>2460314.5</td>\n",
       "      <td>setting</td>\n",
       "      <td>0.019213</td>\n",
       "      <td>7.170799</td>\n",
       "      <td>True</td>\n",
       "    </tr>\n",
       "    <tr>\n",
       "      <th>5</th>\n",
       "      <td>8970</td>\n",
       "      <td>2460315.5</td>\n",
       "      <td>setting</td>\n",
       "      <td>0.016493</td>\n",
       "      <td>6.170799</td>\n",
       "      <td>True</td>\n",
       "    </tr>\n",
       "    <tr>\n",
       "      <th>6</th>\n",
       "      <td>35929</td>\n",
       "      <td>2460316.5</td>\n",
       "      <td>setting</td>\n",
       "      <td>0.013773</td>\n",
       "      <td>5.170799</td>\n",
       "      <td>True</td>\n",
       "    </tr>\n",
       "    <tr>\n",
       "      <th>7</th>\n",
       "      <td>36446</td>\n",
       "      <td>2460317.5</td>\n",
       "      <td>setting</td>\n",
       "      <td>0.011111</td>\n",
       "      <td>4.170799</td>\n",
       "      <td>True</td>\n",
       "    </tr>\n",
       "    <tr>\n",
       "      <th>8</th>\n",
       "      <td>36975</td>\n",
       "      <td>2460318.5</td>\n",
       "      <td>setting</td>\n",
       "      <td>0.008507</td>\n",
       "      <td>3.188657</td>\n",
       "      <td>True</td>\n",
       "    </tr>\n",
       "    <tr>\n",
       "      <th>9</th>\n",
       "      <td>37487</td>\n",
       "      <td>2460319.5</td>\n",
       "      <td>setting</td>\n",
       "      <td>0.005903</td>\n",
       "      <td>2.206522</td>\n",
       "      <td>True</td>\n",
       "    </tr>\n",
       "    <tr>\n",
       "      <th>10</th>\n",
       "      <td>38008</td>\n",
       "      <td>2460320.5</td>\n",
       "      <td>setting</td>\n",
       "      <td>0.003299</td>\n",
       "      <td>1.221529</td>\n",
       "      <td>True</td>\n",
       "    </tr>\n",
       "    <tr>\n",
       "      <th>11</th>\n",
       "      <td>38502</td>\n",
       "      <td>2460321.5</td>\n",
       "      <td>setting</td>\n",
       "      <td>0.000752</td>\n",
       "      <td>0.238753</td>\n",
       "      <td>True</td>\n",
       "    </tr>\n",
       "    <tr>\n",
       "      <th>12</th>\n",
       "      <td>39008</td>\n",
       "      <td>2460322.5</td>\n",
       "      <td>not observable</td>\n",
       "      <td>0.000000</td>\n",
       "      <td>NaN</td>\n",
       "      <td>False</td>\n",
       "    </tr>\n",
       "    <tr>\n",
       "      <th>13</th>\n",
       "      <td>39530</td>\n",
       "      <td>2460323.5</td>\n",
       "      <td>not observable</td>\n",
       "      <td>0.000000</td>\n",
       "      <td>NaN</td>\n",
       "      <td>False</td>\n",
       "    </tr>\n",
       "    <tr>\n",
       "      <th>14</th>\n",
       "      <td>40046</td>\n",
       "      <td>2460324.5</td>\n",
       "      <td>not observable</td>\n",
       "      <td>0.000000</td>\n",
       "      <td>NaN</td>\n",
       "      <td>False</td>\n",
       "    </tr>\n",
       "    <tr>\n",
       "      <th>15</th>\n",
       "      <td>40559</td>\n",
       "      <td>2460325.5</td>\n",
       "      <td>not observable</td>\n",
       "      <td>0.000000</td>\n",
       "      <td>NaN</td>\n",
       "      <td>False</td>\n",
       "    </tr>\n",
       "    <tr>\n",
       "      <th>16</th>\n",
       "      <td>41074</td>\n",
       "      <td>2460326.5</td>\n",
       "      <td>not observable</td>\n",
       "      <td>0.000000</td>\n",
       "      <td>NaN</td>\n",
       "      <td>False</td>\n",
       "    </tr>\n",
       "    <tr>\n",
       "      <th>17</th>\n",
       "      <td>41595</td>\n",
       "      <td>2460327.5</td>\n",
       "      <td>not observable</td>\n",
       "      <td>0.000000</td>\n",
       "      <td>NaN</td>\n",
       "      <td>False</td>\n",
       "    </tr>\n",
       "    <tr>\n",
       "      <th>18</th>\n",
       "      <td>42111</td>\n",
       "      <td>2460328.5</td>\n",
       "      <td>not observable</td>\n",
       "      <td>0.000000</td>\n",
       "      <td>NaN</td>\n",
       "      <td>False</td>\n",
       "    </tr>\n",
       "  </tbody>\n",
       "</table>\n",
       "</div>"
      ],
      "text/plain": [
       "    observability_id         jd          status  duration  setting_in  update\n",
       "0               4273  2460310.5         setting  0.030266   11.170799    True\n",
       "1               4790  2460311.5         setting  0.027488   10.170799    True\n",
       "2               5307  2460312.5         setting  0.024711    9.170799    True\n",
       "3               5824  2460313.5         setting  0.021933    8.170799    True\n",
       "4               8453  2460314.5         setting  0.019213    7.170799    True\n",
       "5               8970  2460315.5         setting  0.016493    6.170799    True\n",
       "6              35929  2460316.5         setting  0.013773    5.170799    True\n",
       "7              36446  2460317.5         setting  0.011111    4.170799    True\n",
       "8              36975  2460318.5         setting  0.008507    3.188657    True\n",
       "9              37487  2460319.5         setting  0.005903    2.206522    True\n",
       "10             38008  2460320.5         setting  0.003299    1.221529    True\n",
       "11             38502  2460321.5         setting  0.000752    0.238753    True\n",
       "12             39008  2460322.5  not observable  0.000000         NaN   False\n",
       "13             39530  2460323.5  not observable  0.000000         NaN   False\n",
       "14             40046  2460324.5  not observable  0.000000         NaN   False\n",
       "15             40559  2460325.5  not observable  0.000000         NaN   False\n",
       "16             41074  2460326.5  not observable  0.000000         NaN   False\n",
       "17             41595  2460327.5  not observable  0.000000         NaN   False\n",
       "18             42111  2460328.5  not observable  0.000000         NaN   False"
      ]
     },
     "execution_count": 224,
     "metadata": {},
     "output_type": "execute_result"
    }
   ],
   "source": [
    "durations"
   ]
  },
  {
   "cell_type": "code",
   "execution_count": null,
   "id": "4fa70ab4-edd9-418b-9abb-128c050b1d52",
   "metadata": {},
   "outputs": [],
   "source": []
  }
 ],
 "metadata": {
  "kernelspec": {
   "display_name": "Python 3 (ipykernel)",
   "language": "python",
   "name": "python3"
  },
  "language_info": {
   "codemirror_mode": {
    "name": "ipython",
    "version": 3
   },
   "file_extension": ".py",
   "mimetype": "text/x-python",
   "name": "python",
   "nbconvert_exporter": "python",
   "pygments_lexer": "ipython3",
   "version": "3.9.7"
  },
  "toc-autonumbering": true
 },
 "nbformat": 4,
 "nbformat_minor": 5
}

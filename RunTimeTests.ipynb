{
 "cells": [
  {
   "cell_type": "markdown",
   "id": "5b770b77-2bea-4581-ac53-2069ccd1b358",
   "metadata": {},
   "source": [
    "# Runtime tests"
   ]
  },
  {
   "cell_type": "markdown",
   "id": "4b585892-0ca3-424d-8ac7-5bd521539ab3",
   "metadata": {},
   "source": [
    "In this notebook I am testing the runtime of the observing window calculation with different setups."
   ]
  },
  {
   "cell_type": "code",
   "execution_count": 1,
   "id": "382d13f3-a311-40c6-93e7-34d3bda88a32",
   "metadata": {},
   "outputs": [],
   "source": [
    "import matplotlib.pyplot as plt\n",
    "from matplotlib.ticker import MultipleLocator\n",
    "import numpy as np\n",
    "import pandas as pd\n",
    "import seaborn as sns"
   ]
  },
  {
   "cell_type": "markdown",
   "id": "a0b2e917-6592-4688-846d-5f7532ea63e5",
   "metadata": {},
   "source": [
    "## Tests after code improvements"
   ]
  },
  {
   "cell_type": "markdown",
   "id": "80ea4a23-e207-47e3-842c-da6bc029ea6d",
   "metadata": {},
   "source": [
    "I worked out several runtime improvements for the calculation of observing windows. For each sequential improvement I ran timing tests with a small field grid setup (1056 Northern fields, 517 Southern fields). Each test was repeated four times."
   ]
  },
  {
   "cell_type": "markdown",
   "id": "a7182ee8-a404-4de0-b418-2bee34cd46e0",
   "metadata": {},
   "source": [
    "### Effects of code improvement tested on laptop"
   ]
  },
  {
   "cell_type": "markdown",
   "id": "9078fbd6-461e-41d8-b448-fcfa4ec5da06",
   "metadata": {},
   "source": [
    "#### Load results"
   ]
  },
  {
   "cell_type": "markdown",
   "id": "ea1dcd65-6221-4482-a353-2ea0635c10ec",
   "metadata": {},
   "source": [
    "These tests ran on a 6-core laptop. The tests correspond to the following code versions:\n",
    "\n",
    "- t0: Code before runtime improvements.\n",
    "- t1: Batch writing of observing windows to database.\n",
    "- t2: Constraint calculation improvement (removed unnecessary calculations of further constraints, when it was already known that a source is not visible at a certain time due to previously calculated constraints).\n",
    "- t3: Restructuring code order which removed many redundant calculations and parallelization. The tag suffixes `-x` refer to the number of cores used for the calculation, e.g. `t3-1` just used a single core for the observing window calculation.\n",
    "- t4: MoonDistance constraint improvement (refinement calculations do not overwrite the saved frame and Moon positions, which avoids recalculation for all fields). The tag suffixes `-x` are the same as in test `t3`.\n",
    "\n",
    "Note that each test is running for the incremental code versions. I.e. each code version includes all previous improvements."
   ]
  },
  {
   "cell_type": "code",
   "execution_count": 2,
   "id": "b989b83c-e4b5-48c9-b440-7d5b91b28070",
   "metadata": {},
   "outputs": [
    {
     "data": {
      "text/html": [
       "<div>\n",
       "<style scoped>\n",
       "    .dataframe tbody tr th:only-of-type {\n",
       "        vertical-align: middle;\n",
       "    }\n",
       "\n",
       "    .dataframe tbody tr th {\n",
       "        vertical-align: top;\n",
       "    }\n",
       "\n",
       "    .dataframe thead th {\n",
       "        text-align: right;\n",
       "    }\n",
       "</style>\n",
       "<table border=\"1\" class=\"dataframe\">\n",
       "  <thead>\n",
       "    <tr style=\"text-align: right;\">\n",
       "      <th></th>\n",
       "      <th>test</th>\n",
       "      <th>id</th>\n",
       "      <th>runtime (days)</th>\n",
       "      <th>runtime (min)</th>\n",
       "    </tr>\n",
       "  </thead>\n",
       "  <tbody>\n",
       "    <tr>\n",
       "      <th>0</th>\n",
       "      <td>t0</td>\n",
       "      <td>0</td>\n",
       "      <td>0.010474</td>\n",
       "      <td>15.083117</td>\n",
       "    </tr>\n",
       "    <tr>\n",
       "      <th>1</th>\n",
       "      <td>t0</td>\n",
       "      <td>1</td>\n",
       "      <td>0.010393</td>\n",
       "      <td>14.966165</td>\n",
       "    </tr>\n",
       "    <tr>\n",
       "      <th>2</th>\n",
       "      <td>t0</td>\n",
       "      <td>2</td>\n",
       "      <td>0.010440</td>\n",
       "      <td>15.033928</td>\n",
       "    </tr>\n",
       "    <tr>\n",
       "      <th>3</th>\n",
       "      <td>t0</td>\n",
       "      <td>3</td>\n",
       "      <td>0.010291</td>\n",
       "      <td>14.819333</td>\n",
       "    </tr>\n",
       "    <tr>\n",
       "      <th>4</th>\n",
       "      <td>t1</td>\n",
       "      <td>0</td>\n",
       "      <td>0.009588</td>\n",
       "      <td>13.807204</td>\n",
       "    </tr>\n",
       "    <tr>\n",
       "      <th>5</th>\n",
       "      <td>t1</td>\n",
       "      <td>1</td>\n",
       "      <td>0.009590</td>\n",
       "      <td>13.808921</td>\n",
       "    </tr>\n",
       "    <tr>\n",
       "      <th>6</th>\n",
       "      <td>t1</td>\n",
       "      <td>2</td>\n",
       "      <td>0.009584</td>\n",
       "      <td>13.801473</td>\n",
       "    </tr>\n",
       "    <tr>\n",
       "      <th>7</th>\n",
       "      <td>t1</td>\n",
       "      <td>3</td>\n",
       "      <td>0.009589</td>\n",
       "      <td>13.808802</td>\n",
       "    </tr>\n",
       "    <tr>\n",
       "      <th>8</th>\n",
       "      <td>t2</td>\n",
       "      <td>0</td>\n",
       "      <td>0.008539</td>\n",
       "      <td>12.296768</td>\n",
       "    </tr>\n",
       "    <tr>\n",
       "      <th>9</th>\n",
       "      <td>t2</td>\n",
       "      <td>1</td>\n",
       "      <td>0.008528</td>\n",
       "      <td>12.279934</td>\n",
       "    </tr>\n",
       "    <tr>\n",
       "      <th>10</th>\n",
       "      <td>t2</td>\n",
       "      <td>2</td>\n",
       "      <td>0.008541</td>\n",
       "      <td>12.298364</td>\n",
       "    </tr>\n",
       "    <tr>\n",
       "      <th>11</th>\n",
       "      <td>t2</td>\n",
       "      <td>3</td>\n",
       "      <td>0.008549</td>\n",
       "      <td>12.310405</td>\n",
       "    </tr>\n",
       "    <tr>\n",
       "      <th>12</th>\n",
       "      <td>t3-1</td>\n",
       "      <td>0</td>\n",
       "      <td>0.005006</td>\n",
       "      <td>7.208501</td>\n",
       "    </tr>\n",
       "    <tr>\n",
       "      <th>13</th>\n",
       "      <td>t3-1</td>\n",
       "      <td>1</td>\n",
       "      <td>0.005030</td>\n",
       "      <td>7.242660</td>\n",
       "    </tr>\n",
       "    <tr>\n",
       "      <th>14</th>\n",
       "      <td>t3-1</td>\n",
       "      <td>2</td>\n",
       "      <td>0.005106</td>\n",
       "      <td>7.352452</td>\n",
       "    </tr>\n",
       "    <tr>\n",
       "      <th>15</th>\n",
       "      <td>t3-1</td>\n",
       "      <td>3</td>\n",
       "      <td>0.005033</td>\n",
       "      <td>7.247567</td>\n",
       "    </tr>\n",
       "    <tr>\n",
       "      <th>16</th>\n",
       "      <td>t3-2</td>\n",
       "      <td>0</td>\n",
       "      <td>0.002882</td>\n",
       "      <td>4.149451</td>\n",
       "    </tr>\n",
       "    <tr>\n",
       "      <th>17</th>\n",
       "      <td>t3-2</td>\n",
       "      <td>1</td>\n",
       "      <td>0.002915</td>\n",
       "      <td>4.197442</td>\n",
       "    </tr>\n",
       "    <tr>\n",
       "      <th>18</th>\n",
       "      <td>t3-2</td>\n",
       "      <td>2</td>\n",
       "      <td>0.002915</td>\n",
       "      <td>4.197330</td>\n",
       "    </tr>\n",
       "    <tr>\n",
       "      <th>19</th>\n",
       "      <td>t3-2</td>\n",
       "      <td>3</td>\n",
       "      <td>0.002901</td>\n",
       "      <td>4.178119</td>\n",
       "    </tr>\n",
       "    <tr>\n",
       "      <th>20</th>\n",
       "      <td>t3-4</td>\n",
       "      <td>0</td>\n",
       "      <td>0.001781</td>\n",
       "      <td>2.565137</td>\n",
       "    </tr>\n",
       "    <tr>\n",
       "      <th>21</th>\n",
       "      <td>t3-4</td>\n",
       "      <td>1</td>\n",
       "      <td>0.001756</td>\n",
       "      <td>2.528618</td>\n",
       "    </tr>\n",
       "    <tr>\n",
       "      <th>22</th>\n",
       "      <td>t3-4</td>\n",
       "      <td>2</td>\n",
       "      <td>0.001776</td>\n",
       "      <td>2.557346</td>\n",
       "    </tr>\n",
       "    <tr>\n",
       "      <th>23</th>\n",
       "      <td>t3-4</td>\n",
       "      <td>3</td>\n",
       "      <td>0.001817</td>\n",
       "      <td>2.617163</td>\n",
       "    </tr>\n",
       "    <tr>\n",
       "      <th>24</th>\n",
       "      <td>t3-6</td>\n",
       "      <td>0</td>\n",
       "      <td>0.001566</td>\n",
       "      <td>2.255564</td>\n",
       "    </tr>\n",
       "    <tr>\n",
       "      <th>25</th>\n",
       "      <td>t3-6</td>\n",
       "      <td>1</td>\n",
       "      <td>0.001562</td>\n",
       "      <td>2.249456</td>\n",
       "    </tr>\n",
       "    <tr>\n",
       "      <th>26</th>\n",
       "      <td>t3-6</td>\n",
       "      <td>2</td>\n",
       "      <td>0.001566</td>\n",
       "      <td>2.254530</td>\n",
       "    </tr>\n",
       "    <tr>\n",
       "      <th>27</th>\n",
       "      <td>t3-6</td>\n",
       "      <td>3</td>\n",
       "      <td>0.001563</td>\n",
       "      <td>2.251178</td>\n",
       "    </tr>\n",
       "    <tr>\n",
       "      <th>28</th>\n",
       "      <td>t4-1</td>\n",
       "      <td>0</td>\n",
       "      <td>0.003932</td>\n",
       "      <td>5.661476</td>\n",
       "    </tr>\n",
       "    <tr>\n",
       "      <th>29</th>\n",
       "      <td>t4-1</td>\n",
       "      <td>1</td>\n",
       "      <td>0.003912</td>\n",
       "      <td>5.632973</td>\n",
       "    </tr>\n",
       "    <tr>\n",
       "      <th>30</th>\n",
       "      <td>t4-1</td>\n",
       "      <td>2</td>\n",
       "      <td>0.003913</td>\n",
       "      <td>5.634262</td>\n",
       "    </tr>\n",
       "    <tr>\n",
       "      <th>31</th>\n",
       "      <td>t4-1</td>\n",
       "      <td>3</td>\n",
       "      <td>0.003924</td>\n",
       "      <td>5.649914</td>\n",
       "    </tr>\n",
       "    <tr>\n",
       "      <th>32</th>\n",
       "      <td>t4-2</td>\n",
       "      <td>0</td>\n",
       "      <td>0.002342</td>\n",
       "      <td>3.372723</td>\n",
       "    </tr>\n",
       "    <tr>\n",
       "      <th>33</th>\n",
       "      <td>t4-2</td>\n",
       "      <td>1</td>\n",
       "      <td>0.002336</td>\n",
       "      <td>3.364400</td>\n",
       "    </tr>\n",
       "    <tr>\n",
       "      <th>34</th>\n",
       "      <td>t4-2</td>\n",
       "      <td>2</td>\n",
       "      <td>0.002333</td>\n",
       "      <td>3.359096</td>\n",
       "    </tr>\n",
       "    <tr>\n",
       "      <th>35</th>\n",
       "      <td>t4-2</td>\n",
       "      <td>3</td>\n",
       "      <td>0.002321</td>\n",
       "      <td>3.341645</td>\n",
       "    </tr>\n",
       "    <tr>\n",
       "      <th>36</th>\n",
       "      <td>t4-4</td>\n",
       "      <td>0</td>\n",
       "      <td>0.001455</td>\n",
       "      <td>2.095642</td>\n",
       "    </tr>\n",
       "    <tr>\n",
       "      <th>37</th>\n",
       "      <td>t4-4</td>\n",
       "      <td>1</td>\n",
       "      <td>0.001446</td>\n",
       "      <td>2.082215</td>\n",
       "    </tr>\n",
       "    <tr>\n",
       "      <th>38</th>\n",
       "      <td>t4-4</td>\n",
       "      <td>2</td>\n",
       "      <td>0.001460</td>\n",
       "      <td>2.101866</td>\n",
       "    </tr>\n",
       "    <tr>\n",
       "      <th>39</th>\n",
       "      <td>t4-4</td>\n",
       "      <td>3</td>\n",
       "      <td>0.001448</td>\n",
       "      <td>2.085751</td>\n",
       "    </tr>\n",
       "    <tr>\n",
       "      <th>40</th>\n",
       "      <td>t4-6</td>\n",
       "      <td>0</td>\n",
       "      <td>0.001304</td>\n",
       "      <td>1.877174</td>\n",
       "    </tr>\n",
       "    <tr>\n",
       "      <th>41</th>\n",
       "      <td>t4-6</td>\n",
       "      <td>1</td>\n",
       "      <td>0.001295</td>\n",
       "      <td>1.864821</td>\n",
       "    </tr>\n",
       "    <tr>\n",
       "      <th>42</th>\n",
       "      <td>t4-6</td>\n",
       "      <td>2</td>\n",
       "      <td>0.001287</td>\n",
       "      <td>1.853566</td>\n",
       "    </tr>\n",
       "    <tr>\n",
       "      <th>43</th>\n",
       "      <td>t4-6</td>\n",
       "      <td>3</td>\n",
       "      <td>0.001296</td>\n",
       "      <td>1.866686</td>\n",
       "    </tr>\n",
       "  </tbody>\n",
       "</table>\n",
       "</div>"
      ],
      "text/plain": [
       "    test  id  runtime (days)  runtime (min)\n",
       "0     t0   0        0.010474      15.083117\n",
       "1     t0   1        0.010393      14.966165\n",
       "2     t0   2        0.010440      15.033928\n",
       "3     t0   3        0.010291      14.819333\n",
       "4     t1   0        0.009588      13.807204\n",
       "5     t1   1        0.009590      13.808921\n",
       "6     t1   2        0.009584      13.801473\n",
       "7     t1   3        0.009589      13.808802\n",
       "8     t2   0        0.008539      12.296768\n",
       "9     t2   1        0.008528      12.279934\n",
       "10    t2   2        0.008541      12.298364\n",
       "11    t2   3        0.008549      12.310405\n",
       "12  t3-1   0        0.005006       7.208501\n",
       "13  t3-1   1        0.005030       7.242660\n",
       "14  t3-1   2        0.005106       7.352452\n",
       "15  t3-1   3        0.005033       7.247567\n",
       "16  t3-2   0        0.002882       4.149451\n",
       "17  t3-2   1        0.002915       4.197442\n",
       "18  t3-2   2        0.002915       4.197330\n",
       "19  t3-2   3        0.002901       4.178119\n",
       "20  t3-4   0        0.001781       2.565137\n",
       "21  t3-4   1        0.001756       2.528618\n",
       "22  t3-4   2        0.001776       2.557346\n",
       "23  t3-4   3        0.001817       2.617163\n",
       "24  t3-6   0        0.001566       2.255564\n",
       "25  t3-6   1        0.001562       2.249456\n",
       "26  t3-6   2        0.001566       2.254530\n",
       "27  t3-6   3        0.001563       2.251178\n",
       "28  t4-1   0        0.003932       5.661476\n",
       "29  t4-1   1        0.003912       5.632973\n",
       "30  t4-1   2        0.003913       5.634262\n",
       "31  t4-1   3        0.003924       5.649914\n",
       "32  t4-2   0        0.002342       3.372723\n",
       "33  t4-2   1        0.002336       3.364400\n",
       "34  t4-2   2        0.002333       3.359096\n",
       "35  t4-2   3        0.002321       3.341645\n",
       "36  t4-4   0        0.001455       2.095642\n",
       "37  t4-4   1        0.001446       2.082215\n",
       "38  t4-4   2        0.001460       2.101866\n",
       "39  t4-4   3        0.001448       2.085751\n",
       "40  t4-6   0        0.001304       1.877174\n",
       "41  t4-6   1        0.001295       1.864821\n",
       "42  t4-6   2        0.001287       1.853566\n",
       "43  t4-6   3        0.001296       1.866686"
      ]
     },
     "execution_count": 2,
     "metadata": {},
     "output_type": "execute_result"
    }
   ],
   "source": [
    "tests = pd.read_csv('runtime_tests_1_testsetup_local.dat', names=('test', 'id', 'runtime (days)'), skiprows=1)\n",
    "tests['runtime (min)'] = tests['runtime (days)'] * 24 * 60\n",
    "tests"
   ]
  },
  {
   "cell_type": "markdown",
   "id": "8d7cdc33-c379-4093-b3cd-f9c43751a7ba",
   "metadata": {},
   "source": [
    "Group by code version and calculate the median runtime. Then calculate the fractional runtime relative to the initial code version and relative to the previous code version, similarly the runtime reduction:"
   ]
  },
  {
   "cell_type": "code",
   "execution_count": 3,
   "id": "fbf27793-1aff-4d00-9b7b-85c6adfeff49",
   "metadata": {},
   "outputs": [
    {
     "data": {
      "text/html": [
       "<div>\n",
       "<style scoped>\n",
       "    .dataframe tbody tr th:only-of-type {\n",
       "        vertical-align: middle;\n",
       "    }\n",
       "\n",
       "    .dataframe tbody tr th {\n",
       "        vertical-align: top;\n",
       "    }\n",
       "\n",
       "    .dataframe thead th {\n",
       "        text-align: right;\n",
       "    }\n",
       "</style>\n",
       "<table border=\"1\" class=\"dataframe\">\n",
       "  <thead>\n",
       "    <tr style=\"text-align: right;\">\n",
       "      <th></th>\n",
       "      <th>test</th>\n",
       "      <th>runtime (days)</th>\n",
       "      <th>runtime (min)</th>\n",
       "      <th>fraction_v0</th>\n",
       "      <th>reduction_v0</th>\n",
       "      <th>fraction_incr</th>\n",
       "      <th>reduction_incr</th>\n",
       "    </tr>\n",
       "  </thead>\n",
       "  <tbody>\n",
       "    <tr>\n",
       "      <th>0</th>\n",
       "      <td>t0</td>\n",
       "      <td>0.010417</td>\n",
       "      <td>15.000046</td>\n",
       "      <td>1.000000</td>\n",
       "      <td>0.000000</td>\n",
       "      <td>NaN</td>\n",
       "      <td>NaN</td>\n",
       "    </tr>\n",
       "    <tr>\n",
       "      <th>1</th>\n",
       "      <td>t1</td>\n",
       "      <td>0.009589</td>\n",
       "      <td>13.808003</td>\n",
       "      <td>0.920531</td>\n",
       "      <td>0.079469</td>\n",
       "      <td>0.920531</td>\n",
       "      <td>0.079469</td>\n",
       "    </tr>\n",
       "    <tr>\n",
       "      <th>2</th>\n",
       "      <td>t2</td>\n",
       "      <td>0.008540</td>\n",
       "      <td>12.297566</td>\n",
       "      <td>0.819835</td>\n",
       "      <td>0.180165</td>\n",
       "      <td>0.890611</td>\n",
       "      <td>0.109389</td>\n",
       "    </tr>\n",
       "    <tr>\n",
       "      <th>3</th>\n",
       "      <td>t3-1</td>\n",
       "      <td>0.005031</td>\n",
       "      <td>7.245113</td>\n",
       "      <td>0.483006</td>\n",
       "      <td>0.516994</td>\n",
       "      <td>0.589150</td>\n",
       "      <td>0.410850</td>\n",
       "    </tr>\n",
       "    <tr>\n",
       "      <th>4</th>\n",
       "      <td>t3-2</td>\n",
       "      <td>0.002908</td>\n",
       "      <td>4.187724</td>\n",
       "      <td>0.279181</td>\n",
       "      <td>0.720819</td>\n",
       "      <td>0.578007</td>\n",
       "      <td>0.421993</td>\n",
       "    </tr>\n",
       "    <tr>\n",
       "      <th>5</th>\n",
       "      <td>t3-4</td>\n",
       "      <td>0.001779</td>\n",
       "      <td>2.561241</td>\n",
       "      <td>0.170749</td>\n",
       "      <td>0.829251</td>\n",
       "      <td>0.611607</td>\n",
       "      <td>0.388393</td>\n",
       "    </tr>\n",
       "    <tr>\n",
       "      <th>6</th>\n",
       "      <td>t3-6</td>\n",
       "      <td>0.001564</td>\n",
       "      <td>2.252854</td>\n",
       "      <td>0.150190</td>\n",
       "      <td>0.849810</td>\n",
       "      <td>0.879595</td>\n",
       "      <td>0.120405</td>\n",
       "    </tr>\n",
       "    <tr>\n",
       "      <th>7</th>\n",
       "      <td>t4-1</td>\n",
       "      <td>0.003918</td>\n",
       "      <td>5.642088</td>\n",
       "      <td>0.376138</td>\n",
       "      <td>0.623862</td>\n",
       "      <td>0.778744</td>\n",
       "      <td>0.221256</td>\n",
       "    </tr>\n",
       "    <tr>\n",
       "      <th>8</th>\n",
       "      <td>t4-2</td>\n",
       "      <td>0.002335</td>\n",
       "      <td>3.361748</td>\n",
       "      <td>0.224116</td>\n",
       "      <td>0.775884</td>\n",
       "      <td>0.595834</td>\n",
       "      <td>0.404166</td>\n",
       "    </tr>\n",
       "    <tr>\n",
       "      <th>9</th>\n",
       "      <td>t4-4</td>\n",
       "      <td>0.001452</td>\n",
       "      <td>2.090697</td>\n",
       "      <td>0.139379</td>\n",
       "      <td>0.860621</td>\n",
       "      <td>0.621908</td>\n",
       "      <td>0.378092</td>\n",
       "    </tr>\n",
       "    <tr>\n",
       "      <th>10</th>\n",
       "      <td>t4-6</td>\n",
       "      <td>0.001296</td>\n",
       "      <td>1.865754</td>\n",
       "      <td>0.124383</td>\n",
       "      <td>0.875617</td>\n",
       "      <td>0.892408</td>\n",
       "      <td>0.107592</td>\n",
       "    </tr>\n",
       "  </tbody>\n",
       "</table>\n",
       "</div>"
      ],
      "text/plain": [
       "    test  runtime (days)  runtime (min)  fraction_v0  reduction_v0  \\\n",
       "0     t0        0.010417      15.000046     1.000000      0.000000   \n",
       "1     t1        0.009589      13.808003     0.920531      0.079469   \n",
       "2     t2        0.008540      12.297566     0.819835      0.180165   \n",
       "3   t3-1        0.005031       7.245113     0.483006      0.516994   \n",
       "4   t3-2        0.002908       4.187724     0.279181      0.720819   \n",
       "5   t3-4        0.001779       2.561241     0.170749      0.829251   \n",
       "6   t3-6        0.001564       2.252854     0.150190      0.849810   \n",
       "7   t4-1        0.003918       5.642088     0.376138      0.623862   \n",
       "8   t4-2        0.002335       3.361748     0.224116      0.775884   \n",
       "9   t4-4        0.001452       2.090697     0.139379      0.860621   \n",
       "10  t4-6        0.001296       1.865754     0.124383      0.875617   \n",
       "\n",
       "    fraction_incr  reduction_incr  \n",
       "0             NaN             NaN  \n",
       "1        0.920531        0.079469  \n",
       "2        0.890611        0.109389  \n",
       "3        0.589150        0.410850  \n",
       "4        0.578007        0.421993  \n",
       "5        0.611607        0.388393  \n",
       "6        0.879595        0.120405  \n",
       "7        0.778744        0.221256  \n",
       "8        0.595834        0.404166  \n",
       "9        0.621908        0.378092  \n",
       "10       0.892408        0.107592  "
      ]
     },
     "execution_count": 3,
     "metadata": {},
     "output_type": "execute_result"
    }
   ],
   "source": [
    "tests_median = tests.drop(columns='id').groupby(by='test').median().reset_index()\n",
    "tests_median['fraction_v0'] = tests_median['runtime (min)'] / tests_median.loc[0, 'runtime (min)']\n",
    "tests_median['reduction_v0'] = 1 - tests_median['fraction_v0']\n",
    "tests_median['fraction_incr'] = [np.nan] + [tests_median.loc[i, 'runtime (min)'] / tests_median.loc[i-1, 'runtime (min)'] for i in range(1, tests_median.shape[0])]\n",
    "# manual fix to compare v4-1 with v3-1 and not v3-6:\n",
    "tests_median.at[7, 'fraction_incr'] = tests_median.at[7, 'runtime (min)'] / tests_median.at[3, 'runtime (min)']\n",
    "tests_median['reduction_incr'] = 1 - tests_median['fraction_incr']\n",
    "tests_median"
   ]
  },
  {
   "cell_type": "markdown",
   "id": "e9cb2c95-67d8-4670-9d78-d1b0af698afd",
   "metadata": {},
   "source": [
    "#### Show results"
   ]
  },
  {
   "cell_type": "markdown",
   "id": "cb8165dd-6021-4c55-a652-ebf1b9ee21c7",
   "metadata": {},
   "source": [
    "##### Runtime"
   ]
  },
  {
   "cell_type": "code",
   "execution_count": 4,
   "id": "845ac36b-b32a-4985-8d24-6dacd81834b4",
   "metadata": {},
   "outputs": [
    {
     "data": {
      "image/png": "[encoded data removed]",
      "text/plain": [
       "<Figure size 640x480 with 1 Axes>"
      ]
     },
     "metadata": {},
     "output_type": "display_data"
    }
   ],
   "source": [
    "sns.scatterplot(data=tests_median, x='test', y='runtime (min)');"
   ]
  },
  {
   "cell_type": "markdown",
   "id": "67bc3daf-480e-4722-a900-eb27cea6d34e",
   "metadata": {},
   "source": [
    "##### Fractional runtime relative to initial version"
   ]
  },
  {
   "cell_type": "code",
   "execution_count": 5,
   "id": "fdc9fc05-d654-48c5-aca5-bd7dc995403d",
   "metadata": {},
   "outputs": [
    {
     "data": {
      "image/png": "[encoded data removed]",
      "text/plain": [
       "<Figure size 640x480 with 1 Axes>"
      ]
     },
     "metadata": {},
     "output_type": "display_data"
    }
   ],
   "source": [
    "sns.scatterplot(data=tests_median, x='test', y='fraction_v0');"
   ]
  },
  {
   "cell_type": "markdown",
   "id": "57655eae-e75b-4ae9-a7fa-acf9c2a05832",
   "metadata": {},
   "source": [
    "##### Fractional runtime reduction relative to initial version"
   ]
  },
  {
   "cell_type": "code",
   "execution_count": 6,
   "id": "0dbd11dd-69ae-4447-9814-aea7de8cff58",
   "metadata": {},
   "outputs": [
    {
     "data": {
      "image/png": "[encoded data removed]",
      "text/plain": [
       "<Figure size 640x480 with 1 Axes>"
      ]
     },
     "metadata": {},
     "output_type": "display_data"
    }
   ],
   "source": [
    "sns.scatterplot(data=tests_median, x='test', y='reduction_v0');"
   ]
  },
  {
   "cell_type": "markdown",
   "id": "cf49b128-7c36-401a-bbd4-8a71c218f1cb",
   "metadata": {},
   "source": [
    "##### Fractional runtime reduction relative to previous version"
   ]
  },
  {
   "cell_type": "code",
   "execution_count": 7,
   "id": "b82acfd2-0cd2-4a39-a4d5-1f60d483a5e5",
   "metadata": {},
   "outputs": [
    {
     "data": {
      "image/png": "[encoded data removed]",
      "text/plain": [
       "<Figure size 640x480 with 1 Axes>"
      ]
     },
     "metadata": {},
     "output_type": "display_data"
    }
   ],
   "source": [
    "sns.scatterplot(data=tests_median, x='test', y='reduction_incr');"
   ]
  },
  {
   "cell_type": "markdown",
   "id": "cc7bf747-f830-4774-90f2-c6d6872e663b",
   "metadata": {},
   "source": [
    "#### Notes\n",
    "\n",
    "* Each revision resulted in a substantial reduction of the runtime. Most productive were the removal of redundant repetitions as part of the parallelization (v2 to v3) and avoiding the recalculation of the Moon position (v3 to v4).\n",
    "* Moving from 1 to 2 processes had the biggest impact.\n",
    "* Adding more processes decreases the runtime, but the relative improvement becomes smaller with every process added. However, this is likely system dependent. I ran these tests on the institute's laptop which has 6 cores. I guess that the OS managing the processes cuts away substantial resources, which is why the incremental improvements become smaller. On a cluster the improvement may be much stronger and I need to test this once I get access, before I run the code on the actual field grid setup."
   ]
  },
  {
   "cell_type": "markdown",
   "id": "b8f12a5c-9101-4e78-b75b-cbd474238665",
   "metadata": {},
   "source": [
    "### Tests on kallisto"
   ]
  },
  {
   "cell_type": "markdown",
   "id": "bd559d4f-d30c-47b7-bc2b-4727ea0ff63f",
   "metadata": {},
   "source": [
    "#### Load results"
   ]
  },
  {
   "cell_type": "markdown",
   "id": "f3860440-2264-4cbf-b5ad-ca3b047509fb",
   "metadata": {},
   "source": [
    "These tests ran on a 64-core cluster `kallisto`. The tests all run the final code version corresponing to `t4` above. The number after the dash corresponds to the number of processes used for the observing window calculation."
   ]
  },
  {
   "cell_type": "code",
   "execution_count": 9,
   "id": "acfa95fa-7bbf-4112-9428-6adff8a661f7",
   "metadata": {},
   "outputs": [
    {
     "data": {
      "text/html": [
       "<div>\n",
       "<style scoped>\n",
       "    .dataframe tbody tr th:only-of-type {\n",
       "        vertical-align: middle;\n",
       "    }\n",
       "\n",
       "    .dataframe tbody tr th {\n",
       "        vertical-align: top;\n",
       "    }\n",
       "\n",
       "    .dataframe thead th {\n",
       "        text-align: right;\n",
       "    }\n",
       "</style>\n",
       "<table border=\"1\" class=\"dataframe\">\n",
       "  <thead>\n",
       "    <tr style=\"text-align: right;\">\n",
       "      <th></th>\n",
       "      <th>processes</th>\n",
       "      <th>id</th>\n",
       "      <th>runtime (days)</th>\n",
       "      <th>runtime (min)</th>\n",
       "    </tr>\n",
       "  </thead>\n",
       "  <tbody>\n",
       "    <tr>\n",
       "      <th>0</th>\n",
       "      <td>1</td>\n",
       "      <td>0</td>\n",
       "      <td>0.001934</td>\n",
       "      <td>2.784698</td>\n",
       "    </tr>\n",
       "    <tr>\n",
       "      <th>1</th>\n",
       "      <td>1</td>\n",
       "      <td>1</td>\n",
       "      <td>0.001916</td>\n",
       "      <td>2.759757</td>\n",
       "    </tr>\n",
       "    <tr>\n",
       "      <th>2</th>\n",
       "      <td>1</td>\n",
       "      <td>2</td>\n",
       "      <td>0.001917</td>\n",
       "      <td>2.760359</td>\n",
       "    </tr>\n",
       "    <tr>\n",
       "      <th>3</th>\n",
       "      <td>1</td>\n",
       "      <td>3</td>\n",
       "      <td>0.001915</td>\n",
       "      <td>2.757746</td>\n",
       "    </tr>\n",
       "    <tr>\n",
       "      <th>4</th>\n",
       "      <td>2</td>\n",
       "      <td>0</td>\n",
       "      <td>0.001087</td>\n",
       "      <td>1.565673</td>\n",
       "    </tr>\n",
       "    <tr>\n",
       "      <th>5</th>\n",
       "      <td>2</td>\n",
       "      <td>1</td>\n",
       "      <td>0.001082</td>\n",
       "      <td>1.557960</td>\n",
       "    </tr>\n",
       "    <tr>\n",
       "      <th>6</th>\n",
       "      <td>2</td>\n",
       "      <td>2</td>\n",
       "      <td>0.001083</td>\n",
       "      <td>1.559065</td>\n",
       "    </tr>\n",
       "    <tr>\n",
       "      <th>7</th>\n",
       "      <td>2</td>\n",
       "      <td>3</td>\n",
       "      <td>0.001081</td>\n",
       "      <td>1.556544</td>\n",
       "    </tr>\n",
       "    <tr>\n",
       "      <th>8</th>\n",
       "      <td>4</td>\n",
       "      <td>0</td>\n",
       "      <td>0.000647</td>\n",
       "      <td>0.931950</td>\n",
       "    </tr>\n",
       "    <tr>\n",
       "      <th>9</th>\n",
       "      <td>4</td>\n",
       "      <td>1</td>\n",
       "      <td>0.000642</td>\n",
       "      <td>0.924492</td>\n",
       "    </tr>\n",
       "    <tr>\n",
       "      <th>10</th>\n",
       "      <td>4</td>\n",
       "      <td>2</td>\n",
       "      <td>0.000664</td>\n",
       "      <td>0.956360</td>\n",
       "    </tr>\n",
       "    <tr>\n",
       "      <th>11</th>\n",
       "      <td>4</td>\n",
       "      <td>3</td>\n",
       "      <td>0.000641</td>\n",
       "      <td>0.922721</td>\n",
       "    </tr>\n",
       "    <tr>\n",
       "      <th>12</th>\n",
       "      <td>6</td>\n",
       "      <td>0</td>\n",
       "      <td>0.000532</td>\n",
       "      <td>0.766254</td>\n",
       "    </tr>\n",
       "    <tr>\n",
       "      <th>13</th>\n",
       "      <td>6</td>\n",
       "      <td>1</td>\n",
       "      <td>0.000504</td>\n",
       "      <td>0.725453</td>\n",
       "    </tr>\n",
       "    <tr>\n",
       "      <th>14</th>\n",
       "      <td>6</td>\n",
       "      <td>2</td>\n",
       "      <td>0.000514</td>\n",
       "      <td>0.740260</td>\n",
       "    </tr>\n",
       "    <tr>\n",
       "      <th>15</th>\n",
       "      <td>6</td>\n",
       "      <td>3</td>\n",
       "      <td>0.000515</td>\n",
       "      <td>0.740986</td>\n",
       "    </tr>\n",
       "    <tr>\n",
       "      <th>16</th>\n",
       "      <td>8</td>\n",
       "      <td>0</td>\n",
       "      <td>0.000462</td>\n",
       "      <td>0.665601</td>\n",
       "    </tr>\n",
       "    <tr>\n",
       "      <th>17</th>\n",
       "      <td>8</td>\n",
       "      <td>1</td>\n",
       "      <td>0.000446</td>\n",
       "      <td>0.641930</td>\n",
       "    </tr>\n",
       "    <tr>\n",
       "      <th>18</th>\n",
       "      <td>8</td>\n",
       "      <td>2</td>\n",
       "      <td>0.000456</td>\n",
       "      <td>0.657232</td>\n",
       "    </tr>\n",
       "    <tr>\n",
       "      <th>19</th>\n",
       "      <td>8</td>\n",
       "      <td>3</td>\n",
       "      <td>0.000458</td>\n",
       "      <td>0.659095</td>\n",
       "    </tr>\n",
       "    <tr>\n",
       "      <th>20</th>\n",
       "      <td>10</td>\n",
       "      <td>0</td>\n",
       "      <td>0.000393</td>\n",
       "      <td>0.565402</td>\n",
       "    </tr>\n",
       "    <tr>\n",
       "      <th>21</th>\n",
       "      <td>10</td>\n",
       "      <td>1</td>\n",
       "      <td>0.000388</td>\n",
       "      <td>0.558273</td>\n",
       "    </tr>\n",
       "    <tr>\n",
       "      <th>22</th>\n",
       "      <td>10</td>\n",
       "      <td>2</td>\n",
       "      <td>0.000387</td>\n",
       "      <td>0.557157</td>\n",
       "    </tr>\n",
       "    <tr>\n",
       "      <th>23</th>\n",
       "      <td>10</td>\n",
       "      <td>3</td>\n",
       "      <td>0.000387</td>\n",
       "      <td>0.557611</td>\n",
       "    </tr>\n",
       "    <tr>\n",
       "      <th>24</th>\n",
       "      <td>20</td>\n",
       "      <td>0</td>\n",
       "      <td>0.000353</td>\n",
       "      <td>0.508453</td>\n",
       "    </tr>\n",
       "    <tr>\n",
       "      <th>25</th>\n",
       "      <td>20</td>\n",
       "      <td>1</td>\n",
       "      <td>0.000348</td>\n",
       "      <td>0.501054</td>\n",
       "    </tr>\n",
       "    <tr>\n",
       "      <th>26</th>\n",
       "      <td>20</td>\n",
       "      <td>2</td>\n",
       "      <td>0.000345</td>\n",
       "      <td>0.497281</td>\n",
       "    </tr>\n",
       "    <tr>\n",
       "      <th>27</th>\n",
       "      <td>20</td>\n",
       "      <td>3</td>\n",
       "      <td>0.000357</td>\n",
       "      <td>0.514448</td>\n",
       "    </tr>\n",
       "  </tbody>\n",
       "</table>\n",
       "</div>"
      ],
      "text/plain": [
       "    processes  id  runtime (days)  runtime (min)\n",
       "0           1   0        0.001934       2.784698\n",
       "1           1   1        0.001916       2.759757\n",
       "2           1   2        0.001917       2.760359\n",
       "3           1   3        0.001915       2.757746\n",
       "4           2   0        0.001087       1.565673\n",
       "5           2   1        0.001082       1.557960\n",
       "6           2   2        0.001083       1.559065\n",
       "7           2   3        0.001081       1.556544\n",
       "8           4   0        0.000647       0.931950\n",
       "9           4   1        0.000642       0.924492\n",
       "10          4   2        0.000664       0.956360\n",
       "11          4   3        0.000641       0.922721\n",
       "12          6   0        0.000532       0.766254\n",
       "13          6   1        0.000504       0.725453\n",
       "14          6   2        0.000514       0.740260\n",
       "15          6   3        0.000515       0.740986\n",
       "16          8   0        0.000462       0.665601\n",
       "17          8   1        0.000446       0.641930\n",
       "18          8   2        0.000456       0.657232\n",
       "19          8   3        0.000458       0.659095\n",
       "20         10   0        0.000393       0.565402\n",
       "21         10   1        0.000388       0.558273\n",
       "22         10   2        0.000387       0.557157\n",
       "23         10   3        0.000387       0.557611\n",
       "24         20   0        0.000353       0.508453\n",
       "25         20   1        0.000348       0.501054\n",
       "26         20   2        0.000345       0.497281\n",
       "27         20   3        0.000357       0.514448"
      ]
     },
     "execution_count": 9,
     "metadata": {},
     "output_type": "execute_result"
    }
   ],
   "source": [
    "tests = pd.read_csv('runtime_tests_2_testsetup_kallisto.dat', names=('processes', 'id', 'runtime (days)'), skiprows=1)\n",
    "tests['runtime (min)'] = tests['runtime (days)'] * 24 * 60\n",
    "tests"
   ]
  },
  {
   "cell_type": "markdown",
   "id": "06ef003a-feac-41d2-8662-06b78a7063e4",
   "metadata": {},
   "source": [
    "Group by code version and calculate the median runtime. Then calculate the fractional runtime relative to the initial code version and relative to the previous code version, similarly the runtime reduction:"
   ]
  },
  {
   "cell_type": "code",
   "execution_count": 10,
   "id": "dc7410f1-7710-44cf-a4b6-7e40aaf32e28",
   "metadata": {},
   "outputs": [
    {
     "data": {
      "text/html": [
       "<div>\n",
       "<style scoped>\n",
       "    .dataframe tbody tr th:only-of-type {\n",
       "        vertical-align: middle;\n",
       "    }\n",
       "\n",
       "    .dataframe tbody tr th {\n",
       "        vertical-align: top;\n",
       "    }\n",
       "\n",
       "    .dataframe thead th {\n",
       "        text-align: right;\n",
       "    }\n",
       "</style>\n",
       "<table border=\"1\" class=\"dataframe\">\n",
       "  <thead>\n",
       "    <tr style=\"text-align: right;\">\n",
       "      <th></th>\n",
       "      <th>processes</th>\n",
       "      <th>runtime (days)</th>\n",
       "      <th>runtime (min)</th>\n",
       "      <th>fraction_v0</th>\n",
       "      <th>reduction_v0</th>\n",
       "      <th>fraction_incr</th>\n",
       "      <th>reduction_incr</th>\n",
       "    </tr>\n",
       "  </thead>\n",
       "  <tbody>\n",
       "    <tr>\n",
       "      <th>0</th>\n",
       "      <td>1</td>\n",
       "      <td>0.001917</td>\n",
       "      <td>2.760058</td>\n",
       "      <td>1.000000</td>\n",
       "      <td>0.000000</td>\n",
       "      <td>NaN</td>\n",
       "      <td>NaN</td>\n",
       "    </tr>\n",
       "    <tr>\n",
       "      <th>1</th>\n",
       "      <td>2</td>\n",
       "      <td>0.001082</td>\n",
       "      <td>1.558513</td>\n",
       "      <td>0.564667</td>\n",
       "      <td>0.435333</td>\n",
       "      <td>0.564667</td>\n",
       "      <td>0.435333</td>\n",
       "    </tr>\n",
       "    <tr>\n",
       "      <th>2</th>\n",
       "      <td>4</td>\n",
       "      <td>0.000645</td>\n",
       "      <td>0.928221</td>\n",
       "      <td>0.336305</td>\n",
       "      <td>0.663695</td>\n",
       "      <td>0.595581</td>\n",
       "      <td>0.404419</td>\n",
       "    </tr>\n",
       "    <tr>\n",
       "      <th>3</th>\n",
       "      <td>6</td>\n",
       "      <td>0.000514</td>\n",
       "      <td>0.740623</td>\n",
       "      <td>0.268336</td>\n",
       "      <td>0.731664</td>\n",
       "      <td>0.797896</td>\n",
       "      <td>0.202104</td>\n",
       "    </tr>\n",
       "    <tr>\n",
       "      <th>4</th>\n",
       "      <td>8</td>\n",
       "      <td>0.000457</td>\n",
       "      <td>0.658164</td>\n",
       "      <td>0.238460</td>\n",
       "      <td>0.761540</td>\n",
       "      <td>0.888662</td>\n",
       "      <td>0.111338</td>\n",
       "    </tr>\n",
       "    <tr>\n",
       "      <th>5</th>\n",
       "      <td>10</td>\n",
       "      <td>0.000387</td>\n",
       "      <td>0.557942</td>\n",
       "      <td>0.202149</td>\n",
       "      <td>0.797851</td>\n",
       "      <td>0.847725</td>\n",
       "      <td>0.152275</td>\n",
       "    </tr>\n",
       "    <tr>\n",
       "      <th>6</th>\n",
       "      <td>20</td>\n",
       "      <td>0.000351</td>\n",
       "      <td>0.504754</td>\n",
       "      <td>0.182878</td>\n",
       "      <td>0.817122</td>\n",
       "      <td>0.904670</td>\n",
       "      <td>0.095330</td>\n",
       "    </tr>\n",
       "  </tbody>\n",
       "</table>\n",
       "</div>"
      ],
      "text/plain": [
       "   processes  runtime (days)  runtime (min)  fraction_v0  reduction_v0  \\\n",
       "0          1        0.001917       2.760058     1.000000      0.000000   \n",
       "1          2        0.001082       1.558513     0.564667      0.435333   \n",
       "2          4        0.000645       0.928221     0.336305      0.663695   \n",
       "3          6        0.000514       0.740623     0.268336      0.731664   \n",
       "4          8        0.000457       0.658164     0.238460      0.761540   \n",
       "5         10        0.000387       0.557942     0.202149      0.797851   \n",
       "6         20        0.000351       0.504754     0.182878      0.817122   \n",
       "\n",
       "   fraction_incr  reduction_incr  \n",
       "0            NaN             NaN  \n",
       "1       0.564667        0.435333  \n",
       "2       0.595581        0.404419  \n",
       "3       0.797896        0.202104  \n",
       "4       0.888662        0.111338  \n",
       "5       0.847725        0.152275  \n",
       "6       0.904670        0.095330  "
      ]
     },
     "execution_count": 10,
     "metadata": {},
     "output_type": "execute_result"
    }
   ],
   "source": [
    "tests_median = tests.drop(columns='id').groupby(by='processes').median().reset_index()\n",
    "tests_median['fraction_v0'] = tests_median['runtime (min)'] / tests_median.loc[0, 'runtime (min)']\n",
    "tests_median['reduction_v0'] = 1 - tests_median['fraction_v0']\n",
    "tests_median['fraction_incr'] = [np.nan] + [tests_median.loc[i, 'runtime (min)'] / tests_median.loc[i-1, 'runtime (min)'] for i in range(1, tests_median.shape[0])]\n",
    "tests_median['reduction_incr'] = 1 - tests_median['fraction_incr']\n",
    "tests_median"
   ]
  },
  {
   "cell_type": "markdown",
   "id": "f390005b-4224-4265-8f9c-4233dd4cc1a0",
   "metadata": {},
   "source": [
    "#### Show results"
   ]
  },
  {
   "cell_type": "markdown",
   "id": "b459a6ed-6818-4919-a427-1ae8c573c492",
   "metadata": {},
   "source": [
    "##### Runtime"
   ]
  },
  {
   "cell_type": "code",
   "execution_count": 11,
   "id": "e423486c-5186-417e-ba81-b0b89b01acd5",
   "metadata": {},
   "outputs": [
    {
     "data": {
      "image/png": "[encoded data removed]",
      "text/plain": [
       "<Figure size 640x480 with 1 Axes>"
      ]
     },
     "metadata": {},
     "output_type": "display_data"
    }
   ],
   "source": [
    "sns.scatterplot(data=tests_median, x='processes', y='runtime (min)');"
   ]
  },
  {
   "cell_type": "markdown",
   "id": "4d69631f-13db-4a2a-aebc-d7a17c9eac41",
   "metadata": {},
   "source": [
    "##### Fractional runtime relative to initial version"
   ]
  },
  {
   "cell_type": "code",
   "execution_count": 12,
   "id": "d3a35b0f-9775-4bbe-92f3-282b0f7b5796",
   "metadata": {},
   "outputs": [
    {
     "data": {
      "image/png": "[encoded data removed]",
      "text/plain": [
       "<Figure size 640x480 with 1 Axes>"
      ]
     },
     "metadata": {},
     "output_type": "display_data"
    }
   ],
   "source": [
    "sns.scatterplot(data=tests_median, x='processes', y='fraction_v0');"
   ]
  },
  {
   "cell_type": "markdown",
   "id": "0006767f-c46d-4c7b-a084-8082b8ddac32",
   "metadata": {},
   "source": [
    "##### Fractional runtime reduction relative to initial version"
   ]
  },
  {
   "cell_type": "code",
   "execution_count": 13,
   "id": "6a52e856-2e2e-48d9-9727-7644f9b9bb93",
   "metadata": {},
   "outputs": [
    {
     "data": {
      "image/png": "[encoded data removed]",
      "text/plain": [
       "<Figure size 640x480 with 1 Axes>"
      ]
     },
     "metadata": {},
     "output_type": "display_data"
    }
   ],
   "source": [
    "sns.scatterplot(data=tests_median, x='processes', y='reduction_v0');"
   ]
  },
  {
   "cell_type": "markdown",
   "id": "fcd1ae22-9120-4c40-9cca-cbb484618329",
   "metadata": {},
   "source": [
    "##### Fractional runtime reduction relative to previous version"
   ]
  },
  {
   "cell_type": "code",
   "execution_count": 14,
   "id": "b7db2c82-91da-4713-b397-292840e7c904",
   "metadata": {},
   "outputs": [
    {
     "data": {
      "image/png": "[encoded data removed]",
      "text/plain": [
       "<Figure size 640x480 with 1 Axes>"
      ]
     },
     "metadata": {},
     "output_type": "display_data"
    }
   ],
   "source": [
    "sns.scatterplot(data=tests_median, x='processes', y='reduction_incr');"
   ]
  },
  {
   "cell_type": "markdown",
   "id": "1ee6478f-21d3-4086-99f6-c84624cb3b99",
   "metadata": {},
   "source": [
    "### Full grid tests on kallisto"
   ]
  },
  {
   "cell_type": "markdown",
   "id": "f1e0357a-79fd-4b1c-91c6-3232e1fcbffa",
   "metadata": {},
   "source": [
    "These tests use the full Pasiphae survey field grid with all relevant observational constraints. The goal of these tests is to check which number of processes is reasonable to use."
   ]
  },
  {
   "cell_type": "markdown",
   "id": "05ec713c-a919-4e5f-b624-f9d190d14168",
   "metadata": {},
   "source": [
    "#### Load results"
   ]
  },
  {
   "cell_type": "code",
   "execution_count": 15,
   "id": "351a14e0-1bd7-4cac-818a-468b05c908d0",
   "metadata": {},
   "outputs": [
    {
     "data": {
      "text/html": [
       "<div>\n",
       "<style scoped>\n",
       "    .dataframe tbody tr th:only-of-type {\n",
       "        vertical-align: middle;\n",
       "    }\n",
       "\n",
       "    .dataframe tbody tr th {\n",
       "        vertical-align: top;\n",
       "    }\n",
       "\n",
       "    .dataframe thead th {\n",
       "        text-align: right;\n",
       "    }\n",
       "</style>\n",
       "<table border=\"1\" class=\"dataframe\">\n",
       "  <thead>\n",
       "    <tr style=\"text-align: right;\">\n",
       "      <th></th>\n",
       "      <th>processes</th>\n",
       "      <th>id</th>\n",
       "      <th>runtime (days)</th>\n",
       "      <th>runtime (min)</th>\n",
       "    </tr>\n",
       "  </thead>\n",
       "  <tbody>\n",
       "    <tr>\n",
       "      <th>0</th>\n",
       "      <td>5</td>\n",
       "      <td>0</td>\n",
       "      <td>0.027498</td>\n",
       "      <td>39.597271</td>\n",
       "    </tr>\n",
       "    <tr>\n",
       "      <th>1</th>\n",
       "      <td>10</td>\n",
       "      <td>0</td>\n",
       "      <td>0.014516</td>\n",
       "      <td>20.903031</td>\n",
       "    </tr>\n",
       "    <tr>\n",
       "      <th>2</th>\n",
       "      <td>15</td>\n",
       "      <td>0</td>\n",
       "      <td>0.010307</td>\n",
       "      <td>14.842480</td>\n",
       "    </tr>\n",
       "    <tr>\n",
       "      <th>3</th>\n",
       "      <td>20</td>\n",
       "      <td>0</td>\n",
       "      <td>0.008514</td>\n",
       "      <td>12.260551</td>\n",
       "    </tr>\n",
       "    <tr>\n",
       "      <th>4</th>\n",
       "      <td>25</td>\n",
       "      <td>0</td>\n",
       "      <td>0.008358</td>\n",
       "      <td>12.035375</td>\n",
       "    </tr>\n",
       "    <tr>\n",
       "      <th>5</th>\n",
       "      <td>30</td>\n",
       "      <td>0</td>\n",
       "      <td>0.007613</td>\n",
       "      <td>10.962311</td>\n",
       "    </tr>\n",
       "  </tbody>\n",
       "</table>\n",
       "</div>"
      ],
      "text/plain": [
       "   processes  id  runtime (days)  runtime (min)\n",
       "0          5   0        0.027498      39.597271\n",
       "1         10   0        0.014516      20.903031\n",
       "2         15   0        0.010307      14.842480\n",
       "3         20   0        0.008514      12.260551\n",
       "4         25   0        0.008358      12.035375\n",
       "5         30   0        0.007613      10.962311"
      ]
     },
     "execution_count": 15,
     "metadata": {},
     "output_type": "execute_result"
    }
   ],
   "source": [
    "tests = pd.read_csv('runtime_tests_3_fullgrid_kallisto.dat', names=('processes', 'id', 'runtime (days)'), skiprows=1)\n",
    "tests['runtime (min)'] = tests['runtime (days)'] * 24 * 60\n",
    "tests"
   ]
  },
  {
   "cell_type": "markdown",
   "id": "2861774d-12d1-4a5c-a335-fb85de1bacb1",
   "metadata": {},
   "source": [
    "Group by code version and calculate the median runtime. Then calculate the fractional runtime relative to the initial code version and relative to the previous code version, similarly the runtime reduction:"
   ]
  },
  {
   "cell_type": "code",
   "execution_count": 16,
   "id": "0d32ab04-11d4-4128-8371-ace7d3a314ad",
   "metadata": {},
   "outputs": [
    {
     "data": {
      "text/html": [
       "<div>\n",
       "<style scoped>\n",
       "    .dataframe tbody tr th:only-of-type {\n",
       "        vertical-align: middle;\n",
       "    }\n",
       "\n",
       "    .dataframe tbody tr th {\n",
       "        vertical-align: top;\n",
       "    }\n",
       "\n",
       "    .dataframe thead th {\n",
       "        text-align: right;\n",
       "    }\n",
       "</style>\n",
       "<table border=\"1\" class=\"dataframe\">\n",
       "  <thead>\n",
       "    <tr style=\"text-align: right;\">\n",
       "      <th></th>\n",
       "      <th>processes</th>\n",
       "      <th>runtime (days)</th>\n",
       "      <th>runtime (min)</th>\n",
       "      <th>fraction_v0</th>\n",
       "      <th>reduction_v0</th>\n",
       "      <th>fraction_incr</th>\n",
       "      <th>reduction_incr</th>\n",
       "    </tr>\n",
       "  </thead>\n",
       "  <tbody>\n",
       "    <tr>\n",
       "      <th>0</th>\n",
       "      <td>5</td>\n",
       "      <td>0.027498</td>\n",
       "      <td>39.597271</td>\n",
       "      <td>1.000000</td>\n",
       "      <td>0.000000</td>\n",
       "      <td>NaN</td>\n",
       "      <td>NaN</td>\n",
       "    </tr>\n",
       "    <tr>\n",
       "      <th>1</th>\n",
       "      <td>10</td>\n",
       "      <td>0.014516</td>\n",
       "      <td>20.903031</td>\n",
       "      <td>0.527891</td>\n",
       "      <td>0.472109</td>\n",
       "      <td>0.527891</td>\n",
       "      <td>0.472109</td>\n",
       "    </tr>\n",
       "    <tr>\n",
       "      <th>2</th>\n",
       "      <td>15</td>\n",
       "      <td>0.010307</td>\n",
       "      <td>14.842480</td>\n",
       "      <td>0.374836</td>\n",
       "      <td>0.625164</td>\n",
       "      <td>0.710064</td>\n",
       "      <td>0.289936</td>\n",
       "    </tr>\n",
       "    <tr>\n",
       "      <th>3</th>\n",
       "      <td>20</td>\n",
       "      <td>0.008514</td>\n",
       "      <td>12.260551</td>\n",
       "      <td>0.309631</td>\n",
       "      <td>0.690369</td>\n",
       "      <td>0.826045</td>\n",
       "      <td>0.173955</td>\n",
       "    </tr>\n",
       "    <tr>\n",
       "      <th>4</th>\n",
       "      <td>25</td>\n",
       "      <td>0.008358</td>\n",
       "      <td>12.035375</td>\n",
       "      <td>0.303945</td>\n",
       "      <td>0.696055</td>\n",
       "      <td>0.981634</td>\n",
       "      <td>0.018366</td>\n",
       "    </tr>\n",
       "    <tr>\n",
       "      <th>5</th>\n",
       "      <td>30</td>\n",
       "      <td>0.007613</td>\n",
       "      <td>10.962311</td>\n",
       "      <td>0.276845</td>\n",
       "      <td>0.723155</td>\n",
       "      <td>0.910841</td>\n",
       "      <td>0.089159</td>\n",
       "    </tr>\n",
       "  </tbody>\n",
       "</table>\n",
       "</div>"
      ],
      "text/plain": [
       "   processes  runtime (days)  runtime (min)  fraction_v0  reduction_v0  \\\n",
       "0          5        0.027498      39.597271     1.000000      0.000000   \n",
       "1         10        0.014516      20.903031     0.527891      0.472109   \n",
       "2         15        0.010307      14.842480     0.374836      0.625164   \n",
       "3         20        0.008514      12.260551     0.309631      0.690369   \n",
       "4         25        0.008358      12.035375     0.303945      0.696055   \n",
       "5         30        0.007613      10.962311     0.276845      0.723155   \n",
       "\n",
       "   fraction_incr  reduction_incr  \n",
       "0            NaN             NaN  \n",
       "1       0.527891        0.472109  \n",
       "2       0.710064        0.289936  \n",
       "3       0.826045        0.173955  \n",
       "4       0.981634        0.018366  \n",
       "5       0.910841        0.089159  "
      ]
     },
     "execution_count": 16,
     "metadata": {},
     "output_type": "execute_result"
    }
   ],
   "source": [
    "tests_median = tests.drop(columns='id').groupby(by='processes').median().reset_index()\n",
    "tests_median['fraction_v0'] = tests_median['runtime (min)'] / tests_median.loc[0, 'runtime (min)']\n",
    "tests_median['reduction_v0'] = 1 - tests_median['fraction_v0']\n",
    "tests_median['fraction_incr'] = [np.nan] + [tests_median.loc[i, 'runtime (min)'] / tests_median.loc[i-1, 'runtime (min)'] for i in range(1, tests_median.shape[0])]\n",
    "tests_median['reduction_incr'] = 1 - tests_median['fraction_incr']\n",
    "tests_median"
   ]
  },
  {
   "cell_type": "markdown",
   "id": "4a32a913-f6e7-4984-a942-4370354f7189",
   "metadata": {},
   "source": [
    "#### Show results"
   ]
  },
  {
   "cell_type": "markdown",
   "id": "85a442ec-3977-4c11-a489-5b3ee8ecead0",
   "metadata": {},
   "source": [
    "##### Runtime"
   ]
  },
  {
   "cell_type": "code",
   "execution_count": 17,
   "id": "a0c24acf-711c-424c-94eb-85b9a2a55854",
   "metadata": {},
   "outputs": [
    {
     "data": {
      "image/png": "[encoded data removed]",
      "text/plain": [
       "<Figure size 640x480 with 1 Axes>"
      ]
     },
     "metadata": {},
     "output_type": "display_data"
    }
   ],
   "source": [
    "sns.scatterplot(data=tests_median, x='processes', y='runtime (min)');"
   ]
  },
  {
   "cell_type": "markdown",
   "id": "7d13077e-6010-4dfb-84ea-511636878222",
   "metadata": {},
   "source": [
    "##### Fractional runtime relative to initial version"
   ]
  },
  {
   "cell_type": "code",
   "execution_count": 18,
   "id": "21263b44-0a59-4394-9046-9b65a1053e37",
   "metadata": {},
   "outputs": [
    {
     "data": {
      "image/png": "[encoded data removed]",
      "text/plain": [
       "<Figure size 640x480 with 1 Axes>"
      ]
     },
     "metadata": {},
     "output_type": "display_data"
    }
   ],
   "source": [
    "sns.scatterplot(data=tests_median, x='processes', y='fraction_v0');"
   ]
  },
  {
   "cell_type": "markdown",
   "id": "be369d50-e9f9-4e37-911a-7246bc9d2426",
   "metadata": {},
   "source": [
    "##### Fractional runtime reduction relative to initial version"
   ]
  },
  {
   "cell_type": "code",
   "execution_count": 19,
   "id": "77861b50-7e40-4a11-9b31-c4a9a8499d59",
   "metadata": {},
   "outputs": [
    {
     "data": {
      "image/png": "[encoded data removed]",
      "text/plain": [
       "<Figure size 640x480 with 1 Axes>"
      ]
     },
     "metadata": {},
     "output_type": "display_data"
    }
   ],
   "source": [
    "sns.scatterplot(data=tests_median, x='processes', y='reduction_v0');"
   ]
  },
  {
   "cell_type": "markdown",
   "id": "a34d3d9f-64b6-4ade-a52d-bbab84504957",
   "metadata": {},
   "source": [
    "##### Fractional runtime reduction relative to previous version"
   ]
  },
  {
   "cell_type": "code",
   "execution_count": 20,
   "id": "f9b8afd8-8be7-4d33-afd4-0ce48acaca22",
   "metadata": {},
   "outputs": [
    {
     "data": {
      "image/png": "[encoded data removed]",
      "text/plain": [
       "<Figure size 640x480 with 1 Axes>"
      ]
     },
     "metadata": {},
     "output_type": "display_data"
    }
   ],
   "source": [
    "sns.scatterplot(data=tests_median, x='processes', y='reduction_incr');"
   ]
  },
  {
   "cell_type": "markdown",
   "id": "fa9c3a30-d20c-499c-9536-5727f7f63152",
   "metadata": {},
   "source": [
    "## Tests after code revision (March 2024)"
   ]
  },
  {
   "cell_type": "markdown",
   "id": "4f573206-e7b9-4aa0-9d48-ef965ad5f538",
   "metadata": {},
   "source": [
    "I moved the observability status calculations from the priorization to the observability calculation part, i.e. the status is now pre-calculated and stored in the data base. The idea behind that was that this reduces the runtime of my strategy tests, because the status does not have to be calculated over and over again for each strategy test. As part of this code revision I also discovered and fixed a bug in the code that affected the previous status calculation. I furthermore found that a higher precession in the initial and refined time grid may be needed to calculate the status reliably. Finer time grids would increase the runtime however. I cannot directly compare the new code's runtime to the previous version above, because previously I did not take any notes on the specifications of the runtime tests (e.g. for what dates, for how many days did I run the tests). Too bad, I will do these tests in a systematic, well documented way now. But I cannot repeat the tests above."
   ]
  },
  {
   "cell_type": "markdown",
   "id": "6b4ae0b0-ce16-4078-a37f-ba00f4a161ba",
   "metadata": {},
   "source": [
    "### Test grid setup"
   ]
  },
  {
   "cell_type": "code",
   "execution_count": 2,
   "id": "d3349b4b-5969-416c-9dfb-38f7c0c5f72f",
   "metadata": {},
   "outputs": [],
   "source": [
    "tests = pd.concat(\n",
    "        [pd.read_csv('runtime_tests_4_testsetup_local.dat').rename(columns={\n",
    "                '#computer': 'computer', 'runtime_total (days)': 'runtime (days)'}),\n",
    "        pd.read_csv('runtime_tests_4_testsetup_kallisto.dat').rename(columns={\n",
    "                '#computer': 'computer', 'runtime_total (days)': 'runtime (days)'})],\n",
    "        ignore_index=True)\n",
    "tests['runtime (min)'] = tests['runtime (days)'] * 24 * 60"
   ]
  },
  {
   "cell_type": "markdown",
   "id": "0a23d9b0-45ea-4382-a47d-f7567bd59937",
   "metadata": {},
   "source": [
    "Drop all test information that does not change, group by initial and refined time interval and calculate the median runtime. Invert the order of tests to start with the most coarse initial and refinement time grid. Then calculate the fractional runtime relative to the first test setup:"
   ]
  },
  {
   "cell_type": "code",
   "execution_count": 3,
   "id": "9981e0b5-90a9-4b38-b217-ea839ea5b0c4",
   "metadata": {},
   "outputs": [
    {
     "data": {
      "text/html": [
       "<div>\n",
       "<style scoped>\n",
       "    .dataframe tbody tr th:only-of-type {\n",
       "        vertical-align: middle;\n",
       "    }\n",
       "\n",
       "    .dataframe tbody tr th {\n",
       "        vertical-align: top;\n",
       "    }\n",
       "\n",
       "    .dataframe thead th {\n",
       "        text-align: right;\n",
       "    }\n",
       "</style>\n",
       "<table border=\"1\" class=\"dataframe\">\n",
       "  <thead>\n",
       "    <tr style=\"text-align: right;\">\n",
       "      <th></th>\n",
       "      <th>computer</th>\n",
       "      <th>date_start</th>\n",
       "      <th>date_stop</th>\n",
       "      <th>n_days</th>\n",
       "      <th>time_interval_init</th>\n",
       "      <th>time_interval_refine</th>\n",
       "      <th>processes</th>\n",
       "      <th>batch_write</th>\n",
       "      <th>runtime (days)</th>\n",
       "      <th>runtime (min)</th>\n",
       "    </tr>\n",
       "  </thead>\n",
       "  <tbody>\n",
       "    <tr>\n",
       "      <th>0</th>\n",
       "      <td>kallisto</td>\n",
       "      <td>2024-01-01</td>\n",
       "      <td>2024-01-02</td>\n",
       "      <td>1</td>\n",
       "      <td>300</td>\n",
       "      <td>10</td>\n",
       "      <td>1</td>\n",
       "      <td>100</td>\n",
       "      <td>0.001705</td>\n",
       "      <td>2.455161</td>\n",
       "    </tr>\n",
       "    <tr>\n",
       "      <th>1</th>\n",
       "      <td>kallisto</td>\n",
       "      <td>2024-01-01</td>\n",
       "      <td>2024-01-02</td>\n",
       "      <td>1</td>\n",
       "      <td>300</td>\n",
       "      <td>10</td>\n",
       "      <td>1</td>\n",
       "      <td>500</td>\n",
       "      <td>0.001715</td>\n",
       "      <td>2.470005</td>\n",
       "    </tr>\n",
       "    <tr>\n",
       "      <th>2</th>\n",
       "      <td>kallisto</td>\n",
       "      <td>2024-01-01</td>\n",
       "      <td>2024-01-02</td>\n",
       "      <td>1</td>\n",
       "      <td>300</td>\n",
       "      <td>10</td>\n",
       "      <td>1</td>\n",
       "      <td>1000</td>\n",
       "      <td>0.001704</td>\n",
       "      <td>2.453342</td>\n",
       "    </tr>\n",
       "    <tr>\n",
       "      <th>3</th>\n",
       "      <td>kallisto</td>\n",
       "      <td>2024-01-01</td>\n",
       "      <td>2024-01-02</td>\n",
       "      <td>1</td>\n",
       "      <td>300</td>\n",
       "      <td>10</td>\n",
       "      <td>2</td>\n",
       "      <td>100</td>\n",
       "      <td>0.001330</td>\n",
       "      <td>1.915486</td>\n",
       "    </tr>\n",
       "    <tr>\n",
       "      <th>4</th>\n",
       "      <td>kallisto</td>\n",
       "      <td>2024-01-01</td>\n",
       "      <td>2024-01-02</td>\n",
       "      <td>1</td>\n",
       "      <td>300</td>\n",
       "      <td>10</td>\n",
       "      <td>2</td>\n",
       "      <td>500</td>\n",
       "      <td>0.001339</td>\n",
       "      <td>1.928856</td>\n",
       "    </tr>\n",
       "    <tr>\n",
       "      <th>...</th>\n",
       "      <td>...</td>\n",
       "      <td>...</td>\n",
       "      <td>...</td>\n",
       "      <td>...</td>\n",
       "      <td>...</td>\n",
       "      <td>...</td>\n",
       "      <td>...</td>\n",
       "      <td>...</td>\n",
       "      <td>...</td>\n",
       "      <td>...</td>\n",
       "    </tr>\n",
       "    <tr>\n",
       "      <th>67</th>\n",
       "      <td>laptop_linux</td>\n",
       "      <td>2024-01-01</td>\n",
       "      <td>2024-01-02</td>\n",
       "      <td>1</td>\n",
       "      <td>600</td>\n",
       "      <td>60</td>\n",
       "      <td>1</td>\n",
       "      <td>500</td>\n",
       "      <td>0.001360</td>\n",
       "      <td>1.959001</td>\n",
       "    </tr>\n",
       "    <tr>\n",
       "      <th>68</th>\n",
       "      <td>laptop_linux</td>\n",
       "      <td>2024-01-01</td>\n",
       "      <td>2024-01-02</td>\n",
       "      <td>1</td>\n",
       "      <td>600</td>\n",
       "      <td>60</td>\n",
       "      <td>1</td>\n",
       "      <td>1000</td>\n",
       "      <td>0.001359</td>\n",
       "      <td>1.957357</td>\n",
       "    </tr>\n",
       "    <tr>\n",
       "      <th>69</th>\n",
       "      <td>laptop_linux</td>\n",
       "      <td>2024-01-01</td>\n",
       "      <td>2024-01-02</td>\n",
       "      <td>1</td>\n",
       "      <td>600</td>\n",
       "      <td>60</td>\n",
       "      <td>2</td>\n",
       "      <td>100</td>\n",
       "      <td>0.000769</td>\n",
       "      <td>1.107467</td>\n",
       "    </tr>\n",
       "    <tr>\n",
       "      <th>70</th>\n",
       "      <td>laptop_linux</td>\n",
       "      <td>2024-01-01</td>\n",
       "      <td>2024-01-02</td>\n",
       "      <td>1</td>\n",
       "      <td>600</td>\n",
       "      <td>60</td>\n",
       "      <td>2</td>\n",
       "      <td>500</td>\n",
       "      <td>0.000760</td>\n",
       "      <td>1.094243</td>\n",
       "    </tr>\n",
       "    <tr>\n",
       "      <th>71</th>\n",
       "      <td>laptop_linux</td>\n",
       "      <td>2024-01-01</td>\n",
       "      <td>2024-01-02</td>\n",
       "      <td>1</td>\n",
       "      <td>600</td>\n",
       "      <td>60</td>\n",
       "      <td>2</td>\n",
       "      <td>1000</td>\n",
       "      <td>0.000761</td>\n",
       "      <td>1.096240</td>\n",
       "    </tr>\n",
       "  </tbody>\n",
       "</table>\n",
       "<p>72 rows × 10 columns</p>\n",
       "</div>"
      ],
      "text/plain": [
       "        computer  date_start   date_stop  n_days  time_interval_init  \\\n",
       "0       kallisto  2024-01-01  2024-01-02       1                 300   \n",
       "1       kallisto  2024-01-01  2024-01-02       1                 300   \n",
       "2       kallisto  2024-01-01  2024-01-02       1                 300   \n",
       "3       kallisto  2024-01-01  2024-01-02       1                 300   \n",
       "4       kallisto  2024-01-01  2024-01-02       1                 300   \n",
       "..           ...         ...         ...     ...                 ...   \n",
       "67  laptop_linux  2024-01-01  2024-01-02       1                 600   \n",
       "68  laptop_linux  2024-01-01  2024-01-02       1                 600   \n",
       "69  laptop_linux  2024-01-01  2024-01-02       1                 600   \n",
       "70  laptop_linux  2024-01-01  2024-01-02       1                 600   \n",
       "71  laptop_linux  2024-01-01  2024-01-02       1                 600   \n",
       "\n",
       "    time_interval_refine  processes  batch_write  runtime (days)  \\\n",
       "0                     10          1          100        0.001705   \n",
       "1                     10          1          500        0.001715   \n",
       "2                     10          1         1000        0.001704   \n",
       "3                     10          2          100        0.001330   \n",
       "4                     10          2          500        0.001339   \n",
       "..                   ...        ...          ...             ...   \n",
       "67                    60          1          500        0.001360   \n",
       "68                    60          1         1000        0.001359   \n",
       "69                    60          2          100        0.000769   \n",
       "70                    60          2          500        0.000760   \n",
       "71                    60          2         1000        0.000761   \n",
       "\n",
       "    runtime (min)  \n",
       "0        2.455161  \n",
       "1        2.470005  \n",
       "2        2.453342  \n",
       "3        1.915486  \n",
       "4        1.928856  \n",
       "..            ...  \n",
       "67       1.959001  \n",
       "68       1.957357  \n",
       "69       1.107467  \n",
       "70       1.094243  \n",
       "71       1.096240  \n",
       "\n",
       "[72 rows x 10 columns]"
      ]
     },
     "execution_count": 3,
     "metadata": {},
     "output_type": "execute_result"
    }
   ],
   "source": [
    "tests = tests.groupby(by=['computer', 'date_start', 'date_stop', 'n_days', 'time_interval_init', 'time_interval_refine', 'processes', 'batch_write']).median().reset_index()\n",
    "tests.drop(columns=['test_id'], inplace=True)\n",
    "tests"
   ]
  },
  {
   "cell_type": "markdown",
   "id": "c8551b0e-da0f-4931-8cc4-86d69e1546b3",
   "metadata": {},
   "source": [
    "#### Effect of time grid choices"
   ]
  },
  {
   "cell_type": "code",
   "execution_count": 4,
   "id": "a5fedd68-e388-4d73-ad02-47c2668337e5",
   "metadata": {},
   "outputs": [],
   "source": [
    "time_interval_tag = [f'{t_init}-{t_refine}' for t_init, t_refine in zip(tests['time_interval_init'], tests['time_interval_refine'])]\n",
    "tests['time_interval_tag'] = time_interval_tag\n",
    "del time_interval_tag"
   ]
  },
  {
   "cell_type": "code",
   "execution_count": 5,
   "id": "dbe79348-cc33-4c94-8d3a-2b9eb4ee8873",
   "metadata": {},
   "outputs": [
    {
     "data": {
      "image/png": "[encoded data removed]",
      "text/plain": [
       "<Figure size 640x480 with 1 Axes>"
      ]
     },
     "metadata": {},
     "output_type": "display_data"
    }
   ],
   "source": [
    "sel = np.logical_and.reduce([\n",
    "        tests['computer'] == 'kallisto', \n",
    "        tests['batch_write'] == 1000, \n",
    "        tests['processes'] == 1])\n",
    "sns.scatterplot(data=tests.loc[sel], x='time_interval_tag', y='runtime (min)')\n",
    "plt.xlabel('Initial and refined time sampling (s)');"
   ]
  },
  {
   "cell_type": "markdown",
   "id": "5d5e63c8-66d2-490f-9c92-dd5eb78d8658",
   "metadata": {},
   "source": [
    "**Note:** This test was also done in `Develop_ObservabilityStatusUpdate.ipynb`. \n",
    "\n",
    "**Results:**\n",
    "- As expected, a coarser time grid requires less computing time.\n",
    "- An initial time interval of 600 seconds and a refined interval of 60 seconds gives us good enough precision, as discussed in `Develop_ObservabilityStatusUpdate.ipynb`. \n",
    "- Finer grids result in an increase of computing time by a substantial factor. Therefore, we will use 600-60."
   ]
  },
  {
   "cell_type": "code",
   "execution_count": 6,
   "id": "edd2c4e6-4ab2-4d2a-a4f2-8fcafa7c43c0",
   "metadata": {},
   "outputs": [],
   "source": [
    "del tests['time_interval_tag']"
   ]
  },
  {
   "cell_type": "markdown",
   "id": "296b68e9-46d8-48d7-aa9b-ad152df764b3",
   "metadata": {},
   "source": [
    "#### Effect of number of processes"
   ]
  },
  {
   "cell_type": "code",
   "execution_count": 7,
   "id": "2f6928e2-e141-427b-b20d-ab5f8fb74b76",
   "metadata": {},
   "outputs": [
    {
     "data": {
      "image/png": "[encoded data removed]",
      "text/plain": [
       "<Figure size 640x480 with 1 Axes>"
      ]
     },
     "metadata": {},
     "output_type": "display_data"
    }
   ],
   "source": [
    "sel = np.logical_and.reduce([\n",
    "        #tests['computer'] == 'kallisto',\n",
    "        tests['time_interval_init'] == 600,\n",
    "        tests['time_interval_refine'] == 60,\n",
    "        tests['batch_write'] == 1000])\n",
    "sns.scatterplot(data=tests.loc[sel], x='processes', y='runtime (min)', hue='computer')\n",
    "plt.gca().xaxis.set_major_locator(MultipleLocator(1));"
   ]
  },
  {
   "cell_type": "markdown",
   "id": "9291cf3a-79d6-4dd7-a333-a630fd681bcc",
   "metadata": {},
   "source": [
    "**Results:**\n",
    "- Going from 1 to 2 processes almost reduces the computing time by a factor of 2 on my laptop. The time gain is substantially smaller on kallisto."
   ]
  },
  {
   "cell_type": "markdown",
   "id": "7502ad95-5ff2-4d4a-927c-8c1da780f00a",
   "metadata": {},
   "source": [
    "#### Effect of batch writing"
   ]
  },
  {
   "cell_type": "code",
   "execution_count": 8,
   "id": "493fc53e-63d8-496f-8e2a-76b5114f5b08",
   "metadata": {},
   "outputs": [
    {
     "data": {
      "image/png": "[encoded data removed]",
      "text/plain": [
       "<Figure size 640x480 with 1 Axes>"
      ]
     },
     "metadata": {},
     "output_type": "display_data"
    }
   ],
   "source": [
    "sel = np.logical_and.reduce([\n",
    "        tests['computer'] == 'kallisto',\n",
    "        tests['time_interval_init'] == 600,\n",
    "        tests['time_interval_refine'] == 60,\n",
    "        tests['processes'] == 1,\n",
    "        ])\n",
    "sns.scatterplot(data=tests.loc[sel], x='batch_write', y='runtime (min)')\n",
    "plt.gca().xaxis.set_major_locator(MultipleLocator(100));"
   ]
  },
  {
   "cell_type": "markdown",
   "id": "02d8eabe-dd51-4ce8-868a-b9c627f6164b",
   "metadata": {},
   "source": [
    "**Results:**\n",
    "- The differences in the run time are on the time scale of seconds. Therefore, the choice of `batch_write` does not have a substantial effect.\n",
    "- In this test setup the Northern and Southern field grids consist of about 1000 fields each. Therefore, with `batch_write=1000` all entries are written at the end. This explains why the runtime is than with `batch_write=500`, where about half of the entries are written half way through the calculations.\n",
    "- Concluding, to optimize runtime `batch_write` should be chosen based on the number of fields. Therefore, this should not even be a free parameter, but decided by the program. However, the over-all effect is negligible."
   ]
  },
  {
   "cell_type": "markdown",
   "id": "1eff3229-8f96-46b6-b5cc-8611c25dc162",
   "metadata": {},
   "source": [
    "### Full grid setup"
   ]
  },
  {
   "cell_type": "markdown",
   "id": "8c47ddc0-8af3-4e1b-85e4-d055b1049287",
   "metadata": {},
   "source": [
    "I ran these tests only on kallisto, because on my laptop with just one or two processes this would take too long."
   ]
  },
  {
   "cell_type": "code",
   "execution_count": 4,
   "id": "70d5567b-c7f2-4a9b-8ddb-0ecc9822e163",
   "metadata": {},
   "outputs": [],
   "source": [
    "tests = pd.read_csv('runtime_tests_5_fullgrid_kallisto.dat').rename(columns={\n",
    "                '#computer': 'computer', 'runtime_total (days)': 'runtime (days)'})\n",
    "tests['runtime (min)'] = tests['runtime (days)'] * 24 * 60"
   ]
  },
  {
   "cell_type": "markdown",
   "id": "1a020335-c230-4872-939e-23f5dab0a9a0",
   "metadata": {},
   "source": [
    "Drop all test information that does not change, group by initial and refined time interval and calculate the median runtime. Invert the order of tests to start with the most coarse initial and refinement time grid. Then calculate the fractional runtime relative to the first test setup:"
   ]
  },
  {
   "cell_type": "code",
   "execution_count": 5,
   "id": "a2ad2d00-8068-476f-89f1-94064c023582",
   "metadata": {},
   "outputs": [
    {
     "data": {
      "text/html": [
       "<div>\n",
       "<style scoped>\n",
       "    .dataframe tbody tr th:only-of-type {\n",
       "        vertical-align: middle;\n",
       "    }\n",
       "\n",
       "    .dataframe tbody tr th {\n",
       "        vertical-align: top;\n",
       "    }\n",
       "\n",
       "    .dataframe thead th {\n",
       "        text-align: right;\n",
       "    }\n",
       "</style>\n",
       "<table border=\"1\" class=\"dataframe\">\n",
       "  <thead>\n",
       "    <tr style=\"text-align: right;\">\n",
       "      <th></th>\n",
       "      <th>computer</th>\n",
       "      <th>date_start</th>\n",
       "      <th>date_stop</th>\n",
       "      <th>n_days</th>\n",
       "      <th>time_interval_init</th>\n",
       "      <th>time_interval_refine</th>\n",
       "      <th>processes</th>\n",
       "      <th>batch_write</th>\n",
       "      <th>runtime (days)</th>\n",
       "      <th>runtime (min)</th>\n",
       "    </tr>\n",
       "  </thead>\n",
       "  <tbody>\n",
       "    <tr>\n",
       "      <th>0</th>\n",
       "      <td>kallisto</td>\n",
       "      <td>2024-01-01</td>\n",
       "      <td>2024-01-02</td>\n",
       "      <td>1</td>\n",
       "      <td>600</td>\n",
       "      <td>60</td>\n",
       "      <td>10</td>\n",
       "      <td>1000</td>\n",
       "      <td>0.080516</td>\n",
       "      <td>115.943427</td>\n",
       "    </tr>\n",
       "    <tr>\n",
       "      <th>1</th>\n",
       "      <td>kallisto</td>\n",
       "      <td>2024-01-01</td>\n",
       "      <td>2024-01-02</td>\n",
       "      <td>1</td>\n",
       "      <td>600</td>\n",
       "      <td>60</td>\n",
       "      <td>10</td>\n",
       "      <td>10000</td>\n",
       "      <td>0.080422</td>\n",
       "      <td>115.807630</td>\n",
       "    </tr>\n",
       "    <tr>\n",
       "      <th>2</th>\n",
       "      <td>kallisto</td>\n",
       "      <td>2024-01-01</td>\n",
       "      <td>2024-01-02</td>\n",
       "      <td>1</td>\n",
       "      <td>600</td>\n",
       "      <td>60</td>\n",
       "      <td>10</td>\n",
       "      <td>20000</td>\n",
       "      <td>0.080257</td>\n",
       "      <td>115.569417</td>\n",
       "    </tr>\n",
       "    <tr>\n",
       "      <th>3</th>\n",
       "      <td>kallisto</td>\n",
       "      <td>2024-01-01</td>\n",
       "      <td>2024-01-02</td>\n",
       "      <td>1</td>\n",
       "      <td>600</td>\n",
       "      <td>60</td>\n",
       "      <td>20</td>\n",
       "      <td>1000</td>\n",
       "      <td>0.077914</td>\n",
       "      <td>112.196191</td>\n",
       "    </tr>\n",
       "    <tr>\n",
       "      <th>4</th>\n",
       "      <td>kallisto</td>\n",
       "      <td>2024-01-01</td>\n",
       "      <td>2024-01-02</td>\n",
       "      <td>1</td>\n",
       "      <td>600</td>\n",
       "      <td>60</td>\n",
       "      <td>20</td>\n",
       "      <td>10000</td>\n",
       "      <td>0.078248</td>\n",
       "      <td>112.677677</td>\n",
       "    </tr>\n",
       "    <tr>\n",
       "      <th>5</th>\n",
       "      <td>kallisto</td>\n",
       "      <td>2024-01-01</td>\n",
       "      <td>2024-01-02</td>\n",
       "      <td>1</td>\n",
       "      <td>600</td>\n",
       "      <td>60</td>\n",
       "      <td>20</td>\n",
       "      <td>20000</td>\n",
       "      <td>0.078485</td>\n",
       "      <td>113.018578</td>\n",
       "    </tr>\n",
       "  </tbody>\n",
       "</table>\n",
       "</div>"
      ],
      "text/plain": [
       "   computer  date_start   date_stop  n_days  time_interval_init  \\\n",
       "0  kallisto  2024-01-01  2024-01-02       1                 600   \n",
       "1  kallisto  2024-01-01  2024-01-02       1                 600   \n",
       "2  kallisto  2024-01-01  2024-01-02       1                 600   \n",
       "3  kallisto  2024-01-01  2024-01-02       1                 600   \n",
       "4  kallisto  2024-01-01  2024-01-02       1                 600   \n",
       "5  kallisto  2024-01-01  2024-01-02       1                 600   \n",
       "\n",
       "   time_interval_refine  processes  batch_write  runtime (days)  runtime (min)  \n",
       "0                    60         10         1000        0.080516     115.943427  \n",
       "1                    60         10        10000        0.080422     115.807630  \n",
       "2                    60         10        20000        0.080257     115.569417  \n",
       "3                    60         20         1000        0.077914     112.196191  \n",
       "4                    60         20        10000        0.078248     112.677677  \n",
       "5                    60         20        20000        0.078485     113.018578  "
      ]
     },
     "execution_count": 5,
     "metadata": {},
     "output_type": "execute_result"
    }
   ],
   "source": [
    "tests = tests.groupby(by=['computer', 'date_start', 'date_stop', 'n_days', 'time_interval_init', 'time_interval_refine', 'processes', 'batch_write']).median().reset_index()\n",
    "tests.drop(columns=['test_id'], inplace=True)\n",
    "tests"
   ]
  },
  {
   "cell_type": "markdown",
   "id": "c13db084-a94b-4aec-a23e-5b7209088043",
   "metadata": {},
   "source": [
    "#### Effect of number of processes"
   ]
  },
  {
   "cell_type": "code",
   "execution_count": 6,
   "id": "18659f9c-28cc-43db-aabd-f60073b72abc",
   "metadata": {},
   "outputs": [
    {
     "data": {
      "image/png": "[encoded data removed]",
      "text/plain": [
       "<Figure size 640x480 with 1 Axes>"
      ]
     },
     "metadata": {},
     "output_type": "display_data"
    }
   ],
   "source": [
    "sel = tests['batch_write'] == 20000\n",
    "sns.scatterplot(data=tests.loc[sel], x='processes', y='runtime (min)')\n",
    "plt.gca().xaxis.set_major_locator(MultipleLocator(10));"
   ]
  },
  {
   "cell_type": "markdown",
   "id": "7f33eb6d-577c-49e5-be1d-5e72e0e79632",
   "metadata": {},
   "source": [
    "#### Effect of batch writing"
   ]
  },
  {
   "cell_type": "code",
   "execution_count": 7,
   "id": "fa8390fe-ee75-4fed-a6f7-93996c5ef150",
   "metadata": {},
   "outputs": [
    {
     "data": {
      "image/png": "[encoded data removed]",
      "text/plain": [
       "<Figure size 640x480 with 1 Axes>"
      ]
     },
     "metadata": {},
     "output_type": "display_data"
    }
   ],
   "source": [
    "sel = tests['processes'] == 10\n",
    "sns.scatterplot(data=tests.loc[sel], x='batch_write', y='runtime (min)')\n",
    "plt.gca().xaxis.set_major_locator(MultipleLocator(5000));"
   ]
  },
  {
   "cell_type": "markdown",
   "id": "aa4633b0-b40a-42cc-8a60-7664558f65d0",
   "metadata": {},
   "source": [
    "**Results:**\n",
    "- The differences in the run time are on the time scale of less than a minute. Therefore, the choice of `batch_write` does not have a substantial effect.\n",
    "- In this full grid setup the Northern and Southern field grids consist of about 83000 nd 61000 fields. Therefore, I am not reaching the optimization limit as it was the case above. "
   ]
  },
  {
   "cell_type": "code",
   "execution_count": null,
   "id": "b938ca6d-115f-4d12-826c-d5b6aa97c89a",
   "metadata": {},
   "outputs": [],
   "source": []
  }
 ],
 "metadata": {
  "kernelspec": {
   "display_name": "Python 3 (ipykernel)",
   "language": "python",
   "name": "python3"
  },
  "language_info": {
   "codemirror_mode": {
    "name": "ipython",
    "version": 3
   },
   "file_extension": ".py",
   "mimetype": "text/x-python",
   "name": "python",
   "nbconvert_exporter": "python",
   "pygments_lexer": "ipython3",
   "version": "3.9.18"
  },
  "toc-autonumbering": true,
  "toc-showtags": false
 },
 "nbformat": 4,
 "nbformat_minor": 5
}

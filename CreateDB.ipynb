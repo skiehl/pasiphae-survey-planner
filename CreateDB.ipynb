{
 "cells": [
  {
   "cell_type": "markdown",
   "id": "c37a41d1-3dd3-4b61-903c-e96f5e230cb6",
   "metadata": {},
   "source": [
    "# Create surveyplanner database"
   ]
  },
  {
   "cell_type": "code",
   "execution_count": null,
   "id": "5da0cd25-a5ab-4e93-968f-41cfdef30f74",
   "metadata": {},
   "outputs": [],
   "source": [
    "from astropy.coordinates import Angle\n",
    "import astropy.units as u\n",
    "import numpy as np\n",
    "from pandas import DataFrame\n",
    "\n",
    "import constraints as c\n",
    "from db import DBCreator, FieldManager\n",
    "from fieldgrid import FieldGridIsoLat"
   ]
  },
  {
   "cell_type": "markdown",
   "id": "aab990f8-1cb0-43be-8def-cd18057b6377",
   "metadata": {},
   "source": [
    "## Pasiphae survey database"
   ]
  },
  {
   "cell_type": "markdown",
   "id": "8211d752-2480-4875-90a5-f01515679add",
   "metadata": {},
   "source": [
    "Create database:"
   ]
  },
  {
   "cell_type": "code",
   "execution_count": 2,
   "id": "b5b6d23b-5967-4a6f-a352-ab502ff5cc98",
   "metadata": {
    "slideshow": {
     "slide_type": "fragment"
    },
    "tags": []
   },
   "outputs": [
    {
     "name": "stdin",
     "output_type": "stream",
     "text": [
      "Database file exists. Overwrite (y) or cancel (enter)? y\n"
     ]
    },
    {
     "name": "stdout",
     "output_type": "stream",
     "text": [
      "Database 'test_strategy_init.sqlite3' created.\n",
      "Table 'Fields' created.\n",
      "Table 'Telescopes' created.\n",
      "Table 'ParameterSets' created.\n",
      "Table 'Constraints' created.\n",
      "Table 'Parameters' created.\n",
      "Table 'ParameterNames' created.\n",
      "Table 'Observability' created.\n",
      "Table 'ObservabilityStatus' created.\n",
      "Table 'ObsWindows' created.\n",
      "Table 'TimeRanges' created.\n",
      "Table 'Observations' created.\n",
      "Table 'Guidestars' created.\n",
      "Table 'Filters' created.\n",
      "View 'FieldsObs' created.\n",
      "View 'Observable' created.\n",
      "Constraints added to table 'Constraints'.\n",
      "Statuses added to table 'ObservabilityStatus'.\n",
      "Database creation finished.\n",
      "\n",
      "Note: Next you need to add observatories, constraints, fields, guidestars, and observations.\n"
     ]
    }
   ],
   "source": [
    "db_name = 'test_strategy_init.sqlite3'\n",
    "db = DBCreator(db_name)\n",
    "created = db.create()"
   ]
  },
  {
   "cell_type": "markdown",
   "id": "45ca1d4a-d846-4c8f-a97a-f16e33ea4257",
   "metadata": {},
   "source": [
    "Add observatories:"
   ]
  },
  {
   "cell_type": "code",
   "execution_count": 3,
   "id": "f579cda0-660a-4ccc-b4f7-dce0434054d4",
   "metadata": {},
   "outputs": [
    {
     "name": "stdout",
     "output_type": "stream",
     "text": [
      "Telescope 'Skinakas' added.\n"
     ]
    }
   ],
   "source": [
    "if created:\n",
    "    name = 'Skinakas'\n",
    "    lat = Angle('35:12:43 deg')\n",
    "    lon = Angle('24:53:57 deg')\n",
    "    height = 1750.\n",
    "    utc_offset = 2.\n",
    "    db.add_telescope(name, lat.rad, lon.rad, height, utc_offset)"
   ]
  },
  {
   "cell_type": "code",
   "execution_count": 4,
   "id": "5356ff21-6a08-481e-919a-47b224c2a366",
   "metadata": {
    "slideshow": {
     "slide_type": "fragment"
    },
    "tags": []
   },
   "outputs": [
    {
     "name": "stdout",
     "output_type": "stream",
     "text": [
      "Telescope 'SAAO' added.\n"
     ]
    }
   ],
   "source": [
    "if created:\n",
    "    name = 'SAAO'\n",
    "    lat = Angle('-32:22:46 deg')\n",
    "    lon = Angle('20:48:38.5 deg')\n",
    "    height = 1798.\n",
    "    utc_offset = 2.\n",
    "    db.add_telescope(name, lat.rad, lon.rad, height, utc_offset)"
   ]
  },
  {
   "cell_type": "markdown",
   "id": "d316492a-7997-4941-9110-3ae21049d068",
   "metadata": {},
   "source": [
    "Add constraints:"
   ]
  },
  {
   "cell_type": "code",
   "execution_count": 5,
   "id": "8fa19801-121f-4409-9943-ce250cfa5a9e",
   "metadata": {
    "slideshow": {
     "slide_type": "fragment"
    },
    "tags": []
   },
   "outputs": [
    {
     "name": "stdout",
     "output_type": "stream",
     "text": [
      "Constraint 'AirmassLimit' for telescope 'Skinakas'.\n",
      "Constraint 'HourangleLimit' for telescope 'Skinakas'.\n",
      "Constraint 'MoonDistance' for telescope 'Skinakas'.\n",
      "Constraint 'AirmassLimit' for telescope 'SAAO'.\n",
      "Constraint 'MoonDistance' for telescope 'SAAO'.\n",
      "Constraint 'PolyHADecLimit' for telescope 'SAAO'.\n"
     ]
    }
   ],
   "source": [
    "if created:\n",
    "    # general limits:\n",
    "    twilight = 'nautical'\n",
    "    airmass_limit = c.AirmassLimit(2.)\n",
    "    moon_distance = c.MoonDistance(10.)\n",
    "    \n",
    "    # Skinakas specific limits:\n",
    "    hourangle_limit = c.HourangleLimit(5.33)\n",
    "    \n",
    "    # SAAO specific limits:\n",
    "    polygon_ha = [-4, -4, 0.8, 0.8, 1.7, 2.4, 3.2, 2.8]\n",
    "    polygon_dec = [0.1, -52, -65, -85, -74.5, -70.0, -60, 0.1]\n",
    "    ha_dec_limit = c.PolyHADecLimit(polygon_ha, polygon_dec)\n",
    "    \n",
    "    db.add_constraints('Skinakas', twilight, constraints=(airmass_limit, hourangle_limit, moon_distance))\n",
    "    db.add_constraints('SAAO', twilight, constraints=(airmass_limit, moon_distance, ha_dec_limit))"
   ]
  },
  {
   "cell_type": "markdown",
   "id": "c9651903-fa29-43f8-b567-d28c8fe175e3",
   "metadata": {},
   "source": [
    "Add Northern fields:"
   ]
  },
  {
   "cell_type": "code",
   "execution_count": null,
   "id": "4235dce8-b23c-4dca-aebb-4f1328f76e3c",
   "metadata": {},
   "outputs": [
    {
     "name": "stdout",
     "output_type": "stream",
     "text": [
      "Create fields..\n",
      "  Calculate field centers..\n",
      "  Calculate field corners..\n",
      "    Done                                                    \n",
      "  Identify fields in Galactic plane..\n",
      "Final number of fields: 83685\n"
     ]
    },
    {
     "ename": "AttributeError",
     "evalue": "'FieldGridIsoLat' object has no attribute 'save_params'",
     "output_type": "error",
     "traceback": [
      "\u001b[0;31m---------------------------------------------------------------------------\u001b[0m",
      "\u001b[0;31mAttributeError\u001b[0m                            Traceback (most recent call last)",
      "Cell \u001b[0;32mIn[2], line 14\u001b[0m\n\u001b[1;32m      9\u001b[0m verbose \u001b[38;5;241m=\u001b[39m \u001b[38;5;241m1\u001b[39m\n\u001b[1;32m     11\u001b[0m grid \u001b[38;5;241m=\u001b[39m FieldGridIsoLat(\n\u001b[1;32m     12\u001b[0m         fov\u001b[38;5;241m.\u001b[39mrad, overlap_ns\u001b[38;5;241m=\u001b[39moverlap_ns\u001b[38;5;241m.\u001b[39mrad, overlap_ew\u001b[38;5;241m=\u001b[39moverlap_ew\u001b[38;5;241m.\u001b[39mrad, tilt\u001b[38;5;241m=\u001b[39mtilt\u001b[38;5;241m.\u001b[39mrad, dec_lim_north\u001b[38;5;241m=\u001b[39mdec_lim_north\u001b[38;5;241m.\u001b[39mrad, \n\u001b[1;32m     13\u001b[0m         dec_lim_south\u001b[38;5;241m=\u001b[39mdec_lim_south\u001b[38;5;241m.\u001b[39mrad, gal_lat_lim\u001b[38;5;241m=\u001b[39mgal_lat_lim\u001b[38;5;241m.\u001b[39mrad, gal_lat_lim_strict\u001b[38;5;241m=\u001b[39mgal_lat_lim_strict, verbose\u001b[38;5;241m=\u001b[39mverbose)\n\u001b[0;32m---> 14\u001b[0m \u001b[43mgrid\u001b[49m\u001b[38;5;241;43m.\u001b[39;49m\u001b[43msave_params\u001b[49m(\u001b[38;5;124m'\u001b[39m\u001b[38;5;124mgrid_pasiphae_n.json\u001b[39m\u001b[38;5;124m'\u001b[39m)\n",
      "\u001b[0;31mAttributeError\u001b[0m: 'FieldGridIsoLat' object has no attribute 'save_params'"
     ]
    }
   ],
   "source": [
    "fov = Angle(30 * u.arcmin)\n",
    "overlap_ns = Angle(fov / 2.)\n",
    "overlap_ew = Angle(10 * u.arcsec)\n",
    "tilt = Angle(0 * u.deg)\n",
    "dec_lim_north = Angle(90 * u.deg)\n",
    "dec_lim_south = Angle(0 * u.deg)\n",
    "gal_lat_lim = Angle(30 * u.deg)\n",
    "gal_lat_lim_strict = True\n",
    "verbose = 1\n",
    "\n",
    "grid = FieldGridIsoLat(\n",
    "        fov.rad, overlap_ns=overlap_ns.rad, overlap_ew=overlap_ew.rad, tilt=tilt.rad, dec_lim_north=dec_lim_north.rad, \n",
    "        dec_lim_south=dec_lim_south.rad, gal_lat_lim=gal_lat_lim.rad, gal_lat_lim_strict=gal_lat_lim_strict, verbose=verbose)"
   ]
  },
  {
   "cell_type": "code",
   "execution_count": 7,
   "id": "1ca20a86-4b21-40f7-83d4-9b98d2f68a72",
   "metadata": {
    "slideshow": {
     "slide_type": "fragment"
    },
    "tags": []
   },
   "outputs": [
    {
     "name": "stdout",
     "output_type": "stream",
     "text": [
      "83685 fields added to database.                   \n"
     ]
    }
   ],
   "source": [
    "if created:\n",
    "    db.add_fields(grid, 'Skinakas', active=True)"
   ]
  },
  {
   "cell_type": "markdown",
   "id": "a9cb16fb-83c6-403c-8c73-1c6a66674dbd",
   "metadata": {},
   "source": [
    "Add Southern fields:"
   ]
  },
  {
   "cell_type": "code",
   "execution_count": 8,
   "id": "14edb35e-f647-4547-8a4d-0980504301f3",
   "metadata": {},
   "outputs": [
    {
     "name": "stdout",
     "output_type": "stream",
     "text": [
      "Create fields..\n",
      "  Calculate field centers..\n",
      "  Calculate field corners..\n",
      "    Done                                                    \n",
      "  Identify fields in Galactic plane..\n",
      "Final number of fields: 61630\n"
     ]
    }
   ],
   "source": [
    "fov = Angle(35 * u.arcmin)\n",
    "overlap_ns = Angle(fov / 2.)\n",
    "overlap_ew = Angle(10 * u.arcsec)\n",
    "tilt = Angle(0 * u.deg)\n",
    "dec_lim_north = Angle(0 * u.deg)\n",
    "dec_lim_south = Angle(-90 * u.deg)\n",
    "gal_lat_lim = Angle(30 * u.deg)\n",
    "gal_lat_lim_strict = True\n",
    "verbose = 1\n",
    "\n",
    "grid = FieldGridIsoLat(\n",
    "        fov.rad, overlap_ns=overlap_ns.rad, overlap_ew=overlap_ew.rad, tilt=tilt.rad, dec_lim_north=dec_lim_north.rad, \n",
    "        dec_lim_south=dec_lim_south.rad, gal_lat_lim=gal_lat_lim.rad, gal_lat_lim_strict=gal_lat_lim_strict, verbose=verbose)"
   ]
  },
  {
   "cell_type": "code",
   "execution_count": 9,
   "id": "ce9b287b-af41-494f-b729-1b0508bc340f",
   "metadata": {
    "slideshow": {
     "slide_type": "fragment"
    },
    "tags": []
   },
   "outputs": [
    {
     "name": "stdout",
     "output_type": "stream",
     "text": [
      "61630 fields added to database.                   \n"
     ]
    }
   ],
   "source": [
    "if created:\n",
    "    db.add_fields(grid, 'SAAO', active=True)"
   ]
  },
  {
   "cell_type": "markdown",
   "id": "09eec2da-d6e9-47f9-b5e7-c3cb6190abbd",
   "metadata": {},
   "source": [
    "Add guide stars. For a simple demonstration we will add a fake guidestar to each field at the field center with a magnitude of 6:"
   ]
  },
  {
   "cell_type": "code",
   "execution_count": 10,
   "id": "687c7c6f-3a39-4f09-a7b9-854819939754",
   "metadata": {},
   "outputs": [
    {
     "name": "stdout",
     "output_type": "stream",
     "text": [
      "145315 new guidestars added to database.           \n",
      "Checking for fields missing guidestars..\n",
      "All fields have at least one guidestar associated.\n"
     ]
    }
   ],
   "source": [
    "if created:\n",
    "    # get field IDs and center coordinates:\n",
    "    manager = FieldManager(db_name)\n",
    "    fields = DataFrame(manager.get_fields())\n",
    "    \n",
    "    # add fake guide stars:\n",
    "    db.add_guidestars(\n",
    "            fields['field_id'].to_numpy(), fields['center_ra'].to_numpy(), fields['center_dec'].to_numpy(), \n",
    "            np.ones(len(fields))*6, warn_missing=True)\n",
    "    del fields"
   ]
  },
  {
   "cell_type": "markdown",
   "id": "b731a296-40e6-4bba-8831-7aa69829c31d",
   "metadata": {},
   "source": [
    "Add observations. We add the same observation to each field:"
   ]
  },
  {
   "cell_type": "code",
   "execution_count": 11,
   "id": "3692a054-d1eb-47ac-9dce-4e91cecf0b28",
   "metadata": {},
   "outputs": [
    {
     "name": "stdout",
     "output_type": "stream",
     "text": [
      "Adding observations 0-999 of 145315 (0.0%).."
     ]
    },
    {
     "name": "stdin",
     "output_type": "stream",
     "text": [
      "Filter 'r does not exist. Add it to data base? (y/n) y\n"
     ]
    },
    {
     "name": "stdout",
     "output_type": "stream",
     "text": [
      "145315 observation(s) added to data base.                 \n"
     ]
    }
   ],
   "source": [
    "db.add_observations(75., 2, 'r', check_for_duplicates=False)"
   ]
  },
  {
   "cell_type": "code",
   "execution_count": 12,
   "id": "516c7656-d183-44ae-9a1c-ba79146f7322",
   "metadata": {},
   "outputs": [
    {
     "name": "stdout",
     "output_type": "stream",
     "text": [
      "======= STORED IN DATABASE ========\n",
      "Telescopes:                       2\n",
      "Constraints telescope 1:          4\n",
      "Constraints telescope 2:          4\n",
      "-----------------------------------\n",
      "Fields total:                145315\n",
      "Fields telescope 1:           83685\n",
      "Fields telescope 2:           61630\n",
      "-----------------------------------\n",
      "Observations:                145315\n",
      "Pending observations:        145315\n",
      "Fields w/o observations:          0\n",
      "-----------------------------------\n",
      "Guidestars:                  145315\n",
      "Fields w/o guidestars:            0\n",
      "-----------------------------------\n",
      "\n"
     ]
    }
   ],
   "source": [
    "db.dbstatus();"
   ]
  },
  {
   "cell_type": "markdown",
   "id": "9d4df1ea-12b7-49bf-82a6-10b21ec82fd7",
   "metadata": {},
   "source": [
    "## Test database with Pasiphae constraints"
   ]
  },
  {
   "cell_type": "markdown",
   "id": "f620ba94-accc-4443-a3d3-62e5c5d578e4",
   "metadata": {},
   "source": [
    "Create database:"
   ]
  },
  {
   "cell_type": "code",
   "execution_count": 13,
   "id": "8ca9e08a-a139-46cd-a1ef-a07f81beebb2",
   "metadata": {
    "slideshow": {
     "slide_type": "fragment"
    },
    "tags": []
   },
   "outputs": [
    {
     "name": "stdin",
     "output_type": "stream",
     "text": [
      "Database file exists. Overwrite (y) or cancel (enter)? y\n"
     ]
    },
    {
     "name": "stdout",
     "output_type": "stream",
     "text": [
      "Database 'test_planner_init.sqlite3' created.\n",
      "Table 'Fields' created.\n",
      "Table 'Telescopes' created.\n",
      "Table 'ParameterSets' created.\n",
      "Table 'Constraints' created.\n",
      "Table 'Parameters' created.\n",
      "Table 'ParameterNames' created.\n",
      "Table 'Observability' created.\n",
      "Table 'ObservabilityStatus' created.\n",
      "Table 'ObsWindows' created.\n",
      "Table 'TimeRanges' created.\n",
      "Table 'Observations' created.\n",
      "Table 'Guidestars' created.\n",
      "Table 'Filters' created.\n",
      "View 'FieldsObs' created.\n",
      "View 'Observable' created.\n",
      "Constraints added to table 'Constraints'.\n",
      "Statuses added to table 'ObservabilityStatus'.\n",
      "Database creation finished.\n",
      "\n",
      "Note: Next you need to add observatories, constraints, fields, guidestars, and observations.\n"
     ]
    }
   ],
   "source": [
    "db_name = 'test_planner_init.sqlite3'\n",
    "db = DBCreator(db_name)\n",
    "created = db.create()"
   ]
  },
  {
   "cell_type": "markdown",
   "id": "96ae147d-9f8d-4cf2-a596-bf727c74ff30",
   "metadata": {},
   "source": [
    "Add observatories:"
   ]
  },
  {
   "cell_type": "code",
   "execution_count": 14,
   "id": "915add75-7655-405e-9bbc-4cd488cff981",
   "metadata": {},
   "outputs": [
    {
     "name": "stdout",
     "output_type": "stream",
     "text": [
      "Telescope 'Skinakas' added.\n"
     ]
    }
   ],
   "source": [
    "if created:\n",
    "    name = 'Skinakas'\n",
    "    lat = Angle('35:12:43 deg')\n",
    "    lon = Angle('24:53:57 deg')\n",
    "    height = 1750.\n",
    "    utc_offset = 2.\n",
    "    db.add_telescope(name, lat.rad, lon.rad, height, utc_offset)"
   ]
  },
  {
   "cell_type": "code",
   "execution_count": 15,
   "id": "adfdad76-c573-46af-afdf-4af0f3c9ecf8",
   "metadata": {
    "slideshow": {
     "slide_type": "fragment"
    },
    "tags": []
   },
   "outputs": [
    {
     "name": "stdout",
     "output_type": "stream",
     "text": [
      "Telescope 'SAAO' added.\n"
     ]
    }
   ],
   "source": [
    "if created:\n",
    "    name = 'SAAO'\n",
    "    lat = Angle('-32:22:46 deg')\n",
    "    lon = Angle('20:48:38.5 deg')\n",
    "    height = 1798.\n",
    "    utc_offset = 2.\n",
    "    db.add_telescope(name, lat.rad, lon.rad, height, utc_offset)"
   ]
  },
  {
   "cell_type": "markdown",
   "id": "39c53ced-22c8-4faf-a14a-ba2f4d07573c",
   "metadata": {},
   "source": [
    "Add constraints:"
   ]
  },
  {
   "cell_type": "code",
   "execution_count": 16,
   "id": "69527761-0634-4ab0-ac95-2c15cffac66e",
   "metadata": {
    "slideshow": {
     "slide_type": "fragment"
    },
    "tags": []
   },
   "outputs": [
    {
     "name": "stdout",
     "output_type": "stream",
     "text": [
      "Constraint 'AirmassLimit' for telescope 'Skinakas'.\n",
      "Constraint 'HourangleLimit' for telescope 'Skinakas'.\n",
      "Constraint 'MoonDistance' for telescope 'Skinakas'.\n",
      "Constraint 'AirmassLimit' for telescope 'SAAO'.\n",
      "Constraint 'MoonDistance' for telescope 'SAAO'.\n",
      "Constraint 'PolyHADecLimit' for telescope 'SAAO'.\n"
     ]
    }
   ],
   "source": [
    "if created:\n",
    "    # general limits:\n",
    "    twilight = 'nautical'\n",
    "    airmass_limit = c.AirmassLimit(2.)\n",
    "    moon_distance = c.MoonDistance(10.)\n",
    "    \n",
    "    # Skinakas specific limits:\n",
    "    hourangle_limit = c.HourangleLimit(5.33)\n",
    "    \n",
    "    # SAAO specific limits:\n",
    "    polygon_ha = [-4, -4, 0.8, 0.8, 1.7, 2.4, 3.2, 2.8]\n",
    "    polygon_dec = [0.1, -52, -65, -85, -74.5, -70.0, -60, 0.1]\n",
    "    ha_dec_limit = c.PolyHADecLimit(polygon_ha, polygon_dec)\n",
    "    \n",
    "    db.add_constraints('Skinakas', twilight, constraints=(airmass_limit, hourangle_limit, moon_distance))\n",
    "    db.add_constraints('SAAO', twilight, constraints=(airmass_limit, moon_distance, ha_dec_limit))"
   ]
  },
  {
   "cell_type": "markdown",
   "id": "53dc8574-e621-4165-b827-08f1576bc566",
   "metadata": {},
   "source": [
    "Add Northern fields:"
   ]
  },
  {
   "cell_type": "code",
   "execution_count": 17,
   "id": "f7162a7d-b159-423b-af3e-8feb70c457cb",
   "metadata": {},
   "outputs": [
    {
     "name": "stdout",
     "output_type": "stream",
     "text": [
      "Create fields..\n",
      "  Calculate field centers..\n",
      "  Calculate field corners..\n",
      "    Done                                                    \n",
      "  Identify fields in Galactic plane..\n",
      "Final number of fields: 1097\n"
     ]
    }
   ],
   "source": [
    "fov = Angle(5 * u.deg)\n",
    "overlap_ns = Angle(fov / 2.)\n",
    "overlap_ew = Angle(1 * u.deg)\n",
    "tilt = Angle(0 * u.deg)\n",
    "dec_lim_north = Angle(90 * u.deg)\n",
    "dec_lim_south = Angle(0 * u.deg)\n",
    "gal_lat_lim = Angle(30 * u.deg)\n",
    "gal_lat_lim_strict = True\n",
    "verbose = 1\n",
    "\n",
    "grid = FieldGridIsoLat(\n",
    "        fov.rad, overlap_ns=overlap_ns.rad, overlap_ew=overlap_ew.rad, tilt=tilt.rad, dec_lim_north=dec_lim_north.rad, \n",
    "        dec_lim_south=dec_lim_south.rad, gal_lat_lim=gal_lat_lim.rad, gal_lat_lim_strict=gal_lat_lim_strict, verbose=verbose)"
   ]
  },
  {
   "cell_type": "code",
   "execution_count": 18,
   "id": "94130189-d6f4-4847-843c-6891e0fa8523",
   "metadata": {
    "slideshow": {
     "slide_type": "fragment"
    },
    "tags": []
   },
   "outputs": [
    {
     "name": "stdout",
     "output_type": "stream",
     "text": [
      "1097 fields added to database.                   \n"
     ]
    }
   ],
   "source": [
    "if created:\n",
    "    db.add_fields(grid, 'Skinakas', active=True)"
   ]
  },
  {
   "cell_type": "markdown",
   "id": "6a608006-8f54-4bc8-bd13-2f531d5c1454",
   "metadata": {},
   "source": [
    "Add Southern fields:"
   ]
  },
  {
   "cell_type": "code",
   "execution_count": 19,
   "id": "2ff0f189-7d74-4419-bc90-6341b0c3bdc3",
   "metadata": {},
   "outputs": [
    {
     "name": "stdout",
     "output_type": "stream",
     "text": [
      "Create fields..\n",
      "  Calculate field centers..\n",
      "  Calculate field corners..\n",
      "    Done                                                    \n",
      "  Identify fields in Galactic plane..\n",
      "Final number of fields: 547\n"
     ]
    }
   ],
   "source": [
    "fov = Angle(7 * u.deg)\n",
    "overlap_ns = Angle(fov / 2.)\n",
    "overlap_ew = Angle(1 * u.deg)\n",
    "tilt = Angle(0 * u.deg)\n",
    "dec_lim_north = Angle(0 * u.deg)\n",
    "dec_lim_south = Angle(-90 * u.deg)\n",
    "gal_lat_lim = Angle(30 * u.deg)\n",
    "gal_lat_lim_strict = True\n",
    "verbose = 1\n",
    "\n",
    "grid = FieldGridIsoLat(\n",
    "        fov.rad, overlap_ns=overlap_ns.rad, overlap_ew=overlap_ew.rad, tilt=tilt.rad, dec_lim_north=dec_lim_north.rad, \n",
    "        dec_lim_south=dec_lim_south.rad, gal_lat_lim=gal_lat_lim.rad, gal_lat_lim_strict=gal_lat_lim_strict, verbose=verbose)"
   ]
  },
  {
   "cell_type": "code",
   "execution_count": 20,
   "id": "acabe655-d1c0-40a0-a67d-171d8d60fdba",
   "metadata": {
    "slideshow": {
     "slide_type": "fragment"
    },
    "tags": []
   },
   "outputs": [
    {
     "name": "stdout",
     "output_type": "stream",
     "text": [
      "547 fields added to database.                   \n"
     ]
    }
   ],
   "source": [
    "if created:\n",
    "    db.add_fields(grid, 'SAAO', active=True)"
   ]
  },
  {
   "cell_type": "markdown",
   "id": "4c11dc43-880f-4784-ad95-9b0f1832a303",
   "metadata": {},
   "source": [
    "Add guide stars. For a simple demonstration we will add a fake guidestar to each field at the field center with a magnitude of 6:"
   ]
  },
  {
   "cell_type": "code",
   "execution_count": 21,
   "id": "6d8eef6c-e697-40ad-8d61-09524acc7042",
   "metadata": {},
   "outputs": [
    {
     "name": "stdout",
     "output_type": "stream",
     "text": [
      "1644 new guidestars added to database.           \n",
      "Checking for fields missing guidestars..\n",
      "All fields have at least one guidestar associated.\n"
     ]
    }
   ],
   "source": [
    "if created:\n",
    "    # get field IDs and center coordinates:\n",
    "    manager = FieldManager(db_name)\n",
    "    fields = DataFrame(manager.get_fields())\n",
    "    \n",
    "    # add fake guide stars:\n",
    "    db.add_guidestars(\n",
    "            fields['field_id'].to_numpy(), fields['center_ra'].to_numpy(), fields['center_dec'].to_numpy(), \n",
    "            np.ones(len(fields))*6, warn_missing=True)\n",
    "    del fields"
   ]
  },
  {
   "cell_type": "markdown",
   "id": "6cec01fe-165c-4455-aeba-ed8a2a719a05",
   "metadata": {},
   "source": [
    "Add observations. We add the same observation to each field:"
   ]
  },
  {
   "cell_type": "code",
   "execution_count": 22,
   "id": "31de4595-6474-44e2-8414-93848a3aa8e6",
   "metadata": {},
   "outputs": [
    {
     "name": "stdout",
     "output_type": "stream",
     "text": [
      "Adding observations 0-999 of 1644 (0.0%).."
     ]
    },
    {
     "name": "stdin",
     "output_type": "stream",
     "text": [
      "Filter 'r does not exist. Add it to data base? (y/n) y\n"
     ]
    },
    {
     "name": "stdout",
     "output_type": "stream",
     "text": [
      "1644 observation(s) added to data base.                 \n"
     ]
    }
   ],
   "source": [
    "db.add_observations(75., 2, 'r', check_for_duplicates=False)"
   ]
  },
  {
   "cell_type": "code",
   "execution_count": 23,
   "id": "51fe201f-7599-445b-97e0-d5b976d96f4c",
   "metadata": {},
   "outputs": [
    {
     "name": "stdout",
     "output_type": "stream",
     "text": [
      "======= STORED IN DATABASE ========\n",
      "Telescopes:                       2\n",
      "Constraints telescope 1:          4\n",
      "Constraints telescope 2:          4\n",
      "-----------------------------------\n",
      "Fields total:                  1644\n",
      "Fields telescope 1:            1097\n",
      "Fields telescope 2:             547\n",
      "-----------------------------------\n",
      "Observations:                  1644\n",
      "Pending observations:          1644\n",
      "Fields w/o observations:          0\n",
      "-----------------------------------\n",
      "Guidestars:                    1644\n",
      "Fields w/o guidestars:            0\n",
      "-----------------------------------\n",
      "\n"
     ]
    }
   ],
   "source": [
    "db.dbstatus();"
   ]
  },
  {
   "cell_type": "markdown",
   "id": "9bbc258d-649b-41a9-8de8-167280ea51bc",
   "metadata": {},
   "source": [
    "## Test database with minimum constraints"
   ]
  },
  {
   "cell_type": "markdown",
   "id": "faf42792-73bd-4203-a1b5-5000370d2de7",
   "metadata": {},
   "source": [
    "Create database:"
   ]
  },
  {
   "cell_type": "code",
   "execution_count": 24,
   "id": "4466bbe7-24a1-41a5-ac2c-1b5752cdd9aa",
   "metadata": {
    "slideshow": {
     "slide_type": "fragment"
    },
    "tags": []
   },
   "outputs": [
    {
     "name": "stdin",
     "output_type": "stream",
     "text": [
      "Database file exists. Overwrite (y) or cancel (enter)? y\n"
     ]
    },
    {
     "name": "stdout",
     "output_type": "stream",
     "text": [
      "Database 'test_planner_min_constr_init.sqlite3' created.\n",
      "Table 'Fields' created.\n",
      "Table 'Telescopes' created.\n",
      "Table 'ParameterSets' created.\n",
      "Table 'Constraints' created.\n",
      "Table 'Parameters' created.\n",
      "Table 'ParameterNames' created.\n",
      "Table 'Observability' created.\n",
      "Table 'ObservabilityStatus' created.\n",
      "Table 'ObsWindows' created.\n",
      "Table 'TimeRanges' created.\n",
      "Table 'Observations' created.\n",
      "Table 'Guidestars' created.\n",
      "Table 'Filters' created.\n",
      "View 'FieldsObs' created.\n",
      "View 'Observable' created.\n",
      "Constraints added to table 'Constraints'.\n",
      "Statuses added to table 'ObservabilityStatus'.\n",
      "Database creation finished.\n",
      "\n",
      "Note: Next you need to add observatories, constraints, fields, guidestars, and observations.\n"
     ]
    }
   ],
   "source": [
    "db_name = 'test_planner_min_constr_init.sqlite3'\n",
    "db = DBCreator(db_name)\n",
    "created = db.create()"
   ]
  },
  {
   "cell_type": "markdown",
   "id": "f956bd39-a3d3-4654-8b8f-33b66673b009",
   "metadata": {},
   "source": [
    "Add observatories:"
   ]
  },
  {
   "cell_type": "code",
   "execution_count": 25,
   "id": "18e7fe81-81f1-4c15-9184-6cd303427207",
   "metadata": {},
   "outputs": [
    {
     "name": "stdout",
     "output_type": "stream",
     "text": [
      "Telescope 'Skinakas' added.\n"
     ]
    }
   ],
   "source": [
    "if created:\n",
    "    name = 'Skinakas'\n",
    "    lat = Angle('35:12:43 deg')\n",
    "    lon = Angle('24:53:57 deg')\n",
    "    height = 1750.\n",
    "    utc_offset = 2.\n",
    "    db.add_telescope(name, lat.rad, lon.rad, height, utc_offset)"
   ]
  },
  {
   "cell_type": "code",
   "execution_count": 26,
   "id": "bc0dd78b-20eb-4ffc-8a44-9222eccc1716",
   "metadata": {
    "slideshow": {
     "slide_type": "fragment"
    },
    "tags": []
   },
   "outputs": [
    {
     "name": "stdout",
     "output_type": "stream",
     "text": [
      "Telescope 'SAAO' added.\n"
     ]
    }
   ],
   "source": [
    "if created:\n",
    "    name = 'SAAO'\n",
    "    lat = Angle('-32:22:46 deg')\n",
    "    lon = Angle('20:48:38.5 deg')\n",
    "    height = 1798.\n",
    "    utc_offset = 2.\n",
    "    db.add_telescope(name, lat.rad, lon.rad, height, utc_offset)"
   ]
  },
  {
   "cell_type": "markdown",
   "id": "d3e2c6ab-2b00-42f6-bfe8-b816ab2f90fb",
   "metadata": {},
   "source": [
    "Add constraints:"
   ]
  },
  {
   "cell_type": "code",
   "execution_count": 27,
   "id": "51e22819-fb0e-4ba4-b9f7-829ff7f57193",
   "metadata": {
    "slideshow": {
     "slide_type": "fragment"
    },
    "tags": []
   },
   "outputs": [
    {
     "name": "stdout",
     "output_type": "stream",
     "text": [
      "Constraint 'AirmassLimit' for telescope 'Skinakas'.\n",
      "Constraint 'HourangleLimit' for telescope 'Skinakas'.\n",
      "Constraint 'AirmassLimit' for telescope 'SAAO'.\n",
      "Constraint 'HourangleLimit' for telescope 'SAAO'.\n"
     ]
    }
   ],
   "source": [
    "if created:\n",
    "    # general limits:\n",
    "    twilight = 'nautical'\n",
    "    airmass_limit = c.AirmassLimit(2.)\n",
    "    hourangle_limit = c.HourangleLimit(5.33)\n",
    "    \n",
    "    db.add_constraints('Skinakas', twilight, constraints=(airmass_limit, hourangle_limit))\n",
    "    db.add_constraints('SAAO', twilight, constraints=(airmass_limit, hourangle_limit))"
   ]
  },
  {
   "cell_type": "markdown",
   "id": "f202d6e7-74a8-42d2-8fb9-6ff2be202645",
   "metadata": {},
   "source": [
    "Add Northern fields:"
   ]
  },
  {
   "cell_type": "code",
   "execution_count": 28,
   "id": "c9589d39-8332-4226-bb0e-d75c7683e4a9",
   "metadata": {},
   "outputs": [
    {
     "name": "stdout",
     "output_type": "stream",
     "text": [
      "Create fields..\n",
      "  Calculate field centers..\n",
      "  Calculate field corners..\n",
      "    Done                                                    \n",
      "  Identify fields in Galactic plane..\n",
      "Final number of fields: 1097\n"
     ]
    }
   ],
   "source": [
    "fov = Angle(5 * u.deg)\n",
    "overlap_ns = Angle(fov / 2.)\n",
    "overlap_ew = Angle(1 * u.deg)\n",
    "tilt = Angle(0 * u.deg)\n",
    "dec_lim_north = Angle(90 * u.deg)\n",
    "dec_lim_south = Angle(0 * u.deg)\n",
    "gal_lat_lim = Angle(30 * u.deg)\n",
    "gal_lat_lim_strict = True\n",
    "verbose = 1\n",
    "\n",
    "grid = FieldGridIsoLat(\n",
    "        fov.rad, overlap_ns=overlap_ns.rad, overlap_ew=overlap_ew.rad, tilt=tilt.rad, dec_lim_north=dec_lim_north.rad, \n",
    "        dec_lim_south=dec_lim_south.rad, gal_lat_lim=gal_lat_lim.rad, gal_lat_lim_strict=gal_lat_lim_strict, verbose=verbose)"
   ]
  },
  {
   "cell_type": "code",
   "execution_count": 29,
   "id": "019a4250-e5db-48f4-907f-14be5fbba176",
   "metadata": {
    "slideshow": {
     "slide_type": "fragment"
    },
    "tags": []
   },
   "outputs": [
    {
     "name": "stdout",
     "output_type": "stream",
     "text": [
      "1097 fields added to database.                   \n"
     ]
    }
   ],
   "source": [
    "if created:\n",
    "    db.add_fields(grid, 'Skinakas', active=True)"
   ]
  },
  {
   "cell_type": "markdown",
   "id": "c8b3701f-7a25-4d8c-ba29-860a9f6969a3",
   "metadata": {},
   "source": [
    "Add Southern fields:"
   ]
  },
  {
   "cell_type": "code",
   "execution_count": 30,
   "id": "e60343f0-a417-4872-870f-4636e1a38058",
   "metadata": {},
   "outputs": [
    {
     "name": "stdout",
     "output_type": "stream",
     "text": [
      "Create fields..\n",
      "  Calculate field centers..\n",
      "  Calculate field corners..\n",
      "    Done                                                    \n",
      "  Identify fields in Galactic plane..\n",
      "Final number of fields: 547\n"
     ]
    }
   ],
   "source": [
    "fov = Angle(7 * u.deg)\n",
    "overlap_ns = Angle(fov / 2.)\n",
    "overlap_ew = Angle(1 * u.deg)\n",
    "tilt = Angle(0 * u.deg)\n",
    "dec_lim_north = Angle(0 * u.deg)\n",
    "dec_lim_south = Angle(-90 * u.deg)\n",
    "gal_lat_lim = Angle(30 * u.deg)\n",
    "gal_lat_lim_strict = True\n",
    "verbose = 1\n",
    "\n",
    "grid = FieldGridIsoLat(\n",
    "        fov.rad, overlap_ns=overlap_ns.rad, overlap_ew=overlap_ew.rad, tilt=tilt.rad, dec_lim_north=dec_lim_north.rad, \n",
    "        dec_lim_south=dec_lim_south.rad, gal_lat_lim=gal_lat_lim.rad, gal_lat_lim_strict=gal_lat_lim_strict, verbose=verbose)"
   ]
  },
  {
   "cell_type": "code",
   "execution_count": 31,
   "id": "6d7d8530-9bed-418e-bb47-e15e9e612ff1",
   "metadata": {
    "slideshow": {
     "slide_type": "fragment"
    },
    "tags": []
   },
   "outputs": [
    {
     "name": "stdout",
     "output_type": "stream",
     "text": [
      "547 fields added to database.                   \n"
     ]
    }
   ],
   "source": [
    "if created:\n",
    "    db.add_fields(grid, 'SAAO', active=True)"
   ]
  },
  {
   "cell_type": "markdown",
   "id": "e0997bcf-745f-4c57-83e1-d119f1ed8f97",
   "metadata": {},
   "source": [
    "Add guide stars. For a simple demonstration we will add a fake guidestar to each field at the field center with a magnitude of 6:"
   ]
  },
  {
   "cell_type": "code",
   "execution_count": 32,
   "id": "9819a640-288d-4217-b879-8f8067247c17",
   "metadata": {},
   "outputs": [
    {
     "name": "stdout",
     "output_type": "stream",
     "text": [
      "1644 new guidestars added to database.           \n",
      "Checking for fields missing guidestars..\n",
      "All fields have at least one guidestar associated.\n"
     ]
    }
   ],
   "source": [
    "if created:\n",
    "    # get field IDs and center coordinates:\n",
    "    manager = FieldManager(db_name)\n",
    "    fields = DataFrame(manager.get_fields())\n",
    "    \n",
    "    # add fake guide stars:\n",
    "    db.add_guidestars(\n",
    "            fields['field_id'].to_numpy(), fields['center_ra'].to_numpy(), fields['center_dec'].to_numpy(), \n",
    "            np.ones(len(fields))*6, warn_missing=True)\n",
    "    del fields"
   ]
  },
  {
   "cell_type": "markdown",
   "id": "e1620346-498d-4f9e-aef9-c982bd37e2ca",
   "metadata": {},
   "source": [
    "Add observations. We add the same observation to each field:"
   ]
  },
  {
   "cell_type": "code",
   "execution_count": 33,
   "id": "07e3e36d-6b9e-4735-b1c6-e58b1444fd4a",
   "metadata": {},
   "outputs": [
    {
     "name": "stdout",
     "output_type": "stream",
     "text": [
      "Adding observations 0-999 of 1644 (0.0%).."
     ]
    },
    {
     "name": "stdin",
     "output_type": "stream",
     "text": [
      "Filter 'r does not exist. Add it to data base? (y/n) y\n"
     ]
    },
    {
     "name": "stdout",
     "output_type": "stream",
     "text": [
      "1644 observation(s) added to data base.                 \n"
     ]
    }
   ],
   "source": [
    "db.add_observations(75., 2, 'r', check_for_duplicates=False)"
   ]
  },
  {
   "cell_type": "code",
   "execution_count": 34,
   "id": "703d7cd8-937a-4e7b-a480-bc56a79a2214",
   "metadata": {},
   "outputs": [
    {
     "name": "stdout",
     "output_type": "stream",
     "text": [
      "======= STORED IN DATABASE ========\n",
      "Telescopes:                       2\n",
      "Constraints telescope 1:          3\n",
      "Constraints telescope 2:          3\n",
      "-----------------------------------\n",
      "Fields total:                  1644\n",
      "Fields telescope 1:            1097\n",
      "Fields telescope 2:             547\n",
      "-----------------------------------\n",
      "Observations:                  1644\n",
      "Pending observations:          1644\n",
      "Fields w/o observations:          0\n",
      "-----------------------------------\n",
      "Guidestars:                    1644\n",
      "Fields w/o guidestars:            0\n",
      "-----------------------------------\n",
      "\n"
     ]
    }
   ],
   "source": [
    "db.dbstatus();"
   ]
  },
  {
   "cell_type": "code",
   "execution_count": null,
   "id": "fbb6946d-6431-4ac8-8e64-4faac7a02a86",
   "metadata": {},
   "outputs": [],
   "source": []
  }
 ],
 "metadata": {
  "kernelspec": {
   "display_name": "Python 3 (ipykernel)",
   "language": "python",
   "name": "python3"
  },
  "language_info": {
   "codemirror_mode": {
    "name": "ipython",
    "version": 3
   },
   "file_extension": ".py",
   "mimetype": "text/x-python",
   "name": "python",
   "nbconvert_exporter": "python",
   "pygments_lexer": "ipython3",
   "version": "3.9.18"
  },
  "toc-autonumbering": true
 },
 "nbformat": 4,
 "nbformat_minor": 5
}

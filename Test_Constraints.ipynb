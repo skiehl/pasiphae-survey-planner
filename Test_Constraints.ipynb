{
 "cells": [
  {
   "cell_type": "markdown",
   "id": "b6e25a2b-f6e1-4804-8daf-bd9656ea93cf",
   "metadata": {},
   "source": [
    "# Test constraints"
   ]
  },
  {
   "cell_type": "markdown",
   "id": "24bba1c7-d5a3-4b5e-8a56-29f684befcdf",
   "metadata": {},
   "source": [
    "**Context:** With my simple test setup created in `Develop_SurveyPlanner.ipynb` I noticed on 2023-11-14 that the field with ID 1 (in the database, i.e. 0 in a python list) is observable on JD 2460317.5-2460323.5 and 2460326.5-2460328.5, but not 2460324.5 and 2460325.5. This is odd. Is this a bug or is this correct? In this notebook I am looking into this potential issue."
   ]
  },
  {
   "cell_type": "code",
   "execution_count": 1,
   "id": "be2921e5-23a2-433b-a058-8e32048131ee",
   "metadata": {
    "slideshow": {
     "slide_type": "skip"
    },
    "tags": []
   },
   "outputs": [],
   "source": [
    "%load_ext autoreload\n",
    "%autoreload 2"
   ]
  },
  {
   "cell_type": "code",
   "execution_count": 2,
   "id": "7253456e-c000-4d47-a322-e8c8b1c206a3",
   "metadata": {
    "slideshow": {
     "slide_type": "skip"
    },
    "tags": []
   },
   "outputs": [],
   "source": [
    "from astropy.coordinates import AltAz, Angle, EarthLocation, get_sun, SkyCoord\n",
    "from astropy.time import Time, TimeDelta\n",
    "import astropy.units as u\n",
    "import numpy as np\n",
    "\n",
    "import constraints as c\n",
    "from fieldgrid import FieldGrid, FieldGridIsoLat\n",
    "from surveyplanner import Field, ObsWindow, Telescope, SurveyPlanner"
   ]
  },
  {
   "cell_type": "markdown",
   "id": "d0fbe9da-9869-4f42-906a-98b434a11e2a",
   "metadata": {
    "slideshow": {
     "slide_type": "slide"
    },
    "tags": []
   },
   "source": [
    "## Create test grid\n",
    "\n",
    "I copy the Northern test grid from `Develop_SurveyPlanner.ipynb`:"
   ]
  },
  {
   "cell_type": "code",
   "execution_count": 3,
   "id": "1c65cf67-fe8e-4447-a53c-608bb2a0354e",
   "metadata": {
    "slideshow": {
     "slide_type": "subslide"
    },
    "tags": []
   },
   "outputs": [
    {
     "name": "stdout",
     "output_type": "stream",
     "text": [
      "Create fields..\n",
      "    Done                                                    \n",
      "Final number of fields: 1056\n",
      "\n",
      " FieldGridIsoLat : Iso-latitudinal field grid\n",
      "Field of view:     5.0000 deg\n",
      "Overlap N-S        2.5000 deg\n",
      "Overlap E-W        1.0000 deg\n",
      "Tilt:             +0.0000 deg\n",
      "Gal. lat. lim:    30.0000 deg\n",
      "Dec. lim. N:      90.0000 deg\n",
      "Dec. lim. S:      -2.5000 deg\n",
      "Number of fields: 1056\n"
     ]
    }
   ],
   "source": [
    "# north:\n",
    "fov = np.radians(5.)\n",
    "overlap_ns = fov / 2.\n",
    "overlap_ew = np.radians(1.)\n",
    "tilt = np.radians(0.)\n",
    "gal_lat_lim = np.radians(30.)\n",
    "dec_lim_south = -fov / 2.\n",
    "\n",
    "fields_north = FieldGridIsoLat(\n",
    "        fov, overlap_ns=overlap_ns, overlap_ew=overlap_ew, tilt=tilt, gal_lat_lim=gal_lat_lim, dec_lim_south=dec_lim_south)\n",
    "print('\\n', fields_north)"
   ]
  },
  {
   "cell_type": "code",
   "execution_count": 4,
   "id": "f314cf06-7c27-4a61-afb4-93c0f96fa570",
   "metadata": {},
   "outputs": [],
   "source": [
    "field_id = 0\n",
    "field_coord = SkyCoord(fields_north.center_ras[field_id], fields_north.center_decs[field_id], unit='rad')"
   ]
  },
  {
   "cell_type": "markdown",
   "id": "887c446d-8c42-4eb6-872d-b96990f3db5c",
   "metadata": {},
   "source": [
    "## Create telescope"
   ]
  },
  {
   "cell_type": "code",
   "execution_count": 5,
   "id": "d4246d05-a3d1-49d2-b7eb-a1112d3fd643",
   "metadata": {},
   "outputs": [
    {
     "name": "stdout",
     "output_type": "stream",
     "text": [
      "Telescope Skinakas created.\n"
     ]
    }
   ],
   "source": [
    "name = 'Skinakas'\n",
    "lat = Angle('35:12:43 deg')\n",
    "lon = Angle('24:53:57 deg')\n",
    "height = 1750.\n",
    "utc_offset = 2.\n",
    "telescope = Telescope(lat, lon, height, utc_offset, name=name)"
   ]
  },
  {
   "cell_type": "markdown",
   "id": "797cb717-8249-4040-8127-f46733046657",
   "metadata": {},
   "source": [
    "## Set constraints\n",
    "\n",
    "I use the constraints for the Northern survey:"
   ]
  },
  {
   "cell_type": "code",
   "execution_count": 6,
   "id": "e877e8e2-7c82-4ca2-9e29-e05a07a51a61",
   "metadata": {},
   "outputs": [],
   "source": [
    "twilight = 'nautical'\n",
    "airmass_limit = c.AirmassLimit(2.)\n",
    "hourangle_limit = c.HourangleLimit(5.33)\n",
    "moon_distance = c.MoonDistance(10.)\n",
    "constraints = c.Constraints()\n",
    "constraints.add(airmass_limit)\n",
    "constraints.add(hourangle_limit)\n",
    "constraints.add(moon_distance)"
   ]
  },
  {
   "cell_type": "markdown",
   "id": "7c2801a5-7d76-490e-817c-b3c6a6d3a8d0",
   "metadata": {},
   "source": [
    "## Find observability windows"
   ]
  },
  {
   "cell_type": "markdown",
   "id": "c4912038-0e7f-4d83-9e56-a62527cf6e12",
   "metadata": {},
   "source": [
    "To identify blocks I use this function that I copied from `surveyplanner.Field._true_blocks()`:"
   ]
  },
  {
   "cell_type": "code",
   "execution_count": 7,
   "id": "da1f92f3-f104-445a-9303-ec3db9aa2038",
   "metadata": {},
   "outputs": [],
   "source": [
    "def true_blocks(observable):\n",
    "    \"\"\"Find blocks of successive True's.\n",
    "\n",
    "    Parameters\n",
    "    ----------\n",
    "    observable : nump.ndarray\n",
    "        Boolean-type 1dim-array.\n",
    "\n",
    "    Returns\n",
    "    -------\n",
    "    list\n",
    "        Each element corresponds to one block of True's. The element is a\n",
    "        list of two integers, the first marking the first index of the\n",
    "        block, the second marking the last True entry of the block.\n",
    "    \"\"\"\n",
    "\n",
    "    i = 0\n",
    "    periods = []\n",
    "\n",
    "    # iterate through array:\n",
    "    while i < observable.size-1:\n",
    "        if ~np.any(observable[i:]):\n",
    "            break\n",
    "        j = np.argmax(observable[i:]) + i\n",
    "        k = np.argmax(~observable[j:]) + j\n",
    "        if j == k and j != observable.size-1:\n",
    "            k = observable.size\n",
    "        periods.append((j,k-1))\n",
    "        i = k\n",
    "\n",
    "    return periods"
   ]
  },
  {
   "cell_type": "markdown",
   "id": "2f971e0c-d75f-4298-8886-36a9439ee82c",
   "metadata": {},
   "source": [
    "Set time range:"
   ]
  },
  {
   "cell_type": "code",
   "execution_count": 9,
   "id": "3cb91e7a-ae0c-4211-9791-7bd4888b1cbe",
   "metadata": {},
   "outputs": [
    {
     "name": "stdout",
     "output_type": "stream",
     "text": [
      "2460310.5 2024-01-01T16:18:28.689 2024-01-02T04:29:14.721\n",
      "17 17 28 74\n",
      "2024-01-01T16:18:28.689 2024-01-01T18:58:28.689\n",
      "\n",
      "2460311.5 2024-01-02T16:19:11.498 2024-01-03T04:29:27.279\n",
      "17 17 28 74\n",
      "2024-01-02T16:19:11.498 2024-01-02T18:59:11.498\n",
      "\n",
      "2460312.5 2024-01-03T16:19:55.302 2024-01-04T04:29:38.205\n",
      "16 16 27 73\n",
      "2024-01-03T16:19:55.302 2024-01-03T18:49:55.302\n",
      "\n",
      "2460313.5 2024-01-04T16:20:40.061 2024-01-05T04:29:47.482\n",
      "16 16 27 73\n",
      "2024-01-04T16:20:40.061 2024-01-04T18:50:40.061\n",
      "\n",
      "2460314.5 2024-01-05T16:21:25.739 2024-01-06T04:29:55.093\n",
      "16 16 26 73\n",
      "2024-01-05T16:21:25.739 2024-01-05T18:51:25.739\n",
      "\n",
      "2460315.5 2024-01-06T16:22:12.294 2024-01-07T04:30:01.026\n",
      "15 15 26 73\n",
      "2024-01-06T16:22:12.294 2024-01-06T18:42:12.294\n",
      "\n",
      "2460316.5 2024-01-07T16:22:59.688 2024-01-08T04:30:05.276\n",
      "15 15 25 73\n",
      "2024-01-07T16:22:59.688 2024-01-07T18:42:59.688\n",
      "\n",
      "2460317.5 2024-01-08T16:23:47.877 2024-01-09T04:30:07.806\n",
      "14 14 25 73\n",
      "2024-01-08T16:23:47.877 2024-01-08T18:33:47.877\n",
      "\n",
      "2460318.5 2024-01-09T16:24:36.649 2024-01-10T04:30:08.601\n",
      "14 14 25 73\n",
      "2024-01-09T16:24:36.649 2024-01-09T18:34:36.649\n",
      "\n",
      "2460319.5 2024-01-10T16:25:26.072 2024-01-11T04:30:07.649\n",
      "13 13 24 73\n",
      "2024-01-10T16:25:26.072 2024-01-10T18:25:26.072\n",
      "\n",
      "2460320.5 2024-01-11T16:26:16.157 2024-01-12T04:30:04.936\n",
      "13 13 24 73\n",
      "2024-01-11T16:26:16.157 2024-01-11T18:26:16.157\n",
      "\n",
      "2460321.5 2024-01-12T16:27:06.861 2024-01-13T04:30:00.452\n",
      "12 12 23 73\n",
      "2024-01-12T16:27:06.861 2024-01-12T18:17:06.861\n",
      "\n",
      "2460322.5 2024-01-13T16:27:58.138 2024-01-14T04:29:54.209\n",
      "12 12 23 73\n",
      "2024-01-13T16:27:58.138 2024-01-13T18:17:58.138\n",
      "\n",
      "2460323.5 2024-01-14T16:28:49.946 2024-01-15T04:29:46.185\n",
      "11 11 22 73\n",
      "2024-01-14T16:28:49.946 2024-01-14T18:08:49.946\n",
      "\n",
      "2460324.5 2024-01-15T16:29:42.242 2024-01-16T04:29:36.372\n",
      "0 11 22 0\n",
      "Field not observable.\n",
      "\n",
      "2460325.5 2024-01-16T16:30:34.836 2024-01-17T04:29:24.766\n",
      "0 10 21 29\n",
      "Field not observable.\n",
      "\n",
      "2460326.5 2024-01-17T16:31:27.765 2024-01-18T04:29:11.368\n",
      "10 10 21 72\n",
      "2024-01-17T16:31:27.765 2024-01-17T18:01:27.765\n",
      "\n",
      "2460327.5 2024-01-18T16:32:21.069 2024-01-19T04:28:56.180\n",
      "9 9 20 72\n",
      "2024-01-18T16:32:21.069 2024-01-18T17:52:21.069\n",
      "\n",
      "2460328.5 2024-01-19T16:33:14.714 2024-01-20T04:28:39.208\n",
      "9 9 20 72\n",
      "2024-01-19T16:33:14.714 2024-01-19T17:53:14.714\n",
      "\n"
     ]
    }
   ],
   "source": [
    "date_start = Time('2024-01-01')\n",
    "date_stop = Time('2024-01-20')\n",
    "twilight = 'nautical'\n",
    "\n",
    "for date in np.arange(date_start.jd, date_stop.jd):\n",
    "    dt = Time(date, format='jd').datetime\n",
    "    time_sunset, time_sunrise = telescope.get_sun_set_rise(dt.year, dt.month, dt.day, twilight)\n",
    "    frame = telescope.get_frame(time_sunset, time_sunrise, 10*u.min)\n",
    "    observable = constraints.get(field_coord, frame)\n",
    "    blocks = true_blocks(observable)\n",
    "    observable_airmass = airmass_limit.get(field_coord, frame)\n",
    "    observable_hourangle = hourangle_limit.get(field_coord, frame)\n",
    "    observable_moon = moon_distance.get(field_coord, frame)\n",
    "    print(date, time_sunset, time_sunrise)\n",
    "    print(np.sum(observable), np.sum(observable_airmass), np.sum(observable_hourangle), np.sum(observable_moon))\n",
    "    \n",
    "    for block_id0, block_id1 in blocks:\n",
    "        print(frame.obstime[block_id0], frame.obstime[block_id1])\n",
    "    \n",
    "    if not len(blocks):\n",
    "        print('Field not observable.')\n",
    "        \n",
    "    print()"
   ]
  },
  {
   "cell_type": "markdown",
   "id": "6e772db3-1249-4959-928f-b0304e073b27",
   "metadata": {},
   "source": [
    "## Results"
   ]
  },
  {
   "cell_type": "markdown",
   "id": "90ac94e9-7960-4a0a-9a2d-17de7c7f6f00",
   "metadata": {},
   "source": [
    "The field is not observable on JD 2460324 and 2460325 because it is too close to the Moon. I cross-checked this result with [staralt](http://catserver.ing.iac.es/staralt/). It is correct. The days before the Moon is getting closer to the field, the days after it is moving away from the field. Those two days the Moon is very close to the field.\n",
    "\n",
    "**Conclusion:** Everything is working fine."
   ]
  },
  {
   "cell_type": "code",
   "execution_count": null,
   "id": "382150e7-477f-4485-b5fe-48f088492138",
   "metadata": {},
   "outputs": [],
   "source": []
  }
 ],
 "metadata": {
  "kernelspec": {
   "display_name": "Python 3 (ipykernel)",
   "language": "python",
   "name": "python3"
  },
  "language_info": {
   "codemirror_mode": {
    "name": "ipython",
    "version": 3
   },
   "file_extension": ".py",
   "mimetype": "text/x-python",
   "name": "python",
   "nbconvert_exporter": "python",
   "pygments_lexer": "ipython3",
   "version": "3.9.18"
  }
 },
 "nbformat": 4,
 "nbformat_minor": 5
}

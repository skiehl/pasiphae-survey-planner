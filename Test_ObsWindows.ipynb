{
 "cells": [
  {
   "cell_type": "markdown",
   "id": "7ecd6746-2501-4eb2-b5be-ea62455a7245",
   "metadata": {},
   "source": [
    "# Test observability windows"
   ]
  },
  {
   "cell_type": "code",
   "execution_count": 1,
   "id": "b01dc105-ae93-4030-9456-392482868c80",
   "metadata": {},
   "outputs": [],
   "source": [
    "from astropy.time import Time\n",
    "import astropy.units as u\n",
    "import matplotlib.pyplot as plt\n",
    "import numpy as np\n",
    "import pandas as pd\n",
    "import seaborn as sns\n",
    "\n",
    "from db import TelescopeManager\n",
    "from surveyplanner import SurveyPlanner, Telescope"
   ]
  },
  {
   "cell_type": "markdown",
   "id": "080a0e92-9b20-4e3c-9d88-da4d8ee50aa7",
   "metadata": {},
   "source": [
    "## Helper functions"
   ]
  },
  {
   "cell_type": "code",
   "execution_count": 2,
   "id": "2bfc8237-f3db-4ee0-82e5-534111c172b4",
   "metadata": {},
   "outputs": [],
   "source": [
    "def get_sun_set_rise(telescope, date):\n",
    "    \"\"\"Derive Sun set and rise for a telescope and date.\"\"\"\n",
    "    \n",
    "    twilight = telescope['constraints']['Twilight']['twilight']\n",
    "    date_datetime = date.to_datetime()\n",
    "    telescope = Telescope(\n",
    "        telescope['lat']*u.rad, telescope['lon']*u.rad, telescope['height'],\n",
    "        telescope['utc_offset'], name=telescope['name'])\n",
    "    sun_set_date, sun_rise_date = telescope.get_sun_set_rise(date_datetime.year, date_datetime.month, date_datetime.day, twilight)\n",
    "    sun_set_utc = np.mod(sun_set_date.mjd, 1) * 24 - 24\n",
    "    sun_rise_utc = np.mod(sun_rise_date.mjd, 1) * 24\n",
    "    \n",
    "    return sun_set_date, sun_rise_date, sun_set_utc, sun_rise_utc"
   ]
  },
  {
   "cell_type": "code",
   "execution_count": 3,
   "id": "2d44b5ac-74c0-448f-9b1b-47583f1670d4",
   "metadata": {},
   "outputs": [],
   "source": [
    "def query_fields(telescope, date):\n",
    "    \"\"\"Query observable fields for a specific telescope and date.\"\"\"\n",
    "    \n",
    "    fields = planner.query_fields(observable_night=date, telescope=telescope['name'])\n",
    "    fields = pd.DataFrame(fields)\n",
    "    fields = fields.loc[:, ('field_id', 'date_start', 'date_stop', 'duration')]\n",
    "\n",
    "    date_start = Time(fields['date_start'].to_list())\n",
    "    mjd_start = date_start.mjd\n",
    "    utc_start = (mjd_start - np.floor(mjd_start.max())) * 24\n",
    "    fields['date_start'] = date_start\n",
    "    fields.insert(3, 'mjd_start', mjd_start)\n",
    "    fields.insert(4, 'utc_start', utc_start)\n",
    "\n",
    "    date_stop = Time(fields['date_stop'].to_list())\n",
    "    mjd_stop = date_stop.mjd\n",
    "    utc_stop = (mjd_stop - np.floor(mjd_stop.max())) * 24\n",
    "    fields['date_stop'] = date_stop\n",
    "    fields.insert(4, 'mjd_stop', mjd_stop)\n",
    "    fields.insert(6, 'utc_stop', utc_stop)\n",
    "\n",
    "    return fields"
   ]
  },
  {
   "cell_type": "code",
   "execution_count": 4,
   "id": "8cba60f3-d737-4bf2-ab2a-060b4d47363e",
   "metadata": {},
   "outputs": [],
   "source": [
    "def plot_hist(fields):\n",
    "    \"\"\"Plot histograms of start and stop UTC.\"\"\"\n",
    "    \n",
    "    __, ax = plt.subplots(1, 2, figsize=(12, 5))\n",
    "    \n",
    "    # plot histograms:\n",
    "    sns.histplot(data=fields, x='utc_start', ax=ax[0])\n",
    "    sns.histplot(data=fields, x='utc_stop', ax=ax[1])\n",
    "    \n",
    "    # add limits:\n",
    "    for a in ax:\n",
    "        a.axvline(sun_set_utc, linestyle='--', lw=2, color='orange')\n",
    "        a.axvline(sun_rise_utc, linestyle='-.', lw=2, color='orange')"
   ]
  },
  {
   "cell_type": "code",
   "execution_count": 5,
   "id": "279923dd-5bbf-4f83-91b9-600aef02b23f",
   "metadata": {},
   "outputs": [],
   "source": [
    "def check_times(fields, sun_set_utc, sun_rise_utc, verbose=1):\n",
    "    \"\"\"Check if start and stop times are within the night time.\"\"\"\n",
    "    \n",
    "    start_too_early = np.nonzero(np.logical_and(fields['mjd_start'].values < sun_set_date.mjd, ~np.isclose(fields['mjd_start'].values, sun_set_date.mjd)))[0]\n",
    "    start_too_late = np.nonzero(np.logical_and(fields['mjd_start'].values > sun_rise_date.mjd, ~np.isclose(fields['mjd_start'].values, sun_rise_date.mjd)))[0]\n",
    "    stop_too_early = np.nonzero(np.logical_and(fields['mjd_stop'].values < sun_set_date.mjd, ~np.isclose(fields['mjd_stop'].values, sun_set_date.mjd)))[0]\n",
    "    stop_too_late = np.nonzero(np.logical_and(fields['mjd_stop'].values > sun_rise_date.mjd, ~np.isclose(fields['mjd_stop'].values, sun_rise_date.mjd)))[0]\n",
    "    \n",
    "    problem_detected = False\n",
    "    \n",
    "    if start_too_early.shape[0]:\n",
    "        problem_detected = True\n",
    "        if verbose:\n",
    "            print(f'Start time before Sun set: {start_too_early.shape[0]:5d} cases')\n",
    "        \n",
    "    if start_too_late.shape[0]:\n",
    "        problem_detected = True\n",
    "        if verbose:\n",
    "            print(f'Start time after Sun rise:  {start_too_late.shape[0]:5d} cases')\n",
    "    \n",
    "    if stop_too_early.shape[0]:\n",
    "        problem_detected = True\n",
    "        if verbose:\n",
    "            print(f'Stop time before Sun set:  {stop_too_early.shape[0]:5d} cases')\n",
    "        \n",
    "    if stop_too_late.shape[0]:\n",
    "        problem_detected = True\n",
    "        if verbose:\n",
    "            print(f'Stop time after Sun rise:   {stop_too_late.shape[0]:5d} cases')\n",
    "        \n",
    "    if verbose and not problem_detected:\n",
    "        print('All good')\n",
    "        \n",
    "    return start_too_early, start_too_late, stop_too_early, stop_too_late, problem_detected"
   ]
  },
  {
   "cell_type": "markdown",
   "id": "92931653-51bd-496a-8db6-46ef71c70552",
   "metadata": {},
   "source": [
    "## Test setup"
   ]
  },
  {
   "cell_type": "code",
   "execution_count": 6,
   "id": "68cb7c8d-2d96-4957-8ee2-26082e80ac5b",
   "metadata": {},
   "outputs": [],
   "source": [
    "db_name = 'test_planner.sqlite3'"
   ]
  },
  {
   "cell_type": "markdown",
   "id": "f0c99076-da2d-4411-a61b-0697bab2846b",
   "metadata": {},
   "source": [
    "Survey planner:"
   ]
  },
  {
   "cell_type": "code",
   "execution_count": 7,
   "id": "4b2b38ee-0a38-4bc6-b2ac-87f101b1c278",
   "metadata": {},
   "outputs": [],
   "source": [
    "planner = SurveyPlanner(db_name)"
   ]
  },
  {
   "cell_type": "markdown",
   "id": "e11a21b8-e021-4cf4-9262-40f0427bc96a",
   "metadata": {},
   "source": [
    "Get telescopes:"
   ]
  },
  {
   "cell_type": "code",
   "execution_count": 8,
   "id": "98433394-3f1e-4e31-866e-b03c9cba939e",
   "metadata": {},
   "outputs": [],
   "source": [
    "db = TelescopeManager(db_name)\n",
    "telescopes = db.get_telescopes(constraints=True)"
   ]
  },
  {
   "cell_type": "markdown",
   "id": "381e5564-6dd6-4480-a1b4-da01c0e9a44b",
   "metadata": {},
   "source": [
    "Use fixed dates:"
   ]
  },
  {
   "cell_type": "code",
   "execution_count": 9,
   "id": "e20bfd9d-c96a-41f1-8485-ab62d80e14ae",
   "metadata": {},
   "outputs": [],
   "source": [
    "dates = Time([f'2024-{month:02d}-15' for month in range(1, 13)])"
   ]
  },
  {
   "cell_type": "markdown",
   "id": "7f2c3c4f-fdc5-4306-bb9e-f218293f1430",
   "metadata": {},
   "source": [
    "Or random dates:"
   ]
  },
  {
   "cell_type": "code",
   "execution_count": 10,
   "id": "40f9486b-9f6b-4f75-ac4d-26cd43bcaf8b",
   "metadata": {},
   "outputs": [
    {
     "data": {
      "text/plain": [
       "<Time object: scale='utc' format='iso' value=['2024-02-02 00:00:00.000' '2024-03-31 00:00:00.000'\n",
       " '2024-06-13 00:00:00.000' '2024-07-08 00:00:00.000'\n",
       " '2024-07-13 00:00:00.000' '2024-08-04 00:00:00.000'\n",
       " '2024-08-08 00:00:00.000' '2024-11-06 00:00:00.000'\n",
       " '2024-11-24 00:00:00.000' '2024-12-23 00:00:00.000']>"
      ]
     },
     "execution_count": 10,
     "metadata": {},
     "output_type": "execute_result"
    }
   ],
   "source": [
    "n = 10\n",
    "dates = Time('2024-01-01') + np.random.randint(0, 365, n) * u.d\n",
    "dates = dates.sort()\n",
    "dates"
   ]
  },
  {
   "cell_type": "markdown",
   "id": "34f82d43-f0a5-4533-85ca-09fc654b73a0",
   "metadata": {},
   "source": [
    "## Systematic test"
   ]
  },
  {
   "cell_type": "code",
   "execution_count": 11,
   "id": "7f617fce-6200-4976-a96f-54619735ee49",
   "metadata": {},
   "outputs": [
    {
     "name": "stdout",
     "output_type": "stream",
     "text": [
      "2024-02-02\n",
      "Telescope Skinakas created.\n",
      "Sun set (UTC):  2024-02-02 16:46:03.355\n",
      "Sun rise (UTC): 2024-02-03 04:21:40.818\n",
      "All good\n",
      "\n",
      "Telescope SAAO created.\n",
      "Sun set (UTC):  2024-02-02 18:37:00.097\n",
      "Sun rise (UTC): 2024-02-03 03:04:11.029\n",
      "All good\n",
      "\n",
      "\n",
      "2024-03-31\n",
      "Telescope Skinakas created.\n",
      "Sun set (UTC):  2024-03-31 17:36:53.028\n",
      "Sun rise (UTC): 2024-04-01 03:11:10.783\n",
      "All good\n",
      "\n",
      "Telescope SAAO created.\n",
      "Sun set (UTC):  2024-03-31 17:26:01.540\n",
      "Sun rise (UTC): 2024-04-01 03:55:38.302\n",
      "All good\n",
      "\n",
      "\n",
      "2024-06-13\n",
      "Telescope Skinakas created.\n",
      "Sun set (UTC):  2024-06-13 18:42:34.345\n",
      "Sun rise (UTC): 2024-06-14 01:58:44.394\n",
      "All good\n",
      "\n",
      "Telescope SAAO created.\n",
      "Sun set (UTC):  2024-06-13 16:35:55.575\n",
      "Sun rise (UTC): 2024-06-14 04:38:14.119\n",
      "All good\n",
      "\n",
      "\n",
      "2024-07-08\n",
      "Telescope Skinakas created.\n",
      "Sun set (UTC):  2024-07-08 18:43:18.787\n",
      "Sun rise (UTC): 2024-07-09 02:08:10.732\n",
      "All good\n",
      "\n",
      "Telescope SAAO created.\n",
      "Sun set (UTC):  2024-07-08 16:43:12.145\n",
      "Sun rise (UTC): 2024-07-09 04:40:40.849\n",
      "All good\n",
      "\n",
      "\n",
      "2024-07-13\n",
      "Telescope Skinakas created.\n",
      "Sun set (UTC):  2024-07-13 18:40:53.839\n",
      "Sun rise (UTC): 2024-07-14 02:11:56.115\n",
      "All good\n",
      "\n",
      "Telescope SAAO created.\n",
      "Sun set (UTC):  2024-07-13 16:45:34.156\n",
      "Sun rise (UTC): 2024-07-14 04:39:33.908\n",
      "All good\n",
      "\n",
      "\n",
      "2024-08-04\n",
      "Telescope Skinakas created.\n",
      "Sun set (UTC):  2024-08-04 18:21:29.551\n",
      "Sun rise (UTC): 2024-08-05 02:31:43.617\n",
      "All good\n",
      "\n",
      "Telescope SAAO created.\n",
      "Sun set (UTC):  2024-08-04 16:57:26.770\n",
      "Sun rise (UTC): 2024-08-05 04:27:47.902\n",
      "All good\n",
      "\n",
      "\n",
      "2024-08-08\n",
      "Telescope Skinakas created.\n",
      "Sun set (UTC):  2024-08-08 18:16:43.167\n",
      "Sun rise (UTC): 2024-08-09 02:35:32.710\n",
      "All good\n",
      "\n",
      "Telescope SAAO created.\n",
      "Sun set (UTC):  2024-08-08 16:59:43.290\n",
      "Sun rise (UTC): 2024-08-09 04:24:31.791\n",
      "All good\n",
      "\n",
      "\n",
      "2024-11-06\n",
      "Telescope Skinakas created.\n",
      "Sun set (UTC):  2024-11-06 16:17:37.235\n",
      "Sun rise (UTC): 2024-11-07 03:50:54.255\n",
      "All good\n",
      "\n",
      "Telescope SAAO created.\n",
      "Sun set (UTC):  2024-11-06 18:05:15.160\n",
      "Sun rise (UTC): 2024-11-07 02:35:14.071\n",
      "All good\n",
      "\n",
      "\n",
      "2024-11-24\n",
      "Telescope Skinakas created.\n",
      "Sun set (UTC):  2024-11-24 16:08:22.535\n",
      "Sun rise (UTC): 2024-11-25 04:06:33.323\n",
      "All good\n",
      "\n",
      "Telescope SAAO created.\n",
      "Sun set (UTC):  2024-11-24 18:24:33.607\n",
      "Sun rise (UTC): 2024-11-25 02:22:33.875\n",
      "All good\n",
      "\n",
      "\n",
      "2024-12-23\n",
      "Telescope Skinakas created.\n",
      "Sun set (UTC):  2024-12-23 16:13:15.779\n",
      "Sun rise (UTC): 2024-12-24 04:26:30.751\n",
      "All good\n",
      "\n",
      "Telescope SAAO created.\n",
      "Sun set (UTC):  2024-12-23 18:47:41.724\n",
      "Sun rise (UTC): 2024-12-24 02:24:51.091\n",
      "All good\n",
      "\n",
      "\n",
      "All test dates: No problems detected. All good!\n"
     ]
    }
   ],
   "source": [
    "problem_detected = 0\n",
    "\n",
    "for date in dates:\n",
    "    print(date.iso[:10])\n",
    "    \n",
    "    for telescope in telescopes:\n",
    "        sun_set_date, sun_rise_date, sun_set_utc, sun_rise_utc = get_sun_set_rise(telescope, date)\n",
    "        print('Sun set (UTC): ', sun_set_date.iso)\n",
    "        print('Sun rise (UTC):', sun_rise_date.iso)\n",
    "        \n",
    "        fields = query_fields(telescope, date)\n",
    "        __, __, __, __, problem = check_times(fields, sun_set_utc, sun_rise_utc, verbose=1)\n",
    "        problem_detected += problem\n",
    "        print()\n",
    "    \n",
    "    print()\n",
    "\n",
    "if problem_detected:\n",
    "    print('All test dates: Some problems detected!')\n",
    "else:\n",
    "    print('All test dates: No problems detected. All good!')"
   ]
  },
  {
   "cell_type": "markdown",
   "id": "d53e3a30-aa3d-4b06-a11f-4109cf7dc465",
   "metadata": {},
   "source": [
    "## Check issues"
   ]
  },
  {
   "cell_type": "code",
   "execution_count": 12,
   "id": "5d1a5630-7d8f-4244-8abd-c8a2aef77683",
   "metadata": {},
   "outputs": [
    {
     "name": "stdout",
     "output_type": "stream",
     "text": [
      "Telescope Skinakas created.\n",
      "Sun set (UTC):  2024-03-20 17:27:17.678\n",
      "Sun rise (UTC): 2024-03-21 03:27:23.281\n",
      "All good\n"
     ]
    }
   ],
   "source": [
    "telescope = telescopes[0]\n",
    "date = Time('2024-03-20')\n",
    "\n",
    "fields = query_fields(telescope, date)\n",
    "sun_set_date, sun_rise_date, sun_set_utc, sun_rise_utc = get_sun_set_rise(telescope, date)\n",
    "print('Sun set (UTC): ', sun_set_date.iso)\n",
    "print('Sun rise (UTC):', sun_rise_date.iso)\n",
    "check_times(fields, sun_set_utc, sun_rise_utc, verbose=1);"
   ]
  },
  {
   "cell_type": "code",
   "execution_count": 13,
   "id": "2bf6cf1b-4b84-4d1d-b1ea-eecdd6d620e7",
   "metadata": {},
   "outputs": [],
   "source": [
    "sel = fields['mjd_start'] > sun_rise_date.mjd"
   ]
  },
  {
   "cell_type": "code",
   "execution_count": 14,
   "id": "b683b6b4-842b-453d-9c3e-cfcb978ec739",
   "metadata": {},
   "outputs": [
    {
     "data": {
      "text/html": [
       "<div>\n",
       "<style scoped>\n",
       "    .dataframe tbody tr th:only-of-type {\n",
       "        vertical-align: middle;\n",
       "    }\n",
       "\n",
       "    .dataframe tbody tr th {\n",
       "        vertical-align: top;\n",
       "    }\n",
       "\n",
       "    .dataframe thead th {\n",
       "        text-align: right;\n",
       "    }\n",
       "</style>\n",
       "<table border=\"1\" class=\"dataframe\">\n",
       "  <thead>\n",
       "    <tr style=\"text-align: right;\">\n",
       "      <th></th>\n",
       "      <th>date_start</th>\n",
       "      <th>date_stop</th>\n",
       "      <th>utc_start</th>\n",
       "      <th>utc_stop</th>\n",
       "    </tr>\n",
       "  </thead>\n",
       "  <tbody>\n",
       "  </tbody>\n",
       "</table>\n",
       "</div>"
      ],
      "text/plain": [
       "Empty DataFrame\n",
       "Columns: [date_start, date_stop, utc_start, utc_stop]\n",
       "Index: []"
      ]
     },
     "execution_count": 14,
     "metadata": {},
     "output_type": "execute_result"
    }
   ],
   "source": [
    "fields.loc[sel, ('date_start', 'date_stop', 'utc_start', 'utc_stop')]"
   ]
  },
  {
   "cell_type": "code",
   "execution_count": null,
   "id": "e7863067-6ce0-4f3a-a384-126848954296",
   "metadata": {},
   "outputs": [],
   "source": []
  }
 ],
 "metadata": {
  "kernelspec": {
   "display_name": "Python 3 (ipykernel)",
   "language": "python",
   "name": "python3"
  },
  "language_info": {
   "codemirror_mode": {
    "name": "ipython",
    "version": 3
   },
   "file_extension": ".py",
   "mimetype": "text/x-python",
   "name": "python",
   "nbconvert_exporter": "python",
   "pygments_lexer": "ipython3",
   "version": "3.9.18"
  },
  "toc-autonumbering": true
 },
 "nbformat": 4,
 "nbformat_minor": 5
}
